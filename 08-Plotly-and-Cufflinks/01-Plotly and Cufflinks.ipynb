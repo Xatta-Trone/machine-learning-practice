{
 "cells": [
  {
   "cell_type": "markdown",
   "metadata": {},
   "source": [
    "___\n",
    "\n",
    "<a href='http://www.pieriandata.com'> <img src='../Pierian_Data_Logo.png' /></a>\n",
    "___\n",
    "# Plotly and Cufflinks"
   ]
  },
  {
   "cell_type": "markdown",
   "metadata": {},
   "source": [
    "Plotly is a library that allows you to create interactive plots that you can use in dashboards or websites (you can save them as html files or static images).\n",
    "\n",
    "## Installation\n",
    "\n",
    "In order for this all to work, you'll need to install plotly and cufflinks to call plots directly off of a pandas dataframe. These libraries are not currently available through **conda** but are available through **pip**. Install the libraries at your command line/terminal using:\n",
    "\n",
    "    pip install plotly\n",
    "    pip install cufflinks\n",
    "\n",
    "** NOTE: Make sure you only have one installation of Python on your computer when you do this, otherwise the installation may not work. **\n",
    "\n",
    "## Imports and Set-up"
   ]
  },
  {
   "cell_type": "code",
   "execution_count": 1,
   "metadata": {},
   "outputs": [],
   "source": [
    "import pandas as pd\n",
    "import numpy as np\n",
    "%matplotlib inline"
   ]
  },
  {
   "cell_type": "code",
   "execution_count": 2,
   "metadata": {},
   "outputs": [
    {
     "name": "stdout",
     "output_type": "stream",
     "text": [
      "5.3.1\n"
     ]
    }
   ],
   "source": [
    "from plotly import __version__\n",
    "from plotly.offline import download_plotlyjs, init_notebook_mode, plot, iplot\n",
    "\n",
    "print(__version__) # requires version >= 1.9.0"
   ]
  },
  {
   "cell_type": "code",
   "execution_count": 3,
   "metadata": {},
   "outputs": [],
   "source": [
    "import cufflinks as cf"
   ]
  },
  {
   "cell_type": "code",
   "execution_count": 4,
   "metadata": {},
   "outputs": [
    {
     "data": {
      "text/html": [
       "        <script type=\"text/javascript\">\n",
       "        window.PlotlyConfig = {MathJaxConfig: 'local'};\n",
       "        if (window.MathJax) {MathJax.Hub.Config({SVG: {font: \"STIX-Web\"}});}\n",
       "        if (typeof require !== 'undefined') {\n",
       "        require.undef(\"plotly\");\n",
       "        requirejs.config({\n",
       "            paths: {\n",
       "                'plotly': ['https://cdn.plot.ly/plotly-2.4.2.min']\n",
       "            }\n",
       "        });\n",
       "        require(['plotly'], function(Plotly) {\n",
       "            window._Plotly = Plotly;\n",
       "        });\n",
       "        }\n",
       "        </script>\n",
       "        "
      ]
     },
     "metadata": {},
     "output_type": "display_data"
    }
   ],
   "source": [
    "# For Notebooks\n",
    "init_notebook_mode(connected=True)"
   ]
  },
  {
   "cell_type": "code",
   "execution_count": 5,
   "metadata": {},
   "outputs": [
    {
     "data": {
      "text/html": [
       "        <script type=\"text/javascript\">\n",
       "        window.PlotlyConfig = {MathJaxConfig: 'local'};\n",
       "        if (window.MathJax) {MathJax.Hub.Config({SVG: {font: \"STIX-Web\"}});}\n",
       "        if (typeof require !== 'undefined') {\n",
       "        require.undef(\"plotly\");\n",
       "        requirejs.config({\n",
       "            paths: {\n",
       "                'plotly': ['https://cdn.plot.ly/plotly-2.4.2.min']\n",
       "            }\n",
       "        });\n",
       "        require(['plotly'], function(Plotly) {\n",
       "            window._Plotly = Plotly;\n",
       "        });\n",
       "        }\n",
       "        </script>\n",
       "        "
      ]
     },
     "metadata": {},
     "output_type": "display_data"
    }
   ],
   "source": [
    "# For offline use\n",
    "cf.go_offline()"
   ]
  },
  {
   "cell_type": "markdown",
   "metadata": {},
   "source": [
    "### Fake Data"
   ]
  },
  {
   "cell_type": "code",
   "execution_count": 6,
   "metadata": {},
   "outputs": [],
   "source": [
    "df = pd.DataFrame(np.random.randn(100,4),columns='A B C D'.split())"
   ]
  },
  {
   "cell_type": "code",
   "execution_count": 7,
   "metadata": {},
   "outputs": [
    {
     "data": {
      "text/html": [
       "<div>\n",
       "<style scoped>\n",
       "    .dataframe tbody tr th:only-of-type {\n",
       "        vertical-align: middle;\n",
       "    }\n",
       "\n",
       "    .dataframe tbody tr th {\n",
       "        vertical-align: top;\n",
       "    }\n",
       "\n",
       "    .dataframe thead th {\n",
       "        text-align: right;\n",
       "    }\n",
       "</style>\n",
       "<table border=\"1\" class=\"dataframe\">\n",
       "  <thead>\n",
       "    <tr style=\"text-align: right;\">\n",
       "      <th></th>\n",
       "      <th>A</th>\n",
       "      <th>B</th>\n",
       "      <th>C</th>\n",
       "      <th>D</th>\n",
       "    </tr>\n",
       "  </thead>\n",
       "  <tbody>\n",
       "    <tr>\n",
       "      <th>0</th>\n",
       "      <td>-1.126049</td>\n",
       "      <td>3.035777</td>\n",
       "      <td>-0.125386</td>\n",
       "      <td>-1.131839</td>\n",
       "    </tr>\n",
       "    <tr>\n",
       "      <th>1</th>\n",
       "      <td>-0.531029</td>\n",
       "      <td>0.256950</td>\n",
       "      <td>-0.611856</td>\n",
       "      <td>-1.233680</td>\n",
       "    </tr>\n",
       "    <tr>\n",
       "      <th>2</th>\n",
       "      <td>-0.212050</td>\n",
       "      <td>-2.168504</td>\n",
       "      <td>-1.436532</td>\n",
       "      <td>0.035251</td>\n",
       "    </tr>\n",
       "    <tr>\n",
       "      <th>3</th>\n",
       "      <td>-0.651475</td>\n",
       "      <td>0.269028</td>\n",
       "      <td>-1.529685</td>\n",
       "      <td>-0.177710</td>\n",
       "    </tr>\n",
       "    <tr>\n",
       "      <th>4</th>\n",
       "      <td>0.267930</td>\n",
       "      <td>1.781463</td>\n",
       "      <td>1.025691</td>\n",
       "      <td>-0.134886</td>\n",
       "    </tr>\n",
       "  </tbody>\n",
       "</table>\n",
       "</div>"
      ],
      "text/plain": [
       "          A         B         C         D\n",
       "0 -1.126049  3.035777 -0.125386 -1.131839\n",
       "1 -0.531029  0.256950 -0.611856 -1.233680\n",
       "2 -0.212050 -2.168504 -1.436532  0.035251\n",
       "3 -0.651475  0.269028 -1.529685 -0.177710\n",
       "4  0.267930  1.781463  1.025691 -0.134886"
      ]
     },
     "execution_count": 7,
     "metadata": {},
     "output_type": "execute_result"
    }
   ],
   "source": [
    "df.head()"
   ]
  },
  {
   "cell_type": "code",
   "execution_count": 8,
   "metadata": {},
   "outputs": [],
   "source": [
    "df2 = pd.DataFrame({'Category':['A','B','C'],'Values':[32,43,50]})"
   ]
  },
  {
   "cell_type": "code",
   "execution_count": 9,
   "metadata": {},
   "outputs": [
    {
     "data": {
      "text/html": [
       "<div>\n",
       "<style scoped>\n",
       "    .dataframe tbody tr th:only-of-type {\n",
       "        vertical-align: middle;\n",
       "    }\n",
       "\n",
       "    .dataframe tbody tr th {\n",
       "        vertical-align: top;\n",
       "    }\n",
       "\n",
       "    .dataframe thead th {\n",
       "        text-align: right;\n",
       "    }\n",
       "</style>\n",
       "<table border=\"1\" class=\"dataframe\">\n",
       "  <thead>\n",
       "    <tr style=\"text-align: right;\">\n",
       "      <th></th>\n",
       "      <th>Category</th>\n",
       "      <th>Values</th>\n",
       "    </tr>\n",
       "  </thead>\n",
       "  <tbody>\n",
       "    <tr>\n",
       "      <th>0</th>\n",
       "      <td>A</td>\n",
       "      <td>32</td>\n",
       "    </tr>\n",
       "    <tr>\n",
       "      <th>1</th>\n",
       "      <td>B</td>\n",
       "      <td>43</td>\n",
       "    </tr>\n",
       "    <tr>\n",
       "      <th>2</th>\n",
       "      <td>C</td>\n",
       "      <td>50</td>\n",
       "    </tr>\n",
       "  </tbody>\n",
       "</table>\n",
       "</div>"
      ],
      "text/plain": [
       "  Category  Values\n",
       "0        A      32\n",
       "1        B      43\n",
       "2        C      50"
      ]
     },
     "execution_count": 9,
     "metadata": {},
     "output_type": "execute_result"
    }
   ],
   "source": [
    "df2.head()"
   ]
  },
  {
   "cell_type": "markdown",
   "metadata": {},
   "source": [
    "## Using Cufflinks and iplot()\n",
    "\n",
    "* scatter\n",
    "* bar\n",
    "* box\n",
    "* spread\n",
    "* ratio\n",
    "* heatmap\n",
    "* surface\n",
    "* histogram\n",
    "* bubble"
   ]
  },
  {
   "cell_type": "markdown",
   "metadata": {},
   "source": [
    "## Scatter"
   ]
  },
  {
   "cell_type": "code",
   "execution_count": 10,
   "metadata": {},
   "outputs": [
    {
     "data": {
      "application/vnd.plotly.v1+json": {
       "config": {
        "linkText": "Export to plot.ly",
        "plotlyServerURL": "https://plot.ly",
        "showLink": true
       },
       "data": [
        {
         "line": {
          "color": "rgba(255, 153, 51, 1.0)",
          "dash": "solid",
          "shape": "linear",
          "width": 1.3
         },
         "marker": {
          "size": 10,
          "symbol": "circle"
         },
         "mode": "markers",
         "name": "B",
         "text": "",
         "type": "scatter",
         "x": [
          -1.1260490465847872,
          -0.5310285731898228,
          -0.21205040034769118,
          -0.651475455922811,
          0.267930026293517,
          0.5538298175018117,
          -1.45140732479843,
          -1.0621115937309076,
          -0.5192044609949963,
          0.0980486221556033,
          0.32453375604965784,
          -2.276442079629385,
          -0.8192861375427485,
          1.1455113120411295,
          -2.207736390860511,
          -1.3376249514712373,
          0.03209754247353182,
          0.7583928302046903,
          -1.6170134854635898,
          -2.237874750757624,
          -0.6060517589533632,
          -1.6168160408809342,
          0.5359718867610626,
          -0.19476818097990067,
          1.549886790936583,
          0.9060796159426613,
          1.5947215402086397,
          0.8167721240125655,
          0.9537814344129991,
          0.2853493711489899,
          -0.17105691657817657,
          -0.28014666021393175,
          0.2557815908844224,
          0.8528107746534993,
          0.042477092359645086,
          0.11889724485107526,
          0.5568967127519864,
          -0.18951757678675865,
          -1.692795876607851,
          0.5195944789579467,
          -0.2994710600365143,
          -0.6831317390937071,
          -0.19348745174529508,
          1.0395064395104623,
          0.07492067978804913,
          0.09040894717004969,
          -0.11050134142856363,
          0.688851726129721,
          -3.198080407046479,
          1.2676330352932919,
          0.007743872630742216,
          -1.2910895322695102,
          -1.5602154675409974,
          1.4218179339697663,
          0.4183122847397243,
          -0.9329642604154853,
          0.2775100095479445,
          0.033549272190992546,
          0.2415047057353741,
          0.9133160538203141,
          0.4452762554853484,
          -1.1213396871887524,
          -0.5802689307776701,
          0.577142291912203,
          -0.6714867331416482,
          -0.5113480966342379,
          -0.19394406731004424,
          0.4723599526754415,
          -0.33739551772905935,
          -0.019749545009762132,
          1.6811825369057964,
          0.9582167988724097,
          0.21399135911465308,
          0.2142097194066079,
          0.02866790533178008,
          0.20523734472281827,
          -2.373096948655841,
          -1.2974103299991655,
          0.7243000026849691,
          -1.179732860400752,
          -0.9877065634216783,
          1.858169866287358,
          -0.13616633750761734,
          0.9561184888192411,
          0.570540974318356,
          0.1538565839250256,
          -2.069442309033039,
          0.3386990661074552,
          0.229036109270142,
          -0.5231292314138397,
          -0.6386646920120588,
          1.839979440082232,
          -1.5335772908517662,
          0.3559183575671821,
          -1.8599750710237561,
          -0.22501292767062592,
          0.15865167315484616,
          -1.098219379974984,
          -0.5615283437589845,
          -0.7288531852791184
         ],
         "y": [
          3.035776571079455,
          0.2569500815910443,
          -2.1685043694431307,
          0.26902794195372615,
          1.7814630439071295,
          1.5693339927007197,
          -0.06211670129077228,
          -1.3706596588394095,
          -0.37883746288534165,
          -0.6196555944091635,
          0.5419709598803021,
          -0.882948935629644,
          -0.6004863123254223,
          1.0208840340466567,
          -0.21762155615722495,
          0.44023110912919,
          -1.0336076677809352,
          1.6033795842389853,
          -2.5310768185962225,
          -0.1889972596314623,
          0.7082630262291519,
          0.6671320947598456,
          -0.7834922916165732,
          0.47257187362393505,
          0.12629260151251537,
          2.0515434422449617,
          -0.2936811721928686,
          -0.2516523184280506,
          -1.5747986439720867,
          1.5737893099513762,
          -0.48788785833745874,
          0.8666151639960874,
          0.6629479112242548,
          2.335262202035777,
          0.9301235315825008,
          0.7210757391867806,
          -0.28270307894091573,
          0.6180102172480808,
          -0.68067795910875,
          -0.6615813868992915,
          1.9007085417861616,
          -1.1132438109324958,
          -0.6349033891645982,
          0.19741141743855162,
          1.1602881974005501,
          -0.004921352813687318,
          -1.383225820147114,
          0.22683021489288765,
          -0.0012375954352731027,
          -1.2558220947801475,
          -1.5522403593076988,
          0.004089381987935106,
          1.640944226966207,
          -0.3535758434099873,
          1.024879646181359,
          -1.6239541156805803,
          0.040284041575874806,
          0.896827065486756,
          -0.46794239292736056,
          1.505428664458157,
          -1.3626473839376783,
          -1.005643110364832,
          0.3925216946506399,
          0.7738640376750079,
          1.5554473261236892,
          0.35444125136577836,
          1.6205066874880212,
          -0.5538513815676245,
          0.23831067673412812,
          -0.9010306825341439,
          1.3231420079992444,
          -0.14899579209345915,
          -0.8709694619155264,
          1.065094470898646,
          -1.348559047441447,
          0.5804185661168384,
          -0.42879331392602926,
          -0.6959637860253969,
          0.1048024218225815,
          0.13732347532346822,
          -0.2308890616949896,
          -1.2960685158220355,
          -0.3901037235712339,
          -0.155170398255274,
          -0.03287464454016071,
          -0.9472821709740642,
          -1.115841814411383,
          0.2177548674986909,
          1.0364383402990647,
          -0.17403780646611958,
          0.6083659391024403,
          0.6209585041653041,
          1.4670744821663868,
          -0.040890570234690546,
          2.040518372717835,
          -1.1876242746503243,
          -0.5022878658736447,
          -0.008530985057549921,
          0.7140012167410947,
          -0.70522201636607
         ]
        }
       ],
       "layout": {
        "legend": {
         "bgcolor": "#F5F6F9",
         "font": {
          "color": "#4D5663"
         }
        },
        "paper_bgcolor": "#F5F6F9",
        "plot_bgcolor": "#F5F6F9",
        "template": {
         "data": {
          "bar": [
           {
            "error_x": {
             "color": "#2a3f5f"
            },
            "error_y": {
             "color": "#2a3f5f"
            },
            "marker": {
             "line": {
              "color": "#E5ECF6",
              "width": 0.5
             },
             "pattern": {
              "fillmode": "overlay",
              "size": 10,
              "solidity": 0.2
             }
            },
            "type": "bar"
           }
          ],
          "barpolar": [
           {
            "marker": {
             "line": {
              "color": "#E5ECF6",
              "width": 0.5
             },
             "pattern": {
              "fillmode": "overlay",
              "size": 10,
              "solidity": 0.2
             }
            },
            "type": "barpolar"
           }
          ],
          "carpet": [
           {
            "aaxis": {
             "endlinecolor": "#2a3f5f",
             "gridcolor": "white",
             "linecolor": "white",
             "minorgridcolor": "white",
             "startlinecolor": "#2a3f5f"
            },
            "baxis": {
             "endlinecolor": "#2a3f5f",
             "gridcolor": "white",
             "linecolor": "white",
             "minorgridcolor": "white",
             "startlinecolor": "#2a3f5f"
            },
            "type": "carpet"
           }
          ],
          "choropleth": [
           {
            "colorbar": {
             "outlinewidth": 0,
             "ticks": ""
            },
            "type": "choropleth"
           }
          ],
          "contour": [
           {
            "colorbar": {
             "outlinewidth": 0,
             "ticks": ""
            },
            "colorscale": [
             [
              0,
              "#0d0887"
             ],
             [
              0.1111111111111111,
              "#46039f"
             ],
             [
              0.2222222222222222,
              "#7201a8"
             ],
             [
              0.3333333333333333,
              "#9c179e"
             ],
             [
              0.4444444444444444,
              "#bd3786"
             ],
             [
              0.5555555555555556,
              "#d8576b"
             ],
             [
              0.6666666666666666,
              "#ed7953"
             ],
             [
              0.7777777777777778,
              "#fb9f3a"
             ],
             [
              0.8888888888888888,
              "#fdca26"
             ],
             [
              1,
              "#f0f921"
             ]
            ],
            "type": "contour"
           }
          ],
          "contourcarpet": [
           {
            "colorbar": {
             "outlinewidth": 0,
             "ticks": ""
            },
            "type": "contourcarpet"
           }
          ],
          "heatmap": [
           {
            "colorbar": {
             "outlinewidth": 0,
             "ticks": ""
            },
            "colorscale": [
             [
              0,
              "#0d0887"
             ],
             [
              0.1111111111111111,
              "#46039f"
             ],
             [
              0.2222222222222222,
              "#7201a8"
             ],
             [
              0.3333333333333333,
              "#9c179e"
             ],
             [
              0.4444444444444444,
              "#bd3786"
             ],
             [
              0.5555555555555556,
              "#d8576b"
             ],
             [
              0.6666666666666666,
              "#ed7953"
             ],
             [
              0.7777777777777778,
              "#fb9f3a"
             ],
             [
              0.8888888888888888,
              "#fdca26"
             ],
             [
              1,
              "#f0f921"
             ]
            ],
            "type": "heatmap"
           }
          ],
          "heatmapgl": [
           {
            "colorbar": {
             "outlinewidth": 0,
             "ticks": ""
            },
            "colorscale": [
             [
              0,
              "#0d0887"
             ],
             [
              0.1111111111111111,
              "#46039f"
             ],
             [
              0.2222222222222222,
              "#7201a8"
             ],
             [
              0.3333333333333333,
              "#9c179e"
             ],
             [
              0.4444444444444444,
              "#bd3786"
             ],
             [
              0.5555555555555556,
              "#d8576b"
             ],
             [
              0.6666666666666666,
              "#ed7953"
             ],
             [
              0.7777777777777778,
              "#fb9f3a"
             ],
             [
              0.8888888888888888,
              "#fdca26"
             ],
             [
              1,
              "#f0f921"
             ]
            ],
            "type": "heatmapgl"
           }
          ],
          "histogram": [
           {
            "marker": {
             "pattern": {
              "fillmode": "overlay",
              "size": 10,
              "solidity": 0.2
             }
            },
            "type": "histogram"
           }
          ],
          "histogram2d": [
           {
            "colorbar": {
             "outlinewidth": 0,
             "ticks": ""
            },
            "colorscale": [
             [
              0,
              "#0d0887"
             ],
             [
              0.1111111111111111,
              "#46039f"
             ],
             [
              0.2222222222222222,
              "#7201a8"
             ],
             [
              0.3333333333333333,
              "#9c179e"
             ],
             [
              0.4444444444444444,
              "#bd3786"
             ],
             [
              0.5555555555555556,
              "#d8576b"
             ],
             [
              0.6666666666666666,
              "#ed7953"
             ],
             [
              0.7777777777777778,
              "#fb9f3a"
             ],
             [
              0.8888888888888888,
              "#fdca26"
             ],
             [
              1,
              "#f0f921"
             ]
            ],
            "type": "histogram2d"
           }
          ],
          "histogram2dcontour": [
           {
            "colorbar": {
             "outlinewidth": 0,
             "ticks": ""
            },
            "colorscale": [
             [
              0,
              "#0d0887"
             ],
             [
              0.1111111111111111,
              "#46039f"
             ],
             [
              0.2222222222222222,
              "#7201a8"
             ],
             [
              0.3333333333333333,
              "#9c179e"
             ],
             [
              0.4444444444444444,
              "#bd3786"
             ],
             [
              0.5555555555555556,
              "#d8576b"
             ],
             [
              0.6666666666666666,
              "#ed7953"
             ],
             [
              0.7777777777777778,
              "#fb9f3a"
             ],
             [
              0.8888888888888888,
              "#fdca26"
             ],
             [
              1,
              "#f0f921"
             ]
            ],
            "type": "histogram2dcontour"
           }
          ],
          "mesh3d": [
           {
            "colorbar": {
             "outlinewidth": 0,
             "ticks": ""
            },
            "type": "mesh3d"
           }
          ],
          "parcoords": [
           {
            "line": {
             "colorbar": {
              "outlinewidth": 0,
              "ticks": ""
             }
            },
            "type": "parcoords"
           }
          ],
          "pie": [
           {
            "automargin": true,
            "type": "pie"
           }
          ],
          "scatter": [
           {
            "marker": {
             "colorbar": {
              "outlinewidth": 0,
              "ticks": ""
             }
            },
            "type": "scatter"
           }
          ],
          "scatter3d": [
           {
            "line": {
             "colorbar": {
              "outlinewidth": 0,
              "ticks": ""
             }
            },
            "marker": {
             "colorbar": {
              "outlinewidth": 0,
              "ticks": ""
             }
            },
            "type": "scatter3d"
           }
          ],
          "scattercarpet": [
           {
            "marker": {
             "colorbar": {
              "outlinewidth": 0,
              "ticks": ""
             }
            },
            "type": "scattercarpet"
           }
          ],
          "scattergeo": [
           {
            "marker": {
             "colorbar": {
              "outlinewidth": 0,
              "ticks": ""
             }
            },
            "type": "scattergeo"
           }
          ],
          "scattergl": [
           {
            "marker": {
             "colorbar": {
              "outlinewidth": 0,
              "ticks": ""
             }
            },
            "type": "scattergl"
           }
          ],
          "scattermapbox": [
           {
            "marker": {
             "colorbar": {
              "outlinewidth": 0,
              "ticks": ""
             }
            },
            "type": "scattermapbox"
           }
          ],
          "scatterpolar": [
           {
            "marker": {
             "colorbar": {
              "outlinewidth": 0,
              "ticks": ""
             }
            },
            "type": "scatterpolar"
           }
          ],
          "scatterpolargl": [
           {
            "marker": {
             "colorbar": {
              "outlinewidth": 0,
              "ticks": ""
             }
            },
            "type": "scatterpolargl"
           }
          ],
          "scatterternary": [
           {
            "marker": {
             "colorbar": {
              "outlinewidth": 0,
              "ticks": ""
             }
            },
            "type": "scatterternary"
           }
          ],
          "surface": [
           {
            "colorbar": {
             "outlinewidth": 0,
             "ticks": ""
            },
            "colorscale": [
             [
              0,
              "#0d0887"
             ],
             [
              0.1111111111111111,
              "#46039f"
             ],
             [
              0.2222222222222222,
              "#7201a8"
             ],
             [
              0.3333333333333333,
              "#9c179e"
             ],
             [
              0.4444444444444444,
              "#bd3786"
             ],
             [
              0.5555555555555556,
              "#d8576b"
             ],
             [
              0.6666666666666666,
              "#ed7953"
             ],
             [
              0.7777777777777778,
              "#fb9f3a"
             ],
             [
              0.8888888888888888,
              "#fdca26"
             ],
             [
              1,
              "#f0f921"
             ]
            ],
            "type": "surface"
           }
          ],
          "table": [
           {
            "cells": {
             "fill": {
              "color": "#EBF0F8"
             },
             "line": {
              "color": "white"
             }
            },
            "header": {
             "fill": {
              "color": "#C8D4E3"
             },
             "line": {
              "color": "white"
             }
            },
            "type": "table"
           }
          ]
         },
         "layout": {
          "annotationdefaults": {
           "arrowcolor": "#2a3f5f",
           "arrowhead": 0,
           "arrowwidth": 1
          },
          "autotypenumbers": "strict",
          "coloraxis": {
           "colorbar": {
            "outlinewidth": 0,
            "ticks": ""
           }
          },
          "colorscale": {
           "diverging": [
            [
             0,
             "#8e0152"
            ],
            [
             0.1,
             "#c51b7d"
            ],
            [
             0.2,
             "#de77ae"
            ],
            [
             0.3,
             "#f1b6da"
            ],
            [
             0.4,
             "#fde0ef"
            ],
            [
             0.5,
             "#f7f7f7"
            ],
            [
             0.6,
             "#e6f5d0"
            ],
            [
             0.7,
             "#b8e186"
            ],
            [
             0.8,
             "#7fbc41"
            ],
            [
             0.9,
             "#4d9221"
            ],
            [
             1,
             "#276419"
            ]
           ],
           "sequential": [
            [
             0,
             "#0d0887"
            ],
            [
             0.1111111111111111,
             "#46039f"
            ],
            [
             0.2222222222222222,
             "#7201a8"
            ],
            [
             0.3333333333333333,
             "#9c179e"
            ],
            [
             0.4444444444444444,
             "#bd3786"
            ],
            [
             0.5555555555555556,
             "#d8576b"
            ],
            [
             0.6666666666666666,
             "#ed7953"
            ],
            [
             0.7777777777777778,
             "#fb9f3a"
            ],
            [
             0.8888888888888888,
             "#fdca26"
            ],
            [
             1,
             "#f0f921"
            ]
           ],
           "sequentialminus": [
            [
             0,
             "#0d0887"
            ],
            [
             0.1111111111111111,
             "#46039f"
            ],
            [
             0.2222222222222222,
             "#7201a8"
            ],
            [
             0.3333333333333333,
             "#9c179e"
            ],
            [
             0.4444444444444444,
             "#bd3786"
            ],
            [
             0.5555555555555556,
             "#d8576b"
            ],
            [
             0.6666666666666666,
             "#ed7953"
            ],
            [
             0.7777777777777778,
             "#fb9f3a"
            ],
            [
             0.8888888888888888,
             "#fdca26"
            ],
            [
             1,
             "#f0f921"
            ]
           ]
          },
          "colorway": [
           "#636efa",
           "#EF553B",
           "#00cc96",
           "#ab63fa",
           "#FFA15A",
           "#19d3f3",
           "#FF6692",
           "#B6E880",
           "#FF97FF",
           "#FECB52"
          ],
          "font": {
           "color": "#2a3f5f"
          },
          "geo": {
           "bgcolor": "white",
           "lakecolor": "white",
           "landcolor": "#E5ECF6",
           "showlakes": true,
           "showland": true,
           "subunitcolor": "white"
          },
          "hoverlabel": {
           "align": "left"
          },
          "hovermode": "closest",
          "mapbox": {
           "style": "light"
          },
          "paper_bgcolor": "white",
          "plot_bgcolor": "#E5ECF6",
          "polar": {
           "angularaxis": {
            "gridcolor": "white",
            "linecolor": "white",
            "ticks": ""
           },
           "bgcolor": "#E5ECF6",
           "radialaxis": {
            "gridcolor": "white",
            "linecolor": "white",
            "ticks": ""
           }
          },
          "scene": {
           "xaxis": {
            "backgroundcolor": "#E5ECF6",
            "gridcolor": "white",
            "gridwidth": 2,
            "linecolor": "white",
            "showbackground": true,
            "ticks": "",
            "zerolinecolor": "white"
           },
           "yaxis": {
            "backgroundcolor": "#E5ECF6",
            "gridcolor": "white",
            "gridwidth": 2,
            "linecolor": "white",
            "showbackground": true,
            "ticks": "",
            "zerolinecolor": "white"
           },
           "zaxis": {
            "backgroundcolor": "#E5ECF6",
            "gridcolor": "white",
            "gridwidth": 2,
            "linecolor": "white",
            "showbackground": true,
            "ticks": "",
            "zerolinecolor": "white"
           }
          },
          "shapedefaults": {
           "line": {
            "color": "#2a3f5f"
           }
          },
          "ternary": {
           "aaxis": {
            "gridcolor": "white",
            "linecolor": "white",
            "ticks": ""
           },
           "baxis": {
            "gridcolor": "white",
            "linecolor": "white",
            "ticks": ""
           },
           "bgcolor": "#E5ECF6",
           "caxis": {
            "gridcolor": "white",
            "linecolor": "white",
            "ticks": ""
           }
          },
          "title": {
           "x": 0.05
          },
          "xaxis": {
           "automargin": true,
           "gridcolor": "white",
           "linecolor": "white",
           "ticks": "",
           "title": {
            "standoff": 15
           },
           "zerolinecolor": "white",
           "zerolinewidth": 2
          },
          "yaxis": {
           "automargin": true,
           "gridcolor": "white",
           "linecolor": "white",
           "ticks": "",
           "title": {
            "standoff": 15
           },
           "zerolinecolor": "white",
           "zerolinewidth": 2
          }
         }
        },
        "title": {
         "font": {
          "color": "#4D5663"
         }
        },
        "xaxis": {
         "gridcolor": "#E1E5ED",
         "showgrid": true,
         "tickfont": {
          "color": "#4D5663"
         },
         "title": {
          "font": {
           "color": "#4D5663"
          },
          "text": ""
         },
         "zerolinecolor": "#E1E5ED"
        },
        "yaxis": {
         "gridcolor": "#E1E5ED",
         "showgrid": true,
         "tickfont": {
          "color": "#4D5663"
         },
         "title": {
          "font": {
           "color": "#4D5663"
          },
          "text": ""
         },
         "zerolinecolor": "#E1E5ED"
        }
       }
      },
      "text/html": [
       "<div>                            <div id=\"6ebe1f1d-e6d5-41b2-a448-b8c94b30ac12\" class=\"plotly-graph-div\" style=\"height:525px; width:100%;\"></div>            <script type=\"text/javascript\">                require([\"plotly\"], function(Plotly) {                    window.PLOTLYENV=window.PLOTLYENV || {};\n",
       "                    window.PLOTLYENV.BASE_URL='https://plot.ly';                                    if (document.getElementById(\"6ebe1f1d-e6d5-41b2-a448-b8c94b30ac12\")) {                    Plotly.newPlot(                        \"6ebe1f1d-e6d5-41b2-a448-b8c94b30ac12\",                        [{\"line\":{\"color\":\"rgba(255, 153, 51, 1.0)\",\"dash\":\"solid\",\"shape\":\"linear\",\"width\":1.3},\"marker\":{\"size\":10,\"symbol\":\"circle\"},\"mode\":\"markers\",\"name\":\"B\",\"text\":\"\",\"type\":\"scatter\",\"x\":[-1.1260490465847872,-0.5310285731898228,-0.21205040034769118,-0.651475455922811,0.267930026293517,0.5538298175018117,-1.45140732479843,-1.0621115937309076,-0.5192044609949963,0.0980486221556033,0.32453375604965784,-2.276442079629385,-0.8192861375427485,1.1455113120411295,-2.207736390860511,-1.3376249514712373,0.03209754247353182,0.7583928302046903,-1.6170134854635898,-2.237874750757624,-0.6060517589533632,-1.6168160408809342,0.5359718867610626,-0.19476818097990067,1.549886790936583,0.9060796159426613,1.5947215402086397,0.8167721240125655,0.9537814344129991,0.2853493711489899,-0.17105691657817657,-0.28014666021393175,0.2557815908844224,0.8528107746534993,0.042477092359645086,0.11889724485107526,0.5568967127519864,-0.18951757678675865,-1.692795876607851,0.5195944789579467,-0.2994710600365143,-0.6831317390937071,-0.19348745174529508,1.0395064395104623,0.07492067978804913,0.09040894717004969,-0.11050134142856363,0.688851726129721,-3.198080407046479,1.2676330352932919,0.007743872630742216,-1.2910895322695102,-1.5602154675409974,1.4218179339697663,0.4183122847397243,-0.9329642604154853,0.2775100095479445,0.033549272190992546,0.2415047057353741,0.9133160538203141,0.4452762554853484,-1.1213396871887524,-0.5802689307776701,0.577142291912203,-0.6714867331416482,-0.5113480966342379,-0.19394406731004424,0.4723599526754415,-0.33739551772905935,-0.019749545009762132,1.6811825369057964,0.9582167988724097,0.21399135911465308,0.2142097194066079,0.02866790533178008,0.20523734472281827,-2.373096948655841,-1.2974103299991655,0.7243000026849691,-1.179732860400752,-0.9877065634216783,1.858169866287358,-0.13616633750761734,0.9561184888192411,0.570540974318356,0.1538565839250256,-2.069442309033039,0.3386990661074552,0.229036109270142,-0.5231292314138397,-0.6386646920120588,1.839979440082232,-1.5335772908517662,0.3559183575671821,-1.8599750710237561,-0.22501292767062592,0.15865167315484616,-1.098219379974984,-0.5615283437589845,-0.7288531852791184],\"y\":[3.035776571079455,0.2569500815910443,-2.1685043694431307,0.26902794195372615,1.7814630439071295,1.5693339927007197,-0.06211670129077228,-1.3706596588394095,-0.37883746288534165,-0.6196555944091635,0.5419709598803021,-0.882948935629644,-0.6004863123254223,1.0208840340466567,-0.21762155615722495,0.44023110912919,-1.0336076677809352,1.6033795842389853,-2.5310768185962225,-0.1889972596314623,0.7082630262291519,0.6671320947598456,-0.7834922916165732,0.47257187362393505,0.12629260151251537,2.0515434422449617,-0.2936811721928686,-0.2516523184280506,-1.5747986439720867,1.5737893099513762,-0.48788785833745874,0.8666151639960874,0.6629479112242548,2.335262202035777,0.9301235315825008,0.7210757391867806,-0.28270307894091573,0.6180102172480808,-0.68067795910875,-0.6615813868992915,1.9007085417861616,-1.1132438109324958,-0.6349033891645982,0.19741141743855162,1.1602881974005501,-0.004921352813687318,-1.383225820147114,0.22683021489288765,-0.0012375954352731027,-1.2558220947801475,-1.5522403593076988,0.004089381987935106,1.640944226966207,-0.3535758434099873,1.024879646181359,-1.6239541156805803,0.040284041575874806,0.896827065486756,-0.46794239292736056,1.505428664458157,-1.3626473839376783,-1.005643110364832,0.3925216946506399,0.7738640376750079,1.5554473261236892,0.35444125136577836,1.6205066874880212,-0.5538513815676245,0.23831067673412812,-0.9010306825341439,1.3231420079992444,-0.14899579209345915,-0.8709694619155264,1.065094470898646,-1.348559047441447,0.5804185661168384,-0.42879331392602926,-0.6959637860253969,0.1048024218225815,0.13732347532346822,-0.2308890616949896,-1.2960685158220355,-0.3901037235712339,-0.155170398255274,-0.03287464454016071,-0.9472821709740642,-1.115841814411383,0.2177548674986909,1.0364383402990647,-0.17403780646611958,0.6083659391024403,0.6209585041653041,1.4670744821663868,-0.040890570234690546,2.040518372717835,-1.1876242746503243,-0.5022878658736447,-0.008530985057549921,0.7140012167410947,-0.70522201636607]}],                        {\"legend\":{\"bgcolor\":\"#F5F6F9\",\"font\":{\"color\":\"#4D5663\"}},\"paper_bgcolor\":\"#F5F6F9\",\"plot_bgcolor\":\"#F5F6F9\",\"template\":{\"data\":{\"bar\":[{\"error_x\":{\"color\":\"#2a3f5f\"},\"error_y\":{\"color\":\"#2a3f5f\"},\"marker\":{\"line\":{\"color\":\"#E5ECF6\",\"width\":0.5},\"pattern\":{\"fillmode\":\"overlay\",\"size\":10,\"solidity\":0.2}},\"type\":\"bar\"}],\"barpolar\":[{\"marker\":{\"line\":{\"color\":\"#E5ECF6\",\"width\":0.5},\"pattern\":{\"fillmode\":\"overlay\",\"size\":10,\"solidity\":0.2}},\"type\":\"barpolar\"}],\"carpet\":[{\"aaxis\":{\"endlinecolor\":\"#2a3f5f\",\"gridcolor\":\"white\",\"linecolor\":\"white\",\"minorgridcolor\":\"white\",\"startlinecolor\":\"#2a3f5f\"},\"baxis\":{\"endlinecolor\":\"#2a3f5f\",\"gridcolor\":\"white\",\"linecolor\":\"white\",\"minorgridcolor\":\"white\",\"startlinecolor\":\"#2a3f5f\"},\"type\":\"carpet\"}],\"choropleth\":[{\"colorbar\":{\"outlinewidth\":0,\"ticks\":\"\"},\"type\":\"choropleth\"}],\"contour\":[{\"colorbar\":{\"outlinewidth\":0,\"ticks\":\"\"},\"colorscale\":[[0.0,\"#0d0887\"],[0.1111111111111111,\"#46039f\"],[0.2222222222222222,\"#7201a8\"],[0.3333333333333333,\"#9c179e\"],[0.4444444444444444,\"#bd3786\"],[0.5555555555555556,\"#d8576b\"],[0.6666666666666666,\"#ed7953\"],[0.7777777777777778,\"#fb9f3a\"],[0.8888888888888888,\"#fdca26\"],[1.0,\"#f0f921\"]],\"type\":\"contour\"}],\"contourcarpet\":[{\"colorbar\":{\"outlinewidth\":0,\"ticks\":\"\"},\"type\":\"contourcarpet\"}],\"heatmap\":[{\"colorbar\":{\"outlinewidth\":0,\"ticks\":\"\"},\"colorscale\":[[0.0,\"#0d0887\"],[0.1111111111111111,\"#46039f\"],[0.2222222222222222,\"#7201a8\"],[0.3333333333333333,\"#9c179e\"],[0.4444444444444444,\"#bd3786\"],[0.5555555555555556,\"#d8576b\"],[0.6666666666666666,\"#ed7953\"],[0.7777777777777778,\"#fb9f3a\"],[0.8888888888888888,\"#fdca26\"],[1.0,\"#f0f921\"]],\"type\":\"heatmap\"}],\"heatmapgl\":[{\"colorbar\":{\"outlinewidth\":0,\"ticks\":\"\"},\"colorscale\":[[0.0,\"#0d0887\"],[0.1111111111111111,\"#46039f\"],[0.2222222222222222,\"#7201a8\"],[0.3333333333333333,\"#9c179e\"],[0.4444444444444444,\"#bd3786\"],[0.5555555555555556,\"#d8576b\"],[0.6666666666666666,\"#ed7953\"],[0.7777777777777778,\"#fb9f3a\"],[0.8888888888888888,\"#fdca26\"],[1.0,\"#f0f921\"]],\"type\":\"heatmapgl\"}],\"histogram\":[{\"marker\":{\"pattern\":{\"fillmode\":\"overlay\",\"size\":10,\"solidity\":0.2}},\"type\":\"histogram\"}],\"histogram2d\":[{\"colorbar\":{\"outlinewidth\":0,\"ticks\":\"\"},\"colorscale\":[[0.0,\"#0d0887\"],[0.1111111111111111,\"#46039f\"],[0.2222222222222222,\"#7201a8\"],[0.3333333333333333,\"#9c179e\"],[0.4444444444444444,\"#bd3786\"],[0.5555555555555556,\"#d8576b\"],[0.6666666666666666,\"#ed7953\"],[0.7777777777777778,\"#fb9f3a\"],[0.8888888888888888,\"#fdca26\"],[1.0,\"#f0f921\"]],\"type\":\"histogram2d\"}],\"histogram2dcontour\":[{\"colorbar\":{\"outlinewidth\":0,\"ticks\":\"\"},\"colorscale\":[[0.0,\"#0d0887\"],[0.1111111111111111,\"#46039f\"],[0.2222222222222222,\"#7201a8\"],[0.3333333333333333,\"#9c179e\"],[0.4444444444444444,\"#bd3786\"],[0.5555555555555556,\"#d8576b\"],[0.6666666666666666,\"#ed7953\"],[0.7777777777777778,\"#fb9f3a\"],[0.8888888888888888,\"#fdca26\"],[1.0,\"#f0f921\"]],\"type\":\"histogram2dcontour\"}],\"mesh3d\":[{\"colorbar\":{\"outlinewidth\":0,\"ticks\":\"\"},\"type\":\"mesh3d\"}],\"parcoords\":[{\"line\":{\"colorbar\":{\"outlinewidth\":0,\"ticks\":\"\"}},\"type\":\"parcoords\"}],\"pie\":[{\"automargin\":true,\"type\":\"pie\"}],\"scatter\":[{\"marker\":{\"colorbar\":{\"outlinewidth\":0,\"ticks\":\"\"}},\"type\":\"scatter\"}],\"scatter3d\":[{\"line\":{\"colorbar\":{\"outlinewidth\":0,\"ticks\":\"\"}},\"marker\":{\"colorbar\":{\"outlinewidth\":0,\"ticks\":\"\"}},\"type\":\"scatter3d\"}],\"scattercarpet\":[{\"marker\":{\"colorbar\":{\"outlinewidth\":0,\"ticks\":\"\"}},\"type\":\"scattercarpet\"}],\"scattergeo\":[{\"marker\":{\"colorbar\":{\"outlinewidth\":0,\"ticks\":\"\"}},\"type\":\"scattergeo\"}],\"scattergl\":[{\"marker\":{\"colorbar\":{\"outlinewidth\":0,\"ticks\":\"\"}},\"type\":\"scattergl\"}],\"scattermapbox\":[{\"marker\":{\"colorbar\":{\"outlinewidth\":0,\"ticks\":\"\"}},\"type\":\"scattermapbox\"}],\"scatterpolar\":[{\"marker\":{\"colorbar\":{\"outlinewidth\":0,\"ticks\":\"\"}},\"type\":\"scatterpolar\"}],\"scatterpolargl\":[{\"marker\":{\"colorbar\":{\"outlinewidth\":0,\"ticks\":\"\"}},\"type\":\"scatterpolargl\"}],\"scatterternary\":[{\"marker\":{\"colorbar\":{\"outlinewidth\":0,\"ticks\":\"\"}},\"type\":\"scatterternary\"}],\"surface\":[{\"colorbar\":{\"outlinewidth\":0,\"ticks\":\"\"},\"colorscale\":[[0.0,\"#0d0887\"],[0.1111111111111111,\"#46039f\"],[0.2222222222222222,\"#7201a8\"],[0.3333333333333333,\"#9c179e\"],[0.4444444444444444,\"#bd3786\"],[0.5555555555555556,\"#d8576b\"],[0.6666666666666666,\"#ed7953\"],[0.7777777777777778,\"#fb9f3a\"],[0.8888888888888888,\"#fdca26\"],[1.0,\"#f0f921\"]],\"type\":\"surface\"}],\"table\":[{\"cells\":{\"fill\":{\"color\":\"#EBF0F8\"},\"line\":{\"color\":\"white\"}},\"header\":{\"fill\":{\"color\":\"#C8D4E3\"},\"line\":{\"color\":\"white\"}},\"type\":\"table\"}]},\"layout\":{\"annotationdefaults\":{\"arrowcolor\":\"#2a3f5f\",\"arrowhead\":0,\"arrowwidth\":1},\"autotypenumbers\":\"strict\",\"coloraxis\":{\"colorbar\":{\"outlinewidth\":0,\"ticks\":\"\"}},\"colorscale\":{\"diverging\":[[0,\"#8e0152\"],[0.1,\"#c51b7d\"],[0.2,\"#de77ae\"],[0.3,\"#f1b6da\"],[0.4,\"#fde0ef\"],[0.5,\"#f7f7f7\"],[0.6,\"#e6f5d0\"],[0.7,\"#b8e186\"],[0.8,\"#7fbc41\"],[0.9,\"#4d9221\"],[1,\"#276419\"]],\"sequential\":[[0.0,\"#0d0887\"],[0.1111111111111111,\"#46039f\"],[0.2222222222222222,\"#7201a8\"],[0.3333333333333333,\"#9c179e\"],[0.4444444444444444,\"#bd3786\"],[0.5555555555555556,\"#d8576b\"],[0.6666666666666666,\"#ed7953\"],[0.7777777777777778,\"#fb9f3a\"],[0.8888888888888888,\"#fdca26\"],[1.0,\"#f0f921\"]],\"sequentialminus\":[[0.0,\"#0d0887\"],[0.1111111111111111,\"#46039f\"],[0.2222222222222222,\"#7201a8\"],[0.3333333333333333,\"#9c179e\"],[0.4444444444444444,\"#bd3786\"],[0.5555555555555556,\"#d8576b\"],[0.6666666666666666,\"#ed7953\"],[0.7777777777777778,\"#fb9f3a\"],[0.8888888888888888,\"#fdca26\"],[1.0,\"#f0f921\"]]},\"colorway\":[\"#636efa\",\"#EF553B\",\"#00cc96\",\"#ab63fa\",\"#FFA15A\",\"#19d3f3\",\"#FF6692\",\"#B6E880\",\"#FF97FF\",\"#FECB52\"],\"font\":{\"color\":\"#2a3f5f\"},\"geo\":{\"bgcolor\":\"white\",\"lakecolor\":\"white\",\"landcolor\":\"#E5ECF6\",\"showlakes\":true,\"showland\":true,\"subunitcolor\":\"white\"},\"hoverlabel\":{\"align\":\"left\"},\"hovermode\":\"closest\",\"mapbox\":{\"style\":\"light\"},\"paper_bgcolor\":\"white\",\"plot_bgcolor\":\"#E5ECF6\",\"polar\":{\"angularaxis\":{\"gridcolor\":\"white\",\"linecolor\":\"white\",\"ticks\":\"\"},\"bgcolor\":\"#E5ECF6\",\"radialaxis\":{\"gridcolor\":\"white\",\"linecolor\":\"white\",\"ticks\":\"\"}},\"scene\":{\"xaxis\":{\"backgroundcolor\":\"#E5ECF6\",\"gridcolor\":\"white\",\"gridwidth\":2,\"linecolor\":\"white\",\"showbackground\":true,\"ticks\":\"\",\"zerolinecolor\":\"white\"},\"yaxis\":{\"backgroundcolor\":\"#E5ECF6\",\"gridcolor\":\"white\",\"gridwidth\":2,\"linecolor\":\"white\",\"showbackground\":true,\"ticks\":\"\",\"zerolinecolor\":\"white\"},\"zaxis\":{\"backgroundcolor\":\"#E5ECF6\",\"gridcolor\":\"white\",\"gridwidth\":2,\"linecolor\":\"white\",\"showbackground\":true,\"ticks\":\"\",\"zerolinecolor\":\"white\"}},\"shapedefaults\":{\"line\":{\"color\":\"#2a3f5f\"}},\"ternary\":{\"aaxis\":{\"gridcolor\":\"white\",\"linecolor\":\"white\",\"ticks\":\"\"},\"baxis\":{\"gridcolor\":\"white\",\"linecolor\":\"white\",\"ticks\":\"\"},\"bgcolor\":\"#E5ECF6\",\"caxis\":{\"gridcolor\":\"white\",\"linecolor\":\"white\",\"ticks\":\"\"}},\"title\":{\"x\":0.05},\"xaxis\":{\"automargin\":true,\"gridcolor\":\"white\",\"linecolor\":\"white\",\"ticks\":\"\",\"title\":{\"standoff\":15},\"zerolinecolor\":\"white\",\"zerolinewidth\":2},\"yaxis\":{\"automargin\":true,\"gridcolor\":\"white\",\"linecolor\":\"white\",\"ticks\":\"\",\"title\":{\"standoff\":15},\"zerolinecolor\":\"white\",\"zerolinewidth\":2}}},\"title\":{\"font\":{\"color\":\"#4D5663\"}},\"xaxis\":{\"gridcolor\":\"#E1E5ED\",\"showgrid\":true,\"tickfont\":{\"color\":\"#4D5663\"},\"title\":{\"font\":{\"color\":\"#4D5663\"},\"text\":\"\"},\"zerolinecolor\":\"#E1E5ED\"},\"yaxis\":{\"gridcolor\":\"#E1E5ED\",\"showgrid\":true,\"tickfont\":{\"color\":\"#4D5663\"},\"title\":{\"font\":{\"color\":\"#4D5663\"},\"text\":\"\"},\"zerolinecolor\":\"#E1E5ED\"}},                        {\"showLink\": true, \"linkText\": \"Export to plot.ly\", \"plotlyServerURL\": \"https://plot.ly\", \"responsive\": true}                    ).then(function(){\n",
       "                            \n",
       "var gd = document.getElementById('6ebe1f1d-e6d5-41b2-a448-b8c94b30ac12');\n",
       "var x = new MutationObserver(function (mutations, observer) {{\n",
       "        var display = window.getComputedStyle(gd).display;\n",
       "        if (!display || display === 'none') {{\n",
       "            console.log([gd, 'removed!']);\n",
       "            Plotly.purge(gd);\n",
       "            observer.disconnect();\n",
       "        }}\n",
       "}});\n",
       "\n",
       "// Listen for the removal of the full notebook cells\n",
       "var notebookContainer = gd.closest('#notebook-container');\n",
       "if (notebookContainer) {{\n",
       "    x.observe(notebookContainer, {childList: true});\n",
       "}}\n",
       "\n",
       "// Listen for the clearing of the current output cell\n",
       "var outputEl = gd.closest('.output');\n",
       "if (outputEl) {{\n",
       "    x.observe(outputEl, {childList: true});\n",
       "}}\n",
       "\n",
       "                        })                };                });            </script>        </div>"
      ]
     },
     "metadata": {},
     "output_type": "display_data"
    }
   ],
   "source": [
    "df.iplot(kind='scatter',x='A',y='B',mode='markers',size=10)"
   ]
  },
  {
   "cell_type": "markdown",
   "metadata": {},
   "source": [
    "## Bar Plots"
   ]
  },
  {
   "cell_type": "code",
   "execution_count": 11,
   "metadata": {},
   "outputs": [
    {
     "data": {
      "application/vnd.plotly.v1+json": {
       "config": {
        "linkText": "Export to plot.ly",
        "plotlyServerURL": "https://plot.ly",
        "showLink": true
       },
       "data": [
        {
         "marker": {
          "color": "rgba(255, 153, 51, 0.6)",
          "line": {
           "color": "rgba(255, 153, 51, 1.0)",
           "width": 1
          }
         },
         "name": "Values",
         "orientation": "v",
         "text": "",
         "type": "bar",
         "x": [
          "A",
          "B",
          "C"
         ],
         "y": [
          32,
          43,
          50
         ]
        }
       ],
       "layout": {
        "legend": {
         "bgcolor": "#F5F6F9",
         "font": {
          "color": "#4D5663"
         }
        },
        "paper_bgcolor": "#F5F6F9",
        "plot_bgcolor": "#F5F6F9",
        "template": {
         "data": {
          "bar": [
           {
            "error_x": {
             "color": "#2a3f5f"
            },
            "error_y": {
             "color": "#2a3f5f"
            },
            "marker": {
             "line": {
              "color": "#E5ECF6",
              "width": 0.5
             },
             "pattern": {
              "fillmode": "overlay",
              "size": 10,
              "solidity": 0.2
             }
            },
            "type": "bar"
           }
          ],
          "barpolar": [
           {
            "marker": {
             "line": {
              "color": "#E5ECF6",
              "width": 0.5
             },
             "pattern": {
              "fillmode": "overlay",
              "size": 10,
              "solidity": 0.2
             }
            },
            "type": "barpolar"
           }
          ],
          "carpet": [
           {
            "aaxis": {
             "endlinecolor": "#2a3f5f",
             "gridcolor": "white",
             "linecolor": "white",
             "minorgridcolor": "white",
             "startlinecolor": "#2a3f5f"
            },
            "baxis": {
             "endlinecolor": "#2a3f5f",
             "gridcolor": "white",
             "linecolor": "white",
             "minorgridcolor": "white",
             "startlinecolor": "#2a3f5f"
            },
            "type": "carpet"
           }
          ],
          "choropleth": [
           {
            "colorbar": {
             "outlinewidth": 0,
             "ticks": ""
            },
            "type": "choropleth"
           }
          ],
          "contour": [
           {
            "colorbar": {
             "outlinewidth": 0,
             "ticks": ""
            },
            "colorscale": [
             [
              0,
              "#0d0887"
             ],
             [
              0.1111111111111111,
              "#46039f"
             ],
             [
              0.2222222222222222,
              "#7201a8"
             ],
             [
              0.3333333333333333,
              "#9c179e"
             ],
             [
              0.4444444444444444,
              "#bd3786"
             ],
             [
              0.5555555555555556,
              "#d8576b"
             ],
             [
              0.6666666666666666,
              "#ed7953"
             ],
             [
              0.7777777777777778,
              "#fb9f3a"
             ],
             [
              0.8888888888888888,
              "#fdca26"
             ],
             [
              1,
              "#f0f921"
             ]
            ],
            "type": "contour"
           }
          ],
          "contourcarpet": [
           {
            "colorbar": {
             "outlinewidth": 0,
             "ticks": ""
            },
            "type": "contourcarpet"
           }
          ],
          "heatmap": [
           {
            "colorbar": {
             "outlinewidth": 0,
             "ticks": ""
            },
            "colorscale": [
             [
              0,
              "#0d0887"
             ],
             [
              0.1111111111111111,
              "#46039f"
             ],
             [
              0.2222222222222222,
              "#7201a8"
             ],
             [
              0.3333333333333333,
              "#9c179e"
             ],
             [
              0.4444444444444444,
              "#bd3786"
             ],
             [
              0.5555555555555556,
              "#d8576b"
             ],
             [
              0.6666666666666666,
              "#ed7953"
             ],
             [
              0.7777777777777778,
              "#fb9f3a"
             ],
             [
              0.8888888888888888,
              "#fdca26"
             ],
             [
              1,
              "#f0f921"
             ]
            ],
            "type": "heatmap"
           }
          ],
          "heatmapgl": [
           {
            "colorbar": {
             "outlinewidth": 0,
             "ticks": ""
            },
            "colorscale": [
             [
              0,
              "#0d0887"
             ],
             [
              0.1111111111111111,
              "#46039f"
             ],
             [
              0.2222222222222222,
              "#7201a8"
             ],
             [
              0.3333333333333333,
              "#9c179e"
             ],
             [
              0.4444444444444444,
              "#bd3786"
             ],
             [
              0.5555555555555556,
              "#d8576b"
             ],
             [
              0.6666666666666666,
              "#ed7953"
             ],
             [
              0.7777777777777778,
              "#fb9f3a"
             ],
             [
              0.8888888888888888,
              "#fdca26"
             ],
             [
              1,
              "#f0f921"
             ]
            ],
            "type": "heatmapgl"
           }
          ],
          "histogram": [
           {
            "marker": {
             "pattern": {
              "fillmode": "overlay",
              "size": 10,
              "solidity": 0.2
             }
            },
            "type": "histogram"
           }
          ],
          "histogram2d": [
           {
            "colorbar": {
             "outlinewidth": 0,
             "ticks": ""
            },
            "colorscale": [
             [
              0,
              "#0d0887"
             ],
             [
              0.1111111111111111,
              "#46039f"
             ],
             [
              0.2222222222222222,
              "#7201a8"
             ],
             [
              0.3333333333333333,
              "#9c179e"
             ],
             [
              0.4444444444444444,
              "#bd3786"
             ],
             [
              0.5555555555555556,
              "#d8576b"
             ],
             [
              0.6666666666666666,
              "#ed7953"
             ],
             [
              0.7777777777777778,
              "#fb9f3a"
             ],
             [
              0.8888888888888888,
              "#fdca26"
             ],
             [
              1,
              "#f0f921"
             ]
            ],
            "type": "histogram2d"
           }
          ],
          "histogram2dcontour": [
           {
            "colorbar": {
             "outlinewidth": 0,
             "ticks": ""
            },
            "colorscale": [
             [
              0,
              "#0d0887"
             ],
             [
              0.1111111111111111,
              "#46039f"
             ],
             [
              0.2222222222222222,
              "#7201a8"
             ],
             [
              0.3333333333333333,
              "#9c179e"
             ],
             [
              0.4444444444444444,
              "#bd3786"
             ],
             [
              0.5555555555555556,
              "#d8576b"
             ],
             [
              0.6666666666666666,
              "#ed7953"
             ],
             [
              0.7777777777777778,
              "#fb9f3a"
             ],
             [
              0.8888888888888888,
              "#fdca26"
             ],
             [
              1,
              "#f0f921"
             ]
            ],
            "type": "histogram2dcontour"
           }
          ],
          "mesh3d": [
           {
            "colorbar": {
             "outlinewidth": 0,
             "ticks": ""
            },
            "type": "mesh3d"
           }
          ],
          "parcoords": [
           {
            "line": {
             "colorbar": {
              "outlinewidth": 0,
              "ticks": ""
             }
            },
            "type": "parcoords"
           }
          ],
          "pie": [
           {
            "automargin": true,
            "type": "pie"
           }
          ],
          "scatter": [
           {
            "marker": {
             "colorbar": {
              "outlinewidth": 0,
              "ticks": ""
             }
            },
            "type": "scatter"
           }
          ],
          "scatter3d": [
           {
            "line": {
             "colorbar": {
              "outlinewidth": 0,
              "ticks": ""
             }
            },
            "marker": {
             "colorbar": {
              "outlinewidth": 0,
              "ticks": ""
             }
            },
            "type": "scatter3d"
           }
          ],
          "scattercarpet": [
           {
            "marker": {
             "colorbar": {
              "outlinewidth": 0,
              "ticks": ""
             }
            },
            "type": "scattercarpet"
           }
          ],
          "scattergeo": [
           {
            "marker": {
             "colorbar": {
              "outlinewidth": 0,
              "ticks": ""
             }
            },
            "type": "scattergeo"
           }
          ],
          "scattergl": [
           {
            "marker": {
             "colorbar": {
              "outlinewidth": 0,
              "ticks": ""
             }
            },
            "type": "scattergl"
           }
          ],
          "scattermapbox": [
           {
            "marker": {
             "colorbar": {
              "outlinewidth": 0,
              "ticks": ""
             }
            },
            "type": "scattermapbox"
           }
          ],
          "scatterpolar": [
           {
            "marker": {
             "colorbar": {
              "outlinewidth": 0,
              "ticks": ""
             }
            },
            "type": "scatterpolar"
           }
          ],
          "scatterpolargl": [
           {
            "marker": {
             "colorbar": {
              "outlinewidth": 0,
              "ticks": ""
             }
            },
            "type": "scatterpolargl"
           }
          ],
          "scatterternary": [
           {
            "marker": {
             "colorbar": {
              "outlinewidth": 0,
              "ticks": ""
             }
            },
            "type": "scatterternary"
           }
          ],
          "surface": [
           {
            "colorbar": {
             "outlinewidth": 0,
             "ticks": ""
            },
            "colorscale": [
             [
              0,
              "#0d0887"
             ],
             [
              0.1111111111111111,
              "#46039f"
             ],
             [
              0.2222222222222222,
              "#7201a8"
             ],
             [
              0.3333333333333333,
              "#9c179e"
             ],
             [
              0.4444444444444444,
              "#bd3786"
             ],
             [
              0.5555555555555556,
              "#d8576b"
             ],
             [
              0.6666666666666666,
              "#ed7953"
             ],
             [
              0.7777777777777778,
              "#fb9f3a"
             ],
             [
              0.8888888888888888,
              "#fdca26"
             ],
             [
              1,
              "#f0f921"
             ]
            ],
            "type": "surface"
           }
          ],
          "table": [
           {
            "cells": {
             "fill": {
              "color": "#EBF0F8"
             },
             "line": {
              "color": "white"
             }
            },
            "header": {
             "fill": {
              "color": "#C8D4E3"
             },
             "line": {
              "color": "white"
             }
            },
            "type": "table"
           }
          ]
         },
         "layout": {
          "annotationdefaults": {
           "arrowcolor": "#2a3f5f",
           "arrowhead": 0,
           "arrowwidth": 1
          },
          "autotypenumbers": "strict",
          "coloraxis": {
           "colorbar": {
            "outlinewidth": 0,
            "ticks": ""
           }
          },
          "colorscale": {
           "diverging": [
            [
             0,
             "#8e0152"
            ],
            [
             0.1,
             "#c51b7d"
            ],
            [
             0.2,
             "#de77ae"
            ],
            [
             0.3,
             "#f1b6da"
            ],
            [
             0.4,
             "#fde0ef"
            ],
            [
             0.5,
             "#f7f7f7"
            ],
            [
             0.6,
             "#e6f5d0"
            ],
            [
             0.7,
             "#b8e186"
            ],
            [
             0.8,
             "#7fbc41"
            ],
            [
             0.9,
             "#4d9221"
            ],
            [
             1,
             "#276419"
            ]
           ],
           "sequential": [
            [
             0,
             "#0d0887"
            ],
            [
             0.1111111111111111,
             "#46039f"
            ],
            [
             0.2222222222222222,
             "#7201a8"
            ],
            [
             0.3333333333333333,
             "#9c179e"
            ],
            [
             0.4444444444444444,
             "#bd3786"
            ],
            [
             0.5555555555555556,
             "#d8576b"
            ],
            [
             0.6666666666666666,
             "#ed7953"
            ],
            [
             0.7777777777777778,
             "#fb9f3a"
            ],
            [
             0.8888888888888888,
             "#fdca26"
            ],
            [
             1,
             "#f0f921"
            ]
           ],
           "sequentialminus": [
            [
             0,
             "#0d0887"
            ],
            [
             0.1111111111111111,
             "#46039f"
            ],
            [
             0.2222222222222222,
             "#7201a8"
            ],
            [
             0.3333333333333333,
             "#9c179e"
            ],
            [
             0.4444444444444444,
             "#bd3786"
            ],
            [
             0.5555555555555556,
             "#d8576b"
            ],
            [
             0.6666666666666666,
             "#ed7953"
            ],
            [
             0.7777777777777778,
             "#fb9f3a"
            ],
            [
             0.8888888888888888,
             "#fdca26"
            ],
            [
             1,
             "#f0f921"
            ]
           ]
          },
          "colorway": [
           "#636efa",
           "#EF553B",
           "#00cc96",
           "#ab63fa",
           "#FFA15A",
           "#19d3f3",
           "#FF6692",
           "#B6E880",
           "#FF97FF",
           "#FECB52"
          ],
          "font": {
           "color": "#2a3f5f"
          },
          "geo": {
           "bgcolor": "white",
           "lakecolor": "white",
           "landcolor": "#E5ECF6",
           "showlakes": true,
           "showland": true,
           "subunitcolor": "white"
          },
          "hoverlabel": {
           "align": "left"
          },
          "hovermode": "closest",
          "mapbox": {
           "style": "light"
          },
          "paper_bgcolor": "white",
          "plot_bgcolor": "#E5ECF6",
          "polar": {
           "angularaxis": {
            "gridcolor": "white",
            "linecolor": "white",
            "ticks": ""
           },
           "bgcolor": "#E5ECF6",
           "radialaxis": {
            "gridcolor": "white",
            "linecolor": "white",
            "ticks": ""
           }
          },
          "scene": {
           "xaxis": {
            "backgroundcolor": "#E5ECF6",
            "gridcolor": "white",
            "gridwidth": 2,
            "linecolor": "white",
            "showbackground": true,
            "ticks": "",
            "zerolinecolor": "white"
           },
           "yaxis": {
            "backgroundcolor": "#E5ECF6",
            "gridcolor": "white",
            "gridwidth": 2,
            "linecolor": "white",
            "showbackground": true,
            "ticks": "",
            "zerolinecolor": "white"
           },
           "zaxis": {
            "backgroundcolor": "#E5ECF6",
            "gridcolor": "white",
            "gridwidth": 2,
            "linecolor": "white",
            "showbackground": true,
            "ticks": "",
            "zerolinecolor": "white"
           }
          },
          "shapedefaults": {
           "line": {
            "color": "#2a3f5f"
           }
          },
          "ternary": {
           "aaxis": {
            "gridcolor": "white",
            "linecolor": "white",
            "ticks": ""
           },
           "baxis": {
            "gridcolor": "white",
            "linecolor": "white",
            "ticks": ""
           },
           "bgcolor": "#E5ECF6",
           "caxis": {
            "gridcolor": "white",
            "linecolor": "white",
            "ticks": ""
           }
          },
          "title": {
           "x": 0.05
          },
          "xaxis": {
           "automargin": true,
           "gridcolor": "white",
           "linecolor": "white",
           "ticks": "",
           "title": {
            "standoff": 15
           },
           "zerolinecolor": "white",
           "zerolinewidth": 2
          },
          "yaxis": {
           "automargin": true,
           "gridcolor": "white",
           "linecolor": "white",
           "ticks": "",
           "title": {
            "standoff": 15
           },
           "zerolinecolor": "white",
           "zerolinewidth": 2
          }
         }
        },
        "title": {
         "font": {
          "color": "#4D5663"
         }
        },
        "xaxis": {
         "gridcolor": "#E1E5ED",
         "showgrid": true,
         "tickfont": {
          "color": "#4D5663"
         },
         "title": {
          "font": {
           "color": "#4D5663"
          },
          "text": ""
         },
         "zerolinecolor": "#E1E5ED"
        },
        "yaxis": {
         "gridcolor": "#E1E5ED",
         "showgrid": true,
         "tickfont": {
          "color": "#4D5663"
         },
         "title": {
          "font": {
           "color": "#4D5663"
          },
          "text": ""
         },
         "zerolinecolor": "#E1E5ED"
        }
       }
      },
      "text/html": [
       "<div>                            <div id=\"887be426-6c48-4740-a5e9-271c3d37710f\" class=\"plotly-graph-div\" style=\"height:525px; width:100%;\"></div>            <script type=\"text/javascript\">                require([\"plotly\"], function(Plotly) {                    window.PLOTLYENV=window.PLOTLYENV || {};\n",
       "                    window.PLOTLYENV.BASE_URL='https://plot.ly';                                    if (document.getElementById(\"887be426-6c48-4740-a5e9-271c3d37710f\")) {                    Plotly.newPlot(                        \"887be426-6c48-4740-a5e9-271c3d37710f\",                        [{\"marker\":{\"color\":\"rgba(255, 153, 51, 0.6)\",\"line\":{\"color\":\"rgba(255, 153, 51, 1.0)\",\"width\":1}},\"name\":\"Values\",\"orientation\":\"v\",\"text\":\"\",\"type\":\"bar\",\"x\":[\"A\",\"B\",\"C\"],\"y\":[32,43,50]}],                        {\"legend\":{\"bgcolor\":\"#F5F6F9\",\"font\":{\"color\":\"#4D5663\"}},\"paper_bgcolor\":\"#F5F6F9\",\"plot_bgcolor\":\"#F5F6F9\",\"template\":{\"data\":{\"bar\":[{\"error_x\":{\"color\":\"#2a3f5f\"},\"error_y\":{\"color\":\"#2a3f5f\"},\"marker\":{\"line\":{\"color\":\"#E5ECF6\",\"width\":0.5},\"pattern\":{\"fillmode\":\"overlay\",\"size\":10,\"solidity\":0.2}},\"type\":\"bar\"}],\"barpolar\":[{\"marker\":{\"line\":{\"color\":\"#E5ECF6\",\"width\":0.5},\"pattern\":{\"fillmode\":\"overlay\",\"size\":10,\"solidity\":0.2}},\"type\":\"barpolar\"}],\"carpet\":[{\"aaxis\":{\"endlinecolor\":\"#2a3f5f\",\"gridcolor\":\"white\",\"linecolor\":\"white\",\"minorgridcolor\":\"white\",\"startlinecolor\":\"#2a3f5f\"},\"baxis\":{\"endlinecolor\":\"#2a3f5f\",\"gridcolor\":\"white\",\"linecolor\":\"white\",\"minorgridcolor\":\"white\",\"startlinecolor\":\"#2a3f5f\"},\"type\":\"carpet\"}],\"choropleth\":[{\"colorbar\":{\"outlinewidth\":0,\"ticks\":\"\"},\"type\":\"choropleth\"}],\"contour\":[{\"colorbar\":{\"outlinewidth\":0,\"ticks\":\"\"},\"colorscale\":[[0.0,\"#0d0887\"],[0.1111111111111111,\"#46039f\"],[0.2222222222222222,\"#7201a8\"],[0.3333333333333333,\"#9c179e\"],[0.4444444444444444,\"#bd3786\"],[0.5555555555555556,\"#d8576b\"],[0.6666666666666666,\"#ed7953\"],[0.7777777777777778,\"#fb9f3a\"],[0.8888888888888888,\"#fdca26\"],[1.0,\"#f0f921\"]],\"type\":\"contour\"}],\"contourcarpet\":[{\"colorbar\":{\"outlinewidth\":0,\"ticks\":\"\"},\"type\":\"contourcarpet\"}],\"heatmap\":[{\"colorbar\":{\"outlinewidth\":0,\"ticks\":\"\"},\"colorscale\":[[0.0,\"#0d0887\"],[0.1111111111111111,\"#46039f\"],[0.2222222222222222,\"#7201a8\"],[0.3333333333333333,\"#9c179e\"],[0.4444444444444444,\"#bd3786\"],[0.5555555555555556,\"#d8576b\"],[0.6666666666666666,\"#ed7953\"],[0.7777777777777778,\"#fb9f3a\"],[0.8888888888888888,\"#fdca26\"],[1.0,\"#f0f921\"]],\"type\":\"heatmap\"}],\"heatmapgl\":[{\"colorbar\":{\"outlinewidth\":0,\"ticks\":\"\"},\"colorscale\":[[0.0,\"#0d0887\"],[0.1111111111111111,\"#46039f\"],[0.2222222222222222,\"#7201a8\"],[0.3333333333333333,\"#9c179e\"],[0.4444444444444444,\"#bd3786\"],[0.5555555555555556,\"#d8576b\"],[0.6666666666666666,\"#ed7953\"],[0.7777777777777778,\"#fb9f3a\"],[0.8888888888888888,\"#fdca26\"],[1.0,\"#f0f921\"]],\"type\":\"heatmapgl\"}],\"histogram\":[{\"marker\":{\"pattern\":{\"fillmode\":\"overlay\",\"size\":10,\"solidity\":0.2}},\"type\":\"histogram\"}],\"histogram2d\":[{\"colorbar\":{\"outlinewidth\":0,\"ticks\":\"\"},\"colorscale\":[[0.0,\"#0d0887\"],[0.1111111111111111,\"#46039f\"],[0.2222222222222222,\"#7201a8\"],[0.3333333333333333,\"#9c179e\"],[0.4444444444444444,\"#bd3786\"],[0.5555555555555556,\"#d8576b\"],[0.6666666666666666,\"#ed7953\"],[0.7777777777777778,\"#fb9f3a\"],[0.8888888888888888,\"#fdca26\"],[1.0,\"#f0f921\"]],\"type\":\"histogram2d\"}],\"histogram2dcontour\":[{\"colorbar\":{\"outlinewidth\":0,\"ticks\":\"\"},\"colorscale\":[[0.0,\"#0d0887\"],[0.1111111111111111,\"#46039f\"],[0.2222222222222222,\"#7201a8\"],[0.3333333333333333,\"#9c179e\"],[0.4444444444444444,\"#bd3786\"],[0.5555555555555556,\"#d8576b\"],[0.6666666666666666,\"#ed7953\"],[0.7777777777777778,\"#fb9f3a\"],[0.8888888888888888,\"#fdca26\"],[1.0,\"#f0f921\"]],\"type\":\"histogram2dcontour\"}],\"mesh3d\":[{\"colorbar\":{\"outlinewidth\":0,\"ticks\":\"\"},\"type\":\"mesh3d\"}],\"parcoords\":[{\"line\":{\"colorbar\":{\"outlinewidth\":0,\"ticks\":\"\"}},\"type\":\"parcoords\"}],\"pie\":[{\"automargin\":true,\"type\":\"pie\"}],\"scatter\":[{\"marker\":{\"colorbar\":{\"outlinewidth\":0,\"ticks\":\"\"}},\"type\":\"scatter\"}],\"scatter3d\":[{\"line\":{\"colorbar\":{\"outlinewidth\":0,\"ticks\":\"\"}},\"marker\":{\"colorbar\":{\"outlinewidth\":0,\"ticks\":\"\"}},\"type\":\"scatter3d\"}],\"scattercarpet\":[{\"marker\":{\"colorbar\":{\"outlinewidth\":0,\"ticks\":\"\"}},\"type\":\"scattercarpet\"}],\"scattergeo\":[{\"marker\":{\"colorbar\":{\"outlinewidth\":0,\"ticks\":\"\"}},\"type\":\"scattergeo\"}],\"scattergl\":[{\"marker\":{\"colorbar\":{\"outlinewidth\":0,\"ticks\":\"\"}},\"type\":\"scattergl\"}],\"scattermapbox\":[{\"marker\":{\"colorbar\":{\"outlinewidth\":0,\"ticks\":\"\"}},\"type\":\"scattermapbox\"}],\"scatterpolar\":[{\"marker\":{\"colorbar\":{\"outlinewidth\":0,\"ticks\":\"\"}},\"type\":\"scatterpolar\"}],\"scatterpolargl\":[{\"marker\":{\"colorbar\":{\"outlinewidth\":0,\"ticks\":\"\"}},\"type\":\"scatterpolargl\"}],\"scatterternary\":[{\"marker\":{\"colorbar\":{\"outlinewidth\":0,\"ticks\":\"\"}},\"type\":\"scatterternary\"}],\"surface\":[{\"colorbar\":{\"outlinewidth\":0,\"ticks\":\"\"},\"colorscale\":[[0.0,\"#0d0887\"],[0.1111111111111111,\"#46039f\"],[0.2222222222222222,\"#7201a8\"],[0.3333333333333333,\"#9c179e\"],[0.4444444444444444,\"#bd3786\"],[0.5555555555555556,\"#d8576b\"],[0.6666666666666666,\"#ed7953\"],[0.7777777777777778,\"#fb9f3a\"],[0.8888888888888888,\"#fdca26\"],[1.0,\"#f0f921\"]],\"type\":\"surface\"}],\"table\":[{\"cells\":{\"fill\":{\"color\":\"#EBF0F8\"},\"line\":{\"color\":\"white\"}},\"header\":{\"fill\":{\"color\":\"#C8D4E3\"},\"line\":{\"color\":\"white\"}},\"type\":\"table\"}]},\"layout\":{\"annotationdefaults\":{\"arrowcolor\":\"#2a3f5f\",\"arrowhead\":0,\"arrowwidth\":1},\"autotypenumbers\":\"strict\",\"coloraxis\":{\"colorbar\":{\"outlinewidth\":0,\"ticks\":\"\"}},\"colorscale\":{\"diverging\":[[0,\"#8e0152\"],[0.1,\"#c51b7d\"],[0.2,\"#de77ae\"],[0.3,\"#f1b6da\"],[0.4,\"#fde0ef\"],[0.5,\"#f7f7f7\"],[0.6,\"#e6f5d0\"],[0.7,\"#b8e186\"],[0.8,\"#7fbc41\"],[0.9,\"#4d9221\"],[1,\"#276419\"]],\"sequential\":[[0.0,\"#0d0887\"],[0.1111111111111111,\"#46039f\"],[0.2222222222222222,\"#7201a8\"],[0.3333333333333333,\"#9c179e\"],[0.4444444444444444,\"#bd3786\"],[0.5555555555555556,\"#d8576b\"],[0.6666666666666666,\"#ed7953\"],[0.7777777777777778,\"#fb9f3a\"],[0.8888888888888888,\"#fdca26\"],[1.0,\"#f0f921\"]],\"sequentialminus\":[[0.0,\"#0d0887\"],[0.1111111111111111,\"#46039f\"],[0.2222222222222222,\"#7201a8\"],[0.3333333333333333,\"#9c179e\"],[0.4444444444444444,\"#bd3786\"],[0.5555555555555556,\"#d8576b\"],[0.6666666666666666,\"#ed7953\"],[0.7777777777777778,\"#fb9f3a\"],[0.8888888888888888,\"#fdca26\"],[1.0,\"#f0f921\"]]},\"colorway\":[\"#636efa\",\"#EF553B\",\"#00cc96\",\"#ab63fa\",\"#FFA15A\",\"#19d3f3\",\"#FF6692\",\"#B6E880\",\"#FF97FF\",\"#FECB52\"],\"font\":{\"color\":\"#2a3f5f\"},\"geo\":{\"bgcolor\":\"white\",\"lakecolor\":\"white\",\"landcolor\":\"#E5ECF6\",\"showlakes\":true,\"showland\":true,\"subunitcolor\":\"white\"},\"hoverlabel\":{\"align\":\"left\"},\"hovermode\":\"closest\",\"mapbox\":{\"style\":\"light\"},\"paper_bgcolor\":\"white\",\"plot_bgcolor\":\"#E5ECF6\",\"polar\":{\"angularaxis\":{\"gridcolor\":\"white\",\"linecolor\":\"white\",\"ticks\":\"\"},\"bgcolor\":\"#E5ECF6\",\"radialaxis\":{\"gridcolor\":\"white\",\"linecolor\":\"white\",\"ticks\":\"\"}},\"scene\":{\"xaxis\":{\"backgroundcolor\":\"#E5ECF6\",\"gridcolor\":\"white\",\"gridwidth\":2,\"linecolor\":\"white\",\"showbackground\":true,\"ticks\":\"\",\"zerolinecolor\":\"white\"},\"yaxis\":{\"backgroundcolor\":\"#E5ECF6\",\"gridcolor\":\"white\",\"gridwidth\":2,\"linecolor\":\"white\",\"showbackground\":true,\"ticks\":\"\",\"zerolinecolor\":\"white\"},\"zaxis\":{\"backgroundcolor\":\"#E5ECF6\",\"gridcolor\":\"white\",\"gridwidth\":2,\"linecolor\":\"white\",\"showbackground\":true,\"ticks\":\"\",\"zerolinecolor\":\"white\"}},\"shapedefaults\":{\"line\":{\"color\":\"#2a3f5f\"}},\"ternary\":{\"aaxis\":{\"gridcolor\":\"white\",\"linecolor\":\"white\",\"ticks\":\"\"},\"baxis\":{\"gridcolor\":\"white\",\"linecolor\":\"white\",\"ticks\":\"\"},\"bgcolor\":\"#E5ECF6\",\"caxis\":{\"gridcolor\":\"white\",\"linecolor\":\"white\",\"ticks\":\"\"}},\"title\":{\"x\":0.05},\"xaxis\":{\"automargin\":true,\"gridcolor\":\"white\",\"linecolor\":\"white\",\"ticks\":\"\",\"title\":{\"standoff\":15},\"zerolinecolor\":\"white\",\"zerolinewidth\":2},\"yaxis\":{\"automargin\":true,\"gridcolor\":\"white\",\"linecolor\":\"white\",\"ticks\":\"\",\"title\":{\"standoff\":15},\"zerolinecolor\":\"white\",\"zerolinewidth\":2}}},\"title\":{\"font\":{\"color\":\"#4D5663\"}},\"xaxis\":{\"gridcolor\":\"#E1E5ED\",\"showgrid\":true,\"tickfont\":{\"color\":\"#4D5663\"},\"title\":{\"font\":{\"color\":\"#4D5663\"},\"text\":\"\"},\"zerolinecolor\":\"#E1E5ED\"},\"yaxis\":{\"gridcolor\":\"#E1E5ED\",\"showgrid\":true,\"tickfont\":{\"color\":\"#4D5663\"},\"title\":{\"font\":{\"color\":\"#4D5663\"},\"text\":\"\"},\"zerolinecolor\":\"#E1E5ED\"}},                        {\"showLink\": true, \"linkText\": \"Export to plot.ly\", \"plotlyServerURL\": \"https://plot.ly\", \"responsive\": true}                    ).then(function(){\n",
       "                            \n",
       "var gd = document.getElementById('887be426-6c48-4740-a5e9-271c3d37710f');\n",
       "var x = new MutationObserver(function (mutations, observer) {{\n",
       "        var display = window.getComputedStyle(gd).display;\n",
       "        if (!display || display === 'none') {{\n",
       "            console.log([gd, 'removed!']);\n",
       "            Plotly.purge(gd);\n",
       "            observer.disconnect();\n",
       "        }}\n",
       "}});\n",
       "\n",
       "// Listen for the removal of the full notebook cells\n",
       "var notebookContainer = gd.closest('#notebook-container');\n",
       "if (notebookContainer) {{\n",
       "    x.observe(notebookContainer, {childList: true});\n",
       "}}\n",
       "\n",
       "// Listen for the clearing of the current output cell\n",
       "var outputEl = gd.closest('.output');\n",
       "if (outputEl) {{\n",
       "    x.observe(outputEl, {childList: true});\n",
       "}}\n",
       "\n",
       "                        })                };                });            </script>        </div>"
      ]
     },
     "metadata": {},
     "output_type": "display_data"
    }
   ],
   "source": [
    "df2.iplot(kind='bar',x='Category',y='Values')"
   ]
  },
  {
   "cell_type": "code",
   "execution_count": 12,
   "metadata": {},
   "outputs": [
    {
     "data": {
      "application/vnd.plotly.v1+json": {
       "config": {
        "linkText": "Export to plot.ly",
        "plotlyServerURL": "https://plot.ly",
        "showLink": true
       },
       "data": [
        {
         "marker": {
          "color": "rgba(255, 153, 51, 0.6)",
          "line": {
           "color": "rgba(255, 153, 51, 1.0)",
           "width": 1
          }
         },
         "name": "None",
         "orientation": "v",
         "text": "",
         "type": "bar",
         "x": [
          "A",
          "B",
          "C",
          "D"
         ],
         "y": [
          100,
          100,
          100,
          100
         ]
        }
       ],
       "layout": {
        "legend": {
         "bgcolor": "#F5F6F9",
         "font": {
          "color": "#4D5663"
         }
        },
        "paper_bgcolor": "#F5F6F9",
        "plot_bgcolor": "#F5F6F9",
        "template": {
         "data": {
          "bar": [
           {
            "error_x": {
             "color": "#2a3f5f"
            },
            "error_y": {
             "color": "#2a3f5f"
            },
            "marker": {
             "line": {
              "color": "#E5ECF6",
              "width": 0.5
             },
             "pattern": {
              "fillmode": "overlay",
              "size": 10,
              "solidity": 0.2
             }
            },
            "type": "bar"
           }
          ],
          "barpolar": [
           {
            "marker": {
             "line": {
              "color": "#E5ECF6",
              "width": 0.5
             },
             "pattern": {
              "fillmode": "overlay",
              "size": 10,
              "solidity": 0.2
             }
            },
            "type": "barpolar"
           }
          ],
          "carpet": [
           {
            "aaxis": {
             "endlinecolor": "#2a3f5f",
             "gridcolor": "white",
             "linecolor": "white",
             "minorgridcolor": "white",
             "startlinecolor": "#2a3f5f"
            },
            "baxis": {
             "endlinecolor": "#2a3f5f",
             "gridcolor": "white",
             "linecolor": "white",
             "minorgridcolor": "white",
             "startlinecolor": "#2a3f5f"
            },
            "type": "carpet"
           }
          ],
          "choropleth": [
           {
            "colorbar": {
             "outlinewidth": 0,
             "ticks": ""
            },
            "type": "choropleth"
           }
          ],
          "contour": [
           {
            "colorbar": {
             "outlinewidth": 0,
             "ticks": ""
            },
            "colorscale": [
             [
              0,
              "#0d0887"
             ],
             [
              0.1111111111111111,
              "#46039f"
             ],
             [
              0.2222222222222222,
              "#7201a8"
             ],
             [
              0.3333333333333333,
              "#9c179e"
             ],
             [
              0.4444444444444444,
              "#bd3786"
             ],
             [
              0.5555555555555556,
              "#d8576b"
             ],
             [
              0.6666666666666666,
              "#ed7953"
             ],
             [
              0.7777777777777778,
              "#fb9f3a"
             ],
             [
              0.8888888888888888,
              "#fdca26"
             ],
             [
              1,
              "#f0f921"
             ]
            ],
            "type": "contour"
           }
          ],
          "contourcarpet": [
           {
            "colorbar": {
             "outlinewidth": 0,
             "ticks": ""
            },
            "type": "contourcarpet"
           }
          ],
          "heatmap": [
           {
            "colorbar": {
             "outlinewidth": 0,
             "ticks": ""
            },
            "colorscale": [
             [
              0,
              "#0d0887"
             ],
             [
              0.1111111111111111,
              "#46039f"
             ],
             [
              0.2222222222222222,
              "#7201a8"
             ],
             [
              0.3333333333333333,
              "#9c179e"
             ],
             [
              0.4444444444444444,
              "#bd3786"
             ],
             [
              0.5555555555555556,
              "#d8576b"
             ],
             [
              0.6666666666666666,
              "#ed7953"
             ],
             [
              0.7777777777777778,
              "#fb9f3a"
             ],
             [
              0.8888888888888888,
              "#fdca26"
             ],
             [
              1,
              "#f0f921"
             ]
            ],
            "type": "heatmap"
           }
          ],
          "heatmapgl": [
           {
            "colorbar": {
             "outlinewidth": 0,
             "ticks": ""
            },
            "colorscale": [
             [
              0,
              "#0d0887"
             ],
             [
              0.1111111111111111,
              "#46039f"
             ],
             [
              0.2222222222222222,
              "#7201a8"
             ],
             [
              0.3333333333333333,
              "#9c179e"
             ],
             [
              0.4444444444444444,
              "#bd3786"
             ],
             [
              0.5555555555555556,
              "#d8576b"
             ],
             [
              0.6666666666666666,
              "#ed7953"
             ],
             [
              0.7777777777777778,
              "#fb9f3a"
             ],
             [
              0.8888888888888888,
              "#fdca26"
             ],
             [
              1,
              "#f0f921"
             ]
            ],
            "type": "heatmapgl"
           }
          ],
          "histogram": [
           {
            "marker": {
             "pattern": {
              "fillmode": "overlay",
              "size": 10,
              "solidity": 0.2
             }
            },
            "type": "histogram"
           }
          ],
          "histogram2d": [
           {
            "colorbar": {
             "outlinewidth": 0,
             "ticks": ""
            },
            "colorscale": [
             [
              0,
              "#0d0887"
             ],
             [
              0.1111111111111111,
              "#46039f"
             ],
             [
              0.2222222222222222,
              "#7201a8"
             ],
             [
              0.3333333333333333,
              "#9c179e"
             ],
             [
              0.4444444444444444,
              "#bd3786"
             ],
             [
              0.5555555555555556,
              "#d8576b"
             ],
             [
              0.6666666666666666,
              "#ed7953"
             ],
             [
              0.7777777777777778,
              "#fb9f3a"
             ],
             [
              0.8888888888888888,
              "#fdca26"
             ],
             [
              1,
              "#f0f921"
             ]
            ],
            "type": "histogram2d"
           }
          ],
          "histogram2dcontour": [
           {
            "colorbar": {
             "outlinewidth": 0,
             "ticks": ""
            },
            "colorscale": [
             [
              0,
              "#0d0887"
             ],
             [
              0.1111111111111111,
              "#46039f"
             ],
             [
              0.2222222222222222,
              "#7201a8"
             ],
             [
              0.3333333333333333,
              "#9c179e"
             ],
             [
              0.4444444444444444,
              "#bd3786"
             ],
             [
              0.5555555555555556,
              "#d8576b"
             ],
             [
              0.6666666666666666,
              "#ed7953"
             ],
             [
              0.7777777777777778,
              "#fb9f3a"
             ],
             [
              0.8888888888888888,
              "#fdca26"
             ],
             [
              1,
              "#f0f921"
             ]
            ],
            "type": "histogram2dcontour"
           }
          ],
          "mesh3d": [
           {
            "colorbar": {
             "outlinewidth": 0,
             "ticks": ""
            },
            "type": "mesh3d"
           }
          ],
          "parcoords": [
           {
            "line": {
             "colorbar": {
              "outlinewidth": 0,
              "ticks": ""
             }
            },
            "type": "parcoords"
           }
          ],
          "pie": [
           {
            "automargin": true,
            "type": "pie"
           }
          ],
          "scatter": [
           {
            "marker": {
             "colorbar": {
              "outlinewidth": 0,
              "ticks": ""
             }
            },
            "type": "scatter"
           }
          ],
          "scatter3d": [
           {
            "line": {
             "colorbar": {
              "outlinewidth": 0,
              "ticks": ""
             }
            },
            "marker": {
             "colorbar": {
              "outlinewidth": 0,
              "ticks": ""
             }
            },
            "type": "scatter3d"
           }
          ],
          "scattercarpet": [
           {
            "marker": {
             "colorbar": {
              "outlinewidth": 0,
              "ticks": ""
             }
            },
            "type": "scattercarpet"
           }
          ],
          "scattergeo": [
           {
            "marker": {
             "colorbar": {
              "outlinewidth": 0,
              "ticks": ""
             }
            },
            "type": "scattergeo"
           }
          ],
          "scattergl": [
           {
            "marker": {
             "colorbar": {
              "outlinewidth": 0,
              "ticks": ""
             }
            },
            "type": "scattergl"
           }
          ],
          "scattermapbox": [
           {
            "marker": {
             "colorbar": {
              "outlinewidth": 0,
              "ticks": ""
             }
            },
            "type": "scattermapbox"
           }
          ],
          "scatterpolar": [
           {
            "marker": {
             "colorbar": {
              "outlinewidth": 0,
              "ticks": ""
             }
            },
            "type": "scatterpolar"
           }
          ],
          "scatterpolargl": [
           {
            "marker": {
             "colorbar": {
              "outlinewidth": 0,
              "ticks": ""
             }
            },
            "type": "scatterpolargl"
           }
          ],
          "scatterternary": [
           {
            "marker": {
             "colorbar": {
              "outlinewidth": 0,
              "ticks": ""
             }
            },
            "type": "scatterternary"
           }
          ],
          "surface": [
           {
            "colorbar": {
             "outlinewidth": 0,
             "ticks": ""
            },
            "colorscale": [
             [
              0,
              "#0d0887"
             ],
             [
              0.1111111111111111,
              "#46039f"
             ],
             [
              0.2222222222222222,
              "#7201a8"
             ],
             [
              0.3333333333333333,
              "#9c179e"
             ],
             [
              0.4444444444444444,
              "#bd3786"
             ],
             [
              0.5555555555555556,
              "#d8576b"
             ],
             [
              0.6666666666666666,
              "#ed7953"
             ],
             [
              0.7777777777777778,
              "#fb9f3a"
             ],
             [
              0.8888888888888888,
              "#fdca26"
             ],
             [
              1,
              "#f0f921"
             ]
            ],
            "type": "surface"
           }
          ],
          "table": [
           {
            "cells": {
             "fill": {
              "color": "#EBF0F8"
             },
             "line": {
              "color": "white"
             }
            },
            "header": {
             "fill": {
              "color": "#C8D4E3"
             },
             "line": {
              "color": "white"
             }
            },
            "type": "table"
           }
          ]
         },
         "layout": {
          "annotationdefaults": {
           "arrowcolor": "#2a3f5f",
           "arrowhead": 0,
           "arrowwidth": 1
          },
          "autotypenumbers": "strict",
          "coloraxis": {
           "colorbar": {
            "outlinewidth": 0,
            "ticks": ""
           }
          },
          "colorscale": {
           "diverging": [
            [
             0,
             "#8e0152"
            ],
            [
             0.1,
             "#c51b7d"
            ],
            [
             0.2,
             "#de77ae"
            ],
            [
             0.3,
             "#f1b6da"
            ],
            [
             0.4,
             "#fde0ef"
            ],
            [
             0.5,
             "#f7f7f7"
            ],
            [
             0.6,
             "#e6f5d0"
            ],
            [
             0.7,
             "#b8e186"
            ],
            [
             0.8,
             "#7fbc41"
            ],
            [
             0.9,
             "#4d9221"
            ],
            [
             1,
             "#276419"
            ]
           ],
           "sequential": [
            [
             0,
             "#0d0887"
            ],
            [
             0.1111111111111111,
             "#46039f"
            ],
            [
             0.2222222222222222,
             "#7201a8"
            ],
            [
             0.3333333333333333,
             "#9c179e"
            ],
            [
             0.4444444444444444,
             "#bd3786"
            ],
            [
             0.5555555555555556,
             "#d8576b"
            ],
            [
             0.6666666666666666,
             "#ed7953"
            ],
            [
             0.7777777777777778,
             "#fb9f3a"
            ],
            [
             0.8888888888888888,
             "#fdca26"
            ],
            [
             1,
             "#f0f921"
            ]
           ],
           "sequentialminus": [
            [
             0,
             "#0d0887"
            ],
            [
             0.1111111111111111,
             "#46039f"
            ],
            [
             0.2222222222222222,
             "#7201a8"
            ],
            [
             0.3333333333333333,
             "#9c179e"
            ],
            [
             0.4444444444444444,
             "#bd3786"
            ],
            [
             0.5555555555555556,
             "#d8576b"
            ],
            [
             0.6666666666666666,
             "#ed7953"
            ],
            [
             0.7777777777777778,
             "#fb9f3a"
            ],
            [
             0.8888888888888888,
             "#fdca26"
            ],
            [
             1,
             "#f0f921"
            ]
           ]
          },
          "colorway": [
           "#636efa",
           "#EF553B",
           "#00cc96",
           "#ab63fa",
           "#FFA15A",
           "#19d3f3",
           "#FF6692",
           "#B6E880",
           "#FF97FF",
           "#FECB52"
          ],
          "font": {
           "color": "#2a3f5f"
          },
          "geo": {
           "bgcolor": "white",
           "lakecolor": "white",
           "landcolor": "#E5ECF6",
           "showlakes": true,
           "showland": true,
           "subunitcolor": "white"
          },
          "hoverlabel": {
           "align": "left"
          },
          "hovermode": "closest",
          "mapbox": {
           "style": "light"
          },
          "paper_bgcolor": "white",
          "plot_bgcolor": "#E5ECF6",
          "polar": {
           "angularaxis": {
            "gridcolor": "white",
            "linecolor": "white",
            "ticks": ""
           },
           "bgcolor": "#E5ECF6",
           "radialaxis": {
            "gridcolor": "white",
            "linecolor": "white",
            "ticks": ""
           }
          },
          "scene": {
           "xaxis": {
            "backgroundcolor": "#E5ECF6",
            "gridcolor": "white",
            "gridwidth": 2,
            "linecolor": "white",
            "showbackground": true,
            "ticks": "",
            "zerolinecolor": "white"
           },
           "yaxis": {
            "backgroundcolor": "#E5ECF6",
            "gridcolor": "white",
            "gridwidth": 2,
            "linecolor": "white",
            "showbackground": true,
            "ticks": "",
            "zerolinecolor": "white"
           },
           "zaxis": {
            "backgroundcolor": "#E5ECF6",
            "gridcolor": "white",
            "gridwidth": 2,
            "linecolor": "white",
            "showbackground": true,
            "ticks": "",
            "zerolinecolor": "white"
           }
          },
          "shapedefaults": {
           "line": {
            "color": "#2a3f5f"
           }
          },
          "ternary": {
           "aaxis": {
            "gridcolor": "white",
            "linecolor": "white",
            "ticks": ""
           },
           "baxis": {
            "gridcolor": "white",
            "linecolor": "white",
            "ticks": ""
           },
           "bgcolor": "#E5ECF6",
           "caxis": {
            "gridcolor": "white",
            "linecolor": "white",
            "ticks": ""
           }
          },
          "title": {
           "x": 0.05
          },
          "xaxis": {
           "automargin": true,
           "gridcolor": "white",
           "linecolor": "white",
           "ticks": "",
           "title": {
            "standoff": 15
           },
           "zerolinecolor": "white",
           "zerolinewidth": 2
          },
          "yaxis": {
           "automargin": true,
           "gridcolor": "white",
           "linecolor": "white",
           "ticks": "",
           "title": {
            "standoff": 15
           },
           "zerolinecolor": "white",
           "zerolinewidth": 2
          }
         }
        },
        "title": {
         "font": {
          "color": "#4D5663"
         }
        },
        "xaxis": {
         "gridcolor": "#E1E5ED",
         "showgrid": true,
         "tickfont": {
          "color": "#4D5663"
         },
         "title": {
          "font": {
           "color": "#4D5663"
          },
          "text": ""
         },
         "zerolinecolor": "#E1E5ED"
        },
        "yaxis": {
         "gridcolor": "#E1E5ED",
         "showgrid": true,
         "tickfont": {
          "color": "#4D5663"
         },
         "title": {
          "font": {
           "color": "#4D5663"
          },
          "text": ""
         },
         "zerolinecolor": "#E1E5ED"
        }
       }
      },
      "text/html": [
       "<div>                            <div id=\"39ca5a0c-823f-4204-b620-a49c7a825a52\" class=\"plotly-graph-div\" style=\"height:525px; width:100%;\"></div>            <script type=\"text/javascript\">                require([\"plotly\"], function(Plotly) {                    window.PLOTLYENV=window.PLOTLYENV || {};\n",
       "                    window.PLOTLYENV.BASE_URL='https://plot.ly';                                    if (document.getElementById(\"39ca5a0c-823f-4204-b620-a49c7a825a52\")) {                    Plotly.newPlot(                        \"39ca5a0c-823f-4204-b620-a49c7a825a52\",                        [{\"marker\":{\"color\":\"rgba(255, 153, 51, 0.6)\",\"line\":{\"color\":\"rgba(255, 153, 51, 1.0)\",\"width\":1}},\"name\":\"None\",\"orientation\":\"v\",\"text\":\"\",\"type\":\"bar\",\"x\":[\"A\",\"B\",\"C\",\"D\"],\"y\":[100,100,100,100]}],                        {\"legend\":{\"bgcolor\":\"#F5F6F9\",\"font\":{\"color\":\"#4D5663\"}},\"paper_bgcolor\":\"#F5F6F9\",\"plot_bgcolor\":\"#F5F6F9\",\"template\":{\"data\":{\"bar\":[{\"error_x\":{\"color\":\"#2a3f5f\"},\"error_y\":{\"color\":\"#2a3f5f\"},\"marker\":{\"line\":{\"color\":\"#E5ECF6\",\"width\":0.5},\"pattern\":{\"fillmode\":\"overlay\",\"size\":10,\"solidity\":0.2}},\"type\":\"bar\"}],\"barpolar\":[{\"marker\":{\"line\":{\"color\":\"#E5ECF6\",\"width\":0.5},\"pattern\":{\"fillmode\":\"overlay\",\"size\":10,\"solidity\":0.2}},\"type\":\"barpolar\"}],\"carpet\":[{\"aaxis\":{\"endlinecolor\":\"#2a3f5f\",\"gridcolor\":\"white\",\"linecolor\":\"white\",\"minorgridcolor\":\"white\",\"startlinecolor\":\"#2a3f5f\"},\"baxis\":{\"endlinecolor\":\"#2a3f5f\",\"gridcolor\":\"white\",\"linecolor\":\"white\",\"minorgridcolor\":\"white\",\"startlinecolor\":\"#2a3f5f\"},\"type\":\"carpet\"}],\"choropleth\":[{\"colorbar\":{\"outlinewidth\":0,\"ticks\":\"\"},\"type\":\"choropleth\"}],\"contour\":[{\"colorbar\":{\"outlinewidth\":0,\"ticks\":\"\"},\"colorscale\":[[0.0,\"#0d0887\"],[0.1111111111111111,\"#46039f\"],[0.2222222222222222,\"#7201a8\"],[0.3333333333333333,\"#9c179e\"],[0.4444444444444444,\"#bd3786\"],[0.5555555555555556,\"#d8576b\"],[0.6666666666666666,\"#ed7953\"],[0.7777777777777778,\"#fb9f3a\"],[0.8888888888888888,\"#fdca26\"],[1.0,\"#f0f921\"]],\"type\":\"contour\"}],\"contourcarpet\":[{\"colorbar\":{\"outlinewidth\":0,\"ticks\":\"\"},\"type\":\"contourcarpet\"}],\"heatmap\":[{\"colorbar\":{\"outlinewidth\":0,\"ticks\":\"\"},\"colorscale\":[[0.0,\"#0d0887\"],[0.1111111111111111,\"#46039f\"],[0.2222222222222222,\"#7201a8\"],[0.3333333333333333,\"#9c179e\"],[0.4444444444444444,\"#bd3786\"],[0.5555555555555556,\"#d8576b\"],[0.6666666666666666,\"#ed7953\"],[0.7777777777777778,\"#fb9f3a\"],[0.8888888888888888,\"#fdca26\"],[1.0,\"#f0f921\"]],\"type\":\"heatmap\"}],\"heatmapgl\":[{\"colorbar\":{\"outlinewidth\":0,\"ticks\":\"\"},\"colorscale\":[[0.0,\"#0d0887\"],[0.1111111111111111,\"#46039f\"],[0.2222222222222222,\"#7201a8\"],[0.3333333333333333,\"#9c179e\"],[0.4444444444444444,\"#bd3786\"],[0.5555555555555556,\"#d8576b\"],[0.6666666666666666,\"#ed7953\"],[0.7777777777777778,\"#fb9f3a\"],[0.8888888888888888,\"#fdca26\"],[1.0,\"#f0f921\"]],\"type\":\"heatmapgl\"}],\"histogram\":[{\"marker\":{\"pattern\":{\"fillmode\":\"overlay\",\"size\":10,\"solidity\":0.2}},\"type\":\"histogram\"}],\"histogram2d\":[{\"colorbar\":{\"outlinewidth\":0,\"ticks\":\"\"},\"colorscale\":[[0.0,\"#0d0887\"],[0.1111111111111111,\"#46039f\"],[0.2222222222222222,\"#7201a8\"],[0.3333333333333333,\"#9c179e\"],[0.4444444444444444,\"#bd3786\"],[0.5555555555555556,\"#d8576b\"],[0.6666666666666666,\"#ed7953\"],[0.7777777777777778,\"#fb9f3a\"],[0.8888888888888888,\"#fdca26\"],[1.0,\"#f0f921\"]],\"type\":\"histogram2d\"}],\"histogram2dcontour\":[{\"colorbar\":{\"outlinewidth\":0,\"ticks\":\"\"},\"colorscale\":[[0.0,\"#0d0887\"],[0.1111111111111111,\"#46039f\"],[0.2222222222222222,\"#7201a8\"],[0.3333333333333333,\"#9c179e\"],[0.4444444444444444,\"#bd3786\"],[0.5555555555555556,\"#d8576b\"],[0.6666666666666666,\"#ed7953\"],[0.7777777777777778,\"#fb9f3a\"],[0.8888888888888888,\"#fdca26\"],[1.0,\"#f0f921\"]],\"type\":\"histogram2dcontour\"}],\"mesh3d\":[{\"colorbar\":{\"outlinewidth\":0,\"ticks\":\"\"},\"type\":\"mesh3d\"}],\"parcoords\":[{\"line\":{\"colorbar\":{\"outlinewidth\":0,\"ticks\":\"\"}},\"type\":\"parcoords\"}],\"pie\":[{\"automargin\":true,\"type\":\"pie\"}],\"scatter\":[{\"marker\":{\"colorbar\":{\"outlinewidth\":0,\"ticks\":\"\"}},\"type\":\"scatter\"}],\"scatter3d\":[{\"line\":{\"colorbar\":{\"outlinewidth\":0,\"ticks\":\"\"}},\"marker\":{\"colorbar\":{\"outlinewidth\":0,\"ticks\":\"\"}},\"type\":\"scatter3d\"}],\"scattercarpet\":[{\"marker\":{\"colorbar\":{\"outlinewidth\":0,\"ticks\":\"\"}},\"type\":\"scattercarpet\"}],\"scattergeo\":[{\"marker\":{\"colorbar\":{\"outlinewidth\":0,\"ticks\":\"\"}},\"type\":\"scattergeo\"}],\"scattergl\":[{\"marker\":{\"colorbar\":{\"outlinewidth\":0,\"ticks\":\"\"}},\"type\":\"scattergl\"}],\"scattermapbox\":[{\"marker\":{\"colorbar\":{\"outlinewidth\":0,\"ticks\":\"\"}},\"type\":\"scattermapbox\"}],\"scatterpolar\":[{\"marker\":{\"colorbar\":{\"outlinewidth\":0,\"ticks\":\"\"}},\"type\":\"scatterpolar\"}],\"scatterpolargl\":[{\"marker\":{\"colorbar\":{\"outlinewidth\":0,\"ticks\":\"\"}},\"type\":\"scatterpolargl\"}],\"scatterternary\":[{\"marker\":{\"colorbar\":{\"outlinewidth\":0,\"ticks\":\"\"}},\"type\":\"scatterternary\"}],\"surface\":[{\"colorbar\":{\"outlinewidth\":0,\"ticks\":\"\"},\"colorscale\":[[0.0,\"#0d0887\"],[0.1111111111111111,\"#46039f\"],[0.2222222222222222,\"#7201a8\"],[0.3333333333333333,\"#9c179e\"],[0.4444444444444444,\"#bd3786\"],[0.5555555555555556,\"#d8576b\"],[0.6666666666666666,\"#ed7953\"],[0.7777777777777778,\"#fb9f3a\"],[0.8888888888888888,\"#fdca26\"],[1.0,\"#f0f921\"]],\"type\":\"surface\"}],\"table\":[{\"cells\":{\"fill\":{\"color\":\"#EBF0F8\"},\"line\":{\"color\":\"white\"}},\"header\":{\"fill\":{\"color\":\"#C8D4E3\"},\"line\":{\"color\":\"white\"}},\"type\":\"table\"}]},\"layout\":{\"annotationdefaults\":{\"arrowcolor\":\"#2a3f5f\",\"arrowhead\":0,\"arrowwidth\":1},\"autotypenumbers\":\"strict\",\"coloraxis\":{\"colorbar\":{\"outlinewidth\":0,\"ticks\":\"\"}},\"colorscale\":{\"diverging\":[[0,\"#8e0152\"],[0.1,\"#c51b7d\"],[0.2,\"#de77ae\"],[0.3,\"#f1b6da\"],[0.4,\"#fde0ef\"],[0.5,\"#f7f7f7\"],[0.6,\"#e6f5d0\"],[0.7,\"#b8e186\"],[0.8,\"#7fbc41\"],[0.9,\"#4d9221\"],[1,\"#276419\"]],\"sequential\":[[0.0,\"#0d0887\"],[0.1111111111111111,\"#46039f\"],[0.2222222222222222,\"#7201a8\"],[0.3333333333333333,\"#9c179e\"],[0.4444444444444444,\"#bd3786\"],[0.5555555555555556,\"#d8576b\"],[0.6666666666666666,\"#ed7953\"],[0.7777777777777778,\"#fb9f3a\"],[0.8888888888888888,\"#fdca26\"],[1.0,\"#f0f921\"]],\"sequentialminus\":[[0.0,\"#0d0887\"],[0.1111111111111111,\"#46039f\"],[0.2222222222222222,\"#7201a8\"],[0.3333333333333333,\"#9c179e\"],[0.4444444444444444,\"#bd3786\"],[0.5555555555555556,\"#d8576b\"],[0.6666666666666666,\"#ed7953\"],[0.7777777777777778,\"#fb9f3a\"],[0.8888888888888888,\"#fdca26\"],[1.0,\"#f0f921\"]]},\"colorway\":[\"#636efa\",\"#EF553B\",\"#00cc96\",\"#ab63fa\",\"#FFA15A\",\"#19d3f3\",\"#FF6692\",\"#B6E880\",\"#FF97FF\",\"#FECB52\"],\"font\":{\"color\":\"#2a3f5f\"},\"geo\":{\"bgcolor\":\"white\",\"lakecolor\":\"white\",\"landcolor\":\"#E5ECF6\",\"showlakes\":true,\"showland\":true,\"subunitcolor\":\"white\"},\"hoverlabel\":{\"align\":\"left\"},\"hovermode\":\"closest\",\"mapbox\":{\"style\":\"light\"},\"paper_bgcolor\":\"white\",\"plot_bgcolor\":\"#E5ECF6\",\"polar\":{\"angularaxis\":{\"gridcolor\":\"white\",\"linecolor\":\"white\",\"ticks\":\"\"},\"bgcolor\":\"#E5ECF6\",\"radialaxis\":{\"gridcolor\":\"white\",\"linecolor\":\"white\",\"ticks\":\"\"}},\"scene\":{\"xaxis\":{\"backgroundcolor\":\"#E5ECF6\",\"gridcolor\":\"white\",\"gridwidth\":2,\"linecolor\":\"white\",\"showbackground\":true,\"ticks\":\"\",\"zerolinecolor\":\"white\"},\"yaxis\":{\"backgroundcolor\":\"#E5ECF6\",\"gridcolor\":\"white\",\"gridwidth\":2,\"linecolor\":\"white\",\"showbackground\":true,\"ticks\":\"\",\"zerolinecolor\":\"white\"},\"zaxis\":{\"backgroundcolor\":\"#E5ECF6\",\"gridcolor\":\"white\",\"gridwidth\":2,\"linecolor\":\"white\",\"showbackground\":true,\"ticks\":\"\",\"zerolinecolor\":\"white\"}},\"shapedefaults\":{\"line\":{\"color\":\"#2a3f5f\"}},\"ternary\":{\"aaxis\":{\"gridcolor\":\"white\",\"linecolor\":\"white\",\"ticks\":\"\"},\"baxis\":{\"gridcolor\":\"white\",\"linecolor\":\"white\",\"ticks\":\"\"},\"bgcolor\":\"#E5ECF6\",\"caxis\":{\"gridcolor\":\"white\",\"linecolor\":\"white\",\"ticks\":\"\"}},\"title\":{\"x\":0.05},\"xaxis\":{\"automargin\":true,\"gridcolor\":\"white\",\"linecolor\":\"white\",\"ticks\":\"\",\"title\":{\"standoff\":15},\"zerolinecolor\":\"white\",\"zerolinewidth\":2},\"yaxis\":{\"automargin\":true,\"gridcolor\":\"white\",\"linecolor\":\"white\",\"ticks\":\"\",\"title\":{\"standoff\":15},\"zerolinecolor\":\"white\",\"zerolinewidth\":2}}},\"title\":{\"font\":{\"color\":\"#4D5663\"}},\"xaxis\":{\"gridcolor\":\"#E1E5ED\",\"showgrid\":true,\"tickfont\":{\"color\":\"#4D5663\"},\"title\":{\"font\":{\"color\":\"#4D5663\"},\"text\":\"\"},\"zerolinecolor\":\"#E1E5ED\"},\"yaxis\":{\"gridcolor\":\"#E1E5ED\",\"showgrid\":true,\"tickfont\":{\"color\":\"#4D5663\"},\"title\":{\"font\":{\"color\":\"#4D5663\"},\"text\":\"\"},\"zerolinecolor\":\"#E1E5ED\"}},                        {\"showLink\": true, \"linkText\": \"Export to plot.ly\", \"plotlyServerURL\": \"https://plot.ly\", \"responsive\": true}                    ).then(function(){\n",
       "                            \n",
       "var gd = document.getElementById('39ca5a0c-823f-4204-b620-a49c7a825a52');\n",
       "var x = new MutationObserver(function (mutations, observer) {{\n",
       "        var display = window.getComputedStyle(gd).display;\n",
       "        if (!display || display === 'none') {{\n",
       "            console.log([gd, 'removed!']);\n",
       "            Plotly.purge(gd);\n",
       "            observer.disconnect();\n",
       "        }}\n",
       "}});\n",
       "\n",
       "// Listen for the removal of the full notebook cells\n",
       "var notebookContainer = gd.closest('#notebook-container');\n",
       "if (notebookContainer) {{\n",
       "    x.observe(notebookContainer, {childList: true});\n",
       "}}\n",
       "\n",
       "// Listen for the clearing of the current output cell\n",
       "var outputEl = gd.closest('.output');\n",
       "if (outputEl) {{\n",
       "    x.observe(outputEl, {childList: true});\n",
       "}}\n",
       "\n",
       "                        })                };                });            </script>        </div>"
      ]
     },
     "metadata": {},
     "output_type": "display_data"
    }
   ],
   "source": [
    "df.count().iplot(kind='bar')"
   ]
  },
  {
   "cell_type": "markdown",
   "metadata": {},
   "source": [
    "## Boxplots"
   ]
  },
  {
   "cell_type": "code",
   "execution_count": 13,
   "metadata": {},
   "outputs": [
    {
     "data": {
      "application/vnd.plotly.v1+json": {
       "config": {
        "linkText": "Export to plot.ly",
        "plotlyServerURL": "https://plot.ly",
        "showLink": true
       },
       "data": [
        {
         "boxpoints": false,
         "line": {
          "width": 1.3
         },
         "marker": {
          "color": "rgba(255, 153, 51, 1.0)"
         },
         "name": "A",
         "orientation": "v",
         "type": "box",
         "y": [
          -1.1260490465847872,
          -0.5310285731898228,
          -0.21205040034769118,
          -0.651475455922811,
          0.267930026293517,
          0.5538298175018117,
          -1.45140732479843,
          -1.0621115937309076,
          -0.5192044609949963,
          0.0980486221556033,
          0.32453375604965784,
          -2.276442079629385,
          -0.8192861375427485,
          1.1455113120411295,
          -2.207736390860511,
          -1.3376249514712373,
          0.03209754247353182,
          0.7583928302046903,
          -1.6170134854635898,
          -2.237874750757624,
          -0.6060517589533632,
          -1.6168160408809342,
          0.5359718867610626,
          -0.19476818097990067,
          1.549886790936583,
          0.9060796159426613,
          1.5947215402086397,
          0.8167721240125655,
          0.9537814344129991,
          0.2853493711489899,
          -0.17105691657817657,
          -0.28014666021393175,
          0.2557815908844224,
          0.8528107746534993,
          0.042477092359645086,
          0.11889724485107526,
          0.5568967127519864,
          -0.18951757678675865,
          -1.692795876607851,
          0.5195944789579467,
          -0.2994710600365143,
          -0.6831317390937071,
          -0.19348745174529508,
          1.0395064395104623,
          0.07492067978804913,
          0.09040894717004969,
          -0.11050134142856363,
          0.688851726129721,
          -3.198080407046479,
          1.2676330352932919,
          0.007743872630742216,
          -1.2910895322695102,
          -1.5602154675409974,
          1.4218179339697663,
          0.4183122847397243,
          -0.9329642604154853,
          0.2775100095479445,
          0.033549272190992546,
          0.2415047057353741,
          0.9133160538203141,
          0.4452762554853484,
          -1.1213396871887524,
          -0.5802689307776701,
          0.577142291912203,
          -0.6714867331416482,
          -0.5113480966342379,
          -0.19394406731004424,
          0.4723599526754415,
          -0.33739551772905935,
          -0.019749545009762132,
          1.6811825369057964,
          0.9582167988724097,
          0.21399135911465308,
          0.2142097194066079,
          0.02866790533178008,
          0.20523734472281827,
          -2.373096948655841,
          -1.2974103299991655,
          0.7243000026849691,
          -1.179732860400752,
          -0.9877065634216783,
          1.858169866287358,
          -0.13616633750761734,
          0.9561184888192411,
          0.570540974318356,
          0.1538565839250256,
          -2.069442309033039,
          0.3386990661074552,
          0.229036109270142,
          -0.5231292314138397,
          -0.6386646920120588,
          1.839979440082232,
          -1.5335772908517662,
          0.3559183575671821,
          -1.8599750710237561,
          -0.22501292767062592,
          0.15865167315484616,
          -1.098219379974984,
          -0.5615283437589845,
          -0.7288531852791184
         ]
        },
        {
         "boxpoints": false,
         "line": {
          "width": 1.3
         },
         "marker": {
          "color": "rgba(55, 128, 191, 1.0)"
         },
         "name": "B",
         "orientation": "v",
         "type": "box",
         "y": [
          3.035776571079455,
          0.2569500815910443,
          -2.1685043694431307,
          0.26902794195372615,
          1.7814630439071295,
          1.5693339927007197,
          -0.06211670129077228,
          -1.3706596588394095,
          -0.37883746288534165,
          -0.6196555944091635,
          0.5419709598803021,
          -0.882948935629644,
          -0.6004863123254223,
          1.0208840340466567,
          -0.21762155615722495,
          0.44023110912919,
          -1.0336076677809352,
          1.6033795842389853,
          -2.5310768185962225,
          -0.1889972596314623,
          0.7082630262291519,
          0.6671320947598456,
          -0.7834922916165732,
          0.47257187362393505,
          0.12629260151251537,
          2.0515434422449617,
          -0.2936811721928686,
          -0.2516523184280506,
          -1.5747986439720867,
          1.5737893099513762,
          -0.48788785833745874,
          0.8666151639960874,
          0.6629479112242548,
          2.335262202035777,
          0.9301235315825008,
          0.7210757391867806,
          -0.28270307894091573,
          0.6180102172480808,
          -0.68067795910875,
          -0.6615813868992915,
          1.9007085417861616,
          -1.1132438109324958,
          -0.6349033891645982,
          0.19741141743855162,
          1.1602881974005501,
          -0.004921352813687318,
          -1.383225820147114,
          0.22683021489288765,
          -0.0012375954352731027,
          -1.2558220947801475,
          -1.5522403593076988,
          0.004089381987935106,
          1.640944226966207,
          -0.3535758434099873,
          1.024879646181359,
          -1.6239541156805803,
          0.040284041575874806,
          0.896827065486756,
          -0.46794239292736056,
          1.505428664458157,
          -1.3626473839376783,
          -1.005643110364832,
          0.3925216946506399,
          0.7738640376750079,
          1.5554473261236892,
          0.35444125136577836,
          1.6205066874880212,
          -0.5538513815676245,
          0.23831067673412812,
          -0.9010306825341439,
          1.3231420079992444,
          -0.14899579209345915,
          -0.8709694619155264,
          1.065094470898646,
          -1.348559047441447,
          0.5804185661168384,
          -0.42879331392602926,
          -0.6959637860253969,
          0.1048024218225815,
          0.13732347532346822,
          -0.2308890616949896,
          -1.2960685158220355,
          -0.3901037235712339,
          -0.155170398255274,
          -0.03287464454016071,
          -0.9472821709740642,
          -1.115841814411383,
          0.2177548674986909,
          1.0364383402990647,
          -0.17403780646611958,
          0.6083659391024403,
          0.6209585041653041,
          1.4670744821663868,
          -0.040890570234690546,
          2.040518372717835,
          -1.1876242746503243,
          -0.5022878658736447,
          -0.008530985057549921,
          0.7140012167410947,
          -0.70522201636607
         ]
        },
        {
         "boxpoints": false,
         "line": {
          "width": 1.3
         },
         "marker": {
          "color": "rgba(50, 171, 96, 1.0)"
         },
         "name": "C",
         "orientation": "v",
         "type": "box",
         "y": [
          -0.1253860104527143,
          -0.6118562373674805,
          -1.4365315057799206,
          -1.5296847535644056,
          1.0256906308377485,
          0.6546118917023933,
          -0.13694753909926177,
          0.47598961164871434,
          -0.4576220230309786,
          0.06914633479973034,
          0.44810566916611655,
          -1.3837828401399817,
          0.010352973018966774,
          -0.8250952709145534,
          0.6296963916173615,
          -0.42542127945858016,
          -0.6109410917348862,
          1.5743997390762634,
          2.1650619536662425,
          0.4578481973510953,
          -1.3046859016496504,
          -0.6474192597958527,
          -0.5887792125587482,
          1.2372553132863295,
          0.5215256206424765,
          1.0778733033674006,
          0.24441796546793787,
          1.2187759041274653,
          -0.10520699565739441,
          -0.5411436570341177,
          1.807026322054968,
          0.7633433586197469,
          -2.399295918529262,
          -0.8834595773636499,
          -0.09472904104629841,
          0.665830292505531,
          -0.4784453927653169,
          0.5237315067583971,
          -0.8595351827346634,
          -0.5816333784342125,
          -0.005520267424294571,
          0.11968685309862401,
          1.547464924503836,
          0.931097017745766,
          0.04277673076958829,
          -0.8557337425644944,
          1.20390644380971,
          0.7393970602974663,
          -0.8155267288182692,
          -0.5727302642500403,
          -1.337531243150721,
          2.0062513237723847,
          0.40708921825969296,
          -0.2747449233413563,
          0.9248315885501568,
          -0.9582143496024274,
          -0.18835470298830612,
          1.8762131296481197,
          0.9788465194340025,
          -1.8904347019408239,
          -1.3154244098738923,
          1.1151539606281062,
          1.2145867414674558,
          -0.9895251424101672,
          -1.4976405461611064,
          1.8697319089492304,
          -0.11126928460453392,
          0.04418157193162171,
          0.08657501142700152,
          0.8192162901194413,
          0.6656855083085276,
          0.9425918701231876,
          -0.09226599907035703,
          -0.05171132501362498,
          0.07703892071541746,
          -1.5981000809629637,
          -1.3857194699267534,
          0.9044067708222258,
          0.9791847366337971,
          -2.387899775066808,
          -0.6985268151798351,
          -1.1646385215988269,
          -1.6920017739766893,
          1.1195560740729007,
          0.5819483889701914,
          -0.7875296317312973,
          -1.4536399667173046,
          0.3625389981145367,
          0.8192462223621986,
          0.3480980253165979,
          0.9573026292675428,
          0.6589609329947365,
          1.0417462537251394,
          0.5485073630677745,
          -0.46564000009788026,
          -0.20587088166368586,
          -0.22333531043306484,
          -2.1629899084497257,
          0.6114614149705555,
          -1.0393745543201531
         ]
        },
        {
         "boxpoints": false,
         "line": {
          "width": 1.3
         },
         "marker": {
          "color": "rgba(128, 0, 128, 1.0)"
         },
         "name": "D",
         "orientation": "v",
         "type": "box",
         "y": [
          -1.1318386857975136,
          -1.2336796535709564,
          0.03525125361427638,
          -0.17770978246418753,
          -0.13488631706988827,
          -0.9778506486785518,
          1.5488213103401454,
          -0.6513314112858827,
          0.7202141004894045,
          -0.49712149348633683,
          0.4187535481175902,
          1.5129740289160858,
          -0.9850844584084912,
          0.8346724779775067,
          0.9876152447810874,
          -0.7151566318079478,
          0.19715294423131863,
          -1.149711899654387,
          -1.8260228094658186,
          0.31511270433990085,
          0.3715193146340235,
          0.07617063659659407,
          -0.2857157746538433,
          -0.36019971221710395,
          1.2740565963984742,
          -0.5622184325773008,
          -0.8715327911194508,
          -0.0013278566908858926,
          0.08756355160027998,
          -0.4429992867734947,
          0.6332286046266608,
          -0.8848906377039588,
          -1.5417546450605601,
          -0.4991571158198983,
          0.5194854386692203,
          0.585023679381177,
          0.5793902440399953,
          0.8817410777836935,
          -0.15130419443026008,
          0.1714981792074862,
          1.0882341054612685,
          1.5264974595646432,
          0.5546523395577394,
          2.7236664503447705,
          1.0853701280807013,
          1.8158268809106832,
          1.9818387333418774,
          0.8771701572239711,
          0.7474329431281092,
          -0.7057099607094113,
          -0.06443465215486661,
          -0.6421970535449397,
          -0.6655056506583449,
          -2.0771711232517855,
          -0.8942085983852258,
          -1.0148838383628476,
          -0.43401721818703565,
          1.077602048535558,
          -1.509050258358291,
          0.5223739304869889,
          1.0399037991911402,
          0.120711507570677,
          -0.6027650191281058,
          -0.28535763125655894,
          -1.0681903010591363,
          -0.8627775615683652,
          0.25962821336567943,
          0.49340480098917194,
          -2.0105567188069466,
          -0.2226101526969597,
          1.0841281092321648,
          1.2861857800069918,
          -0.5468267000958672,
          0.1338879341515546,
          0.7432234934055685,
          -0.4708247040572283,
          0.8719487241758966,
          -0.28332359088435044,
          -0.13043541948700305,
          0.2328774571300257,
          0.7441801456643091,
          -1.3763123123518655,
          0.025195310462888896,
          -0.2932721585007492,
          0.07572285083924206,
          -1.459169663391599,
          1.0825742789864674,
          1.0815668594450643,
          -0.5258413358823715,
          -0.6630802819740259,
          -0.45578448200036625,
          1.0586789016948135,
          1.5509926448719724,
          -0.9234441436255499,
          -0.7013652558369653,
          -0.021886674090904473,
          0.8315375065555948,
          0.6408169232431311,
          1.3184798336770307,
          0.5962717155220236
         ]
        }
       ],
       "layout": {
        "legend": {
         "bgcolor": "#F5F6F9",
         "font": {
          "color": "#4D5663"
         }
        },
        "paper_bgcolor": "#F5F6F9",
        "plot_bgcolor": "#F5F6F9",
        "template": {
         "data": {
          "bar": [
           {
            "error_x": {
             "color": "#2a3f5f"
            },
            "error_y": {
             "color": "#2a3f5f"
            },
            "marker": {
             "line": {
              "color": "#E5ECF6",
              "width": 0.5
             },
             "pattern": {
              "fillmode": "overlay",
              "size": 10,
              "solidity": 0.2
             }
            },
            "type": "bar"
           }
          ],
          "barpolar": [
           {
            "marker": {
             "line": {
              "color": "#E5ECF6",
              "width": 0.5
             },
             "pattern": {
              "fillmode": "overlay",
              "size": 10,
              "solidity": 0.2
             }
            },
            "type": "barpolar"
           }
          ],
          "carpet": [
           {
            "aaxis": {
             "endlinecolor": "#2a3f5f",
             "gridcolor": "white",
             "linecolor": "white",
             "minorgridcolor": "white",
             "startlinecolor": "#2a3f5f"
            },
            "baxis": {
             "endlinecolor": "#2a3f5f",
             "gridcolor": "white",
             "linecolor": "white",
             "minorgridcolor": "white",
             "startlinecolor": "#2a3f5f"
            },
            "type": "carpet"
           }
          ],
          "choropleth": [
           {
            "colorbar": {
             "outlinewidth": 0,
             "ticks": ""
            },
            "type": "choropleth"
           }
          ],
          "contour": [
           {
            "colorbar": {
             "outlinewidth": 0,
             "ticks": ""
            },
            "colorscale": [
             [
              0,
              "#0d0887"
             ],
             [
              0.1111111111111111,
              "#46039f"
             ],
             [
              0.2222222222222222,
              "#7201a8"
             ],
             [
              0.3333333333333333,
              "#9c179e"
             ],
             [
              0.4444444444444444,
              "#bd3786"
             ],
             [
              0.5555555555555556,
              "#d8576b"
             ],
             [
              0.6666666666666666,
              "#ed7953"
             ],
             [
              0.7777777777777778,
              "#fb9f3a"
             ],
             [
              0.8888888888888888,
              "#fdca26"
             ],
             [
              1,
              "#f0f921"
             ]
            ],
            "type": "contour"
           }
          ],
          "contourcarpet": [
           {
            "colorbar": {
             "outlinewidth": 0,
             "ticks": ""
            },
            "type": "contourcarpet"
           }
          ],
          "heatmap": [
           {
            "colorbar": {
             "outlinewidth": 0,
             "ticks": ""
            },
            "colorscale": [
             [
              0,
              "#0d0887"
             ],
             [
              0.1111111111111111,
              "#46039f"
             ],
             [
              0.2222222222222222,
              "#7201a8"
             ],
             [
              0.3333333333333333,
              "#9c179e"
             ],
             [
              0.4444444444444444,
              "#bd3786"
             ],
             [
              0.5555555555555556,
              "#d8576b"
             ],
             [
              0.6666666666666666,
              "#ed7953"
             ],
             [
              0.7777777777777778,
              "#fb9f3a"
             ],
             [
              0.8888888888888888,
              "#fdca26"
             ],
             [
              1,
              "#f0f921"
             ]
            ],
            "type": "heatmap"
           }
          ],
          "heatmapgl": [
           {
            "colorbar": {
             "outlinewidth": 0,
             "ticks": ""
            },
            "colorscale": [
             [
              0,
              "#0d0887"
             ],
             [
              0.1111111111111111,
              "#46039f"
             ],
             [
              0.2222222222222222,
              "#7201a8"
             ],
             [
              0.3333333333333333,
              "#9c179e"
             ],
             [
              0.4444444444444444,
              "#bd3786"
             ],
             [
              0.5555555555555556,
              "#d8576b"
             ],
             [
              0.6666666666666666,
              "#ed7953"
             ],
             [
              0.7777777777777778,
              "#fb9f3a"
             ],
             [
              0.8888888888888888,
              "#fdca26"
             ],
             [
              1,
              "#f0f921"
             ]
            ],
            "type": "heatmapgl"
           }
          ],
          "histogram": [
           {
            "marker": {
             "pattern": {
              "fillmode": "overlay",
              "size": 10,
              "solidity": 0.2
             }
            },
            "type": "histogram"
           }
          ],
          "histogram2d": [
           {
            "colorbar": {
             "outlinewidth": 0,
             "ticks": ""
            },
            "colorscale": [
             [
              0,
              "#0d0887"
             ],
             [
              0.1111111111111111,
              "#46039f"
             ],
             [
              0.2222222222222222,
              "#7201a8"
             ],
             [
              0.3333333333333333,
              "#9c179e"
             ],
             [
              0.4444444444444444,
              "#bd3786"
             ],
             [
              0.5555555555555556,
              "#d8576b"
             ],
             [
              0.6666666666666666,
              "#ed7953"
             ],
             [
              0.7777777777777778,
              "#fb9f3a"
             ],
             [
              0.8888888888888888,
              "#fdca26"
             ],
             [
              1,
              "#f0f921"
             ]
            ],
            "type": "histogram2d"
           }
          ],
          "histogram2dcontour": [
           {
            "colorbar": {
             "outlinewidth": 0,
             "ticks": ""
            },
            "colorscale": [
             [
              0,
              "#0d0887"
             ],
             [
              0.1111111111111111,
              "#46039f"
             ],
             [
              0.2222222222222222,
              "#7201a8"
             ],
             [
              0.3333333333333333,
              "#9c179e"
             ],
             [
              0.4444444444444444,
              "#bd3786"
             ],
             [
              0.5555555555555556,
              "#d8576b"
             ],
             [
              0.6666666666666666,
              "#ed7953"
             ],
             [
              0.7777777777777778,
              "#fb9f3a"
             ],
             [
              0.8888888888888888,
              "#fdca26"
             ],
             [
              1,
              "#f0f921"
             ]
            ],
            "type": "histogram2dcontour"
           }
          ],
          "mesh3d": [
           {
            "colorbar": {
             "outlinewidth": 0,
             "ticks": ""
            },
            "type": "mesh3d"
           }
          ],
          "parcoords": [
           {
            "line": {
             "colorbar": {
              "outlinewidth": 0,
              "ticks": ""
             }
            },
            "type": "parcoords"
           }
          ],
          "pie": [
           {
            "automargin": true,
            "type": "pie"
           }
          ],
          "scatter": [
           {
            "marker": {
             "colorbar": {
              "outlinewidth": 0,
              "ticks": ""
             }
            },
            "type": "scatter"
           }
          ],
          "scatter3d": [
           {
            "line": {
             "colorbar": {
              "outlinewidth": 0,
              "ticks": ""
             }
            },
            "marker": {
             "colorbar": {
              "outlinewidth": 0,
              "ticks": ""
             }
            },
            "type": "scatter3d"
           }
          ],
          "scattercarpet": [
           {
            "marker": {
             "colorbar": {
              "outlinewidth": 0,
              "ticks": ""
             }
            },
            "type": "scattercarpet"
           }
          ],
          "scattergeo": [
           {
            "marker": {
             "colorbar": {
              "outlinewidth": 0,
              "ticks": ""
             }
            },
            "type": "scattergeo"
           }
          ],
          "scattergl": [
           {
            "marker": {
             "colorbar": {
              "outlinewidth": 0,
              "ticks": ""
             }
            },
            "type": "scattergl"
           }
          ],
          "scattermapbox": [
           {
            "marker": {
             "colorbar": {
              "outlinewidth": 0,
              "ticks": ""
             }
            },
            "type": "scattermapbox"
           }
          ],
          "scatterpolar": [
           {
            "marker": {
             "colorbar": {
              "outlinewidth": 0,
              "ticks": ""
             }
            },
            "type": "scatterpolar"
           }
          ],
          "scatterpolargl": [
           {
            "marker": {
             "colorbar": {
              "outlinewidth": 0,
              "ticks": ""
             }
            },
            "type": "scatterpolargl"
           }
          ],
          "scatterternary": [
           {
            "marker": {
             "colorbar": {
              "outlinewidth": 0,
              "ticks": ""
             }
            },
            "type": "scatterternary"
           }
          ],
          "surface": [
           {
            "colorbar": {
             "outlinewidth": 0,
             "ticks": ""
            },
            "colorscale": [
             [
              0,
              "#0d0887"
             ],
             [
              0.1111111111111111,
              "#46039f"
             ],
             [
              0.2222222222222222,
              "#7201a8"
             ],
             [
              0.3333333333333333,
              "#9c179e"
             ],
             [
              0.4444444444444444,
              "#bd3786"
             ],
             [
              0.5555555555555556,
              "#d8576b"
             ],
             [
              0.6666666666666666,
              "#ed7953"
             ],
             [
              0.7777777777777778,
              "#fb9f3a"
             ],
             [
              0.8888888888888888,
              "#fdca26"
             ],
             [
              1,
              "#f0f921"
             ]
            ],
            "type": "surface"
           }
          ],
          "table": [
           {
            "cells": {
             "fill": {
              "color": "#EBF0F8"
             },
             "line": {
              "color": "white"
             }
            },
            "header": {
             "fill": {
              "color": "#C8D4E3"
             },
             "line": {
              "color": "white"
             }
            },
            "type": "table"
           }
          ]
         },
         "layout": {
          "annotationdefaults": {
           "arrowcolor": "#2a3f5f",
           "arrowhead": 0,
           "arrowwidth": 1
          },
          "autotypenumbers": "strict",
          "coloraxis": {
           "colorbar": {
            "outlinewidth": 0,
            "ticks": ""
           }
          },
          "colorscale": {
           "diverging": [
            [
             0,
             "#8e0152"
            ],
            [
             0.1,
             "#c51b7d"
            ],
            [
             0.2,
             "#de77ae"
            ],
            [
             0.3,
             "#f1b6da"
            ],
            [
             0.4,
             "#fde0ef"
            ],
            [
             0.5,
             "#f7f7f7"
            ],
            [
             0.6,
             "#e6f5d0"
            ],
            [
             0.7,
             "#b8e186"
            ],
            [
             0.8,
             "#7fbc41"
            ],
            [
             0.9,
             "#4d9221"
            ],
            [
             1,
             "#276419"
            ]
           ],
           "sequential": [
            [
             0,
             "#0d0887"
            ],
            [
             0.1111111111111111,
             "#46039f"
            ],
            [
             0.2222222222222222,
             "#7201a8"
            ],
            [
             0.3333333333333333,
             "#9c179e"
            ],
            [
             0.4444444444444444,
             "#bd3786"
            ],
            [
             0.5555555555555556,
             "#d8576b"
            ],
            [
             0.6666666666666666,
             "#ed7953"
            ],
            [
             0.7777777777777778,
             "#fb9f3a"
            ],
            [
             0.8888888888888888,
             "#fdca26"
            ],
            [
             1,
             "#f0f921"
            ]
           ],
           "sequentialminus": [
            [
             0,
             "#0d0887"
            ],
            [
             0.1111111111111111,
             "#46039f"
            ],
            [
             0.2222222222222222,
             "#7201a8"
            ],
            [
             0.3333333333333333,
             "#9c179e"
            ],
            [
             0.4444444444444444,
             "#bd3786"
            ],
            [
             0.5555555555555556,
             "#d8576b"
            ],
            [
             0.6666666666666666,
             "#ed7953"
            ],
            [
             0.7777777777777778,
             "#fb9f3a"
            ],
            [
             0.8888888888888888,
             "#fdca26"
            ],
            [
             1,
             "#f0f921"
            ]
           ]
          },
          "colorway": [
           "#636efa",
           "#EF553B",
           "#00cc96",
           "#ab63fa",
           "#FFA15A",
           "#19d3f3",
           "#FF6692",
           "#B6E880",
           "#FF97FF",
           "#FECB52"
          ],
          "font": {
           "color": "#2a3f5f"
          },
          "geo": {
           "bgcolor": "white",
           "lakecolor": "white",
           "landcolor": "#E5ECF6",
           "showlakes": true,
           "showland": true,
           "subunitcolor": "white"
          },
          "hoverlabel": {
           "align": "left"
          },
          "hovermode": "closest",
          "mapbox": {
           "style": "light"
          },
          "paper_bgcolor": "white",
          "plot_bgcolor": "#E5ECF6",
          "polar": {
           "angularaxis": {
            "gridcolor": "white",
            "linecolor": "white",
            "ticks": ""
           },
           "bgcolor": "#E5ECF6",
           "radialaxis": {
            "gridcolor": "white",
            "linecolor": "white",
            "ticks": ""
           }
          },
          "scene": {
           "xaxis": {
            "backgroundcolor": "#E5ECF6",
            "gridcolor": "white",
            "gridwidth": 2,
            "linecolor": "white",
            "showbackground": true,
            "ticks": "",
            "zerolinecolor": "white"
           },
           "yaxis": {
            "backgroundcolor": "#E5ECF6",
            "gridcolor": "white",
            "gridwidth": 2,
            "linecolor": "white",
            "showbackground": true,
            "ticks": "",
            "zerolinecolor": "white"
           },
           "zaxis": {
            "backgroundcolor": "#E5ECF6",
            "gridcolor": "white",
            "gridwidth": 2,
            "linecolor": "white",
            "showbackground": true,
            "ticks": "",
            "zerolinecolor": "white"
           }
          },
          "shapedefaults": {
           "line": {
            "color": "#2a3f5f"
           }
          },
          "ternary": {
           "aaxis": {
            "gridcolor": "white",
            "linecolor": "white",
            "ticks": ""
           },
           "baxis": {
            "gridcolor": "white",
            "linecolor": "white",
            "ticks": ""
           },
           "bgcolor": "#E5ECF6",
           "caxis": {
            "gridcolor": "white",
            "linecolor": "white",
            "ticks": ""
           }
          },
          "title": {
           "x": 0.05
          },
          "xaxis": {
           "automargin": true,
           "gridcolor": "white",
           "linecolor": "white",
           "ticks": "",
           "title": {
            "standoff": 15
           },
           "zerolinecolor": "white",
           "zerolinewidth": 2
          },
          "yaxis": {
           "automargin": true,
           "gridcolor": "white",
           "linecolor": "white",
           "ticks": "",
           "title": {
            "standoff": 15
           },
           "zerolinecolor": "white",
           "zerolinewidth": 2
          }
         }
        },
        "title": {
         "font": {
          "color": "#4D5663"
         }
        },
        "xaxis": {
         "gridcolor": "#E1E5ED",
         "showgrid": true,
         "tickfont": {
          "color": "#4D5663"
         },
         "title": {
          "font": {
           "color": "#4D5663"
          },
          "text": ""
         },
         "zerolinecolor": "#E1E5ED"
        },
        "yaxis": {
         "gridcolor": "#E1E5ED",
         "showgrid": true,
         "tickfont": {
          "color": "#4D5663"
         },
         "title": {
          "font": {
           "color": "#4D5663"
          },
          "text": ""
         },
         "zerolinecolor": "#E1E5ED"
        }
       }
      },
      "text/html": [
       "<div>                            <div id=\"305eb7c8-2949-4d64-aed1-89cb616d9aad\" class=\"plotly-graph-div\" style=\"height:525px; width:100%;\"></div>            <script type=\"text/javascript\">                require([\"plotly\"], function(Plotly) {                    window.PLOTLYENV=window.PLOTLYENV || {};\n",
       "                    window.PLOTLYENV.BASE_URL='https://plot.ly';                                    if (document.getElementById(\"305eb7c8-2949-4d64-aed1-89cb616d9aad\")) {                    Plotly.newPlot(                        \"305eb7c8-2949-4d64-aed1-89cb616d9aad\",                        [{\"boxpoints\":false,\"line\":{\"width\":1.3},\"marker\":{\"color\":\"rgba(255, 153, 51, 1.0)\"},\"name\":\"A\",\"orientation\":\"v\",\"type\":\"box\",\"y\":[-1.1260490465847872,-0.5310285731898228,-0.21205040034769118,-0.651475455922811,0.267930026293517,0.5538298175018117,-1.45140732479843,-1.0621115937309076,-0.5192044609949963,0.0980486221556033,0.32453375604965784,-2.276442079629385,-0.8192861375427485,1.1455113120411295,-2.207736390860511,-1.3376249514712373,0.03209754247353182,0.7583928302046903,-1.6170134854635898,-2.237874750757624,-0.6060517589533632,-1.6168160408809342,0.5359718867610626,-0.19476818097990067,1.549886790936583,0.9060796159426613,1.5947215402086397,0.8167721240125655,0.9537814344129991,0.2853493711489899,-0.17105691657817657,-0.28014666021393175,0.2557815908844224,0.8528107746534993,0.042477092359645086,0.11889724485107526,0.5568967127519864,-0.18951757678675865,-1.692795876607851,0.5195944789579467,-0.2994710600365143,-0.6831317390937071,-0.19348745174529508,1.0395064395104623,0.07492067978804913,0.09040894717004969,-0.11050134142856363,0.688851726129721,-3.198080407046479,1.2676330352932919,0.007743872630742216,-1.2910895322695102,-1.5602154675409974,1.4218179339697663,0.4183122847397243,-0.9329642604154853,0.2775100095479445,0.033549272190992546,0.2415047057353741,0.9133160538203141,0.4452762554853484,-1.1213396871887524,-0.5802689307776701,0.577142291912203,-0.6714867331416482,-0.5113480966342379,-0.19394406731004424,0.4723599526754415,-0.33739551772905935,-0.019749545009762132,1.6811825369057964,0.9582167988724097,0.21399135911465308,0.2142097194066079,0.02866790533178008,0.20523734472281827,-2.373096948655841,-1.2974103299991655,0.7243000026849691,-1.179732860400752,-0.9877065634216783,1.858169866287358,-0.13616633750761734,0.9561184888192411,0.570540974318356,0.1538565839250256,-2.069442309033039,0.3386990661074552,0.229036109270142,-0.5231292314138397,-0.6386646920120588,1.839979440082232,-1.5335772908517662,0.3559183575671821,-1.8599750710237561,-0.22501292767062592,0.15865167315484616,-1.098219379974984,-0.5615283437589845,-0.7288531852791184]},{\"boxpoints\":false,\"line\":{\"width\":1.3},\"marker\":{\"color\":\"rgba(55, 128, 191, 1.0)\"},\"name\":\"B\",\"orientation\":\"v\",\"type\":\"box\",\"y\":[3.035776571079455,0.2569500815910443,-2.1685043694431307,0.26902794195372615,1.7814630439071295,1.5693339927007197,-0.06211670129077228,-1.3706596588394095,-0.37883746288534165,-0.6196555944091635,0.5419709598803021,-0.882948935629644,-0.6004863123254223,1.0208840340466567,-0.21762155615722495,0.44023110912919,-1.0336076677809352,1.6033795842389853,-2.5310768185962225,-0.1889972596314623,0.7082630262291519,0.6671320947598456,-0.7834922916165732,0.47257187362393505,0.12629260151251537,2.0515434422449617,-0.2936811721928686,-0.2516523184280506,-1.5747986439720867,1.5737893099513762,-0.48788785833745874,0.8666151639960874,0.6629479112242548,2.335262202035777,0.9301235315825008,0.7210757391867806,-0.28270307894091573,0.6180102172480808,-0.68067795910875,-0.6615813868992915,1.9007085417861616,-1.1132438109324958,-0.6349033891645982,0.19741141743855162,1.1602881974005501,-0.004921352813687318,-1.383225820147114,0.22683021489288765,-0.0012375954352731027,-1.2558220947801475,-1.5522403593076988,0.004089381987935106,1.640944226966207,-0.3535758434099873,1.024879646181359,-1.6239541156805803,0.040284041575874806,0.896827065486756,-0.46794239292736056,1.505428664458157,-1.3626473839376783,-1.005643110364832,0.3925216946506399,0.7738640376750079,1.5554473261236892,0.35444125136577836,1.6205066874880212,-0.5538513815676245,0.23831067673412812,-0.9010306825341439,1.3231420079992444,-0.14899579209345915,-0.8709694619155264,1.065094470898646,-1.348559047441447,0.5804185661168384,-0.42879331392602926,-0.6959637860253969,0.1048024218225815,0.13732347532346822,-0.2308890616949896,-1.2960685158220355,-0.3901037235712339,-0.155170398255274,-0.03287464454016071,-0.9472821709740642,-1.115841814411383,0.2177548674986909,1.0364383402990647,-0.17403780646611958,0.6083659391024403,0.6209585041653041,1.4670744821663868,-0.040890570234690546,2.040518372717835,-1.1876242746503243,-0.5022878658736447,-0.008530985057549921,0.7140012167410947,-0.70522201636607]},{\"boxpoints\":false,\"line\":{\"width\":1.3},\"marker\":{\"color\":\"rgba(50, 171, 96, 1.0)\"},\"name\":\"C\",\"orientation\":\"v\",\"type\":\"box\",\"y\":[-0.1253860104527143,-0.6118562373674805,-1.4365315057799206,-1.5296847535644056,1.0256906308377485,0.6546118917023933,-0.13694753909926177,0.47598961164871434,-0.4576220230309786,0.06914633479973034,0.44810566916611655,-1.3837828401399817,0.010352973018966774,-0.8250952709145534,0.6296963916173615,-0.42542127945858016,-0.6109410917348862,1.5743997390762634,2.1650619536662425,0.4578481973510953,-1.3046859016496504,-0.6474192597958527,-0.5887792125587482,1.2372553132863295,0.5215256206424765,1.0778733033674006,0.24441796546793787,1.2187759041274653,-0.10520699565739441,-0.5411436570341177,1.807026322054968,0.7633433586197469,-2.399295918529262,-0.8834595773636499,-0.09472904104629841,0.665830292505531,-0.4784453927653169,0.5237315067583971,-0.8595351827346634,-0.5816333784342125,-0.005520267424294571,0.11968685309862401,1.547464924503836,0.931097017745766,0.04277673076958829,-0.8557337425644944,1.20390644380971,0.7393970602974663,-0.8155267288182692,-0.5727302642500403,-1.337531243150721,2.0062513237723847,0.40708921825969296,-0.2747449233413563,0.9248315885501568,-0.9582143496024274,-0.18835470298830612,1.8762131296481197,0.9788465194340025,-1.8904347019408239,-1.3154244098738923,1.1151539606281062,1.2145867414674558,-0.9895251424101672,-1.4976405461611064,1.8697319089492304,-0.11126928460453392,0.04418157193162171,0.08657501142700152,0.8192162901194413,0.6656855083085276,0.9425918701231876,-0.09226599907035703,-0.05171132501362498,0.07703892071541746,-1.5981000809629637,-1.3857194699267534,0.9044067708222258,0.9791847366337971,-2.387899775066808,-0.6985268151798351,-1.1646385215988269,-1.6920017739766893,1.1195560740729007,0.5819483889701914,-0.7875296317312973,-1.4536399667173046,0.3625389981145367,0.8192462223621986,0.3480980253165979,0.9573026292675428,0.6589609329947365,1.0417462537251394,0.5485073630677745,-0.46564000009788026,-0.20587088166368586,-0.22333531043306484,-2.1629899084497257,0.6114614149705555,-1.0393745543201531]},{\"boxpoints\":false,\"line\":{\"width\":1.3},\"marker\":{\"color\":\"rgba(128, 0, 128, 1.0)\"},\"name\":\"D\",\"orientation\":\"v\",\"type\":\"box\",\"y\":[-1.1318386857975136,-1.2336796535709564,0.03525125361427638,-0.17770978246418753,-0.13488631706988827,-0.9778506486785518,1.5488213103401454,-0.6513314112858827,0.7202141004894045,-0.49712149348633683,0.4187535481175902,1.5129740289160858,-0.9850844584084912,0.8346724779775067,0.9876152447810874,-0.7151566318079478,0.19715294423131863,-1.149711899654387,-1.8260228094658186,0.31511270433990085,0.3715193146340235,0.07617063659659407,-0.2857157746538433,-0.36019971221710395,1.2740565963984742,-0.5622184325773008,-0.8715327911194508,-0.0013278566908858926,0.08756355160027998,-0.4429992867734947,0.6332286046266608,-0.8848906377039588,-1.5417546450605601,-0.4991571158198983,0.5194854386692203,0.585023679381177,0.5793902440399953,0.8817410777836935,-0.15130419443026008,0.1714981792074862,1.0882341054612685,1.5264974595646432,0.5546523395577394,2.7236664503447705,1.0853701280807013,1.8158268809106832,1.9818387333418774,0.8771701572239711,0.7474329431281092,-0.7057099607094113,-0.06443465215486661,-0.6421970535449397,-0.6655056506583449,-2.0771711232517855,-0.8942085983852258,-1.0148838383628476,-0.43401721818703565,1.077602048535558,-1.509050258358291,0.5223739304869889,1.0399037991911402,0.120711507570677,-0.6027650191281058,-0.28535763125655894,-1.0681903010591363,-0.8627775615683652,0.25962821336567943,0.49340480098917194,-2.0105567188069466,-0.2226101526969597,1.0841281092321648,1.2861857800069918,-0.5468267000958672,0.1338879341515546,0.7432234934055685,-0.4708247040572283,0.8719487241758966,-0.28332359088435044,-0.13043541948700305,0.2328774571300257,0.7441801456643091,-1.3763123123518655,0.025195310462888896,-0.2932721585007492,0.07572285083924206,-1.459169663391599,1.0825742789864674,1.0815668594450643,-0.5258413358823715,-0.6630802819740259,-0.45578448200036625,1.0586789016948135,1.5509926448719724,-0.9234441436255499,-0.7013652558369653,-0.021886674090904473,0.8315375065555948,0.6408169232431311,1.3184798336770307,0.5962717155220236]}],                        {\"legend\":{\"bgcolor\":\"#F5F6F9\",\"font\":{\"color\":\"#4D5663\"}},\"paper_bgcolor\":\"#F5F6F9\",\"plot_bgcolor\":\"#F5F6F9\",\"template\":{\"data\":{\"bar\":[{\"error_x\":{\"color\":\"#2a3f5f\"},\"error_y\":{\"color\":\"#2a3f5f\"},\"marker\":{\"line\":{\"color\":\"#E5ECF6\",\"width\":0.5},\"pattern\":{\"fillmode\":\"overlay\",\"size\":10,\"solidity\":0.2}},\"type\":\"bar\"}],\"barpolar\":[{\"marker\":{\"line\":{\"color\":\"#E5ECF6\",\"width\":0.5},\"pattern\":{\"fillmode\":\"overlay\",\"size\":10,\"solidity\":0.2}},\"type\":\"barpolar\"}],\"carpet\":[{\"aaxis\":{\"endlinecolor\":\"#2a3f5f\",\"gridcolor\":\"white\",\"linecolor\":\"white\",\"minorgridcolor\":\"white\",\"startlinecolor\":\"#2a3f5f\"},\"baxis\":{\"endlinecolor\":\"#2a3f5f\",\"gridcolor\":\"white\",\"linecolor\":\"white\",\"minorgridcolor\":\"white\",\"startlinecolor\":\"#2a3f5f\"},\"type\":\"carpet\"}],\"choropleth\":[{\"colorbar\":{\"outlinewidth\":0,\"ticks\":\"\"},\"type\":\"choropleth\"}],\"contour\":[{\"colorbar\":{\"outlinewidth\":0,\"ticks\":\"\"},\"colorscale\":[[0.0,\"#0d0887\"],[0.1111111111111111,\"#46039f\"],[0.2222222222222222,\"#7201a8\"],[0.3333333333333333,\"#9c179e\"],[0.4444444444444444,\"#bd3786\"],[0.5555555555555556,\"#d8576b\"],[0.6666666666666666,\"#ed7953\"],[0.7777777777777778,\"#fb9f3a\"],[0.8888888888888888,\"#fdca26\"],[1.0,\"#f0f921\"]],\"type\":\"contour\"}],\"contourcarpet\":[{\"colorbar\":{\"outlinewidth\":0,\"ticks\":\"\"},\"type\":\"contourcarpet\"}],\"heatmap\":[{\"colorbar\":{\"outlinewidth\":0,\"ticks\":\"\"},\"colorscale\":[[0.0,\"#0d0887\"],[0.1111111111111111,\"#46039f\"],[0.2222222222222222,\"#7201a8\"],[0.3333333333333333,\"#9c179e\"],[0.4444444444444444,\"#bd3786\"],[0.5555555555555556,\"#d8576b\"],[0.6666666666666666,\"#ed7953\"],[0.7777777777777778,\"#fb9f3a\"],[0.8888888888888888,\"#fdca26\"],[1.0,\"#f0f921\"]],\"type\":\"heatmap\"}],\"heatmapgl\":[{\"colorbar\":{\"outlinewidth\":0,\"ticks\":\"\"},\"colorscale\":[[0.0,\"#0d0887\"],[0.1111111111111111,\"#46039f\"],[0.2222222222222222,\"#7201a8\"],[0.3333333333333333,\"#9c179e\"],[0.4444444444444444,\"#bd3786\"],[0.5555555555555556,\"#d8576b\"],[0.6666666666666666,\"#ed7953\"],[0.7777777777777778,\"#fb9f3a\"],[0.8888888888888888,\"#fdca26\"],[1.0,\"#f0f921\"]],\"type\":\"heatmapgl\"}],\"histogram\":[{\"marker\":{\"pattern\":{\"fillmode\":\"overlay\",\"size\":10,\"solidity\":0.2}},\"type\":\"histogram\"}],\"histogram2d\":[{\"colorbar\":{\"outlinewidth\":0,\"ticks\":\"\"},\"colorscale\":[[0.0,\"#0d0887\"],[0.1111111111111111,\"#46039f\"],[0.2222222222222222,\"#7201a8\"],[0.3333333333333333,\"#9c179e\"],[0.4444444444444444,\"#bd3786\"],[0.5555555555555556,\"#d8576b\"],[0.6666666666666666,\"#ed7953\"],[0.7777777777777778,\"#fb9f3a\"],[0.8888888888888888,\"#fdca26\"],[1.0,\"#f0f921\"]],\"type\":\"histogram2d\"}],\"histogram2dcontour\":[{\"colorbar\":{\"outlinewidth\":0,\"ticks\":\"\"},\"colorscale\":[[0.0,\"#0d0887\"],[0.1111111111111111,\"#46039f\"],[0.2222222222222222,\"#7201a8\"],[0.3333333333333333,\"#9c179e\"],[0.4444444444444444,\"#bd3786\"],[0.5555555555555556,\"#d8576b\"],[0.6666666666666666,\"#ed7953\"],[0.7777777777777778,\"#fb9f3a\"],[0.8888888888888888,\"#fdca26\"],[1.0,\"#f0f921\"]],\"type\":\"histogram2dcontour\"}],\"mesh3d\":[{\"colorbar\":{\"outlinewidth\":0,\"ticks\":\"\"},\"type\":\"mesh3d\"}],\"parcoords\":[{\"line\":{\"colorbar\":{\"outlinewidth\":0,\"ticks\":\"\"}},\"type\":\"parcoords\"}],\"pie\":[{\"automargin\":true,\"type\":\"pie\"}],\"scatter\":[{\"marker\":{\"colorbar\":{\"outlinewidth\":0,\"ticks\":\"\"}},\"type\":\"scatter\"}],\"scatter3d\":[{\"line\":{\"colorbar\":{\"outlinewidth\":0,\"ticks\":\"\"}},\"marker\":{\"colorbar\":{\"outlinewidth\":0,\"ticks\":\"\"}},\"type\":\"scatter3d\"}],\"scattercarpet\":[{\"marker\":{\"colorbar\":{\"outlinewidth\":0,\"ticks\":\"\"}},\"type\":\"scattercarpet\"}],\"scattergeo\":[{\"marker\":{\"colorbar\":{\"outlinewidth\":0,\"ticks\":\"\"}},\"type\":\"scattergeo\"}],\"scattergl\":[{\"marker\":{\"colorbar\":{\"outlinewidth\":0,\"ticks\":\"\"}},\"type\":\"scattergl\"}],\"scattermapbox\":[{\"marker\":{\"colorbar\":{\"outlinewidth\":0,\"ticks\":\"\"}},\"type\":\"scattermapbox\"}],\"scatterpolar\":[{\"marker\":{\"colorbar\":{\"outlinewidth\":0,\"ticks\":\"\"}},\"type\":\"scatterpolar\"}],\"scatterpolargl\":[{\"marker\":{\"colorbar\":{\"outlinewidth\":0,\"ticks\":\"\"}},\"type\":\"scatterpolargl\"}],\"scatterternary\":[{\"marker\":{\"colorbar\":{\"outlinewidth\":0,\"ticks\":\"\"}},\"type\":\"scatterternary\"}],\"surface\":[{\"colorbar\":{\"outlinewidth\":0,\"ticks\":\"\"},\"colorscale\":[[0.0,\"#0d0887\"],[0.1111111111111111,\"#46039f\"],[0.2222222222222222,\"#7201a8\"],[0.3333333333333333,\"#9c179e\"],[0.4444444444444444,\"#bd3786\"],[0.5555555555555556,\"#d8576b\"],[0.6666666666666666,\"#ed7953\"],[0.7777777777777778,\"#fb9f3a\"],[0.8888888888888888,\"#fdca26\"],[1.0,\"#f0f921\"]],\"type\":\"surface\"}],\"table\":[{\"cells\":{\"fill\":{\"color\":\"#EBF0F8\"},\"line\":{\"color\":\"white\"}},\"header\":{\"fill\":{\"color\":\"#C8D4E3\"},\"line\":{\"color\":\"white\"}},\"type\":\"table\"}]},\"layout\":{\"annotationdefaults\":{\"arrowcolor\":\"#2a3f5f\",\"arrowhead\":0,\"arrowwidth\":1},\"autotypenumbers\":\"strict\",\"coloraxis\":{\"colorbar\":{\"outlinewidth\":0,\"ticks\":\"\"}},\"colorscale\":{\"diverging\":[[0,\"#8e0152\"],[0.1,\"#c51b7d\"],[0.2,\"#de77ae\"],[0.3,\"#f1b6da\"],[0.4,\"#fde0ef\"],[0.5,\"#f7f7f7\"],[0.6,\"#e6f5d0\"],[0.7,\"#b8e186\"],[0.8,\"#7fbc41\"],[0.9,\"#4d9221\"],[1,\"#276419\"]],\"sequential\":[[0.0,\"#0d0887\"],[0.1111111111111111,\"#46039f\"],[0.2222222222222222,\"#7201a8\"],[0.3333333333333333,\"#9c179e\"],[0.4444444444444444,\"#bd3786\"],[0.5555555555555556,\"#d8576b\"],[0.6666666666666666,\"#ed7953\"],[0.7777777777777778,\"#fb9f3a\"],[0.8888888888888888,\"#fdca26\"],[1.0,\"#f0f921\"]],\"sequentialminus\":[[0.0,\"#0d0887\"],[0.1111111111111111,\"#46039f\"],[0.2222222222222222,\"#7201a8\"],[0.3333333333333333,\"#9c179e\"],[0.4444444444444444,\"#bd3786\"],[0.5555555555555556,\"#d8576b\"],[0.6666666666666666,\"#ed7953\"],[0.7777777777777778,\"#fb9f3a\"],[0.8888888888888888,\"#fdca26\"],[1.0,\"#f0f921\"]]},\"colorway\":[\"#636efa\",\"#EF553B\",\"#00cc96\",\"#ab63fa\",\"#FFA15A\",\"#19d3f3\",\"#FF6692\",\"#B6E880\",\"#FF97FF\",\"#FECB52\"],\"font\":{\"color\":\"#2a3f5f\"},\"geo\":{\"bgcolor\":\"white\",\"lakecolor\":\"white\",\"landcolor\":\"#E5ECF6\",\"showlakes\":true,\"showland\":true,\"subunitcolor\":\"white\"},\"hoverlabel\":{\"align\":\"left\"},\"hovermode\":\"closest\",\"mapbox\":{\"style\":\"light\"},\"paper_bgcolor\":\"white\",\"plot_bgcolor\":\"#E5ECF6\",\"polar\":{\"angularaxis\":{\"gridcolor\":\"white\",\"linecolor\":\"white\",\"ticks\":\"\"},\"bgcolor\":\"#E5ECF6\",\"radialaxis\":{\"gridcolor\":\"white\",\"linecolor\":\"white\",\"ticks\":\"\"}},\"scene\":{\"xaxis\":{\"backgroundcolor\":\"#E5ECF6\",\"gridcolor\":\"white\",\"gridwidth\":2,\"linecolor\":\"white\",\"showbackground\":true,\"ticks\":\"\",\"zerolinecolor\":\"white\"},\"yaxis\":{\"backgroundcolor\":\"#E5ECF6\",\"gridcolor\":\"white\",\"gridwidth\":2,\"linecolor\":\"white\",\"showbackground\":true,\"ticks\":\"\",\"zerolinecolor\":\"white\"},\"zaxis\":{\"backgroundcolor\":\"#E5ECF6\",\"gridcolor\":\"white\",\"gridwidth\":2,\"linecolor\":\"white\",\"showbackground\":true,\"ticks\":\"\",\"zerolinecolor\":\"white\"}},\"shapedefaults\":{\"line\":{\"color\":\"#2a3f5f\"}},\"ternary\":{\"aaxis\":{\"gridcolor\":\"white\",\"linecolor\":\"white\",\"ticks\":\"\"},\"baxis\":{\"gridcolor\":\"white\",\"linecolor\":\"white\",\"ticks\":\"\"},\"bgcolor\":\"#E5ECF6\",\"caxis\":{\"gridcolor\":\"white\",\"linecolor\":\"white\",\"ticks\":\"\"}},\"title\":{\"x\":0.05},\"xaxis\":{\"automargin\":true,\"gridcolor\":\"white\",\"linecolor\":\"white\",\"ticks\":\"\",\"title\":{\"standoff\":15},\"zerolinecolor\":\"white\",\"zerolinewidth\":2},\"yaxis\":{\"automargin\":true,\"gridcolor\":\"white\",\"linecolor\":\"white\",\"ticks\":\"\",\"title\":{\"standoff\":15},\"zerolinecolor\":\"white\",\"zerolinewidth\":2}}},\"title\":{\"font\":{\"color\":\"#4D5663\"}},\"xaxis\":{\"gridcolor\":\"#E1E5ED\",\"showgrid\":true,\"tickfont\":{\"color\":\"#4D5663\"},\"title\":{\"font\":{\"color\":\"#4D5663\"},\"text\":\"\"},\"zerolinecolor\":\"#E1E5ED\"},\"yaxis\":{\"gridcolor\":\"#E1E5ED\",\"showgrid\":true,\"tickfont\":{\"color\":\"#4D5663\"},\"title\":{\"font\":{\"color\":\"#4D5663\"},\"text\":\"\"},\"zerolinecolor\":\"#E1E5ED\"}},                        {\"showLink\": true, \"linkText\": \"Export to plot.ly\", \"plotlyServerURL\": \"https://plot.ly\", \"responsive\": true}                    ).then(function(){\n",
       "                            \n",
       "var gd = document.getElementById('305eb7c8-2949-4d64-aed1-89cb616d9aad');\n",
       "var x = new MutationObserver(function (mutations, observer) {{\n",
       "        var display = window.getComputedStyle(gd).display;\n",
       "        if (!display || display === 'none') {{\n",
       "            console.log([gd, 'removed!']);\n",
       "            Plotly.purge(gd);\n",
       "            observer.disconnect();\n",
       "        }}\n",
       "}});\n",
       "\n",
       "// Listen for the removal of the full notebook cells\n",
       "var notebookContainer = gd.closest('#notebook-container');\n",
       "if (notebookContainer) {{\n",
       "    x.observe(notebookContainer, {childList: true});\n",
       "}}\n",
       "\n",
       "// Listen for the clearing of the current output cell\n",
       "var outputEl = gd.closest('.output');\n",
       "if (outputEl) {{\n",
       "    x.observe(outputEl, {childList: true});\n",
       "}}\n",
       "\n",
       "                        })                };                });            </script>        </div>"
      ]
     },
     "metadata": {},
     "output_type": "display_data"
    }
   ],
   "source": [
    "df.iplot(kind='box')"
   ]
  },
  {
   "cell_type": "markdown",
   "metadata": {},
   "source": [
    "## 3d Surface"
   ]
  },
  {
   "cell_type": "code",
   "execution_count": 14,
   "metadata": {},
   "outputs": [
    {
     "data": {
      "application/vnd.plotly.v1+json": {
       "config": {
        "linkText": "Export to plot.ly",
        "plotlyServerURL": "https://plot.ly",
        "showLink": true
       },
       "data": [
        {
         "colorscale": [
          [
           0,
           "rgb(165,0,38)"
          ],
          [
           0.1,
           "rgb(215,48,39)"
          ],
          [
           0.2,
           "rgb(244,109,67)"
          ],
          [
           0.3,
           "rgb(253,174,97)"
          ],
          [
           0.4,
           "rgb(254,224,144)"
          ],
          [
           0.5,
           "rgb(255,255,191)"
          ],
          [
           0.6,
           "rgb(224,243,248)"
          ],
          [
           0.7,
           "rgb(171,217,233)"
          ],
          [
           0.8,
           "rgb(116,173,209)"
          ],
          [
           0.9,
           "rgb(69,117,180)"
          ],
          [
           1,
           "rgb(49,54,149)"
          ]
         ],
         "type": "surface",
         "x": [
          0,
          1,
          2,
          3,
          4
         ],
         "y": [
          "x",
          "y",
          "z"
         ],
         "z": [
          [
           1,
           2,
           3,
           4,
           5
          ],
          [
           10,
           20,
           30,
           20,
           10
          ],
          [
           5,
           4,
           3,
           2,
           1
          ]
         ]
        }
       ],
       "layout": {
        "legend": {
         "bgcolor": "#F5F6F9",
         "font": {
          "color": "#4D5663"
         }
        },
        "paper_bgcolor": "#F5F6F9",
        "plot_bgcolor": "#F5F6F9",
        "template": {
         "data": {
          "bar": [
           {
            "error_x": {
             "color": "#2a3f5f"
            },
            "error_y": {
             "color": "#2a3f5f"
            },
            "marker": {
             "line": {
              "color": "#E5ECF6",
              "width": 0.5
             },
             "pattern": {
              "fillmode": "overlay",
              "size": 10,
              "solidity": 0.2
             }
            },
            "type": "bar"
           }
          ],
          "barpolar": [
           {
            "marker": {
             "line": {
              "color": "#E5ECF6",
              "width": 0.5
             },
             "pattern": {
              "fillmode": "overlay",
              "size": 10,
              "solidity": 0.2
             }
            },
            "type": "barpolar"
           }
          ],
          "carpet": [
           {
            "aaxis": {
             "endlinecolor": "#2a3f5f",
             "gridcolor": "white",
             "linecolor": "white",
             "minorgridcolor": "white",
             "startlinecolor": "#2a3f5f"
            },
            "baxis": {
             "endlinecolor": "#2a3f5f",
             "gridcolor": "white",
             "linecolor": "white",
             "minorgridcolor": "white",
             "startlinecolor": "#2a3f5f"
            },
            "type": "carpet"
           }
          ],
          "choropleth": [
           {
            "colorbar": {
             "outlinewidth": 0,
             "ticks": ""
            },
            "type": "choropleth"
           }
          ],
          "contour": [
           {
            "colorbar": {
             "outlinewidth": 0,
             "ticks": ""
            },
            "colorscale": [
             [
              0,
              "#0d0887"
             ],
             [
              0.1111111111111111,
              "#46039f"
             ],
             [
              0.2222222222222222,
              "#7201a8"
             ],
             [
              0.3333333333333333,
              "#9c179e"
             ],
             [
              0.4444444444444444,
              "#bd3786"
             ],
             [
              0.5555555555555556,
              "#d8576b"
             ],
             [
              0.6666666666666666,
              "#ed7953"
             ],
             [
              0.7777777777777778,
              "#fb9f3a"
             ],
             [
              0.8888888888888888,
              "#fdca26"
             ],
             [
              1,
              "#f0f921"
             ]
            ],
            "type": "contour"
           }
          ],
          "contourcarpet": [
           {
            "colorbar": {
             "outlinewidth": 0,
             "ticks": ""
            },
            "type": "contourcarpet"
           }
          ],
          "heatmap": [
           {
            "colorbar": {
             "outlinewidth": 0,
             "ticks": ""
            },
            "colorscale": [
             [
              0,
              "#0d0887"
             ],
             [
              0.1111111111111111,
              "#46039f"
             ],
             [
              0.2222222222222222,
              "#7201a8"
             ],
             [
              0.3333333333333333,
              "#9c179e"
             ],
             [
              0.4444444444444444,
              "#bd3786"
             ],
             [
              0.5555555555555556,
              "#d8576b"
             ],
             [
              0.6666666666666666,
              "#ed7953"
             ],
             [
              0.7777777777777778,
              "#fb9f3a"
             ],
             [
              0.8888888888888888,
              "#fdca26"
             ],
             [
              1,
              "#f0f921"
             ]
            ],
            "type": "heatmap"
           }
          ],
          "heatmapgl": [
           {
            "colorbar": {
             "outlinewidth": 0,
             "ticks": ""
            },
            "colorscale": [
             [
              0,
              "#0d0887"
             ],
             [
              0.1111111111111111,
              "#46039f"
             ],
             [
              0.2222222222222222,
              "#7201a8"
             ],
             [
              0.3333333333333333,
              "#9c179e"
             ],
             [
              0.4444444444444444,
              "#bd3786"
             ],
             [
              0.5555555555555556,
              "#d8576b"
             ],
             [
              0.6666666666666666,
              "#ed7953"
             ],
             [
              0.7777777777777778,
              "#fb9f3a"
             ],
             [
              0.8888888888888888,
              "#fdca26"
             ],
             [
              1,
              "#f0f921"
             ]
            ],
            "type": "heatmapgl"
           }
          ],
          "histogram": [
           {
            "marker": {
             "pattern": {
              "fillmode": "overlay",
              "size": 10,
              "solidity": 0.2
             }
            },
            "type": "histogram"
           }
          ],
          "histogram2d": [
           {
            "colorbar": {
             "outlinewidth": 0,
             "ticks": ""
            },
            "colorscale": [
             [
              0,
              "#0d0887"
             ],
             [
              0.1111111111111111,
              "#46039f"
             ],
             [
              0.2222222222222222,
              "#7201a8"
             ],
             [
              0.3333333333333333,
              "#9c179e"
             ],
             [
              0.4444444444444444,
              "#bd3786"
             ],
             [
              0.5555555555555556,
              "#d8576b"
             ],
             [
              0.6666666666666666,
              "#ed7953"
             ],
             [
              0.7777777777777778,
              "#fb9f3a"
             ],
             [
              0.8888888888888888,
              "#fdca26"
             ],
             [
              1,
              "#f0f921"
             ]
            ],
            "type": "histogram2d"
           }
          ],
          "histogram2dcontour": [
           {
            "colorbar": {
             "outlinewidth": 0,
             "ticks": ""
            },
            "colorscale": [
             [
              0,
              "#0d0887"
             ],
             [
              0.1111111111111111,
              "#46039f"
             ],
             [
              0.2222222222222222,
              "#7201a8"
             ],
             [
              0.3333333333333333,
              "#9c179e"
             ],
             [
              0.4444444444444444,
              "#bd3786"
             ],
             [
              0.5555555555555556,
              "#d8576b"
             ],
             [
              0.6666666666666666,
              "#ed7953"
             ],
             [
              0.7777777777777778,
              "#fb9f3a"
             ],
             [
              0.8888888888888888,
              "#fdca26"
             ],
             [
              1,
              "#f0f921"
             ]
            ],
            "type": "histogram2dcontour"
           }
          ],
          "mesh3d": [
           {
            "colorbar": {
             "outlinewidth": 0,
             "ticks": ""
            },
            "type": "mesh3d"
           }
          ],
          "parcoords": [
           {
            "line": {
             "colorbar": {
              "outlinewidth": 0,
              "ticks": ""
             }
            },
            "type": "parcoords"
           }
          ],
          "pie": [
           {
            "automargin": true,
            "type": "pie"
           }
          ],
          "scatter": [
           {
            "marker": {
             "colorbar": {
              "outlinewidth": 0,
              "ticks": ""
             }
            },
            "type": "scatter"
           }
          ],
          "scatter3d": [
           {
            "line": {
             "colorbar": {
              "outlinewidth": 0,
              "ticks": ""
             }
            },
            "marker": {
             "colorbar": {
              "outlinewidth": 0,
              "ticks": ""
             }
            },
            "type": "scatter3d"
           }
          ],
          "scattercarpet": [
           {
            "marker": {
             "colorbar": {
              "outlinewidth": 0,
              "ticks": ""
             }
            },
            "type": "scattercarpet"
           }
          ],
          "scattergeo": [
           {
            "marker": {
             "colorbar": {
              "outlinewidth": 0,
              "ticks": ""
             }
            },
            "type": "scattergeo"
           }
          ],
          "scattergl": [
           {
            "marker": {
             "colorbar": {
              "outlinewidth": 0,
              "ticks": ""
             }
            },
            "type": "scattergl"
           }
          ],
          "scattermapbox": [
           {
            "marker": {
             "colorbar": {
              "outlinewidth": 0,
              "ticks": ""
             }
            },
            "type": "scattermapbox"
           }
          ],
          "scatterpolar": [
           {
            "marker": {
             "colorbar": {
              "outlinewidth": 0,
              "ticks": ""
             }
            },
            "type": "scatterpolar"
           }
          ],
          "scatterpolargl": [
           {
            "marker": {
             "colorbar": {
              "outlinewidth": 0,
              "ticks": ""
             }
            },
            "type": "scatterpolargl"
           }
          ],
          "scatterternary": [
           {
            "marker": {
             "colorbar": {
              "outlinewidth": 0,
              "ticks": ""
             }
            },
            "type": "scatterternary"
           }
          ],
          "surface": [
           {
            "colorbar": {
             "outlinewidth": 0,
             "ticks": ""
            },
            "colorscale": [
             [
              0,
              "#0d0887"
             ],
             [
              0.1111111111111111,
              "#46039f"
             ],
             [
              0.2222222222222222,
              "#7201a8"
             ],
             [
              0.3333333333333333,
              "#9c179e"
             ],
             [
              0.4444444444444444,
              "#bd3786"
             ],
             [
              0.5555555555555556,
              "#d8576b"
             ],
             [
              0.6666666666666666,
              "#ed7953"
             ],
             [
              0.7777777777777778,
              "#fb9f3a"
             ],
             [
              0.8888888888888888,
              "#fdca26"
             ],
             [
              1,
              "#f0f921"
             ]
            ],
            "type": "surface"
           }
          ],
          "table": [
           {
            "cells": {
             "fill": {
              "color": "#EBF0F8"
             },
             "line": {
              "color": "white"
             }
            },
            "header": {
             "fill": {
              "color": "#C8D4E3"
             },
             "line": {
              "color": "white"
             }
            },
            "type": "table"
           }
          ]
         },
         "layout": {
          "annotationdefaults": {
           "arrowcolor": "#2a3f5f",
           "arrowhead": 0,
           "arrowwidth": 1
          },
          "autotypenumbers": "strict",
          "coloraxis": {
           "colorbar": {
            "outlinewidth": 0,
            "ticks": ""
           }
          },
          "colorscale": {
           "diverging": [
            [
             0,
             "#8e0152"
            ],
            [
             0.1,
             "#c51b7d"
            ],
            [
             0.2,
             "#de77ae"
            ],
            [
             0.3,
             "#f1b6da"
            ],
            [
             0.4,
             "#fde0ef"
            ],
            [
             0.5,
             "#f7f7f7"
            ],
            [
             0.6,
             "#e6f5d0"
            ],
            [
             0.7,
             "#b8e186"
            ],
            [
             0.8,
             "#7fbc41"
            ],
            [
             0.9,
             "#4d9221"
            ],
            [
             1,
             "#276419"
            ]
           ],
           "sequential": [
            [
             0,
             "#0d0887"
            ],
            [
             0.1111111111111111,
             "#46039f"
            ],
            [
             0.2222222222222222,
             "#7201a8"
            ],
            [
             0.3333333333333333,
             "#9c179e"
            ],
            [
             0.4444444444444444,
             "#bd3786"
            ],
            [
             0.5555555555555556,
             "#d8576b"
            ],
            [
             0.6666666666666666,
             "#ed7953"
            ],
            [
             0.7777777777777778,
             "#fb9f3a"
            ],
            [
             0.8888888888888888,
             "#fdca26"
            ],
            [
             1,
             "#f0f921"
            ]
           ],
           "sequentialminus": [
            [
             0,
             "#0d0887"
            ],
            [
             0.1111111111111111,
             "#46039f"
            ],
            [
             0.2222222222222222,
             "#7201a8"
            ],
            [
             0.3333333333333333,
             "#9c179e"
            ],
            [
             0.4444444444444444,
             "#bd3786"
            ],
            [
             0.5555555555555556,
             "#d8576b"
            ],
            [
             0.6666666666666666,
             "#ed7953"
            ],
            [
             0.7777777777777778,
             "#fb9f3a"
            ],
            [
             0.8888888888888888,
             "#fdca26"
            ],
            [
             1,
             "#f0f921"
            ]
           ]
          },
          "colorway": [
           "#636efa",
           "#EF553B",
           "#00cc96",
           "#ab63fa",
           "#FFA15A",
           "#19d3f3",
           "#FF6692",
           "#B6E880",
           "#FF97FF",
           "#FECB52"
          ],
          "font": {
           "color": "#2a3f5f"
          },
          "geo": {
           "bgcolor": "white",
           "lakecolor": "white",
           "landcolor": "#E5ECF6",
           "showlakes": true,
           "showland": true,
           "subunitcolor": "white"
          },
          "hoverlabel": {
           "align": "left"
          },
          "hovermode": "closest",
          "mapbox": {
           "style": "light"
          },
          "paper_bgcolor": "white",
          "plot_bgcolor": "#E5ECF6",
          "polar": {
           "angularaxis": {
            "gridcolor": "white",
            "linecolor": "white",
            "ticks": ""
           },
           "bgcolor": "#E5ECF6",
           "radialaxis": {
            "gridcolor": "white",
            "linecolor": "white",
            "ticks": ""
           }
          },
          "scene": {
           "xaxis": {
            "backgroundcolor": "#E5ECF6",
            "gridcolor": "white",
            "gridwidth": 2,
            "linecolor": "white",
            "showbackground": true,
            "ticks": "",
            "zerolinecolor": "white"
           },
           "yaxis": {
            "backgroundcolor": "#E5ECF6",
            "gridcolor": "white",
            "gridwidth": 2,
            "linecolor": "white",
            "showbackground": true,
            "ticks": "",
            "zerolinecolor": "white"
           },
           "zaxis": {
            "backgroundcolor": "#E5ECF6",
            "gridcolor": "white",
            "gridwidth": 2,
            "linecolor": "white",
            "showbackground": true,
            "ticks": "",
            "zerolinecolor": "white"
           }
          },
          "shapedefaults": {
           "line": {
            "color": "#2a3f5f"
           }
          },
          "ternary": {
           "aaxis": {
            "gridcolor": "white",
            "linecolor": "white",
            "ticks": ""
           },
           "baxis": {
            "gridcolor": "white",
            "linecolor": "white",
            "ticks": ""
           },
           "bgcolor": "#E5ECF6",
           "caxis": {
            "gridcolor": "white",
            "linecolor": "white",
            "ticks": ""
           }
          },
          "title": {
           "x": 0.05
          },
          "xaxis": {
           "automargin": true,
           "gridcolor": "white",
           "linecolor": "white",
           "ticks": "",
           "title": {
            "standoff": 15
           },
           "zerolinecolor": "white",
           "zerolinewidth": 2
          },
          "yaxis": {
           "automargin": true,
           "gridcolor": "white",
           "linecolor": "white",
           "ticks": "",
           "title": {
            "standoff": 15
           },
           "zerolinecolor": "white",
           "zerolinewidth": 2
          }
         }
        },
        "title": {
         "font": {
          "color": "#4D5663"
         }
        },
        "xaxis": {
         "gridcolor": "#E1E5ED",
         "showgrid": true,
         "tickfont": {
          "color": "#4D5663"
         },
         "title": {
          "font": {
           "color": "#4D5663"
          },
          "text": ""
         },
         "zerolinecolor": "#E1E5ED"
        },
        "yaxis": {
         "gridcolor": "#E1E5ED",
         "showgrid": true,
         "tickfont": {
          "color": "#4D5663"
         },
         "title": {
          "font": {
           "color": "#4D5663"
          },
          "text": ""
         },
         "zerolinecolor": "#E1E5ED"
        }
       }
      },
      "text/html": [
       "<div>                            <div id=\"1b5266c9-8e86-48c8-a6f1-fdc1efe9982b\" class=\"plotly-graph-div\" style=\"height:525px; width:100%;\"></div>            <script type=\"text/javascript\">                require([\"plotly\"], function(Plotly) {                    window.PLOTLYENV=window.PLOTLYENV || {};\n",
       "                    window.PLOTLYENV.BASE_URL='https://plot.ly';                                    if (document.getElementById(\"1b5266c9-8e86-48c8-a6f1-fdc1efe9982b\")) {                    Plotly.newPlot(                        \"1b5266c9-8e86-48c8-a6f1-fdc1efe9982b\",                        [{\"colorscale\":[[0.0,\"rgb(165,0,38)\"],[0.1,\"rgb(215,48,39)\"],[0.2,\"rgb(244,109,67)\"],[0.3,\"rgb(253,174,97)\"],[0.4,\"rgb(254,224,144)\"],[0.5,\"rgb(255,255,191)\"],[0.6,\"rgb(224,243,248)\"],[0.7,\"rgb(171,217,233)\"],[0.8,\"rgb(116,173,209)\"],[0.9,\"rgb(69,117,180)\"],[1.0,\"rgb(49,54,149)\"]],\"type\":\"surface\",\"x\":[0,1,2,3,4],\"y\":[\"x\",\"y\",\"z\"],\"z\":[[1,2,3,4,5],[10,20,30,20,10],[5,4,3,2,1]]}],                        {\"legend\":{\"bgcolor\":\"#F5F6F9\",\"font\":{\"color\":\"#4D5663\"}},\"paper_bgcolor\":\"#F5F6F9\",\"plot_bgcolor\":\"#F5F6F9\",\"template\":{\"data\":{\"bar\":[{\"error_x\":{\"color\":\"#2a3f5f\"},\"error_y\":{\"color\":\"#2a3f5f\"},\"marker\":{\"line\":{\"color\":\"#E5ECF6\",\"width\":0.5},\"pattern\":{\"fillmode\":\"overlay\",\"size\":10,\"solidity\":0.2}},\"type\":\"bar\"}],\"barpolar\":[{\"marker\":{\"line\":{\"color\":\"#E5ECF6\",\"width\":0.5},\"pattern\":{\"fillmode\":\"overlay\",\"size\":10,\"solidity\":0.2}},\"type\":\"barpolar\"}],\"carpet\":[{\"aaxis\":{\"endlinecolor\":\"#2a3f5f\",\"gridcolor\":\"white\",\"linecolor\":\"white\",\"minorgridcolor\":\"white\",\"startlinecolor\":\"#2a3f5f\"},\"baxis\":{\"endlinecolor\":\"#2a3f5f\",\"gridcolor\":\"white\",\"linecolor\":\"white\",\"minorgridcolor\":\"white\",\"startlinecolor\":\"#2a3f5f\"},\"type\":\"carpet\"}],\"choropleth\":[{\"colorbar\":{\"outlinewidth\":0,\"ticks\":\"\"},\"type\":\"choropleth\"}],\"contour\":[{\"colorbar\":{\"outlinewidth\":0,\"ticks\":\"\"},\"colorscale\":[[0.0,\"#0d0887\"],[0.1111111111111111,\"#46039f\"],[0.2222222222222222,\"#7201a8\"],[0.3333333333333333,\"#9c179e\"],[0.4444444444444444,\"#bd3786\"],[0.5555555555555556,\"#d8576b\"],[0.6666666666666666,\"#ed7953\"],[0.7777777777777778,\"#fb9f3a\"],[0.8888888888888888,\"#fdca26\"],[1.0,\"#f0f921\"]],\"type\":\"contour\"}],\"contourcarpet\":[{\"colorbar\":{\"outlinewidth\":0,\"ticks\":\"\"},\"type\":\"contourcarpet\"}],\"heatmap\":[{\"colorbar\":{\"outlinewidth\":0,\"ticks\":\"\"},\"colorscale\":[[0.0,\"#0d0887\"],[0.1111111111111111,\"#46039f\"],[0.2222222222222222,\"#7201a8\"],[0.3333333333333333,\"#9c179e\"],[0.4444444444444444,\"#bd3786\"],[0.5555555555555556,\"#d8576b\"],[0.6666666666666666,\"#ed7953\"],[0.7777777777777778,\"#fb9f3a\"],[0.8888888888888888,\"#fdca26\"],[1.0,\"#f0f921\"]],\"type\":\"heatmap\"}],\"heatmapgl\":[{\"colorbar\":{\"outlinewidth\":0,\"ticks\":\"\"},\"colorscale\":[[0.0,\"#0d0887\"],[0.1111111111111111,\"#46039f\"],[0.2222222222222222,\"#7201a8\"],[0.3333333333333333,\"#9c179e\"],[0.4444444444444444,\"#bd3786\"],[0.5555555555555556,\"#d8576b\"],[0.6666666666666666,\"#ed7953\"],[0.7777777777777778,\"#fb9f3a\"],[0.8888888888888888,\"#fdca26\"],[1.0,\"#f0f921\"]],\"type\":\"heatmapgl\"}],\"histogram\":[{\"marker\":{\"pattern\":{\"fillmode\":\"overlay\",\"size\":10,\"solidity\":0.2}},\"type\":\"histogram\"}],\"histogram2d\":[{\"colorbar\":{\"outlinewidth\":0,\"ticks\":\"\"},\"colorscale\":[[0.0,\"#0d0887\"],[0.1111111111111111,\"#46039f\"],[0.2222222222222222,\"#7201a8\"],[0.3333333333333333,\"#9c179e\"],[0.4444444444444444,\"#bd3786\"],[0.5555555555555556,\"#d8576b\"],[0.6666666666666666,\"#ed7953\"],[0.7777777777777778,\"#fb9f3a\"],[0.8888888888888888,\"#fdca26\"],[1.0,\"#f0f921\"]],\"type\":\"histogram2d\"}],\"histogram2dcontour\":[{\"colorbar\":{\"outlinewidth\":0,\"ticks\":\"\"},\"colorscale\":[[0.0,\"#0d0887\"],[0.1111111111111111,\"#46039f\"],[0.2222222222222222,\"#7201a8\"],[0.3333333333333333,\"#9c179e\"],[0.4444444444444444,\"#bd3786\"],[0.5555555555555556,\"#d8576b\"],[0.6666666666666666,\"#ed7953\"],[0.7777777777777778,\"#fb9f3a\"],[0.8888888888888888,\"#fdca26\"],[1.0,\"#f0f921\"]],\"type\":\"histogram2dcontour\"}],\"mesh3d\":[{\"colorbar\":{\"outlinewidth\":0,\"ticks\":\"\"},\"type\":\"mesh3d\"}],\"parcoords\":[{\"line\":{\"colorbar\":{\"outlinewidth\":0,\"ticks\":\"\"}},\"type\":\"parcoords\"}],\"pie\":[{\"automargin\":true,\"type\":\"pie\"}],\"scatter\":[{\"marker\":{\"colorbar\":{\"outlinewidth\":0,\"ticks\":\"\"}},\"type\":\"scatter\"}],\"scatter3d\":[{\"line\":{\"colorbar\":{\"outlinewidth\":0,\"ticks\":\"\"}},\"marker\":{\"colorbar\":{\"outlinewidth\":0,\"ticks\":\"\"}},\"type\":\"scatter3d\"}],\"scattercarpet\":[{\"marker\":{\"colorbar\":{\"outlinewidth\":0,\"ticks\":\"\"}},\"type\":\"scattercarpet\"}],\"scattergeo\":[{\"marker\":{\"colorbar\":{\"outlinewidth\":0,\"ticks\":\"\"}},\"type\":\"scattergeo\"}],\"scattergl\":[{\"marker\":{\"colorbar\":{\"outlinewidth\":0,\"ticks\":\"\"}},\"type\":\"scattergl\"}],\"scattermapbox\":[{\"marker\":{\"colorbar\":{\"outlinewidth\":0,\"ticks\":\"\"}},\"type\":\"scattermapbox\"}],\"scatterpolar\":[{\"marker\":{\"colorbar\":{\"outlinewidth\":0,\"ticks\":\"\"}},\"type\":\"scatterpolar\"}],\"scatterpolargl\":[{\"marker\":{\"colorbar\":{\"outlinewidth\":0,\"ticks\":\"\"}},\"type\":\"scatterpolargl\"}],\"scatterternary\":[{\"marker\":{\"colorbar\":{\"outlinewidth\":0,\"ticks\":\"\"}},\"type\":\"scatterternary\"}],\"surface\":[{\"colorbar\":{\"outlinewidth\":0,\"ticks\":\"\"},\"colorscale\":[[0.0,\"#0d0887\"],[0.1111111111111111,\"#46039f\"],[0.2222222222222222,\"#7201a8\"],[0.3333333333333333,\"#9c179e\"],[0.4444444444444444,\"#bd3786\"],[0.5555555555555556,\"#d8576b\"],[0.6666666666666666,\"#ed7953\"],[0.7777777777777778,\"#fb9f3a\"],[0.8888888888888888,\"#fdca26\"],[1.0,\"#f0f921\"]],\"type\":\"surface\"}],\"table\":[{\"cells\":{\"fill\":{\"color\":\"#EBF0F8\"},\"line\":{\"color\":\"white\"}},\"header\":{\"fill\":{\"color\":\"#C8D4E3\"},\"line\":{\"color\":\"white\"}},\"type\":\"table\"}]},\"layout\":{\"annotationdefaults\":{\"arrowcolor\":\"#2a3f5f\",\"arrowhead\":0,\"arrowwidth\":1},\"autotypenumbers\":\"strict\",\"coloraxis\":{\"colorbar\":{\"outlinewidth\":0,\"ticks\":\"\"}},\"colorscale\":{\"diverging\":[[0,\"#8e0152\"],[0.1,\"#c51b7d\"],[0.2,\"#de77ae\"],[0.3,\"#f1b6da\"],[0.4,\"#fde0ef\"],[0.5,\"#f7f7f7\"],[0.6,\"#e6f5d0\"],[0.7,\"#b8e186\"],[0.8,\"#7fbc41\"],[0.9,\"#4d9221\"],[1,\"#276419\"]],\"sequential\":[[0.0,\"#0d0887\"],[0.1111111111111111,\"#46039f\"],[0.2222222222222222,\"#7201a8\"],[0.3333333333333333,\"#9c179e\"],[0.4444444444444444,\"#bd3786\"],[0.5555555555555556,\"#d8576b\"],[0.6666666666666666,\"#ed7953\"],[0.7777777777777778,\"#fb9f3a\"],[0.8888888888888888,\"#fdca26\"],[1.0,\"#f0f921\"]],\"sequentialminus\":[[0.0,\"#0d0887\"],[0.1111111111111111,\"#46039f\"],[0.2222222222222222,\"#7201a8\"],[0.3333333333333333,\"#9c179e\"],[0.4444444444444444,\"#bd3786\"],[0.5555555555555556,\"#d8576b\"],[0.6666666666666666,\"#ed7953\"],[0.7777777777777778,\"#fb9f3a\"],[0.8888888888888888,\"#fdca26\"],[1.0,\"#f0f921\"]]},\"colorway\":[\"#636efa\",\"#EF553B\",\"#00cc96\",\"#ab63fa\",\"#FFA15A\",\"#19d3f3\",\"#FF6692\",\"#B6E880\",\"#FF97FF\",\"#FECB52\"],\"font\":{\"color\":\"#2a3f5f\"},\"geo\":{\"bgcolor\":\"white\",\"lakecolor\":\"white\",\"landcolor\":\"#E5ECF6\",\"showlakes\":true,\"showland\":true,\"subunitcolor\":\"white\"},\"hoverlabel\":{\"align\":\"left\"},\"hovermode\":\"closest\",\"mapbox\":{\"style\":\"light\"},\"paper_bgcolor\":\"white\",\"plot_bgcolor\":\"#E5ECF6\",\"polar\":{\"angularaxis\":{\"gridcolor\":\"white\",\"linecolor\":\"white\",\"ticks\":\"\"},\"bgcolor\":\"#E5ECF6\",\"radialaxis\":{\"gridcolor\":\"white\",\"linecolor\":\"white\",\"ticks\":\"\"}},\"scene\":{\"xaxis\":{\"backgroundcolor\":\"#E5ECF6\",\"gridcolor\":\"white\",\"gridwidth\":2,\"linecolor\":\"white\",\"showbackground\":true,\"ticks\":\"\",\"zerolinecolor\":\"white\"},\"yaxis\":{\"backgroundcolor\":\"#E5ECF6\",\"gridcolor\":\"white\",\"gridwidth\":2,\"linecolor\":\"white\",\"showbackground\":true,\"ticks\":\"\",\"zerolinecolor\":\"white\"},\"zaxis\":{\"backgroundcolor\":\"#E5ECF6\",\"gridcolor\":\"white\",\"gridwidth\":2,\"linecolor\":\"white\",\"showbackground\":true,\"ticks\":\"\",\"zerolinecolor\":\"white\"}},\"shapedefaults\":{\"line\":{\"color\":\"#2a3f5f\"}},\"ternary\":{\"aaxis\":{\"gridcolor\":\"white\",\"linecolor\":\"white\",\"ticks\":\"\"},\"baxis\":{\"gridcolor\":\"white\",\"linecolor\":\"white\",\"ticks\":\"\"},\"bgcolor\":\"#E5ECF6\",\"caxis\":{\"gridcolor\":\"white\",\"linecolor\":\"white\",\"ticks\":\"\"}},\"title\":{\"x\":0.05},\"xaxis\":{\"automargin\":true,\"gridcolor\":\"white\",\"linecolor\":\"white\",\"ticks\":\"\",\"title\":{\"standoff\":15},\"zerolinecolor\":\"white\",\"zerolinewidth\":2},\"yaxis\":{\"automargin\":true,\"gridcolor\":\"white\",\"linecolor\":\"white\",\"ticks\":\"\",\"title\":{\"standoff\":15},\"zerolinecolor\":\"white\",\"zerolinewidth\":2}}},\"title\":{\"font\":{\"color\":\"#4D5663\"}},\"xaxis\":{\"gridcolor\":\"#E1E5ED\",\"showgrid\":true,\"tickfont\":{\"color\":\"#4D5663\"},\"title\":{\"font\":{\"color\":\"#4D5663\"},\"text\":\"\"},\"zerolinecolor\":\"#E1E5ED\"},\"yaxis\":{\"gridcolor\":\"#E1E5ED\",\"showgrid\":true,\"tickfont\":{\"color\":\"#4D5663\"},\"title\":{\"font\":{\"color\":\"#4D5663\"},\"text\":\"\"},\"zerolinecolor\":\"#E1E5ED\"}},                        {\"showLink\": true, \"linkText\": \"Export to plot.ly\", \"plotlyServerURL\": \"https://plot.ly\", \"responsive\": true}                    ).then(function(){\n",
       "                            \n",
       "var gd = document.getElementById('1b5266c9-8e86-48c8-a6f1-fdc1efe9982b');\n",
       "var x = new MutationObserver(function (mutations, observer) {{\n",
       "        var display = window.getComputedStyle(gd).display;\n",
       "        if (!display || display === 'none') {{\n",
       "            console.log([gd, 'removed!']);\n",
       "            Plotly.purge(gd);\n",
       "            observer.disconnect();\n",
       "        }}\n",
       "}});\n",
       "\n",
       "// Listen for the removal of the full notebook cells\n",
       "var notebookContainer = gd.closest('#notebook-container');\n",
       "if (notebookContainer) {{\n",
       "    x.observe(notebookContainer, {childList: true});\n",
       "}}\n",
       "\n",
       "// Listen for the clearing of the current output cell\n",
       "var outputEl = gd.closest('.output');\n",
       "if (outputEl) {{\n",
       "    x.observe(outputEl, {childList: true});\n",
       "}}\n",
       "\n",
       "                        })                };                });            </script>        </div>"
      ]
     },
     "metadata": {},
     "output_type": "display_data"
    }
   ],
   "source": [
    "df3 = pd.DataFrame({'x':[1,2,3,4,5],'y':[10,20,30,20,10],'z':[5,4,3,2,1]})\n",
    "df3.iplot(kind='surface',colorscale='rdylbu')"
   ]
  },
  {
   "cell_type": "markdown",
   "metadata": {},
   "source": [
    "## Spread"
   ]
  },
  {
   "cell_type": "code",
   "execution_count": 15,
   "metadata": {},
   "outputs": [
    {
     "name": "stderr",
     "output_type": "stream",
     "text": [
      "C:\\Users\\monzu\\anaconda3\\lib\\site-packages\\cufflinks\\plotlytools.py:849: FutureWarning:\n",
      "\n",
      "The pandas.np module is deprecated and will be removed from pandas in a future version. Import numpy directly instead\n",
      "\n",
      "C:\\Users\\monzu\\anaconda3\\lib\\site-packages\\cufflinks\\plotlytools.py:850: FutureWarning:\n",
      "\n",
      "The pandas.np module is deprecated and will be removed from pandas in a future version. Import numpy directly instead\n",
      "\n"
     ]
    },
    {
     "data": {
      "application/vnd.plotly.v1+json": {
       "config": {
        "linkText": "Export to plot.ly",
        "plotlyServerURL": "https://plot.ly",
        "showLink": true
       },
       "data": [
        {
         "line": {
          "color": "rgba(255, 153, 51, 1.0)",
          "dash": "solid",
          "shape": "linear",
          "width": 1.3
         },
         "mode": "lines",
         "name": "A",
         "text": "",
         "type": "scatter",
         "x": [
          0,
          1,
          2,
          3,
          4,
          5,
          6,
          7,
          8,
          9,
          10,
          11,
          12,
          13,
          14,
          15,
          16,
          17,
          18,
          19,
          20,
          21,
          22,
          23,
          24,
          25,
          26,
          27,
          28,
          29,
          30,
          31,
          32,
          33,
          34,
          35,
          36,
          37,
          38,
          39,
          40,
          41,
          42,
          43,
          44,
          45,
          46,
          47,
          48,
          49,
          50,
          51,
          52,
          53,
          54,
          55,
          56,
          57,
          58,
          59,
          60,
          61,
          62,
          63,
          64,
          65,
          66,
          67,
          68,
          69,
          70,
          71,
          72,
          73,
          74,
          75,
          76,
          77,
          78,
          79,
          80,
          81,
          82,
          83,
          84,
          85,
          86,
          87,
          88,
          89,
          90,
          91,
          92,
          93,
          94,
          95,
          96,
          97,
          98,
          99
         ],
         "y": [
          -1.1260490465847872,
          -0.5310285731898228,
          -0.21205040034769118,
          -0.651475455922811,
          0.267930026293517,
          0.5538298175018117,
          -1.45140732479843,
          -1.0621115937309076,
          -0.5192044609949963,
          0.0980486221556033,
          0.32453375604965784,
          -2.276442079629385,
          -0.8192861375427485,
          1.1455113120411295,
          -2.207736390860511,
          -1.3376249514712373,
          0.03209754247353182,
          0.7583928302046903,
          -1.6170134854635898,
          -2.237874750757624,
          -0.6060517589533632,
          -1.6168160408809342,
          0.5359718867610626,
          -0.19476818097990067,
          1.549886790936583,
          0.9060796159426613,
          1.5947215402086397,
          0.8167721240125655,
          0.9537814344129991,
          0.2853493711489899,
          -0.17105691657817657,
          -0.28014666021393175,
          0.2557815908844224,
          0.8528107746534993,
          0.042477092359645086,
          0.11889724485107526,
          0.5568967127519864,
          -0.18951757678675865,
          -1.692795876607851,
          0.5195944789579467,
          -0.2994710600365143,
          -0.6831317390937071,
          -0.19348745174529508,
          1.0395064395104623,
          0.07492067978804913,
          0.09040894717004969,
          -0.11050134142856363,
          0.688851726129721,
          -3.198080407046479,
          1.2676330352932919,
          0.007743872630742216,
          -1.2910895322695102,
          -1.5602154675409974,
          1.4218179339697663,
          0.4183122847397243,
          -0.9329642604154853,
          0.2775100095479445,
          0.033549272190992546,
          0.2415047057353741,
          0.9133160538203141,
          0.4452762554853484,
          -1.1213396871887524,
          -0.5802689307776701,
          0.577142291912203,
          -0.6714867331416482,
          -0.5113480966342379,
          -0.19394406731004424,
          0.4723599526754415,
          -0.33739551772905935,
          -0.019749545009762132,
          1.6811825369057964,
          0.9582167988724097,
          0.21399135911465308,
          0.2142097194066079,
          0.02866790533178008,
          0.20523734472281827,
          -2.373096948655841,
          -1.2974103299991655,
          0.7243000026849691,
          -1.179732860400752,
          -0.9877065634216783,
          1.858169866287358,
          -0.13616633750761734,
          0.9561184888192411,
          0.570540974318356,
          0.1538565839250256,
          -2.069442309033039,
          0.3386990661074552,
          0.229036109270142,
          -0.5231292314138397,
          -0.6386646920120588,
          1.839979440082232,
          -1.5335772908517662,
          0.3559183575671821,
          -1.8599750710237561,
          -0.22501292767062592,
          0.15865167315484616,
          -1.098219379974984,
          -0.5615283437589845,
          -0.7288531852791184
         ]
        },
        {
         "line": {
          "color": "rgba(55, 128, 191, 1.0)",
          "dash": "solid",
          "shape": "linear",
          "width": 1.3
         },
         "mode": "lines",
         "name": "B",
         "text": "",
         "type": "scatter",
         "x": [
          0,
          1,
          2,
          3,
          4,
          5,
          6,
          7,
          8,
          9,
          10,
          11,
          12,
          13,
          14,
          15,
          16,
          17,
          18,
          19,
          20,
          21,
          22,
          23,
          24,
          25,
          26,
          27,
          28,
          29,
          30,
          31,
          32,
          33,
          34,
          35,
          36,
          37,
          38,
          39,
          40,
          41,
          42,
          43,
          44,
          45,
          46,
          47,
          48,
          49,
          50,
          51,
          52,
          53,
          54,
          55,
          56,
          57,
          58,
          59,
          60,
          61,
          62,
          63,
          64,
          65,
          66,
          67,
          68,
          69,
          70,
          71,
          72,
          73,
          74,
          75,
          76,
          77,
          78,
          79,
          80,
          81,
          82,
          83,
          84,
          85,
          86,
          87,
          88,
          89,
          90,
          91,
          92,
          93,
          94,
          95,
          96,
          97,
          98,
          99
         ],
         "y": [
          3.035776571079455,
          0.2569500815910443,
          -2.1685043694431307,
          0.26902794195372615,
          1.7814630439071295,
          1.5693339927007197,
          -0.06211670129077228,
          -1.3706596588394095,
          -0.37883746288534165,
          -0.6196555944091635,
          0.5419709598803021,
          -0.882948935629644,
          -0.6004863123254223,
          1.0208840340466567,
          -0.21762155615722495,
          0.44023110912919,
          -1.0336076677809352,
          1.6033795842389853,
          -2.5310768185962225,
          -0.1889972596314623,
          0.7082630262291519,
          0.6671320947598456,
          -0.7834922916165732,
          0.47257187362393505,
          0.12629260151251537,
          2.0515434422449617,
          -0.2936811721928686,
          -0.2516523184280506,
          -1.5747986439720867,
          1.5737893099513762,
          -0.48788785833745874,
          0.8666151639960874,
          0.6629479112242548,
          2.335262202035777,
          0.9301235315825008,
          0.7210757391867806,
          -0.28270307894091573,
          0.6180102172480808,
          -0.68067795910875,
          -0.6615813868992915,
          1.9007085417861616,
          -1.1132438109324958,
          -0.6349033891645982,
          0.19741141743855162,
          1.1602881974005501,
          -0.004921352813687318,
          -1.383225820147114,
          0.22683021489288765,
          -0.0012375954352731027,
          -1.2558220947801475,
          -1.5522403593076988,
          0.004089381987935106,
          1.640944226966207,
          -0.3535758434099873,
          1.024879646181359,
          -1.6239541156805803,
          0.040284041575874806,
          0.896827065486756,
          -0.46794239292736056,
          1.505428664458157,
          -1.3626473839376783,
          -1.005643110364832,
          0.3925216946506399,
          0.7738640376750079,
          1.5554473261236892,
          0.35444125136577836,
          1.6205066874880212,
          -0.5538513815676245,
          0.23831067673412812,
          -0.9010306825341439,
          1.3231420079992444,
          -0.14899579209345915,
          -0.8709694619155264,
          1.065094470898646,
          -1.348559047441447,
          0.5804185661168384,
          -0.42879331392602926,
          -0.6959637860253969,
          0.1048024218225815,
          0.13732347532346822,
          -0.2308890616949896,
          -1.2960685158220355,
          -0.3901037235712339,
          -0.155170398255274,
          -0.03287464454016071,
          -0.9472821709740642,
          -1.115841814411383,
          0.2177548674986909,
          1.0364383402990647,
          -0.17403780646611958,
          0.6083659391024403,
          0.6209585041653041,
          1.4670744821663868,
          -0.040890570234690546,
          2.040518372717835,
          -1.1876242746503243,
          -0.5022878658736447,
          -0.008530985057549921,
          0.7140012167410947,
          -0.70522201636607
         ]
        },
        {
         "connectgaps": false,
         "fill": "tozeroy",
         "line": {
          "color": "green",
          "dash": "solid",
          "shape": "linear",
          "width": 0.5
         },
         "mode": "lines",
         "name": "Spread",
         "showlegend": false,
         "type": "scatter",
         "x": [
          0,
          1,
          2,
          3,
          4,
          5,
          6,
          7,
          8,
          9,
          10,
          11,
          12,
          13,
          14,
          15,
          16,
          17,
          18,
          19,
          20,
          21,
          22,
          23,
          24,
          25,
          26,
          27,
          28,
          29,
          30,
          31,
          32,
          33,
          34,
          35,
          36,
          37,
          38,
          39,
          40,
          41,
          42,
          43,
          44,
          45,
          46,
          47,
          48,
          49,
          50,
          51,
          52,
          53,
          54,
          55,
          56,
          57,
          58,
          59,
          60,
          61,
          62,
          63,
          64,
          65,
          66,
          67,
          68,
          69,
          70,
          71,
          72,
          73,
          74,
          75,
          76,
          77,
          78,
          79,
          80,
          81,
          82,
          83,
          84,
          85,
          86,
          87,
          88,
          89,
          90,
          91,
          92,
          93,
          94,
          95,
          96,
          97,
          98,
          99
         ],
         "xaxis": "x2",
         "y": [
          "",
          "",
          1.9564539690954397,
          "",
          "",
          "",
          "",
          0.30854806510850197,
          "",
          0.7177042165647668,
          "",
          "",
          "",
          0.12462727799447282,
          "",
          "",
          1.065705210254467,
          "",
          0.9140633331326327,
          "",
          "",
          "",
          1.3194641783776357,
          "",
          1.4235941894240676,
          "",
          1.8884027124015081,
          1.068424442440616,
          2.528580078385086,
          "",
          0.31683094175928217,
          "",
          "",
          "",
          "",
          "",
          0.8395997916929021,
          "",
          "",
          1.1811758658572382,
          "",
          0.43011207183878875,
          0.44141593741930313,
          0.8420950220719107,
          "",
          0.095330299983737,
          1.2727244787185503,
          0.4620215112368333,
          "",
          2.5234551300734394,
          1.559984231938441,
          "",
          "",
          1.7753937773797537,
          "",
          0.690989855265095,
          0.2372259679720697,
          "",
          0.7094470986627347,
          "",
          1.8079236394230267,
          "",
          "",
          "",
          "",
          "",
          "",
          1.026211334243066,
          "",
          0.8812811375243818,
          0.358040528906552,
          1.1072125909658688,
          1.0849608210301795,
          "",
          1.377226952773227,
          "",
          "",
          "",
          0.6194975808623876,
          "",
          "",
          3.1542383821093933,
          0.2539373860636166,
          1.1112888870745152,
          0.6034156188585168,
          1.1011387548990899,
          "",
          0.12094419860876429,
          "",
          "",
          "",
          1.219020935916928,
          "",
          0.39680892780187266,
          "",
          0.9626113469796984,
          0.6609395390284909,
          "",
          "",
          ""
         ],
         "yaxis": "y2"
        },
        {
         "connectgaps": false,
         "fill": "tozeroy",
         "line": {
          "color": "red",
          "dash": "solid",
          "shape": "linear",
          "width": 0.5
         },
         "mode": "lines",
         "name": "Spread",
         "showlegend": false,
         "type": "scatter",
         "x": [
          0,
          1,
          2,
          3,
          4,
          5,
          6,
          7,
          8,
          9,
          10,
          11,
          12,
          13,
          14,
          15,
          16,
          17,
          18,
          19,
          20,
          21,
          22,
          23,
          24,
          25,
          26,
          27,
          28,
          29,
          30,
          31,
          32,
          33,
          34,
          35,
          36,
          37,
          38,
          39,
          40,
          41,
          42,
          43,
          44,
          45,
          46,
          47,
          48,
          49,
          50,
          51,
          52,
          53,
          54,
          55,
          56,
          57,
          58,
          59,
          60,
          61,
          62,
          63,
          64,
          65,
          66,
          67,
          68,
          69,
          70,
          71,
          72,
          73,
          74,
          75,
          76,
          77,
          78,
          79,
          80,
          81,
          82,
          83,
          84,
          85,
          86,
          87,
          88,
          89,
          90,
          91,
          92,
          93,
          94,
          95,
          96,
          97,
          98,
          99
         ],
         "xaxis": "x2",
         "y": [
          -4.161825617664242,
          -0.7879786547808671,
          "",
          -0.9205033978765371,
          -1.5135330176136126,
          -1.015504175198908,
          -1.3892906235076579,
          "",
          -0.14036699810965464,
          "",
          -0.21743720383064424,
          -1.3934931439997411,
          -0.21879982521732622,
          "",
          -1.9901148347032862,
          -1.7778560606004272,
          "",
          -0.844986754034295,
          "",
          -2.048877491126162,
          -1.314314785182515,
          -2.28394813564078,
          "",
          -0.6673400546038357,
          "",
          -1.1454638263023003,
          "",
          "",
          "",
          -1.2884399388023864,
          "",
          -1.146761824210019,
          -0.40716632033983235,
          -1.4824514273822778,
          -0.8876464392228558,
          -0.6021784943357054,
          "",
          -0.8075277940348394,
          -1.012117917499101,
          "",
          -2.200179601822676,
          "",
          "",
          "",
          -1.085367517612501,
          "",
          "",
          "",
          -3.1968428116112055,
          "",
          "",
          -1.2951789142574452,
          -3.2011596945072043,
          "",
          -0.6065673614416347,
          "",
          "",
          -0.8632777932957634,
          "",
          -0.5921126106378428,
          "",
          -0.11569657682392043,
          -0.97279062542831,
          -0.19672174576280488,
          -2.2269340592653375,
          -0.8657893480000163,
          -1.8144507547980655,
          "",
          -0.5757061944631875,
          "",
          "",
          "",
          "",
          -0.8508847514920381,
          "",
          -0.3751812213940201,
          -1.9443036347298115,
          -0.6014465439737686,
          "",
          -1.3170563357242202,
          -0.7568175017266887,
          "",
          "",
          "",
          "",
          "",
          -0.9536004946216561,
          "",
          -0.8074022310289226,
          -0.34909142494772016,
          -1.247030631114499,
          "",
          -3.000651773018153,
          "",
          -3.900493443741591,
          "",
          "",
          -1.089688394917434,
          -1.2755295605000794,
          -0.023631168913048395
         ],
         "yaxis": "y2"
        }
       ],
       "layout": {
        "hovermode": "x",
        "legend": {
         "bgcolor": "#F5F6F9",
         "font": {
          "color": "#4D5663"
         }
        },
        "paper_bgcolor": "#F5F6F9",
        "plot_bgcolor": "#F5F6F9",
        "template": {
         "data": {
          "bar": [
           {
            "error_x": {
             "color": "#2a3f5f"
            },
            "error_y": {
             "color": "#2a3f5f"
            },
            "marker": {
             "line": {
              "color": "#E5ECF6",
              "width": 0.5
             },
             "pattern": {
              "fillmode": "overlay",
              "size": 10,
              "solidity": 0.2
             }
            },
            "type": "bar"
           }
          ],
          "barpolar": [
           {
            "marker": {
             "line": {
              "color": "#E5ECF6",
              "width": 0.5
             },
             "pattern": {
              "fillmode": "overlay",
              "size": 10,
              "solidity": 0.2
             }
            },
            "type": "barpolar"
           }
          ],
          "carpet": [
           {
            "aaxis": {
             "endlinecolor": "#2a3f5f",
             "gridcolor": "white",
             "linecolor": "white",
             "minorgridcolor": "white",
             "startlinecolor": "#2a3f5f"
            },
            "baxis": {
             "endlinecolor": "#2a3f5f",
             "gridcolor": "white",
             "linecolor": "white",
             "minorgridcolor": "white",
             "startlinecolor": "#2a3f5f"
            },
            "type": "carpet"
           }
          ],
          "choropleth": [
           {
            "colorbar": {
             "outlinewidth": 0,
             "ticks": ""
            },
            "type": "choropleth"
           }
          ],
          "contour": [
           {
            "colorbar": {
             "outlinewidth": 0,
             "ticks": ""
            },
            "colorscale": [
             [
              0,
              "#0d0887"
             ],
             [
              0.1111111111111111,
              "#46039f"
             ],
             [
              0.2222222222222222,
              "#7201a8"
             ],
             [
              0.3333333333333333,
              "#9c179e"
             ],
             [
              0.4444444444444444,
              "#bd3786"
             ],
             [
              0.5555555555555556,
              "#d8576b"
             ],
             [
              0.6666666666666666,
              "#ed7953"
             ],
             [
              0.7777777777777778,
              "#fb9f3a"
             ],
             [
              0.8888888888888888,
              "#fdca26"
             ],
             [
              1,
              "#f0f921"
             ]
            ],
            "type": "contour"
           }
          ],
          "contourcarpet": [
           {
            "colorbar": {
             "outlinewidth": 0,
             "ticks": ""
            },
            "type": "contourcarpet"
           }
          ],
          "heatmap": [
           {
            "colorbar": {
             "outlinewidth": 0,
             "ticks": ""
            },
            "colorscale": [
             [
              0,
              "#0d0887"
             ],
             [
              0.1111111111111111,
              "#46039f"
             ],
             [
              0.2222222222222222,
              "#7201a8"
             ],
             [
              0.3333333333333333,
              "#9c179e"
             ],
             [
              0.4444444444444444,
              "#bd3786"
             ],
             [
              0.5555555555555556,
              "#d8576b"
             ],
             [
              0.6666666666666666,
              "#ed7953"
             ],
             [
              0.7777777777777778,
              "#fb9f3a"
             ],
             [
              0.8888888888888888,
              "#fdca26"
             ],
             [
              1,
              "#f0f921"
             ]
            ],
            "type": "heatmap"
           }
          ],
          "heatmapgl": [
           {
            "colorbar": {
             "outlinewidth": 0,
             "ticks": ""
            },
            "colorscale": [
             [
              0,
              "#0d0887"
             ],
             [
              0.1111111111111111,
              "#46039f"
             ],
             [
              0.2222222222222222,
              "#7201a8"
             ],
             [
              0.3333333333333333,
              "#9c179e"
             ],
             [
              0.4444444444444444,
              "#bd3786"
             ],
             [
              0.5555555555555556,
              "#d8576b"
             ],
             [
              0.6666666666666666,
              "#ed7953"
             ],
             [
              0.7777777777777778,
              "#fb9f3a"
             ],
             [
              0.8888888888888888,
              "#fdca26"
             ],
             [
              1,
              "#f0f921"
             ]
            ],
            "type": "heatmapgl"
           }
          ],
          "histogram": [
           {
            "marker": {
             "pattern": {
              "fillmode": "overlay",
              "size": 10,
              "solidity": 0.2
             }
            },
            "type": "histogram"
           }
          ],
          "histogram2d": [
           {
            "colorbar": {
             "outlinewidth": 0,
             "ticks": ""
            },
            "colorscale": [
             [
              0,
              "#0d0887"
             ],
             [
              0.1111111111111111,
              "#46039f"
             ],
             [
              0.2222222222222222,
              "#7201a8"
             ],
             [
              0.3333333333333333,
              "#9c179e"
             ],
             [
              0.4444444444444444,
              "#bd3786"
             ],
             [
              0.5555555555555556,
              "#d8576b"
             ],
             [
              0.6666666666666666,
              "#ed7953"
             ],
             [
              0.7777777777777778,
              "#fb9f3a"
             ],
             [
              0.8888888888888888,
              "#fdca26"
             ],
             [
              1,
              "#f0f921"
             ]
            ],
            "type": "histogram2d"
           }
          ],
          "histogram2dcontour": [
           {
            "colorbar": {
             "outlinewidth": 0,
             "ticks": ""
            },
            "colorscale": [
             [
              0,
              "#0d0887"
             ],
             [
              0.1111111111111111,
              "#46039f"
             ],
             [
              0.2222222222222222,
              "#7201a8"
             ],
             [
              0.3333333333333333,
              "#9c179e"
             ],
             [
              0.4444444444444444,
              "#bd3786"
             ],
             [
              0.5555555555555556,
              "#d8576b"
             ],
             [
              0.6666666666666666,
              "#ed7953"
             ],
             [
              0.7777777777777778,
              "#fb9f3a"
             ],
             [
              0.8888888888888888,
              "#fdca26"
             ],
             [
              1,
              "#f0f921"
             ]
            ],
            "type": "histogram2dcontour"
           }
          ],
          "mesh3d": [
           {
            "colorbar": {
             "outlinewidth": 0,
             "ticks": ""
            },
            "type": "mesh3d"
           }
          ],
          "parcoords": [
           {
            "line": {
             "colorbar": {
              "outlinewidth": 0,
              "ticks": ""
             }
            },
            "type": "parcoords"
           }
          ],
          "pie": [
           {
            "automargin": true,
            "type": "pie"
           }
          ],
          "scatter": [
           {
            "marker": {
             "colorbar": {
              "outlinewidth": 0,
              "ticks": ""
             }
            },
            "type": "scatter"
           }
          ],
          "scatter3d": [
           {
            "line": {
             "colorbar": {
              "outlinewidth": 0,
              "ticks": ""
             }
            },
            "marker": {
             "colorbar": {
              "outlinewidth": 0,
              "ticks": ""
             }
            },
            "type": "scatter3d"
           }
          ],
          "scattercarpet": [
           {
            "marker": {
             "colorbar": {
              "outlinewidth": 0,
              "ticks": ""
             }
            },
            "type": "scattercarpet"
           }
          ],
          "scattergeo": [
           {
            "marker": {
             "colorbar": {
              "outlinewidth": 0,
              "ticks": ""
             }
            },
            "type": "scattergeo"
           }
          ],
          "scattergl": [
           {
            "marker": {
             "colorbar": {
              "outlinewidth": 0,
              "ticks": ""
             }
            },
            "type": "scattergl"
           }
          ],
          "scattermapbox": [
           {
            "marker": {
             "colorbar": {
              "outlinewidth": 0,
              "ticks": ""
             }
            },
            "type": "scattermapbox"
           }
          ],
          "scatterpolar": [
           {
            "marker": {
             "colorbar": {
              "outlinewidth": 0,
              "ticks": ""
             }
            },
            "type": "scatterpolar"
           }
          ],
          "scatterpolargl": [
           {
            "marker": {
             "colorbar": {
              "outlinewidth": 0,
              "ticks": ""
             }
            },
            "type": "scatterpolargl"
           }
          ],
          "scatterternary": [
           {
            "marker": {
             "colorbar": {
              "outlinewidth": 0,
              "ticks": ""
             }
            },
            "type": "scatterternary"
           }
          ],
          "surface": [
           {
            "colorbar": {
             "outlinewidth": 0,
             "ticks": ""
            },
            "colorscale": [
             [
              0,
              "#0d0887"
             ],
             [
              0.1111111111111111,
              "#46039f"
             ],
             [
              0.2222222222222222,
              "#7201a8"
             ],
             [
              0.3333333333333333,
              "#9c179e"
             ],
             [
              0.4444444444444444,
              "#bd3786"
             ],
             [
              0.5555555555555556,
              "#d8576b"
             ],
             [
              0.6666666666666666,
              "#ed7953"
             ],
             [
              0.7777777777777778,
              "#fb9f3a"
             ],
             [
              0.8888888888888888,
              "#fdca26"
             ],
             [
              1,
              "#f0f921"
             ]
            ],
            "type": "surface"
           }
          ],
          "table": [
           {
            "cells": {
             "fill": {
              "color": "#EBF0F8"
             },
             "line": {
              "color": "white"
             }
            },
            "header": {
             "fill": {
              "color": "#C8D4E3"
             },
             "line": {
              "color": "white"
             }
            },
            "type": "table"
           }
          ]
         },
         "layout": {
          "annotationdefaults": {
           "arrowcolor": "#2a3f5f",
           "arrowhead": 0,
           "arrowwidth": 1
          },
          "autotypenumbers": "strict",
          "coloraxis": {
           "colorbar": {
            "outlinewidth": 0,
            "ticks": ""
           }
          },
          "colorscale": {
           "diverging": [
            [
             0,
             "#8e0152"
            ],
            [
             0.1,
             "#c51b7d"
            ],
            [
             0.2,
             "#de77ae"
            ],
            [
             0.3,
             "#f1b6da"
            ],
            [
             0.4,
             "#fde0ef"
            ],
            [
             0.5,
             "#f7f7f7"
            ],
            [
             0.6,
             "#e6f5d0"
            ],
            [
             0.7,
             "#b8e186"
            ],
            [
             0.8,
             "#7fbc41"
            ],
            [
             0.9,
             "#4d9221"
            ],
            [
             1,
             "#276419"
            ]
           ],
           "sequential": [
            [
             0,
             "#0d0887"
            ],
            [
             0.1111111111111111,
             "#46039f"
            ],
            [
             0.2222222222222222,
             "#7201a8"
            ],
            [
             0.3333333333333333,
             "#9c179e"
            ],
            [
             0.4444444444444444,
             "#bd3786"
            ],
            [
             0.5555555555555556,
             "#d8576b"
            ],
            [
             0.6666666666666666,
             "#ed7953"
            ],
            [
             0.7777777777777778,
             "#fb9f3a"
            ],
            [
             0.8888888888888888,
             "#fdca26"
            ],
            [
             1,
             "#f0f921"
            ]
           ],
           "sequentialminus": [
            [
             0,
             "#0d0887"
            ],
            [
             0.1111111111111111,
             "#46039f"
            ],
            [
             0.2222222222222222,
             "#7201a8"
            ],
            [
             0.3333333333333333,
             "#9c179e"
            ],
            [
             0.4444444444444444,
             "#bd3786"
            ],
            [
             0.5555555555555556,
             "#d8576b"
            ],
            [
             0.6666666666666666,
             "#ed7953"
            ],
            [
             0.7777777777777778,
             "#fb9f3a"
            ],
            [
             0.8888888888888888,
             "#fdca26"
            ],
            [
             1,
             "#f0f921"
            ]
           ]
          },
          "colorway": [
           "#636efa",
           "#EF553B",
           "#00cc96",
           "#ab63fa",
           "#FFA15A",
           "#19d3f3",
           "#FF6692",
           "#B6E880",
           "#FF97FF",
           "#FECB52"
          ],
          "font": {
           "color": "#2a3f5f"
          },
          "geo": {
           "bgcolor": "white",
           "lakecolor": "white",
           "landcolor": "#E5ECF6",
           "showlakes": true,
           "showland": true,
           "subunitcolor": "white"
          },
          "hoverlabel": {
           "align": "left"
          },
          "hovermode": "closest",
          "mapbox": {
           "style": "light"
          },
          "paper_bgcolor": "white",
          "plot_bgcolor": "#E5ECF6",
          "polar": {
           "angularaxis": {
            "gridcolor": "white",
            "linecolor": "white",
            "ticks": ""
           },
           "bgcolor": "#E5ECF6",
           "radialaxis": {
            "gridcolor": "white",
            "linecolor": "white",
            "ticks": ""
           }
          },
          "scene": {
           "xaxis": {
            "backgroundcolor": "#E5ECF6",
            "gridcolor": "white",
            "gridwidth": 2,
            "linecolor": "white",
            "showbackground": true,
            "ticks": "",
            "zerolinecolor": "white"
           },
           "yaxis": {
            "backgroundcolor": "#E5ECF6",
            "gridcolor": "white",
            "gridwidth": 2,
            "linecolor": "white",
            "showbackground": true,
            "ticks": "",
            "zerolinecolor": "white"
           },
           "zaxis": {
            "backgroundcolor": "#E5ECF6",
            "gridcolor": "white",
            "gridwidth": 2,
            "linecolor": "white",
            "showbackground": true,
            "ticks": "",
            "zerolinecolor": "white"
           }
          },
          "shapedefaults": {
           "line": {
            "color": "#2a3f5f"
           }
          },
          "ternary": {
           "aaxis": {
            "gridcolor": "white",
            "linecolor": "white",
            "ticks": ""
           },
           "baxis": {
            "gridcolor": "white",
            "linecolor": "white",
            "ticks": ""
           },
           "bgcolor": "#E5ECF6",
           "caxis": {
            "gridcolor": "white",
            "linecolor": "white",
            "ticks": ""
           }
          },
          "title": {
           "x": 0.05
          },
          "xaxis": {
           "automargin": true,
           "gridcolor": "white",
           "linecolor": "white",
           "ticks": "",
           "title": {
            "standoff": 15
           },
           "zerolinecolor": "white",
           "zerolinewidth": 2
          },
          "yaxis": {
           "automargin": true,
           "gridcolor": "white",
           "linecolor": "white",
           "ticks": "",
           "title": {
            "standoff": 15
           },
           "zerolinecolor": "white",
           "zerolinewidth": 2
          }
         }
        },
        "title": {
         "font": {
          "color": "#4D5663"
         }
        },
        "xaxis": {
         "gridcolor": "#E1E5ED",
         "showgrid": true,
         "tickfont": {
          "color": "#4D5663"
         },
         "title": {
          "font": {
           "color": "#4D5663"
          },
          "text": ""
         },
         "zerolinecolor": "#E1E5ED"
        },
        "xaxis2": {
         "anchor": "y2",
         "gridcolor": "#E1E5ED",
         "showgrid": true,
         "showticklabels": false,
         "tickfont": {
          "color": "#4D5663"
         },
         "title": {
          "font": {
           "color": "#4D5663"
          },
          "text": ""
         },
         "zerolinecolor": "#E1E5ED"
        },
        "yaxis": {
         "domain": [
          0.3,
          1
         ],
         "gridcolor": "#E1E5ED",
         "showgrid": true,
         "tickfont": {
          "color": "#4D5663"
         },
         "title": {
          "font": {
           "color": "#4D5663"
          },
          "text": ""
         },
         "zerolinecolor": "#E1E5ED"
        },
        "yaxis2": {
         "domain": [
          0,
          0.25
         ],
         "gridcolor": "#E1E5ED",
         "showgrid": true,
         "tickfont": {
          "color": "#4D5663"
         },
         "title": {
          "font": {
           "color": "#4D5663"
          },
          "text": "Spread"
         },
         "zerolinecolor": "#E1E5ED"
        }
       }
      },
      "text/html": [
       "<div>                            <div id=\"5a5acc6a-f38d-4db6-81bc-c2d2d1b8435a\" class=\"plotly-graph-div\" style=\"height:525px; width:100%;\"></div>            <script type=\"text/javascript\">                require([\"plotly\"], function(Plotly) {                    window.PLOTLYENV=window.PLOTLYENV || {};\n",
       "                    window.PLOTLYENV.BASE_URL='https://plot.ly';                                    if (document.getElementById(\"5a5acc6a-f38d-4db6-81bc-c2d2d1b8435a\")) {                    Plotly.newPlot(                        \"5a5acc6a-f38d-4db6-81bc-c2d2d1b8435a\",                        [{\"line\":{\"color\":\"rgba(255, 153, 51, 1.0)\",\"dash\":\"solid\",\"shape\":\"linear\",\"width\":1.3},\"mode\":\"lines\",\"name\":\"A\",\"text\":\"\",\"type\":\"scatter\",\"x\":[0,1,2,3,4,5,6,7,8,9,10,11,12,13,14,15,16,17,18,19,20,21,22,23,24,25,26,27,28,29,30,31,32,33,34,35,36,37,38,39,40,41,42,43,44,45,46,47,48,49,50,51,52,53,54,55,56,57,58,59,60,61,62,63,64,65,66,67,68,69,70,71,72,73,74,75,76,77,78,79,80,81,82,83,84,85,86,87,88,89,90,91,92,93,94,95,96,97,98,99],\"y\":[-1.1260490465847872,-0.5310285731898228,-0.21205040034769118,-0.651475455922811,0.267930026293517,0.5538298175018117,-1.45140732479843,-1.0621115937309076,-0.5192044609949963,0.0980486221556033,0.32453375604965784,-2.276442079629385,-0.8192861375427485,1.1455113120411295,-2.207736390860511,-1.3376249514712373,0.03209754247353182,0.7583928302046903,-1.6170134854635898,-2.237874750757624,-0.6060517589533632,-1.6168160408809342,0.5359718867610626,-0.19476818097990067,1.549886790936583,0.9060796159426613,1.5947215402086397,0.8167721240125655,0.9537814344129991,0.2853493711489899,-0.17105691657817657,-0.28014666021393175,0.2557815908844224,0.8528107746534993,0.042477092359645086,0.11889724485107526,0.5568967127519864,-0.18951757678675865,-1.692795876607851,0.5195944789579467,-0.2994710600365143,-0.6831317390937071,-0.19348745174529508,1.0395064395104623,0.07492067978804913,0.09040894717004969,-0.11050134142856363,0.688851726129721,-3.198080407046479,1.2676330352932919,0.007743872630742216,-1.2910895322695102,-1.5602154675409974,1.4218179339697663,0.4183122847397243,-0.9329642604154853,0.2775100095479445,0.033549272190992546,0.2415047057353741,0.9133160538203141,0.4452762554853484,-1.1213396871887524,-0.5802689307776701,0.577142291912203,-0.6714867331416482,-0.5113480966342379,-0.19394406731004424,0.4723599526754415,-0.33739551772905935,-0.019749545009762132,1.6811825369057964,0.9582167988724097,0.21399135911465308,0.2142097194066079,0.02866790533178008,0.20523734472281827,-2.373096948655841,-1.2974103299991655,0.7243000026849691,-1.179732860400752,-0.9877065634216783,1.858169866287358,-0.13616633750761734,0.9561184888192411,0.570540974318356,0.1538565839250256,-2.069442309033039,0.3386990661074552,0.229036109270142,-0.5231292314138397,-0.6386646920120588,1.839979440082232,-1.5335772908517662,0.3559183575671821,-1.8599750710237561,-0.22501292767062592,0.15865167315484616,-1.098219379974984,-0.5615283437589845,-0.7288531852791184]},{\"line\":{\"color\":\"rgba(55, 128, 191, 1.0)\",\"dash\":\"solid\",\"shape\":\"linear\",\"width\":1.3},\"mode\":\"lines\",\"name\":\"B\",\"text\":\"\",\"type\":\"scatter\",\"x\":[0,1,2,3,4,5,6,7,8,9,10,11,12,13,14,15,16,17,18,19,20,21,22,23,24,25,26,27,28,29,30,31,32,33,34,35,36,37,38,39,40,41,42,43,44,45,46,47,48,49,50,51,52,53,54,55,56,57,58,59,60,61,62,63,64,65,66,67,68,69,70,71,72,73,74,75,76,77,78,79,80,81,82,83,84,85,86,87,88,89,90,91,92,93,94,95,96,97,98,99],\"y\":[3.035776571079455,0.2569500815910443,-2.1685043694431307,0.26902794195372615,1.7814630439071295,1.5693339927007197,-0.06211670129077228,-1.3706596588394095,-0.37883746288534165,-0.6196555944091635,0.5419709598803021,-0.882948935629644,-0.6004863123254223,1.0208840340466567,-0.21762155615722495,0.44023110912919,-1.0336076677809352,1.6033795842389853,-2.5310768185962225,-0.1889972596314623,0.7082630262291519,0.6671320947598456,-0.7834922916165732,0.47257187362393505,0.12629260151251537,2.0515434422449617,-0.2936811721928686,-0.2516523184280506,-1.5747986439720867,1.5737893099513762,-0.48788785833745874,0.8666151639960874,0.6629479112242548,2.335262202035777,0.9301235315825008,0.7210757391867806,-0.28270307894091573,0.6180102172480808,-0.68067795910875,-0.6615813868992915,1.9007085417861616,-1.1132438109324958,-0.6349033891645982,0.19741141743855162,1.1602881974005501,-0.004921352813687318,-1.383225820147114,0.22683021489288765,-0.0012375954352731027,-1.2558220947801475,-1.5522403593076988,0.004089381987935106,1.640944226966207,-0.3535758434099873,1.024879646181359,-1.6239541156805803,0.040284041575874806,0.896827065486756,-0.46794239292736056,1.505428664458157,-1.3626473839376783,-1.005643110364832,0.3925216946506399,0.7738640376750079,1.5554473261236892,0.35444125136577836,1.6205066874880212,-0.5538513815676245,0.23831067673412812,-0.9010306825341439,1.3231420079992444,-0.14899579209345915,-0.8709694619155264,1.065094470898646,-1.348559047441447,0.5804185661168384,-0.42879331392602926,-0.6959637860253969,0.1048024218225815,0.13732347532346822,-0.2308890616949896,-1.2960685158220355,-0.3901037235712339,-0.155170398255274,-0.03287464454016071,-0.9472821709740642,-1.115841814411383,0.2177548674986909,1.0364383402990647,-0.17403780646611958,0.6083659391024403,0.6209585041653041,1.4670744821663868,-0.040890570234690546,2.040518372717835,-1.1876242746503243,-0.5022878658736447,-0.008530985057549921,0.7140012167410947,-0.70522201636607]},{\"connectgaps\":false,\"fill\":\"tozeroy\",\"line\":{\"color\":\"green\",\"dash\":\"solid\",\"shape\":\"linear\",\"width\":0.5},\"mode\":\"lines\",\"name\":\"Spread\",\"showlegend\":false,\"type\":\"scatter\",\"x\":[0,1,2,3,4,5,6,7,8,9,10,11,12,13,14,15,16,17,18,19,20,21,22,23,24,25,26,27,28,29,30,31,32,33,34,35,36,37,38,39,40,41,42,43,44,45,46,47,48,49,50,51,52,53,54,55,56,57,58,59,60,61,62,63,64,65,66,67,68,69,70,71,72,73,74,75,76,77,78,79,80,81,82,83,84,85,86,87,88,89,90,91,92,93,94,95,96,97,98,99],\"xaxis\":\"x2\",\"y\":[\"\",\"\",1.9564539690954397,\"\",\"\",\"\",\"\",0.30854806510850197,\"\",0.7177042165647668,\"\",\"\",\"\",0.12462727799447282,\"\",\"\",1.065705210254467,\"\",0.9140633331326327,\"\",\"\",\"\",1.3194641783776357,\"\",1.4235941894240676,\"\",1.8884027124015081,1.068424442440616,2.528580078385086,\"\",0.31683094175928217,\"\",\"\",\"\",\"\",\"\",0.8395997916929021,\"\",\"\",1.1811758658572382,\"\",0.43011207183878875,0.44141593741930313,0.8420950220719107,\"\",0.095330299983737,1.2727244787185503,0.4620215112368333,\"\",2.5234551300734394,1.559984231938441,\"\",\"\",1.7753937773797537,\"\",0.690989855265095,0.2372259679720697,\"\",0.7094470986627347,\"\",1.8079236394230267,\"\",\"\",\"\",\"\",\"\",\"\",1.026211334243066,\"\",0.8812811375243818,0.358040528906552,1.1072125909658688,1.0849608210301795,\"\",1.377226952773227,\"\",\"\",\"\",0.6194975808623876,\"\",\"\",3.1542383821093933,0.2539373860636166,1.1112888870745152,0.6034156188585168,1.1011387548990899,\"\",0.12094419860876429,\"\",\"\",\"\",1.219020935916928,\"\",0.39680892780187266,\"\",0.9626113469796984,0.6609395390284909,\"\",\"\",\"\"],\"yaxis\":\"y2\"},{\"connectgaps\":false,\"fill\":\"tozeroy\",\"line\":{\"color\":\"red\",\"dash\":\"solid\",\"shape\":\"linear\",\"width\":0.5},\"mode\":\"lines\",\"name\":\"Spread\",\"showlegend\":false,\"type\":\"scatter\",\"x\":[0,1,2,3,4,5,6,7,8,9,10,11,12,13,14,15,16,17,18,19,20,21,22,23,24,25,26,27,28,29,30,31,32,33,34,35,36,37,38,39,40,41,42,43,44,45,46,47,48,49,50,51,52,53,54,55,56,57,58,59,60,61,62,63,64,65,66,67,68,69,70,71,72,73,74,75,76,77,78,79,80,81,82,83,84,85,86,87,88,89,90,91,92,93,94,95,96,97,98,99],\"xaxis\":\"x2\",\"y\":[-4.161825617664242,-0.7879786547808671,\"\",-0.9205033978765371,-1.5135330176136126,-1.015504175198908,-1.3892906235076579,\"\",-0.14036699810965464,\"\",-0.21743720383064424,-1.3934931439997411,-0.21879982521732622,\"\",-1.9901148347032862,-1.7778560606004272,\"\",-0.844986754034295,\"\",-2.048877491126162,-1.314314785182515,-2.28394813564078,\"\",-0.6673400546038357,\"\",-1.1454638263023003,\"\",\"\",\"\",-1.2884399388023864,\"\",-1.146761824210019,-0.40716632033983235,-1.4824514273822778,-0.8876464392228558,-0.6021784943357054,\"\",-0.8075277940348394,-1.012117917499101,\"\",-2.200179601822676,\"\",\"\",\"\",-1.085367517612501,\"\",\"\",\"\",-3.1968428116112055,\"\",\"\",-1.2951789142574452,-3.2011596945072043,\"\",-0.6065673614416347,\"\",\"\",-0.8632777932957634,\"\",-0.5921126106378428,\"\",-0.11569657682392043,-0.97279062542831,-0.19672174576280488,-2.2269340592653375,-0.8657893480000163,-1.8144507547980655,\"\",-0.5757061944631875,\"\",\"\",\"\",\"\",-0.8508847514920381,\"\",-0.3751812213940201,-1.9443036347298115,-0.6014465439737686,\"\",-1.3170563357242202,-0.7568175017266887,\"\",\"\",\"\",\"\",\"\",-0.9536004946216561,\"\",-0.8074022310289226,-0.34909142494772016,-1.247030631114499,\"\",-3.000651773018153,\"\",-3.900493443741591,\"\",\"\",-1.089688394917434,-1.2755295605000794,-0.023631168913048395],\"yaxis\":\"y2\"}],                        {\"hovermode\":\"x\",\"legend\":{\"bgcolor\":\"#F5F6F9\",\"font\":{\"color\":\"#4D5663\"}},\"paper_bgcolor\":\"#F5F6F9\",\"plot_bgcolor\":\"#F5F6F9\",\"template\":{\"data\":{\"bar\":[{\"error_x\":{\"color\":\"#2a3f5f\"},\"error_y\":{\"color\":\"#2a3f5f\"},\"marker\":{\"line\":{\"color\":\"#E5ECF6\",\"width\":0.5},\"pattern\":{\"fillmode\":\"overlay\",\"size\":10,\"solidity\":0.2}},\"type\":\"bar\"}],\"barpolar\":[{\"marker\":{\"line\":{\"color\":\"#E5ECF6\",\"width\":0.5},\"pattern\":{\"fillmode\":\"overlay\",\"size\":10,\"solidity\":0.2}},\"type\":\"barpolar\"}],\"carpet\":[{\"aaxis\":{\"endlinecolor\":\"#2a3f5f\",\"gridcolor\":\"white\",\"linecolor\":\"white\",\"minorgridcolor\":\"white\",\"startlinecolor\":\"#2a3f5f\"},\"baxis\":{\"endlinecolor\":\"#2a3f5f\",\"gridcolor\":\"white\",\"linecolor\":\"white\",\"minorgridcolor\":\"white\",\"startlinecolor\":\"#2a3f5f\"},\"type\":\"carpet\"}],\"choropleth\":[{\"colorbar\":{\"outlinewidth\":0,\"ticks\":\"\"},\"type\":\"choropleth\"}],\"contour\":[{\"colorbar\":{\"outlinewidth\":0,\"ticks\":\"\"},\"colorscale\":[[0.0,\"#0d0887\"],[0.1111111111111111,\"#46039f\"],[0.2222222222222222,\"#7201a8\"],[0.3333333333333333,\"#9c179e\"],[0.4444444444444444,\"#bd3786\"],[0.5555555555555556,\"#d8576b\"],[0.6666666666666666,\"#ed7953\"],[0.7777777777777778,\"#fb9f3a\"],[0.8888888888888888,\"#fdca26\"],[1.0,\"#f0f921\"]],\"type\":\"contour\"}],\"contourcarpet\":[{\"colorbar\":{\"outlinewidth\":0,\"ticks\":\"\"},\"type\":\"contourcarpet\"}],\"heatmap\":[{\"colorbar\":{\"outlinewidth\":0,\"ticks\":\"\"},\"colorscale\":[[0.0,\"#0d0887\"],[0.1111111111111111,\"#46039f\"],[0.2222222222222222,\"#7201a8\"],[0.3333333333333333,\"#9c179e\"],[0.4444444444444444,\"#bd3786\"],[0.5555555555555556,\"#d8576b\"],[0.6666666666666666,\"#ed7953\"],[0.7777777777777778,\"#fb9f3a\"],[0.8888888888888888,\"#fdca26\"],[1.0,\"#f0f921\"]],\"type\":\"heatmap\"}],\"heatmapgl\":[{\"colorbar\":{\"outlinewidth\":0,\"ticks\":\"\"},\"colorscale\":[[0.0,\"#0d0887\"],[0.1111111111111111,\"#46039f\"],[0.2222222222222222,\"#7201a8\"],[0.3333333333333333,\"#9c179e\"],[0.4444444444444444,\"#bd3786\"],[0.5555555555555556,\"#d8576b\"],[0.6666666666666666,\"#ed7953\"],[0.7777777777777778,\"#fb9f3a\"],[0.8888888888888888,\"#fdca26\"],[1.0,\"#f0f921\"]],\"type\":\"heatmapgl\"}],\"histogram\":[{\"marker\":{\"pattern\":{\"fillmode\":\"overlay\",\"size\":10,\"solidity\":0.2}},\"type\":\"histogram\"}],\"histogram2d\":[{\"colorbar\":{\"outlinewidth\":0,\"ticks\":\"\"},\"colorscale\":[[0.0,\"#0d0887\"],[0.1111111111111111,\"#46039f\"],[0.2222222222222222,\"#7201a8\"],[0.3333333333333333,\"#9c179e\"],[0.4444444444444444,\"#bd3786\"],[0.5555555555555556,\"#d8576b\"],[0.6666666666666666,\"#ed7953\"],[0.7777777777777778,\"#fb9f3a\"],[0.8888888888888888,\"#fdca26\"],[1.0,\"#f0f921\"]],\"type\":\"histogram2d\"}],\"histogram2dcontour\":[{\"colorbar\":{\"outlinewidth\":0,\"ticks\":\"\"},\"colorscale\":[[0.0,\"#0d0887\"],[0.1111111111111111,\"#46039f\"],[0.2222222222222222,\"#7201a8\"],[0.3333333333333333,\"#9c179e\"],[0.4444444444444444,\"#bd3786\"],[0.5555555555555556,\"#d8576b\"],[0.6666666666666666,\"#ed7953\"],[0.7777777777777778,\"#fb9f3a\"],[0.8888888888888888,\"#fdca26\"],[1.0,\"#f0f921\"]],\"type\":\"histogram2dcontour\"}],\"mesh3d\":[{\"colorbar\":{\"outlinewidth\":0,\"ticks\":\"\"},\"type\":\"mesh3d\"}],\"parcoords\":[{\"line\":{\"colorbar\":{\"outlinewidth\":0,\"ticks\":\"\"}},\"type\":\"parcoords\"}],\"pie\":[{\"automargin\":true,\"type\":\"pie\"}],\"scatter\":[{\"marker\":{\"colorbar\":{\"outlinewidth\":0,\"ticks\":\"\"}},\"type\":\"scatter\"}],\"scatter3d\":[{\"line\":{\"colorbar\":{\"outlinewidth\":0,\"ticks\":\"\"}},\"marker\":{\"colorbar\":{\"outlinewidth\":0,\"ticks\":\"\"}},\"type\":\"scatter3d\"}],\"scattercarpet\":[{\"marker\":{\"colorbar\":{\"outlinewidth\":0,\"ticks\":\"\"}},\"type\":\"scattercarpet\"}],\"scattergeo\":[{\"marker\":{\"colorbar\":{\"outlinewidth\":0,\"ticks\":\"\"}},\"type\":\"scattergeo\"}],\"scattergl\":[{\"marker\":{\"colorbar\":{\"outlinewidth\":0,\"ticks\":\"\"}},\"type\":\"scattergl\"}],\"scattermapbox\":[{\"marker\":{\"colorbar\":{\"outlinewidth\":0,\"ticks\":\"\"}},\"type\":\"scattermapbox\"}],\"scatterpolar\":[{\"marker\":{\"colorbar\":{\"outlinewidth\":0,\"ticks\":\"\"}},\"type\":\"scatterpolar\"}],\"scatterpolargl\":[{\"marker\":{\"colorbar\":{\"outlinewidth\":0,\"ticks\":\"\"}},\"type\":\"scatterpolargl\"}],\"scatterternary\":[{\"marker\":{\"colorbar\":{\"outlinewidth\":0,\"ticks\":\"\"}},\"type\":\"scatterternary\"}],\"surface\":[{\"colorbar\":{\"outlinewidth\":0,\"ticks\":\"\"},\"colorscale\":[[0.0,\"#0d0887\"],[0.1111111111111111,\"#46039f\"],[0.2222222222222222,\"#7201a8\"],[0.3333333333333333,\"#9c179e\"],[0.4444444444444444,\"#bd3786\"],[0.5555555555555556,\"#d8576b\"],[0.6666666666666666,\"#ed7953\"],[0.7777777777777778,\"#fb9f3a\"],[0.8888888888888888,\"#fdca26\"],[1.0,\"#f0f921\"]],\"type\":\"surface\"}],\"table\":[{\"cells\":{\"fill\":{\"color\":\"#EBF0F8\"},\"line\":{\"color\":\"white\"}},\"header\":{\"fill\":{\"color\":\"#C8D4E3\"},\"line\":{\"color\":\"white\"}},\"type\":\"table\"}]},\"layout\":{\"annotationdefaults\":{\"arrowcolor\":\"#2a3f5f\",\"arrowhead\":0,\"arrowwidth\":1},\"autotypenumbers\":\"strict\",\"coloraxis\":{\"colorbar\":{\"outlinewidth\":0,\"ticks\":\"\"}},\"colorscale\":{\"diverging\":[[0,\"#8e0152\"],[0.1,\"#c51b7d\"],[0.2,\"#de77ae\"],[0.3,\"#f1b6da\"],[0.4,\"#fde0ef\"],[0.5,\"#f7f7f7\"],[0.6,\"#e6f5d0\"],[0.7,\"#b8e186\"],[0.8,\"#7fbc41\"],[0.9,\"#4d9221\"],[1,\"#276419\"]],\"sequential\":[[0.0,\"#0d0887\"],[0.1111111111111111,\"#46039f\"],[0.2222222222222222,\"#7201a8\"],[0.3333333333333333,\"#9c179e\"],[0.4444444444444444,\"#bd3786\"],[0.5555555555555556,\"#d8576b\"],[0.6666666666666666,\"#ed7953\"],[0.7777777777777778,\"#fb9f3a\"],[0.8888888888888888,\"#fdca26\"],[1.0,\"#f0f921\"]],\"sequentialminus\":[[0.0,\"#0d0887\"],[0.1111111111111111,\"#46039f\"],[0.2222222222222222,\"#7201a8\"],[0.3333333333333333,\"#9c179e\"],[0.4444444444444444,\"#bd3786\"],[0.5555555555555556,\"#d8576b\"],[0.6666666666666666,\"#ed7953\"],[0.7777777777777778,\"#fb9f3a\"],[0.8888888888888888,\"#fdca26\"],[1.0,\"#f0f921\"]]},\"colorway\":[\"#636efa\",\"#EF553B\",\"#00cc96\",\"#ab63fa\",\"#FFA15A\",\"#19d3f3\",\"#FF6692\",\"#B6E880\",\"#FF97FF\",\"#FECB52\"],\"font\":{\"color\":\"#2a3f5f\"},\"geo\":{\"bgcolor\":\"white\",\"lakecolor\":\"white\",\"landcolor\":\"#E5ECF6\",\"showlakes\":true,\"showland\":true,\"subunitcolor\":\"white\"},\"hoverlabel\":{\"align\":\"left\"},\"hovermode\":\"closest\",\"mapbox\":{\"style\":\"light\"},\"paper_bgcolor\":\"white\",\"plot_bgcolor\":\"#E5ECF6\",\"polar\":{\"angularaxis\":{\"gridcolor\":\"white\",\"linecolor\":\"white\",\"ticks\":\"\"},\"bgcolor\":\"#E5ECF6\",\"radialaxis\":{\"gridcolor\":\"white\",\"linecolor\":\"white\",\"ticks\":\"\"}},\"scene\":{\"xaxis\":{\"backgroundcolor\":\"#E5ECF6\",\"gridcolor\":\"white\",\"gridwidth\":2,\"linecolor\":\"white\",\"showbackground\":true,\"ticks\":\"\",\"zerolinecolor\":\"white\"},\"yaxis\":{\"backgroundcolor\":\"#E5ECF6\",\"gridcolor\":\"white\",\"gridwidth\":2,\"linecolor\":\"white\",\"showbackground\":true,\"ticks\":\"\",\"zerolinecolor\":\"white\"},\"zaxis\":{\"backgroundcolor\":\"#E5ECF6\",\"gridcolor\":\"white\",\"gridwidth\":2,\"linecolor\":\"white\",\"showbackground\":true,\"ticks\":\"\",\"zerolinecolor\":\"white\"}},\"shapedefaults\":{\"line\":{\"color\":\"#2a3f5f\"}},\"ternary\":{\"aaxis\":{\"gridcolor\":\"white\",\"linecolor\":\"white\",\"ticks\":\"\"},\"baxis\":{\"gridcolor\":\"white\",\"linecolor\":\"white\",\"ticks\":\"\"},\"bgcolor\":\"#E5ECF6\",\"caxis\":{\"gridcolor\":\"white\",\"linecolor\":\"white\",\"ticks\":\"\"}},\"title\":{\"x\":0.05},\"xaxis\":{\"automargin\":true,\"gridcolor\":\"white\",\"linecolor\":\"white\",\"ticks\":\"\",\"title\":{\"standoff\":15},\"zerolinecolor\":\"white\",\"zerolinewidth\":2},\"yaxis\":{\"automargin\":true,\"gridcolor\":\"white\",\"linecolor\":\"white\",\"ticks\":\"\",\"title\":{\"standoff\":15},\"zerolinecolor\":\"white\",\"zerolinewidth\":2}}},\"title\":{\"font\":{\"color\":\"#4D5663\"}},\"xaxis\":{\"gridcolor\":\"#E1E5ED\",\"showgrid\":true,\"tickfont\":{\"color\":\"#4D5663\"},\"title\":{\"font\":{\"color\":\"#4D5663\"},\"text\":\"\"},\"zerolinecolor\":\"#E1E5ED\"},\"xaxis2\":{\"anchor\":\"y2\",\"gridcolor\":\"#E1E5ED\",\"showgrid\":true,\"showticklabels\":false,\"tickfont\":{\"color\":\"#4D5663\"},\"title\":{\"font\":{\"color\":\"#4D5663\"},\"text\":\"\"},\"zerolinecolor\":\"#E1E5ED\"},\"yaxis\":{\"domain\":[0.3,1],\"gridcolor\":\"#E1E5ED\",\"showgrid\":true,\"tickfont\":{\"color\":\"#4D5663\"},\"title\":{\"font\":{\"color\":\"#4D5663\"},\"text\":\"\"},\"zerolinecolor\":\"#E1E5ED\"},\"yaxis2\":{\"domain\":[0,0.25],\"gridcolor\":\"#E1E5ED\",\"showgrid\":true,\"tickfont\":{\"color\":\"#4D5663\"},\"title\":{\"font\":{\"color\":\"#4D5663\"},\"text\":\"Spread\"},\"zerolinecolor\":\"#E1E5ED\"}},                        {\"showLink\": true, \"linkText\": \"Export to plot.ly\", \"plotlyServerURL\": \"https://plot.ly\", \"responsive\": true}                    ).then(function(){\n",
       "                            \n",
       "var gd = document.getElementById('5a5acc6a-f38d-4db6-81bc-c2d2d1b8435a');\n",
       "var x = new MutationObserver(function (mutations, observer) {{\n",
       "        var display = window.getComputedStyle(gd).display;\n",
       "        if (!display || display === 'none') {{\n",
       "            console.log([gd, 'removed!']);\n",
       "            Plotly.purge(gd);\n",
       "            observer.disconnect();\n",
       "        }}\n",
       "}});\n",
       "\n",
       "// Listen for the removal of the full notebook cells\n",
       "var notebookContainer = gd.closest('#notebook-container');\n",
       "if (notebookContainer) {{\n",
       "    x.observe(notebookContainer, {childList: true});\n",
       "}}\n",
       "\n",
       "// Listen for the clearing of the current output cell\n",
       "var outputEl = gd.closest('.output');\n",
       "if (outputEl) {{\n",
       "    x.observe(outputEl, {childList: true});\n",
       "}}\n",
       "\n",
       "                        })                };                });            </script>        </div>"
      ]
     },
     "metadata": {},
     "output_type": "display_data"
    }
   ],
   "source": [
    "df[['A','B']].iplot(kind='spread')"
   ]
  },
  {
   "cell_type": "markdown",
   "metadata": {},
   "source": [
    "## histogram"
   ]
  },
  {
   "cell_type": "code",
   "execution_count": 16,
   "metadata": {},
   "outputs": [
    {
     "data": {
      "application/vnd.plotly.v1+json": {
       "config": {
        "linkText": "Export to plot.ly",
        "plotlyServerURL": "https://plot.ly",
        "showLink": true
       },
       "data": [
        {
         "histfunc": "count",
         "histnorm": "",
         "marker": {
          "color": "rgba(255, 153, 51, 1.0)",
          "line": {
           "color": "#4D5663",
           "width": 1.3
          }
         },
         "name": "A",
         "nbinsx": 25,
         "opacity": 0.8,
         "orientation": "v",
         "type": "histogram",
         "x": [
          -1.1260490465847872,
          -0.5310285731898228,
          -0.21205040034769118,
          -0.651475455922811,
          0.267930026293517,
          0.5538298175018117,
          -1.45140732479843,
          -1.0621115937309076,
          -0.5192044609949963,
          0.0980486221556033,
          0.32453375604965784,
          -2.276442079629385,
          -0.8192861375427485,
          1.1455113120411295,
          -2.207736390860511,
          -1.3376249514712373,
          0.03209754247353182,
          0.7583928302046903,
          -1.6170134854635898,
          -2.237874750757624,
          -0.6060517589533632,
          -1.6168160408809342,
          0.5359718867610626,
          -0.19476818097990067,
          1.549886790936583,
          0.9060796159426613,
          1.5947215402086397,
          0.8167721240125655,
          0.9537814344129991,
          0.2853493711489899,
          -0.17105691657817657,
          -0.28014666021393175,
          0.2557815908844224,
          0.8528107746534993,
          0.042477092359645086,
          0.11889724485107526,
          0.5568967127519864,
          -0.18951757678675865,
          -1.692795876607851,
          0.5195944789579467,
          -0.2994710600365143,
          -0.6831317390937071,
          -0.19348745174529508,
          1.0395064395104623,
          0.07492067978804913,
          0.09040894717004969,
          -0.11050134142856363,
          0.688851726129721,
          -3.198080407046479,
          1.2676330352932919,
          0.007743872630742216,
          -1.2910895322695102,
          -1.5602154675409974,
          1.4218179339697663,
          0.4183122847397243,
          -0.9329642604154853,
          0.2775100095479445,
          0.033549272190992546,
          0.2415047057353741,
          0.9133160538203141,
          0.4452762554853484,
          -1.1213396871887524,
          -0.5802689307776701,
          0.577142291912203,
          -0.6714867331416482,
          -0.5113480966342379,
          -0.19394406731004424,
          0.4723599526754415,
          -0.33739551772905935,
          -0.019749545009762132,
          1.6811825369057964,
          0.9582167988724097,
          0.21399135911465308,
          0.2142097194066079,
          0.02866790533178008,
          0.20523734472281827,
          -2.373096948655841,
          -1.2974103299991655,
          0.7243000026849691,
          -1.179732860400752,
          -0.9877065634216783,
          1.858169866287358,
          -0.13616633750761734,
          0.9561184888192411,
          0.570540974318356,
          0.1538565839250256,
          -2.069442309033039,
          0.3386990661074552,
          0.229036109270142,
          -0.5231292314138397,
          -0.6386646920120588,
          1.839979440082232,
          -1.5335772908517662,
          0.3559183575671821,
          -1.8599750710237561,
          -0.22501292767062592,
          0.15865167315484616,
          -1.098219379974984,
          -0.5615283437589845,
          -0.7288531852791184
         ]
        }
       ],
       "layout": {
        "barmode": "overlay",
        "legend": {
         "bgcolor": "#F5F6F9",
         "font": {
          "color": "#4D5663"
         }
        },
        "paper_bgcolor": "#F5F6F9",
        "plot_bgcolor": "#F5F6F9",
        "template": {
         "data": {
          "bar": [
           {
            "error_x": {
             "color": "#2a3f5f"
            },
            "error_y": {
             "color": "#2a3f5f"
            },
            "marker": {
             "line": {
              "color": "#E5ECF6",
              "width": 0.5
             },
             "pattern": {
              "fillmode": "overlay",
              "size": 10,
              "solidity": 0.2
             }
            },
            "type": "bar"
           }
          ],
          "barpolar": [
           {
            "marker": {
             "line": {
              "color": "#E5ECF6",
              "width": 0.5
             },
             "pattern": {
              "fillmode": "overlay",
              "size": 10,
              "solidity": 0.2
             }
            },
            "type": "barpolar"
           }
          ],
          "carpet": [
           {
            "aaxis": {
             "endlinecolor": "#2a3f5f",
             "gridcolor": "white",
             "linecolor": "white",
             "minorgridcolor": "white",
             "startlinecolor": "#2a3f5f"
            },
            "baxis": {
             "endlinecolor": "#2a3f5f",
             "gridcolor": "white",
             "linecolor": "white",
             "minorgridcolor": "white",
             "startlinecolor": "#2a3f5f"
            },
            "type": "carpet"
           }
          ],
          "choropleth": [
           {
            "colorbar": {
             "outlinewidth": 0,
             "ticks": ""
            },
            "type": "choropleth"
           }
          ],
          "contour": [
           {
            "colorbar": {
             "outlinewidth": 0,
             "ticks": ""
            },
            "colorscale": [
             [
              0,
              "#0d0887"
             ],
             [
              0.1111111111111111,
              "#46039f"
             ],
             [
              0.2222222222222222,
              "#7201a8"
             ],
             [
              0.3333333333333333,
              "#9c179e"
             ],
             [
              0.4444444444444444,
              "#bd3786"
             ],
             [
              0.5555555555555556,
              "#d8576b"
             ],
             [
              0.6666666666666666,
              "#ed7953"
             ],
             [
              0.7777777777777778,
              "#fb9f3a"
             ],
             [
              0.8888888888888888,
              "#fdca26"
             ],
             [
              1,
              "#f0f921"
             ]
            ],
            "type": "contour"
           }
          ],
          "contourcarpet": [
           {
            "colorbar": {
             "outlinewidth": 0,
             "ticks": ""
            },
            "type": "contourcarpet"
           }
          ],
          "heatmap": [
           {
            "colorbar": {
             "outlinewidth": 0,
             "ticks": ""
            },
            "colorscale": [
             [
              0,
              "#0d0887"
             ],
             [
              0.1111111111111111,
              "#46039f"
             ],
             [
              0.2222222222222222,
              "#7201a8"
             ],
             [
              0.3333333333333333,
              "#9c179e"
             ],
             [
              0.4444444444444444,
              "#bd3786"
             ],
             [
              0.5555555555555556,
              "#d8576b"
             ],
             [
              0.6666666666666666,
              "#ed7953"
             ],
             [
              0.7777777777777778,
              "#fb9f3a"
             ],
             [
              0.8888888888888888,
              "#fdca26"
             ],
             [
              1,
              "#f0f921"
             ]
            ],
            "type": "heatmap"
           }
          ],
          "heatmapgl": [
           {
            "colorbar": {
             "outlinewidth": 0,
             "ticks": ""
            },
            "colorscale": [
             [
              0,
              "#0d0887"
             ],
             [
              0.1111111111111111,
              "#46039f"
             ],
             [
              0.2222222222222222,
              "#7201a8"
             ],
             [
              0.3333333333333333,
              "#9c179e"
             ],
             [
              0.4444444444444444,
              "#bd3786"
             ],
             [
              0.5555555555555556,
              "#d8576b"
             ],
             [
              0.6666666666666666,
              "#ed7953"
             ],
             [
              0.7777777777777778,
              "#fb9f3a"
             ],
             [
              0.8888888888888888,
              "#fdca26"
             ],
             [
              1,
              "#f0f921"
             ]
            ],
            "type": "heatmapgl"
           }
          ],
          "histogram": [
           {
            "marker": {
             "pattern": {
              "fillmode": "overlay",
              "size": 10,
              "solidity": 0.2
             }
            },
            "type": "histogram"
           }
          ],
          "histogram2d": [
           {
            "colorbar": {
             "outlinewidth": 0,
             "ticks": ""
            },
            "colorscale": [
             [
              0,
              "#0d0887"
             ],
             [
              0.1111111111111111,
              "#46039f"
             ],
             [
              0.2222222222222222,
              "#7201a8"
             ],
             [
              0.3333333333333333,
              "#9c179e"
             ],
             [
              0.4444444444444444,
              "#bd3786"
             ],
             [
              0.5555555555555556,
              "#d8576b"
             ],
             [
              0.6666666666666666,
              "#ed7953"
             ],
             [
              0.7777777777777778,
              "#fb9f3a"
             ],
             [
              0.8888888888888888,
              "#fdca26"
             ],
             [
              1,
              "#f0f921"
             ]
            ],
            "type": "histogram2d"
           }
          ],
          "histogram2dcontour": [
           {
            "colorbar": {
             "outlinewidth": 0,
             "ticks": ""
            },
            "colorscale": [
             [
              0,
              "#0d0887"
             ],
             [
              0.1111111111111111,
              "#46039f"
             ],
             [
              0.2222222222222222,
              "#7201a8"
             ],
             [
              0.3333333333333333,
              "#9c179e"
             ],
             [
              0.4444444444444444,
              "#bd3786"
             ],
             [
              0.5555555555555556,
              "#d8576b"
             ],
             [
              0.6666666666666666,
              "#ed7953"
             ],
             [
              0.7777777777777778,
              "#fb9f3a"
             ],
             [
              0.8888888888888888,
              "#fdca26"
             ],
             [
              1,
              "#f0f921"
             ]
            ],
            "type": "histogram2dcontour"
           }
          ],
          "mesh3d": [
           {
            "colorbar": {
             "outlinewidth": 0,
             "ticks": ""
            },
            "type": "mesh3d"
           }
          ],
          "parcoords": [
           {
            "line": {
             "colorbar": {
              "outlinewidth": 0,
              "ticks": ""
             }
            },
            "type": "parcoords"
           }
          ],
          "pie": [
           {
            "automargin": true,
            "type": "pie"
           }
          ],
          "scatter": [
           {
            "marker": {
             "colorbar": {
              "outlinewidth": 0,
              "ticks": ""
             }
            },
            "type": "scatter"
           }
          ],
          "scatter3d": [
           {
            "line": {
             "colorbar": {
              "outlinewidth": 0,
              "ticks": ""
             }
            },
            "marker": {
             "colorbar": {
              "outlinewidth": 0,
              "ticks": ""
             }
            },
            "type": "scatter3d"
           }
          ],
          "scattercarpet": [
           {
            "marker": {
             "colorbar": {
              "outlinewidth": 0,
              "ticks": ""
             }
            },
            "type": "scattercarpet"
           }
          ],
          "scattergeo": [
           {
            "marker": {
             "colorbar": {
              "outlinewidth": 0,
              "ticks": ""
             }
            },
            "type": "scattergeo"
           }
          ],
          "scattergl": [
           {
            "marker": {
             "colorbar": {
              "outlinewidth": 0,
              "ticks": ""
             }
            },
            "type": "scattergl"
           }
          ],
          "scattermapbox": [
           {
            "marker": {
             "colorbar": {
              "outlinewidth": 0,
              "ticks": ""
             }
            },
            "type": "scattermapbox"
           }
          ],
          "scatterpolar": [
           {
            "marker": {
             "colorbar": {
              "outlinewidth": 0,
              "ticks": ""
             }
            },
            "type": "scatterpolar"
           }
          ],
          "scatterpolargl": [
           {
            "marker": {
             "colorbar": {
              "outlinewidth": 0,
              "ticks": ""
             }
            },
            "type": "scatterpolargl"
           }
          ],
          "scatterternary": [
           {
            "marker": {
             "colorbar": {
              "outlinewidth": 0,
              "ticks": ""
             }
            },
            "type": "scatterternary"
           }
          ],
          "surface": [
           {
            "colorbar": {
             "outlinewidth": 0,
             "ticks": ""
            },
            "colorscale": [
             [
              0,
              "#0d0887"
             ],
             [
              0.1111111111111111,
              "#46039f"
             ],
             [
              0.2222222222222222,
              "#7201a8"
             ],
             [
              0.3333333333333333,
              "#9c179e"
             ],
             [
              0.4444444444444444,
              "#bd3786"
             ],
             [
              0.5555555555555556,
              "#d8576b"
             ],
             [
              0.6666666666666666,
              "#ed7953"
             ],
             [
              0.7777777777777778,
              "#fb9f3a"
             ],
             [
              0.8888888888888888,
              "#fdca26"
             ],
             [
              1,
              "#f0f921"
             ]
            ],
            "type": "surface"
           }
          ],
          "table": [
           {
            "cells": {
             "fill": {
              "color": "#EBF0F8"
             },
             "line": {
              "color": "white"
             }
            },
            "header": {
             "fill": {
              "color": "#C8D4E3"
             },
             "line": {
              "color": "white"
             }
            },
            "type": "table"
           }
          ]
         },
         "layout": {
          "annotationdefaults": {
           "arrowcolor": "#2a3f5f",
           "arrowhead": 0,
           "arrowwidth": 1
          },
          "autotypenumbers": "strict",
          "coloraxis": {
           "colorbar": {
            "outlinewidth": 0,
            "ticks": ""
           }
          },
          "colorscale": {
           "diverging": [
            [
             0,
             "#8e0152"
            ],
            [
             0.1,
             "#c51b7d"
            ],
            [
             0.2,
             "#de77ae"
            ],
            [
             0.3,
             "#f1b6da"
            ],
            [
             0.4,
             "#fde0ef"
            ],
            [
             0.5,
             "#f7f7f7"
            ],
            [
             0.6,
             "#e6f5d0"
            ],
            [
             0.7,
             "#b8e186"
            ],
            [
             0.8,
             "#7fbc41"
            ],
            [
             0.9,
             "#4d9221"
            ],
            [
             1,
             "#276419"
            ]
           ],
           "sequential": [
            [
             0,
             "#0d0887"
            ],
            [
             0.1111111111111111,
             "#46039f"
            ],
            [
             0.2222222222222222,
             "#7201a8"
            ],
            [
             0.3333333333333333,
             "#9c179e"
            ],
            [
             0.4444444444444444,
             "#bd3786"
            ],
            [
             0.5555555555555556,
             "#d8576b"
            ],
            [
             0.6666666666666666,
             "#ed7953"
            ],
            [
             0.7777777777777778,
             "#fb9f3a"
            ],
            [
             0.8888888888888888,
             "#fdca26"
            ],
            [
             1,
             "#f0f921"
            ]
           ],
           "sequentialminus": [
            [
             0,
             "#0d0887"
            ],
            [
             0.1111111111111111,
             "#46039f"
            ],
            [
             0.2222222222222222,
             "#7201a8"
            ],
            [
             0.3333333333333333,
             "#9c179e"
            ],
            [
             0.4444444444444444,
             "#bd3786"
            ],
            [
             0.5555555555555556,
             "#d8576b"
            ],
            [
             0.6666666666666666,
             "#ed7953"
            ],
            [
             0.7777777777777778,
             "#fb9f3a"
            ],
            [
             0.8888888888888888,
             "#fdca26"
            ],
            [
             1,
             "#f0f921"
            ]
           ]
          },
          "colorway": [
           "#636efa",
           "#EF553B",
           "#00cc96",
           "#ab63fa",
           "#FFA15A",
           "#19d3f3",
           "#FF6692",
           "#B6E880",
           "#FF97FF",
           "#FECB52"
          ],
          "font": {
           "color": "#2a3f5f"
          },
          "geo": {
           "bgcolor": "white",
           "lakecolor": "white",
           "landcolor": "#E5ECF6",
           "showlakes": true,
           "showland": true,
           "subunitcolor": "white"
          },
          "hoverlabel": {
           "align": "left"
          },
          "hovermode": "closest",
          "mapbox": {
           "style": "light"
          },
          "paper_bgcolor": "white",
          "plot_bgcolor": "#E5ECF6",
          "polar": {
           "angularaxis": {
            "gridcolor": "white",
            "linecolor": "white",
            "ticks": ""
           },
           "bgcolor": "#E5ECF6",
           "radialaxis": {
            "gridcolor": "white",
            "linecolor": "white",
            "ticks": ""
           }
          },
          "scene": {
           "xaxis": {
            "backgroundcolor": "#E5ECF6",
            "gridcolor": "white",
            "gridwidth": 2,
            "linecolor": "white",
            "showbackground": true,
            "ticks": "",
            "zerolinecolor": "white"
           },
           "yaxis": {
            "backgroundcolor": "#E5ECF6",
            "gridcolor": "white",
            "gridwidth": 2,
            "linecolor": "white",
            "showbackground": true,
            "ticks": "",
            "zerolinecolor": "white"
           },
           "zaxis": {
            "backgroundcolor": "#E5ECF6",
            "gridcolor": "white",
            "gridwidth": 2,
            "linecolor": "white",
            "showbackground": true,
            "ticks": "",
            "zerolinecolor": "white"
           }
          },
          "shapedefaults": {
           "line": {
            "color": "#2a3f5f"
           }
          },
          "ternary": {
           "aaxis": {
            "gridcolor": "white",
            "linecolor": "white",
            "ticks": ""
           },
           "baxis": {
            "gridcolor": "white",
            "linecolor": "white",
            "ticks": ""
           },
           "bgcolor": "#E5ECF6",
           "caxis": {
            "gridcolor": "white",
            "linecolor": "white",
            "ticks": ""
           }
          },
          "title": {
           "x": 0.05
          },
          "xaxis": {
           "automargin": true,
           "gridcolor": "white",
           "linecolor": "white",
           "ticks": "",
           "title": {
            "standoff": 15
           },
           "zerolinecolor": "white",
           "zerolinewidth": 2
          },
          "yaxis": {
           "automargin": true,
           "gridcolor": "white",
           "linecolor": "white",
           "ticks": "",
           "title": {
            "standoff": 15
           },
           "zerolinecolor": "white",
           "zerolinewidth": 2
          }
         }
        },
        "title": {
         "font": {
          "color": "#4D5663"
         }
        },
        "xaxis": {
         "gridcolor": "#E1E5ED",
         "showgrid": true,
         "tickfont": {
          "color": "#4D5663"
         },
         "title": {
          "font": {
           "color": "#4D5663"
          },
          "text": ""
         },
         "zerolinecolor": "#E1E5ED"
        },
        "yaxis": {
         "gridcolor": "#E1E5ED",
         "showgrid": true,
         "tickfont": {
          "color": "#4D5663"
         },
         "title": {
          "font": {
           "color": "#4D5663"
          },
          "text": ""
         },
         "zerolinecolor": "#E1E5ED"
        }
       }
      },
      "text/html": [
       "<div>                            <div id=\"83aa45c7-a3eb-4303-afdd-ba82302290e8\" class=\"plotly-graph-div\" style=\"height:525px; width:100%;\"></div>            <script type=\"text/javascript\">                require([\"plotly\"], function(Plotly) {                    window.PLOTLYENV=window.PLOTLYENV || {};\n",
       "                    window.PLOTLYENV.BASE_URL='https://plot.ly';                                    if (document.getElementById(\"83aa45c7-a3eb-4303-afdd-ba82302290e8\")) {                    Plotly.newPlot(                        \"83aa45c7-a3eb-4303-afdd-ba82302290e8\",                        [{\"histfunc\":\"count\",\"histnorm\":\"\",\"marker\":{\"color\":\"rgba(255, 153, 51, 1.0)\",\"line\":{\"color\":\"#4D5663\",\"width\":1.3}},\"name\":\"A\",\"nbinsx\":25,\"opacity\":0.8,\"orientation\":\"v\",\"type\":\"histogram\",\"x\":[-1.1260490465847872,-0.5310285731898228,-0.21205040034769118,-0.651475455922811,0.267930026293517,0.5538298175018117,-1.45140732479843,-1.0621115937309076,-0.5192044609949963,0.0980486221556033,0.32453375604965784,-2.276442079629385,-0.8192861375427485,1.1455113120411295,-2.207736390860511,-1.3376249514712373,0.03209754247353182,0.7583928302046903,-1.6170134854635898,-2.237874750757624,-0.6060517589533632,-1.6168160408809342,0.5359718867610626,-0.19476818097990067,1.549886790936583,0.9060796159426613,1.5947215402086397,0.8167721240125655,0.9537814344129991,0.2853493711489899,-0.17105691657817657,-0.28014666021393175,0.2557815908844224,0.8528107746534993,0.042477092359645086,0.11889724485107526,0.5568967127519864,-0.18951757678675865,-1.692795876607851,0.5195944789579467,-0.2994710600365143,-0.6831317390937071,-0.19348745174529508,1.0395064395104623,0.07492067978804913,0.09040894717004969,-0.11050134142856363,0.688851726129721,-3.198080407046479,1.2676330352932919,0.007743872630742216,-1.2910895322695102,-1.5602154675409974,1.4218179339697663,0.4183122847397243,-0.9329642604154853,0.2775100095479445,0.033549272190992546,0.2415047057353741,0.9133160538203141,0.4452762554853484,-1.1213396871887524,-0.5802689307776701,0.577142291912203,-0.6714867331416482,-0.5113480966342379,-0.19394406731004424,0.4723599526754415,-0.33739551772905935,-0.019749545009762132,1.6811825369057964,0.9582167988724097,0.21399135911465308,0.2142097194066079,0.02866790533178008,0.20523734472281827,-2.373096948655841,-1.2974103299991655,0.7243000026849691,-1.179732860400752,-0.9877065634216783,1.858169866287358,-0.13616633750761734,0.9561184888192411,0.570540974318356,0.1538565839250256,-2.069442309033039,0.3386990661074552,0.229036109270142,-0.5231292314138397,-0.6386646920120588,1.839979440082232,-1.5335772908517662,0.3559183575671821,-1.8599750710237561,-0.22501292767062592,0.15865167315484616,-1.098219379974984,-0.5615283437589845,-0.7288531852791184]}],                        {\"barmode\":\"overlay\",\"legend\":{\"bgcolor\":\"#F5F6F9\",\"font\":{\"color\":\"#4D5663\"}},\"paper_bgcolor\":\"#F5F6F9\",\"plot_bgcolor\":\"#F5F6F9\",\"template\":{\"data\":{\"bar\":[{\"error_x\":{\"color\":\"#2a3f5f\"},\"error_y\":{\"color\":\"#2a3f5f\"},\"marker\":{\"line\":{\"color\":\"#E5ECF6\",\"width\":0.5},\"pattern\":{\"fillmode\":\"overlay\",\"size\":10,\"solidity\":0.2}},\"type\":\"bar\"}],\"barpolar\":[{\"marker\":{\"line\":{\"color\":\"#E5ECF6\",\"width\":0.5},\"pattern\":{\"fillmode\":\"overlay\",\"size\":10,\"solidity\":0.2}},\"type\":\"barpolar\"}],\"carpet\":[{\"aaxis\":{\"endlinecolor\":\"#2a3f5f\",\"gridcolor\":\"white\",\"linecolor\":\"white\",\"minorgridcolor\":\"white\",\"startlinecolor\":\"#2a3f5f\"},\"baxis\":{\"endlinecolor\":\"#2a3f5f\",\"gridcolor\":\"white\",\"linecolor\":\"white\",\"minorgridcolor\":\"white\",\"startlinecolor\":\"#2a3f5f\"},\"type\":\"carpet\"}],\"choropleth\":[{\"colorbar\":{\"outlinewidth\":0,\"ticks\":\"\"},\"type\":\"choropleth\"}],\"contour\":[{\"colorbar\":{\"outlinewidth\":0,\"ticks\":\"\"},\"colorscale\":[[0.0,\"#0d0887\"],[0.1111111111111111,\"#46039f\"],[0.2222222222222222,\"#7201a8\"],[0.3333333333333333,\"#9c179e\"],[0.4444444444444444,\"#bd3786\"],[0.5555555555555556,\"#d8576b\"],[0.6666666666666666,\"#ed7953\"],[0.7777777777777778,\"#fb9f3a\"],[0.8888888888888888,\"#fdca26\"],[1.0,\"#f0f921\"]],\"type\":\"contour\"}],\"contourcarpet\":[{\"colorbar\":{\"outlinewidth\":0,\"ticks\":\"\"},\"type\":\"contourcarpet\"}],\"heatmap\":[{\"colorbar\":{\"outlinewidth\":0,\"ticks\":\"\"},\"colorscale\":[[0.0,\"#0d0887\"],[0.1111111111111111,\"#46039f\"],[0.2222222222222222,\"#7201a8\"],[0.3333333333333333,\"#9c179e\"],[0.4444444444444444,\"#bd3786\"],[0.5555555555555556,\"#d8576b\"],[0.6666666666666666,\"#ed7953\"],[0.7777777777777778,\"#fb9f3a\"],[0.8888888888888888,\"#fdca26\"],[1.0,\"#f0f921\"]],\"type\":\"heatmap\"}],\"heatmapgl\":[{\"colorbar\":{\"outlinewidth\":0,\"ticks\":\"\"},\"colorscale\":[[0.0,\"#0d0887\"],[0.1111111111111111,\"#46039f\"],[0.2222222222222222,\"#7201a8\"],[0.3333333333333333,\"#9c179e\"],[0.4444444444444444,\"#bd3786\"],[0.5555555555555556,\"#d8576b\"],[0.6666666666666666,\"#ed7953\"],[0.7777777777777778,\"#fb9f3a\"],[0.8888888888888888,\"#fdca26\"],[1.0,\"#f0f921\"]],\"type\":\"heatmapgl\"}],\"histogram\":[{\"marker\":{\"pattern\":{\"fillmode\":\"overlay\",\"size\":10,\"solidity\":0.2}},\"type\":\"histogram\"}],\"histogram2d\":[{\"colorbar\":{\"outlinewidth\":0,\"ticks\":\"\"},\"colorscale\":[[0.0,\"#0d0887\"],[0.1111111111111111,\"#46039f\"],[0.2222222222222222,\"#7201a8\"],[0.3333333333333333,\"#9c179e\"],[0.4444444444444444,\"#bd3786\"],[0.5555555555555556,\"#d8576b\"],[0.6666666666666666,\"#ed7953\"],[0.7777777777777778,\"#fb9f3a\"],[0.8888888888888888,\"#fdca26\"],[1.0,\"#f0f921\"]],\"type\":\"histogram2d\"}],\"histogram2dcontour\":[{\"colorbar\":{\"outlinewidth\":0,\"ticks\":\"\"},\"colorscale\":[[0.0,\"#0d0887\"],[0.1111111111111111,\"#46039f\"],[0.2222222222222222,\"#7201a8\"],[0.3333333333333333,\"#9c179e\"],[0.4444444444444444,\"#bd3786\"],[0.5555555555555556,\"#d8576b\"],[0.6666666666666666,\"#ed7953\"],[0.7777777777777778,\"#fb9f3a\"],[0.8888888888888888,\"#fdca26\"],[1.0,\"#f0f921\"]],\"type\":\"histogram2dcontour\"}],\"mesh3d\":[{\"colorbar\":{\"outlinewidth\":0,\"ticks\":\"\"},\"type\":\"mesh3d\"}],\"parcoords\":[{\"line\":{\"colorbar\":{\"outlinewidth\":0,\"ticks\":\"\"}},\"type\":\"parcoords\"}],\"pie\":[{\"automargin\":true,\"type\":\"pie\"}],\"scatter\":[{\"marker\":{\"colorbar\":{\"outlinewidth\":0,\"ticks\":\"\"}},\"type\":\"scatter\"}],\"scatter3d\":[{\"line\":{\"colorbar\":{\"outlinewidth\":0,\"ticks\":\"\"}},\"marker\":{\"colorbar\":{\"outlinewidth\":0,\"ticks\":\"\"}},\"type\":\"scatter3d\"}],\"scattercarpet\":[{\"marker\":{\"colorbar\":{\"outlinewidth\":0,\"ticks\":\"\"}},\"type\":\"scattercarpet\"}],\"scattergeo\":[{\"marker\":{\"colorbar\":{\"outlinewidth\":0,\"ticks\":\"\"}},\"type\":\"scattergeo\"}],\"scattergl\":[{\"marker\":{\"colorbar\":{\"outlinewidth\":0,\"ticks\":\"\"}},\"type\":\"scattergl\"}],\"scattermapbox\":[{\"marker\":{\"colorbar\":{\"outlinewidth\":0,\"ticks\":\"\"}},\"type\":\"scattermapbox\"}],\"scatterpolar\":[{\"marker\":{\"colorbar\":{\"outlinewidth\":0,\"ticks\":\"\"}},\"type\":\"scatterpolar\"}],\"scatterpolargl\":[{\"marker\":{\"colorbar\":{\"outlinewidth\":0,\"ticks\":\"\"}},\"type\":\"scatterpolargl\"}],\"scatterternary\":[{\"marker\":{\"colorbar\":{\"outlinewidth\":0,\"ticks\":\"\"}},\"type\":\"scatterternary\"}],\"surface\":[{\"colorbar\":{\"outlinewidth\":0,\"ticks\":\"\"},\"colorscale\":[[0.0,\"#0d0887\"],[0.1111111111111111,\"#46039f\"],[0.2222222222222222,\"#7201a8\"],[0.3333333333333333,\"#9c179e\"],[0.4444444444444444,\"#bd3786\"],[0.5555555555555556,\"#d8576b\"],[0.6666666666666666,\"#ed7953\"],[0.7777777777777778,\"#fb9f3a\"],[0.8888888888888888,\"#fdca26\"],[1.0,\"#f0f921\"]],\"type\":\"surface\"}],\"table\":[{\"cells\":{\"fill\":{\"color\":\"#EBF0F8\"},\"line\":{\"color\":\"white\"}},\"header\":{\"fill\":{\"color\":\"#C8D4E3\"},\"line\":{\"color\":\"white\"}},\"type\":\"table\"}]},\"layout\":{\"annotationdefaults\":{\"arrowcolor\":\"#2a3f5f\",\"arrowhead\":0,\"arrowwidth\":1},\"autotypenumbers\":\"strict\",\"coloraxis\":{\"colorbar\":{\"outlinewidth\":0,\"ticks\":\"\"}},\"colorscale\":{\"diverging\":[[0,\"#8e0152\"],[0.1,\"#c51b7d\"],[0.2,\"#de77ae\"],[0.3,\"#f1b6da\"],[0.4,\"#fde0ef\"],[0.5,\"#f7f7f7\"],[0.6,\"#e6f5d0\"],[0.7,\"#b8e186\"],[0.8,\"#7fbc41\"],[0.9,\"#4d9221\"],[1,\"#276419\"]],\"sequential\":[[0.0,\"#0d0887\"],[0.1111111111111111,\"#46039f\"],[0.2222222222222222,\"#7201a8\"],[0.3333333333333333,\"#9c179e\"],[0.4444444444444444,\"#bd3786\"],[0.5555555555555556,\"#d8576b\"],[0.6666666666666666,\"#ed7953\"],[0.7777777777777778,\"#fb9f3a\"],[0.8888888888888888,\"#fdca26\"],[1.0,\"#f0f921\"]],\"sequentialminus\":[[0.0,\"#0d0887\"],[0.1111111111111111,\"#46039f\"],[0.2222222222222222,\"#7201a8\"],[0.3333333333333333,\"#9c179e\"],[0.4444444444444444,\"#bd3786\"],[0.5555555555555556,\"#d8576b\"],[0.6666666666666666,\"#ed7953\"],[0.7777777777777778,\"#fb9f3a\"],[0.8888888888888888,\"#fdca26\"],[1.0,\"#f0f921\"]]},\"colorway\":[\"#636efa\",\"#EF553B\",\"#00cc96\",\"#ab63fa\",\"#FFA15A\",\"#19d3f3\",\"#FF6692\",\"#B6E880\",\"#FF97FF\",\"#FECB52\"],\"font\":{\"color\":\"#2a3f5f\"},\"geo\":{\"bgcolor\":\"white\",\"lakecolor\":\"white\",\"landcolor\":\"#E5ECF6\",\"showlakes\":true,\"showland\":true,\"subunitcolor\":\"white\"},\"hoverlabel\":{\"align\":\"left\"},\"hovermode\":\"closest\",\"mapbox\":{\"style\":\"light\"},\"paper_bgcolor\":\"white\",\"plot_bgcolor\":\"#E5ECF6\",\"polar\":{\"angularaxis\":{\"gridcolor\":\"white\",\"linecolor\":\"white\",\"ticks\":\"\"},\"bgcolor\":\"#E5ECF6\",\"radialaxis\":{\"gridcolor\":\"white\",\"linecolor\":\"white\",\"ticks\":\"\"}},\"scene\":{\"xaxis\":{\"backgroundcolor\":\"#E5ECF6\",\"gridcolor\":\"white\",\"gridwidth\":2,\"linecolor\":\"white\",\"showbackground\":true,\"ticks\":\"\",\"zerolinecolor\":\"white\"},\"yaxis\":{\"backgroundcolor\":\"#E5ECF6\",\"gridcolor\":\"white\",\"gridwidth\":2,\"linecolor\":\"white\",\"showbackground\":true,\"ticks\":\"\",\"zerolinecolor\":\"white\"},\"zaxis\":{\"backgroundcolor\":\"#E5ECF6\",\"gridcolor\":\"white\",\"gridwidth\":2,\"linecolor\":\"white\",\"showbackground\":true,\"ticks\":\"\",\"zerolinecolor\":\"white\"}},\"shapedefaults\":{\"line\":{\"color\":\"#2a3f5f\"}},\"ternary\":{\"aaxis\":{\"gridcolor\":\"white\",\"linecolor\":\"white\",\"ticks\":\"\"},\"baxis\":{\"gridcolor\":\"white\",\"linecolor\":\"white\",\"ticks\":\"\"},\"bgcolor\":\"#E5ECF6\",\"caxis\":{\"gridcolor\":\"white\",\"linecolor\":\"white\",\"ticks\":\"\"}},\"title\":{\"x\":0.05},\"xaxis\":{\"automargin\":true,\"gridcolor\":\"white\",\"linecolor\":\"white\",\"ticks\":\"\",\"title\":{\"standoff\":15},\"zerolinecolor\":\"white\",\"zerolinewidth\":2},\"yaxis\":{\"automargin\":true,\"gridcolor\":\"white\",\"linecolor\":\"white\",\"ticks\":\"\",\"title\":{\"standoff\":15},\"zerolinecolor\":\"white\",\"zerolinewidth\":2}}},\"title\":{\"font\":{\"color\":\"#4D5663\"}},\"xaxis\":{\"gridcolor\":\"#E1E5ED\",\"showgrid\":true,\"tickfont\":{\"color\":\"#4D5663\"},\"title\":{\"font\":{\"color\":\"#4D5663\"},\"text\":\"\"},\"zerolinecolor\":\"#E1E5ED\"},\"yaxis\":{\"gridcolor\":\"#E1E5ED\",\"showgrid\":true,\"tickfont\":{\"color\":\"#4D5663\"},\"title\":{\"font\":{\"color\":\"#4D5663\"},\"text\":\"\"},\"zerolinecolor\":\"#E1E5ED\"}},                        {\"showLink\": true, \"linkText\": \"Export to plot.ly\", \"plotlyServerURL\": \"https://plot.ly\", \"responsive\": true}                    ).then(function(){\n",
       "                            \n",
       "var gd = document.getElementById('83aa45c7-a3eb-4303-afdd-ba82302290e8');\n",
       "var x = new MutationObserver(function (mutations, observer) {{\n",
       "        var display = window.getComputedStyle(gd).display;\n",
       "        if (!display || display === 'none') {{\n",
       "            console.log([gd, 'removed!']);\n",
       "            Plotly.purge(gd);\n",
       "            observer.disconnect();\n",
       "        }}\n",
       "}});\n",
       "\n",
       "// Listen for the removal of the full notebook cells\n",
       "var notebookContainer = gd.closest('#notebook-container');\n",
       "if (notebookContainer) {{\n",
       "    x.observe(notebookContainer, {childList: true});\n",
       "}}\n",
       "\n",
       "// Listen for the clearing of the current output cell\n",
       "var outputEl = gd.closest('.output');\n",
       "if (outputEl) {{\n",
       "    x.observe(outputEl, {childList: true});\n",
       "}}\n",
       "\n",
       "                        })                };                });            </script>        </div>"
      ]
     },
     "metadata": {},
     "output_type": "display_data"
    }
   ],
   "source": [
    "df['A'].iplot(kind='hist',bins=25)"
   ]
  },
  {
   "cell_type": "code",
   "execution_count": 17,
   "metadata": {},
   "outputs": [
    {
     "data": {
      "application/vnd.plotly.v1+json": {
       "config": {
        "linkText": "Export to plot.ly",
        "plotlyServerURL": "https://plot.ly",
        "showLink": true
       },
       "data": [
        {
         "marker": {
          "color": [
           "rgb(255, 153, 51)",
           "rgb(55, 128, 191)",
           "rgb(50, 171, 96)",
           "rgb(128, 0, 128)",
           "rgb(219, 64, 82)",
           "rgb(0, 128, 128)",
           "rgb(255, 255, 51)",
           "rgb(128, 128, 0)",
           "rgb(251, 128, 114)",
           "rgb(128, 177, 211)"
          ],
          "line": {
           "width": 1.3
          },
          "size": [
           61,
           51,
           33,
           31,
           87,
           78,
           61,
           74,
           54,
           66,
           74,
           34,
           64,
           46,
           78,
           55,
           51,
           99,
           112,
           74,
           35,
           50,
           51,
           91,
           75,
           88,
           69,
           91,
           62,
           52,
           104,
           81,
           12,
           45,
           62,
           79,
           54,
           76,
           45,
           51,
           64,
           67,
           98,
           84,
           65,
           45,
           90,
           80,
           46,
           52,
           35,
           108,
           73,
           58,
           84,
           43,
           60,
           105,
           86,
           23,
           35,
           88,
           91,
           42,
           31,
           105,
           62,
           65,
           66,
           82,
           79,
           85,
           62,
           63,
           66,
           29,
           34,
           84,
           86,
           12,
           49,
           39,
           27,
           89,
           77,
           47,
           32,
           72,
           82,
           72,
           85,
           79,
           87,
           76,
           54,
           60,
           59,
           17,
           77,
           41
          ],
          "symbol": "circle"
         },
         "mode": "markers",
         "text": "",
         "type": "scatter",
         "x": [
          -1.1260490465847872,
          -0.5310285731898228,
          -0.21205040034769118,
          -0.651475455922811,
          0.267930026293517,
          0.5538298175018117,
          -1.45140732479843,
          -1.0621115937309076,
          -0.5192044609949963,
          0.0980486221556033,
          0.32453375604965784,
          -2.276442079629385,
          -0.8192861375427485,
          1.1455113120411295,
          -2.207736390860511,
          -1.3376249514712373,
          0.03209754247353182,
          0.7583928302046903,
          -1.6170134854635898,
          -2.237874750757624,
          -0.6060517589533632,
          -1.6168160408809342,
          0.5359718867610626,
          -0.19476818097990067,
          1.549886790936583,
          0.9060796159426613,
          1.5947215402086397,
          0.8167721240125655,
          0.9537814344129991,
          0.2853493711489899,
          -0.17105691657817657,
          -0.28014666021393175,
          0.2557815908844224,
          0.8528107746534993,
          0.042477092359645086,
          0.11889724485107526,
          0.5568967127519864,
          -0.18951757678675865,
          -1.692795876607851,
          0.5195944789579467,
          -0.2994710600365143,
          -0.6831317390937071,
          -0.19348745174529508,
          1.0395064395104623,
          0.07492067978804913,
          0.09040894717004969,
          -0.11050134142856363,
          0.688851726129721,
          -3.198080407046479,
          1.2676330352932919,
          0.007743872630742216,
          -1.2910895322695102,
          -1.5602154675409974,
          1.4218179339697663,
          0.4183122847397243,
          -0.9329642604154853,
          0.2775100095479445,
          0.033549272190992546,
          0.2415047057353741,
          0.9133160538203141,
          0.4452762554853484,
          -1.1213396871887524,
          -0.5802689307776701,
          0.577142291912203,
          -0.6714867331416482,
          -0.5113480966342379,
          -0.19394406731004424,
          0.4723599526754415,
          -0.33739551772905935,
          -0.019749545009762132,
          1.6811825369057964,
          0.9582167988724097,
          0.21399135911465308,
          0.2142097194066079,
          0.02866790533178008,
          0.20523734472281827,
          -2.373096948655841,
          -1.2974103299991655,
          0.7243000026849691,
          -1.179732860400752,
          -0.9877065634216783,
          1.858169866287358,
          -0.13616633750761734,
          0.9561184888192411,
          0.570540974318356,
          0.1538565839250256,
          -2.069442309033039,
          0.3386990661074552,
          0.229036109270142,
          -0.5231292314138397,
          -0.6386646920120588,
          1.839979440082232,
          -1.5335772908517662,
          0.3559183575671821,
          -1.8599750710237561,
          -0.22501292767062592,
          0.15865167315484616,
          -1.098219379974984,
          -0.5615283437589845,
          -0.7288531852791184
         ],
         "y": [
          3.035776571079455,
          0.2569500815910443,
          -2.1685043694431307,
          0.26902794195372615,
          1.7814630439071295,
          1.5693339927007197,
          -0.06211670129077228,
          -1.3706596588394095,
          -0.37883746288534165,
          -0.6196555944091635,
          0.5419709598803021,
          -0.882948935629644,
          -0.6004863123254223,
          1.0208840340466567,
          -0.21762155615722495,
          0.44023110912919,
          -1.0336076677809352,
          1.6033795842389853,
          -2.5310768185962225,
          -0.1889972596314623,
          0.7082630262291519,
          0.6671320947598456,
          -0.7834922916165732,
          0.47257187362393505,
          0.12629260151251537,
          2.0515434422449617,
          -0.2936811721928686,
          -0.2516523184280506,
          -1.5747986439720867,
          1.5737893099513762,
          -0.48788785833745874,
          0.8666151639960874,
          0.6629479112242548,
          2.335262202035777,
          0.9301235315825008,
          0.7210757391867806,
          -0.28270307894091573,
          0.6180102172480808,
          -0.68067795910875,
          -0.6615813868992915,
          1.9007085417861616,
          -1.1132438109324958,
          -0.6349033891645982,
          0.19741141743855162,
          1.1602881974005501,
          -0.004921352813687318,
          -1.383225820147114,
          0.22683021489288765,
          -0.0012375954352731027,
          -1.2558220947801475,
          -1.5522403593076988,
          0.004089381987935106,
          1.640944226966207,
          -0.3535758434099873,
          1.024879646181359,
          -1.6239541156805803,
          0.040284041575874806,
          0.896827065486756,
          -0.46794239292736056,
          1.505428664458157,
          -1.3626473839376783,
          -1.005643110364832,
          0.3925216946506399,
          0.7738640376750079,
          1.5554473261236892,
          0.35444125136577836,
          1.6205066874880212,
          -0.5538513815676245,
          0.23831067673412812,
          -0.9010306825341439,
          1.3231420079992444,
          -0.14899579209345915,
          -0.8709694619155264,
          1.065094470898646,
          -1.348559047441447,
          0.5804185661168384,
          -0.42879331392602926,
          -0.6959637860253969,
          0.1048024218225815,
          0.13732347532346822,
          -0.2308890616949896,
          -1.2960685158220355,
          -0.3901037235712339,
          -0.155170398255274,
          -0.03287464454016071,
          -0.9472821709740642,
          -1.115841814411383,
          0.2177548674986909,
          1.0364383402990647,
          -0.17403780646611958,
          0.6083659391024403,
          0.6209585041653041,
          1.4670744821663868,
          -0.040890570234690546,
          2.040518372717835,
          -1.1876242746503243,
          -0.5022878658736447,
          -0.008530985057549921,
          0.7140012167410947,
          -0.70522201636607
         ]
        }
       ],
       "layout": {
        "legend": {
         "bgcolor": "#F5F6F9",
         "font": {
          "color": "#4D5663"
         }
        },
        "paper_bgcolor": "#F5F6F9",
        "plot_bgcolor": "#F5F6F9",
        "template": {
         "data": {
          "bar": [
           {
            "error_x": {
             "color": "#2a3f5f"
            },
            "error_y": {
             "color": "#2a3f5f"
            },
            "marker": {
             "line": {
              "color": "#E5ECF6",
              "width": 0.5
             },
             "pattern": {
              "fillmode": "overlay",
              "size": 10,
              "solidity": 0.2
             }
            },
            "type": "bar"
           }
          ],
          "barpolar": [
           {
            "marker": {
             "line": {
              "color": "#E5ECF6",
              "width": 0.5
             },
             "pattern": {
              "fillmode": "overlay",
              "size": 10,
              "solidity": 0.2
             }
            },
            "type": "barpolar"
           }
          ],
          "carpet": [
           {
            "aaxis": {
             "endlinecolor": "#2a3f5f",
             "gridcolor": "white",
             "linecolor": "white",
             "minorgridcolor": "white",
             "startlinecolor": "#2a3f5f"
            },
            "baxis": {
             "endlinecolor": "#2a3f5f",
             "gridcolor": "white",
             "linecolor": "white",
             "minorgridcolor": "white",
             "startlinecolor": "#2a3f5f"
            },
            "type": "carpet"
           }
          ],
          "choropleth": [
           {
            "colorbar": {
             "outlinewidth": 0,
             "ticks": ""
            },
            "type": "choropleth"
           }
          ],
          "contour": [
           {
            "colorbar": {
             "outlinewidth": 0,
             "ticks": ""
            },
            "colorscale": [
             [
              0,
              "#0d0887"
             ],
             [
              0.1111111111111111,
              "#46039f"
             ],
             [
              0.2222222222222222,
              "#7201a8"
             ],
             [
              0.3333333333333333,
              "#9c179e"
             ],
             [
              0.4444444444444444,
              "#bd3786"
             ],
             [
              0.5555555555555556,
              "#d8576b"
             ],
             [
              0.6666666666666666,
              "#ed7953"
             ],
             [
              0.7777777777777778,
              "#fb9f3a"
             ],
             [
              0.8888888888888888,
              "#fdca26"
             ],
             [
              1,
              "#f0f921"
             ]
            ],
            "type": "contour"
           }
          ],
          "contourcarpet": [
           {
            "colorbar": {
             "outlinewidth": 0,
             "ticks": ""
            },
            "type": "contourcarpet"
           }
          ],
          "heatmap": [
           {
            "colorbar": {
             "outlinewidth": 0,
             "ticks": ""
            },
            "colorscale": [
             [
              0,
              "#0d0887"
             ],
             [
              0.1111111111111111,
              "#46039f"
             ],
             [
              0.2222222222222222,
              "#7201a8"
             ],
             [
              0.3333333333333333,
              "#9c179e"
             ],
             [
              0.4444444444444444,
              "#bd3786"
             ],
             [
              0.5555555555555556,
              "#d8576b"
             ],
             [
              0.6666666666666666,
              "#ed7953"
             ],
             [
              0.7777777777777778,
              "#fb9f3a"
             ],
             [
              0.8888888888888888,
              "#fdca26"
             ],
             [
              1,
              "#f0f921"
             ]
            ],
            "type": "heatmap"
           }
          ],
          "heatmapgl": [
           {
            "colorbar": {
             "outlinewidth": 0,
             "ticks": ""
            },
            "colorscale": [
             [
              0,
              "#0d0887"
             ],
             [
              0.1111111111111111,
              "#46039f"
             ],
             [
              0.2222222222222222,
              "#7201a8"
             ],
             [
              0.3333333333333333,
              "#9c179e"
             ],
             [
              0.4444444444444444,
              "#bd3786"
             ],
             [
              0.5555555555555556,
              "#d8576b"
             ],
             [
              0.6666666666666666,
              "#ed7953"
             ],
             [
              0.7777777777777778,
              "#fb9f3a"
             ],
             [
              0.8888888888888888,
              "#fdca26"
             ],
             [
              1,
              "#f0f921"
             ]
            ],
            "type": "heatmapgl"
           }
          ],
          "histogram": [
           {
            "marker": {
             "pattern": {
              "fillmode": "overlay",
              "size": 10,
              "solidity": 0.2
             }
            },
            "type": "histogram"
           }
          ],
          "histogram2d": [
           {
            "colorbar": {
             "outlinewidth": 0,
             "ticks": ""
            },
            "colorscale": [
             [
              0,
              "#0d0887"
             ],
             [
              0.1111111111111111,
              "#46039f"
             ],
             [
              0.2222222222222222,
              "#7201a8"
             ],
             [
              0.3333333333333333,
              "#9c179e"
             ],
             [
              0.4444444444444444,
              "#bd3786"
             ],
             [
              0.5555555555555556,
              "#d8576b"
             ],
             [
              0.6666666666666666,
              "#ed7953"
             ],
             [
              0.7777777777777778,
              "#fb9f3a"
             ],
             [
              0.8888888888888888,
              "#fdca26"
             ],
             [
              1,
              "#f0f921"
             ]
            ],
            "type": "histogram2d"
           }
          ],
          "histogram2dcontour": [
           {
            "colorbar": {
             "outlinewidth": 0,
             "ticks": ""
            },
            "colorscale": [
             [
              0,
              "#0d0887"
             ],
             [
              0.1111111111111111,
              "#46039f"
             ],
             [
              0.2222222222222222,
              "#7201a8"
             ],
             [
              0.3333333333333333,
              "#9c179e"
             ],
             [
              0.4444444444444444,
              "#bd3786"
             ],
             [
              0.5555555555555556,
              "#d8576b"
             ],
             [
              0.6666666666666666,
              "#ed7953"
             ],
             [
              0.7777777777777778,
              "#fb9f3a"
             ],
             [
              0.8888888888888888,
              "#fdca26"
             ],
             [
              1,
              "#f0f921"
             ]
            ],
            "type": "histogram2dcontour"
           }
          ],
          "mesh3d": [
           {
            "colorbar": {
             "outlinewidth": 0,
             "ticks": ""
            },
            "type": "mesh3d"
           }
          ],
          "parcoords": [
           {
            "line": {
             "colorbar": {
              "outlinewidth": 0,
              "ticks": ""
             }
            },
            "type": "parcoords"
           }
          ],
          "pie": [
           {
            "automargin": true,
            "type": "pie"
           }
          ],
          "scatter": [
           {
            "marker": {
             "colorbar": {
              "outlinewidth": 0,
              "ticks": ""
             }
            },
            "type": "scatter"
           }
          ],
          "scatter3d": [
           {
            "line": {
             "colorbar": {
              "outlinewidth": 0,
              "ticks": ""
             }
            },
            "marker": {
             "colorbar": {
              "outlinewidth": 0,
              "ticks": ""
             }
            },
            "type": "scatter3d"
           }
          ],
          "scattercarpet": [
           {
            "marker": {
             "colorbar": {
              "outlinewidth": 0,
              "ticks": ""
             }
            },
            "type": "scattercarpet"
           }
          ],
          "scattergeo": [
           {
            "marker": {
             "colorbar": {
              "outlinewidth": 0,
              "ticks": ""
             }
            },
            "type": "scattergeo"
           }
          ],
          "scattergl": [
           {
            "marker": {
             "colorbar": {
              "outlinewidth": 0,
              "ticks": ""
             }
            },
            "type": "scattergl"
           }
          ],
          "scattermapbox": [
           {
            "marker": {
             "colorbar": {
              "outlinewidth": 0,
              "ticks": ""
             }
            },
            "type": "scattermapbox"
           }
          ],
          "scatterpolar": [
           {
            "marker": {
             "colorbar": {
              "outlinewidth": 0,
              "ticks": ""
             }
            },
            "type": "scatterpolar"
           }
          ],
          "scatterpolargl": [
           {
            "marker": {
             "colorbar": {
              "outlinewidth": 0,
              "ticks": ""
             }
            },
            "type": "scatterpolargl"
           }
          ],
          "scatterternary": [
           {
            "marker": {
             "colorbar": {
              "outlinewidth": 0,
              "ticks": ""
             }
            },
            "type": "scatterternary"
           }
          ],
          "surface": [
           {
            "colorbar": {
             "outlinewidth": 0,
             "ticks": ""
            },
            "colorscale": [
             [
              0,
              "#0d0887"
             ],
             [
              0.1111111111111111,
              "#46039f"
             ],
             [
              0.2222222222222222,
              "#7201a8"
             ],
             [
              0.3333333333333333,
              "#9c179e"
             ],
             [
              0.4444444444444444,
              "#bd3786"
             ],
             [
              0.5555555555555556,
              "#d8576b"
             ],
             [
              0.6666666666666666,
              "#ed7953"
             ],
             [
              0.7777777777777778,
              "#fb9f3a"
             ],
             [
              0.8888888888888888,
              "#fdca26"
             ],
             [
              1,
              "#f0f921"
             ]
            ],
            "type": "surface"
           }
          ],
          "table": [
           {
            "cells": {
             "fill": {
              "color": "#EBF0F8"
             },
             "line": {
              "color": "white"
             }
            },
            "header": {
             "fill": {
              "color": "#C8D4E3"
             },
             "line": {
              "color": "white"
             }
            },
            "type": "table"
           }
          ]
         },
         "layout": {
          "annotationdefaults": {
           "arrowcolor": "#2a3f5f",
           "arrowhead": 0,
           "arrowwidth": 1
          },
          "autotypenumbers": "strict",
          "coloraxis": {
           "colorbar": {
            "outlinewidth": 0,
            "ticks": ""
           }
          },
          "colorscale": {
           "diverging": [
            [
             0,
             "#8e0152"
            ],
            [
             0.1,
             "#c51b7d"
            ],
            [
             0.2,
             "#de77ae"
            ],
            [
             0.3,
             "#f1b6da"
            ],
            [
             0.4,
             "#fde0ef"
            ],
            [
             0.5,
             "#f7f7f7"
            ],
            [
             0.6,
             "#e6f5d0"
            ],
            [
             0.7,
             "#b8e186"
            ],
            [
             0.8,
             "#7fbc41"
            ],
            [
             0.9,
             "#4d9221"
            ],
            [
             1,
             "#276419"
            ]
           ],
           "sequential": [
            [
             0,
             "#0d0887"
            ],
            [
             0.1111111111111111,
             "#46039f"
            ],
            [
             0.2222222222222222,
             "#7201a8"
            ],
            [
             0.3333333333333333,
             "#9c179e"
            ],
            [
             0.4444444444444444,
             "#bd3786"
            ],
            [
             0.5555555555555556,
             "#d8576b"
            ],
            [
             0.6666666666666666,
             "#ed7953"
            ],
            [
             0.7777777777777778,
             "#fb9f3a"
            ],
            [
             0.8888888888888888,
             "#fdca26"
            ],
            [
             1,
             "#f0f921"
            ]
           ],
           "sequentialminus": [
            [
             0,
             "#0d0887"
            ],
            [
             0.1111111111111111,
             "#46039f"
            ],
            [
             0.2222222222222222,
             "#7201a8"
            ],
            [
             0.3333333333333333,
             "#9c179e"
            ],
            [
             0.4444444444444444,
             "#bd3786"
            ],
            [
             0.5555555555555556,
             "#d8576b"
            ],
            [
             0.6666666666666666,
             "#ed7953"
            ],
            [
             0.7777777777777778,
             "#fb9f3a"
            ],
            [
             0.8888888888888888,
             "#fdca26"
            ],
            [
             1,
             "#f0f921"
            ]
           ]
          },
          "colorway": [
           "#636efa",
           "#EF553B",
           "#00cc96",
           "#ab63fa",
           "#FFA15A",
           "#19d3f3",
           "#FF6692",
           "#B6E880",
           "#FF97FF",
           "#FECB52"
          ],
          "font": {
           "color": "#2a3f5f"
          },
          "geo": {
           "bgcolor": "white",
           "lakecolor": "white",
           "landcolor": "#E5ECF6",
           "showlakes": true,
           "showland": true,
           "subunitcolor": "white"
          },
          "hoverlabel": {
           "align": "left"
          },
          "hovermode": "closest",
          "mapbox": {
           "style": "light"
          },
          "paper_bgcolor": "white",
          "plot_bgcolor": "#E5ECF6",
          "polar": {
           "angularaxis": {
            "gridcolor": "white",
            "linecolor": "white",
            "ticks": ""
           },
           "bgcolor": "#E5ECF6",
           "radialaxis": {
            "gridcolor": "white",
            "linecolor": "white",
            "ticks": ""
           }
          },
          "scene": {
           "xaxis": {
            "backgroundcolor": "#E5ECF6",
            "gridcolor": "white",
            "gridwidth": 2,
            "linecolor": "white",
            "showbackground": true,
            "ticks": "",
            "zerolinecolor": "white"
           },
           "yaxis": {
            "backgroundcolor": "#E5ECF6",
            "gridcolor": "white",
            "gridwidth": 2,
            "linecolor": "white",
            "showbackground": true,
            "ticks": "",
            "zerolinecolor": "white"
           },
           "zaxis": {
            "backgroundcolor": "#E5ECF6",
            "gridcolor": "white",
            "gridwidth": 2,
            "linecolor": "white",
            "showbackground": true,
            "ticks": "",
            "zerolinecolor": "white"
           }
          },
          "shapedefaults": {
           "line": {
            "color": "#2a3f5f"
           }
          },
          "ternary": {
           "aaxis": {
            "gridcolor": "white",
            "linecolor": "white",
            "ticks": ""
           },
           "baxis": {
            "gridcolor": "white",
            "linecolor": "white",
            "ticks": ""
           },
           "bgcolor": "#E5ECF6",
           "caxis": {
            "gridcolor": "white",
            "linecolor": "white",
            "ticks": ""
           }
          },
          "title": {
           "x": 0.05
          },
          "xaxis": {
           "automargin": true,
           "gridcolor": "white",
           "linecolor": "white",
           "ticks": "",
           "title": {
            "standoff": 15
           },
           "zerolinecolor": "white",
           "zerolinewidth": 2
          },
          "yaxis": {
           "automargin": true,
           "gridcolor": "white",
           "linecolor": "white",
           "ticks": "",
           "title": {
            "standoff": 15
           },
           "zerolinecolor": "white",
           "zerolinewidth": 2
          }
         }
        },
        "title": {
         "font": {
          "color": "#4D5663"
         }
        },
        "xaxis": {
         "gridcolor": "#E1E5ED",
         "showgrid": true,
         "tickfont": {
          "color": "#4D5663"
         },
         "title": {
          "font": {
           "color": "#4D5663"
          },
          "text": ""
         },
         "zerolinecolor": "#E1E5ED"
        },
        "yaxis": {
         "gridcolor": "#E1E5ED",
         "showgrid": true,
         "tickfont": {
          "color": "#4D5663"
         },
         "title": {
          "font": {
           "color": "#4D5663"
          },
          "text": ""
         },
         "zerolinecolor": "#E1E5ED"
        }
       }
      },
      "text/html": [
       "<div>                            <div id=\"ab10d98c-6b9f-464d-bf83-01e237eddbe4\" class=\"plotly-graph-div\" style=\"height:525px; width:100%;\"></div>            <script type=\"text/javascript\">                require([\"plotly\"], function(Plotly) {                    window.PLOTLYENV=window.PLOTLYENV || {};\n",
       "                    window.PLOTLYENV.BASE_URL='https://plot.ly';                                    if (document.getElementById(\"ab10d98c-6b9f-464d-bf83-01e237eddbe4\")) {                    Plotly.newPlot(                        \"ab10d98c-6b9f-464d-bf83-01e237eddbe4\",                        [{\"marker\":{\"color\":[\"rgb(255, 153, 51)\",\"rgb(55, 128, 191)\",\"rgb(50, 171, 96)\",\"rgb(128, 0, 128)\",\"rgb(219, 64, 82)\",\"rgb(0, 128, 128)\",\"rgb(255, 255, 51)\",\"rgb(128, 128, 0)\",\"rgb(251, 128, 114)\",\"rgb(128, 177, 211)\"],\"line\":{\"width\":1.3},\"size\":[61,51,33,31,87,78,61,74,54,66,74,34,64,46,78,55,51,99,112,74,35,50,51,91,75,88,69,91,62,52,104,81,12,45,62,79,54,76,45,51,64,67,98,84,65,45,90,80,46,52,35,108,73,58,84,43,60,105,86,23,35,88,91,42,31,105,62,65,66,82,79,85,62,63,66,29,34,84,86,12,49,39,27,89,77,47,32,72,82,72,85,79,87,76,54,60,59,17,77,41],\"symbol\":\"circle\"},\"mode\":\"markers\",\"text\":\"\",\"type\":\"scatter\",\"x\":[-1.1260490465847872,-0.5310285731898228,-0.21205040034769118,-0.651475455922811,0.267930026293517,0.5538298175018117,-1.45140732479843,-1.0621115937309076,-0.5192044609949963,0.0980486221556033,0.32453375604965784,-2.276442079629385,-0.8192861375427485,1.1455113120411295,-2.207736390860511,-1.3376249514712373,0.03209754247353182,0.7583928302046903,-1.6170134854635898,-2.237874750757624,-0.6060517589533632,-1.6168160408809342,0.5359718867610626,-0.19476818097990067,1.549886790936583,0.9060796159426613,1.5947215402086397,0.8167721240125655,0.9537814344129991,0.2853493711489899,-0.17105691657817657,-0.28014666021393175,0.2557815908844224,0.8528107746534993,0.042477092359645086,0.11889724485107526,0.5568967127519864,-0.18951757678675865,-1.692795876607851,0.5195944789579467,-0.2994710600365143,-0.6831317390937071,-0.19348745174529508,1.0395064395104623,0.07492067978804913,0.09040894717004969,-0.11050134142856363,0.688851726129721,-3.198080407046479,1.2676330352932919,0.007743872630742216,-1.2910895322695102,-1.5602154675409974,1.4218179339697663,0.4183122847397243,-0.9329642604154853,0.2775100095479445,0.033549272190992546,0.2415047057353741,0.9133160538203141,0.4452762554853484,-1.1213396871887524,-0.5802689307776701,0.577142291912203,-0.6714867331416482,-0.5113480966342379,-0.19394406731004424,0.4723599526754415,-0.33739551772905935,-0.019749545009762132,1.6811825369057964,0.9582167988724097,0.21399135911465308,0.2142097194066079,0.02866790533178008,0.20523734472281827,-2.373096948655841,-1.2974103299991655,0.7243000026849691,-1.179732860400752,-0.9877065634216783,1.858169866287358,-0.13616633750761734,0.9561184888192411,0.570540974318356,0.1538565839250256,-2.069442309033039,0.3386990661074552,0.229036109270142,-0.5231292314138397,-0.6386646920120588,1.839979440082232,-1.5335772908517662,0.3559183575671821,-1.8599750710237561,-0.22501292767062592,0.15865167315484616,-1.098219379974984,-0.5615283437589845,-0.7288531852791184],\"y\":[3.035776571079455,0.2569500815910443,-2.1685043694431307,0.26902794195372615,1.7814630439071295,1.5693339927007197,-0.06211670129077228,-1.3706596588394095,-0.37883746288534165,-0.6196555944091635,0.5419709598803021,-0.882948935629644,-0.6004863123254223,1.0208840340466567,-0.21762155615722495,0.44023110912919,-1.0336076677809352,1.6033795842389853,-2.5310768185962225,-0.1889972596314623,0.7082630262291519,0.6671320947598456,-0.7834922916165732,0.47257187362393505,0.12629260151251537,2.0515434422449617,-0.2936811721928686,-0.2516523184280506,-1.5747986439720867,1.5737893099513762,-0.48788785833745874,0.8666151639960874,0.6629479112242548,2.335262202035777,0.9301235315825008,0.7210757391867806,-0.28270307894091573,0.6180102172480808,-0.68067795910875,-0.6615813868992915,1.9007085417861616,-1.1132438109324958,-0.6349033891645982,0.19741141743855162,1.1602881974005501,-0.004921352813687318,-1.383225820147114,0.22683021489288765,-0.0012375954352731027,-1.2558220947801475,-1.5522403593076988,0.004089381987935106,1.640944226966207,-0.3535758434099873,1.024879646181359,-1.6239541156805803,0.040284041575874806,0.896827065486756,-0.46794239292736056,1.505428664458157,-1.3626473839376783,-1.005643110364832,0.3925216946506399,0.7738640376750079,1.5554473261236892,0.35444125136577836,1.6205066874880212,-0.5538513815676245,0.23831067673412812,-0.9010306825341439,1.3231420079992444,-0.14899579209345915,-0.8709694619155264,1.065094470898646,-1.348559047441447,0.5804185661168384,-0.42879331392602926,-0.6959637860253969,0.1048024218225815,0.13732347532346822,-0.2308890616949896,-1.2960685158220355,-0.3901037235712339,-0.155170398255274,-0.03287464454016071,-0.9472821709740642,-1.115841814411383,0.2177548674986909,1.0364383402990647,-0.17403780646611958,0.6083659391024403,0.6209585041653041,1.4670744821663868,-0.040890570234690546,2.040518372717835,-1.1876242746503243,-0.5022878658736447,-0.008530985057549921,0.7140012167410947,-0.70522201636607]}],                        {\"legend\":{\"bgcolor\":\"#F5F6F9\",\"font\":{\"color\":\"#4D5663\"}},\"paper_bgcolor\":\"#F5F6F9\",\"plot_bgcolor\":\"#F5F6F9\",\"template\":{\"data\":{\"bar\":[{\"error_x\":{\"color\":\"#2a3f5f\"},\"error_y\":{\"color\":\"#2a3f5f\"},\"marker\":{\"line\":{\"color\":\"#E5ECF6\",\"width\":0.5},\"pattern\":{\"fillmode\":\"overlay\",\"size\":10,\"solidity\":0.2}},\"type\":\"bar\"}],\"barpolar\":[{\"marker\":{\"line\":{\"color\":\"#E5ECF6\",\"width\":0.5},\"pattern\":{\"fillmode\":\"overlay\",\"size\":10,\"solidity\":0.2}},\"type\":\"barpolar\"}],\"carpet\":[{\"aaxis\":{\"endlinecolor\":\"#2a3f5f\",\"gridcolor\":\"white\",\"linecolor\":\"white\",\"minorgridcolor\":\"white\",\"startlinecolor\":\"#2a3f5f\"},\"baxis\":{\"endlinecolor\":\"#2a3f5f\",\"gridcolor\":\"white\",\"linecolor\":\"white\",\"minorgridcolor\":\"white\",\"startlinecolor\":\"#2a3f5f\"},\"type\":\"carpet\"}],\"choropleth\":[{\"colorbar\":{\"outlinewidth\":0,\"ticks\":\"\"},\"type\":\"choropleth\"}],\"contour\":[{\"colorbar\":{\"outlinewidth\":0,\"ticks\":\"\"},\"colorscale\":[[0.0,\"#0d0887\"],[0.1111111111111111,\"#46039f\"],[0.2222222222222222,\"#7201a8\"],[0.3333333333333333,\"#9c179e\"],[0.4444444444444444,\"#bd3786\"],[0.5555555555555556,\"#d8576b\"],[0.6666666666666666,\"#ed7953\"],[0.7777777777777778,\"#fb9f3a\"],[0.8888888888888888,\"#fdca26\"],[1.0,\"#f0f921\"]],\"type\":\"contour\"}],\"contourcarpet\":[{\"colorbar\":{\"outlinewidth\":0,\"ticks\":\"\"},\"type\":\"contourcarpet\"}],\"heatmap\":[{\"colorbar\":{\"outlinewidth\":0,\"ticks\":\"\"},\"colorscale\":[[0.0,\"#0d0887\"],[0.1111111111111111,\"#46039f\"],[0.2222222222222222,\"#7201a8\"],[0.3333333333333333,\"#9c179e\"],[0.4444444444444444,\"#bd3786\"],[0.5555555555555556,\"#d8576b\"],[0.6666666666666666,\"#ed7953\"],[0.7777777777777778,\"#fb9f3a\"],[0.8888888888888888,\"#fdca26\"],[1.0,\"#f0f921\"]],\"type\":\"heatmap\"}],\"heatmapgl\":[{\"colorbar\":{\"outlinewidth\":0,\"ticks\":\"\"},\"colorscale\":[[0.0,\"#0d0887\"],[0.1111111111111111,\"#46039f\"],[0.2222222222222222,\"#7201a8\"],[0.3333333333333333,\"#9c179e\"],[0.4444444444444444,\"#bd3786\"],[0.5555555555555556,\"#d8576b\"],[0.6666666666666666,\"#ed7953\"],[0.7777777777777778,\"#fb9f3a\"],[0.8888888888888888,\"#fdca26\"],[1.0,\"#f0f921\"]],\"type\":\"heatmapgl\"}],\"histogram\":[{\"marker\":{\"pattern\":{\"fillmode\":\"overlay\",\"size\":10,\"solidity\":0.2}},\"type\":\"histogram\"}],\"histogram2d\":[{\"colorbar\":{\"outlinewidth\":0,\"ticks\":\"\"},\"colorscale\":[[0.0,\"#0d0887\"],[0.1111111111111111,\"#46039f\"],[0.2222222222222222,\"#7201a8\"],[0.3333333333333333,\"#9c179e\"],[0.4444444444444444,\"#bd3786\"],[0.5555555555555556,\"#d8576b\"],[0.6666666666666666,\"#ed7953\"],[0.7777777777777778,\"#fb9f3a\"],[0.8888888888888888,\"#fdca26\"],[1.0,\"#f0f921\"]],\"type\":\"histogram2d\"}],\"histogram2dcontour\":[{\"colorbar\":{\"outlinewidth\":0,\"ticks\":\"\"},\"colorscale\":[[0.0,\"#0d0887\"],[0.1111111111111111,\"#46039f\"],[0.2222222222222222,\"#7201a8\"],[0.3333333333333333,\"#9c179e\"],[0.4444444444444444,\"#bd3786\"],[0.5555555555555556,\"#d8576b\"],[0.6666666666666666,\"#ed7953\"],[0.7777777777777778,\"#fb9f3a\"],[0.8888888888888888,\"#fdca26\"],[1.0,\"#f0f921\"]],\"type\":\"histogram2dcontour\"}],\"mesh3d\":[{\"colorbar\":{\"outlinewidth\":0,\"ticks\":\"\"},\"type\":\"mesh3d\"}],\"parcoords\":[{\"line\":{\"colorbar\":{\"outlinewidth\":0,\"ticks\":\"\"}},\"type\":\"parcoords\"}],\"pie\":[{\"automargin\":true,\"type\":\"pie\"}],\"scatter\":[{\"marker\":{\"colorbar\":{\"outlinewidth\":0,\"ticks\":\"\"}},\"type\":\"scatter\"}],\"scatter3d\":[{\"line\":{\"colorbar\":{\"outlinewidth\":0,\"ticks\":\"\"}},\"marker\":{\"colorbar\":{\"outlinewidth\":0,\"ticks\":\"\"}},\"type\":\"scatter3d\"}],\"scattercarpet\":[{\"marker\":{\"colorbar\":{\"outlinewidth\":0,\"ticks\":\"\"}},\"type\":\"scattercarpet\"}],\"scattergeo\":[{\"marker\":{\"colorbar\":{\"outlinewidth\":0,\"ticks\":\"\"}},\"type\":\"scattergeo\"}],\"scattergl\":[{\"marker\":{\"colorbar\":{\"outlinewidth\":0,\"ticks\":\"\"}},\"type\":\"scattergl\"}],\"scattermapbox\":[{\"marker\":{\"colorbar\":{\"outlinewidth\":0,\"ticks\":\"\"}},\"type\":\"scattermapbox\"}],\"scatterpolar\":[{\"marker\":{\"colorbar\":{\"outlinewidth\":0,\"ticks\":\"\"}},\"type\":\"scatterpolar\"}],\"scatterpolargl\":[{\"marker\":{\"colorbar\":{\"outlinewidth\":0,\"ticks\":\"\"}},\"type\":\"scatterpolargl\"}],\"scatterternary\":[{\"marker\":{\"colorbar\":{\"outlinewidth\":0,\"ticks\":\"\"}},\"type\":\"scatterternary\"}],\"surface\":[{\"colorbar\":{\"outlinewidth\":0,\"ticks\":\"\"},\"colorscale\":[[0.0,\"#0d0887\"],[0.1111111111111111,\"#46039f\"],[0.2222222222222222,\"#7201a8\"],[0.3333333333333333,\"#9c179e\"],[0.4444444444444444,\"#bd3786\"],[0.5555555555555556,\"#d8576b\"],[0.6666666666666666,\"#ed7953\"],[0.7777777777777778,\"#fb9f3a\"],[0.8888888888888888,\"#fdca26\"],[1.0,\"#f0f921\"]],\"type\":\"surface\"}],\"table\":[{\"cells\":{\"fill\":{\"color\":\"#EBF0F8\"},\"line\":{\"color\":\"white\"}},\"header\":{\"fill\":{\"color\":\"#C8D4E3\"},\"line\":{\"color\":\"white\"}},\"type\":\"table\"}]},\"layout\":{\"annotationdefaults\":{\"arrowcolor\":\"#2a3f5f\",\"arrowhead\":0,\"arrowwidth\":1},\"autotypenumbers\":\"strict\",\"coloraxis\":{\"colorbar\":{\"outlinewidth\":0,\"ticks\":\"\"}},\"colorscale\":{\"diverging\":[[0,\"#8e0152\"],[0.1,\"#c51b7d\"],[0.2,\"#de77ae\"],[0.3,\"#f1b6da\"],[0.4,\"#fde0ef\"],[0.5,\"#f7f7f7\"],[0.6,\"#e6f5d0\"],[0.7,\"#b8e186\"],[0.8,\"#7fbc41\"],[0.9,\"#4d9221\"],[1,\"#276419\"]],\"sequential\":[[0.0,\"#0d0887\"],[0.1111111111111111,\"#46039f\"],[0.2222222222222222,\"#7201a8\"],[0.3333333333333333,\"#9c179e\"],[0.4444444444444444,\"#bd3786\"],[0.5555555555555556,\"#d8576b\"],[0.6666666666666666,\"#ed7953\"],[0.7777777777777778,\"#fb9f3a\"],[0.8888888888888888,\"#fdca26\"],[1.0,\"#f0f921\"]],\"sequentialminus\":[[0.0,\"#0d0887\"],[0.1111111111111111,\"#46039f\"],[0.2222222222222222,\"#7201a8\"],[0.3333333333333333,\"#9c179e\"],[0.4444444444444444,\"#bd3786\"],[0.5555555555555556,\"#d8576b\"],[0.6666666666666666,\"#ed7953\"],[0.7777777777777778,\"#fb9f3a\"],[0.8888888888888888,\"#fdca26\"],[1.0,\"#f0f921\"]]},\"colorway\":[\"#636efa\",\"#EF553B\",\"#00cc96\",\"#ab63fa\",\"#FFA15A\",\"#19d3f3\",\"#FF6692\",\"#B6E880\",\"#FF97FF\",\"#FECB52\"],\"font\":{\"color\":\"#2a3f5f\"},\"geo\":{\"bgcolor\":\"white\",\"lakecolor\":\"white\",\"landcolor\":\"#E5ECF6\",\"showlakes\":true,\"showland\":true,\"subunitcolor\":\"white\"},\"hoverlabel\":{\"align\":\"left\"},\"hovermode\":\"closest\",\"mapbox\":{\"style\":\"light\"},\"paper_bgcolor\":\"white\",\"plot_bgcolor\":\"#E5ECF6\",\"polar\":{\"angularaxis\":{\"gridcolor\":\"white\",\"linecolor\":\"white\",\"ticks\":\"\"},\"bgcolor\":\"#E5ECF6\",\"radialaxis\":{\"gridcolor\":\"white\",\"linecolor\":\"white\",\"ticks\":\"\"}},\"scene\":{\"xaxis\":{\"backgroundcolor\":\"#E5ECF6\",\"gridcolor\":\"white\",\"gridwidth\":2,\"linecolor\":\"white\",\"showbackground\":true,\"ticks\":\"\",\"zerolinecolor\":\"white\"},\"yaxis\":{\"backgroundcolor\":\"#E5ECF6\",\"gridcolor\":\"white\",\"gridwidth\":2,\"linecolor\":\"white\",\"showbackground\":true,\"ticks\":\"\",\"zerolinecolor\":\"white\"},\"zaxis\":{\"backgroundcolor\":\"#E5ECF6\",\"gridcolor\":\"white\",\"gridwidth\":2,\"linecolor\":\"white\",\"showbackground\":true,\"ticks\":\"\",\"zerolinecolor\":\"white\"}},\"shapedefaults\":{\"line\":{\"color\":\"#2a3f5f\"}},\"ternary\":{\"aaxis\":{\"gridcolor\":\"white\",\"linecolor\":\"white\",\"ticks\":\"\"},\"baxis\":{\"gridcolor\":\"white\",\"linecolor\":\"white\",\"ticks\":\"\"},\"bgcolor\":\"#E5ECF6\",\"caxis\":{\"gridcolor\":\"white\",\"linecolor\":\"white\",\"ticks\":\"\"}},\"title\":{\"x\":0.05},\"xaxis\":{\"automargin\":true,\"gridcolor\":\"white\",\"linecolor\":\"white\",\"ticks\":\"\",\"title\":{\"standoff\":15},\"zerolinecolor\":\"white\",\"zerolinewidth\":2},\"yaxis\":{\"automargin\":true,\"gridcolor\":\"white\",\"linecolor\":\"white\",\"ticks\":\"\",\"title\":{\"standoff\":15},\"zerolinecolor\":\"white\",\"zerolinewidth\":2}}},\"title\":{\"font\":{\"color\":\"#4D5663\"}},\"xaxis\":{\"gridcolor\":\"#E1E5ED\",\"showgrid\":true,\"tickfont\":{\"color\":\"#4D5663\"},\"title\":{\"font\":{\"color\":\"#4D5663\"},\"text\":\"\"},\"zerolinecolor\":\"#E1E5ED\"},\"yaxis\":{\"gridcolor\":\"#E1E5ED\",\"showgrid\":true,\"tickfont\":{\"color\":\"#4D5663\"},\"title\":{\"font\":{\"color\":\"#4D5663\"},\"text\":\"\"},\"zerolinecolor\":\"#E1E5ED\"}},                        {\"showLink\": true, \"linkText\": \"Export to plot.ly\", \"plotlyServerURL\": \"https://plot.ly\", \"responsive\": true}                    ).then(function(){\n",
       "                            \n",
       "var gd = document.getElementById('ab10d98c-6b9f-464d-bf83-01e237eddbe4');\n",
       "var x = new MutationObserver(function (mutations, observer) {{\n",
       "        var display = window.getComputedStyle(gd).display;\n",
       "        if (!display || display === 'none') {{\n",
       "            console.log([gd, 'removed!']);\n",
       "            Plotly.purge(gd);\n",
       "            observer.disconnect();\n",
       "        }}\n",
       "}});\n",
       "\n",
       "// Listen for the removal of the full notebook cells\n",
       "var notebookContainer = gd.closest('#notebook-container');\n",
       "if (notebookContainer) {{\n",
       "    x.observe(notebookContainer, {childList: true});\n",
       "}}\n",
       "\n",
       "// Listen for the clearing of the current output cell\n",
       "var outputEl = gd.closest('.output');\n",
       "if (outputEl) {{\n",
       "    x.observe(outputEl, {childList: true});\n",
       "}}\n",
       "\n",
       "                        })                };                });            </script>        </div>"
      ]
     },
     "metadata": {},
     "output_type": "display_data"
    }
   ],
   "source": [
    "df.iplot(kind='bubble',x='A',y='B',size='C')"
   ]
  },
  {
   "cell_type": "markdown",
   "metadata": {},
   "source": [
    "## scatter_matrix()\n",
    "\n",
    "Similar to sns.pairplot()"
   ]
  },
  {
   "cell_type": "code",
   "execution_count": 18,
   "metadata": {},
   "outputs": [
    {
     "data": {
      "application/vnd.plotly.v1+json": {
       "config": {
        "linkText": "Export to plot.ly",
        "plotlyServerURL": "https://plot.ly",
        "showLink": true
       },
       "data": [
        {
         "histfunc": "count",
         "histnorm": "",
         "marker": {
          "color": "rgba(255, 153, 51, 1.0)",
          "line": {
           "color": "#4D5663",
           "width": 1.3
          }
         },
         "name": "A",
         "nbinsx": 10,
         "opacity": 0.8,
         "orientation": "v",
         "type": "histogram",
         "x": [
          -1.1260490465847872,
          -0.5310285731898228,
          -0.21205040034769118,
          -0.651475455922811,
          0.267930026293517,
          0.5538298175018117,
          -1.45140732479843,
          -1.0621115937309076,
          -0.5192044609949963,
          0.0980486221556033,
          0.32453375604965784,
          -2.276442079629385,
          -0.8192861375427485,
          1.1455113120411295,
          -2.207736390860511,
          -1.3376249514712373,
          0.03209754247353182,
          0.7583928302046903,
          -1.6170134854635898,
          -2.237874750757624,
          -0.6060517589533632,
          -1.6168160408809342,
          0.5359718867610626,
          -0.19476818097990067,
          1.549886790936583,
          0.9060796159426613,
          1.5947215402086397,
          0.8167721240125655,
          0.9537814344129991,
          0.2853493711489899,
          -0.17105691657817657,
          -0.28014666021393175,
          0.2557815908844224,
          0.8528107746534993,
          0.042477092359645086,
          0.11889724485107526,
          0.5568967127519864,
          -0.18951757678675865,
          -1.692795876607851,
          0.5195944789579467,
          -0.2994710600365143,
          -0.6831317390937071,
          -0.19348745174529508,
          1.0395064395104623,
          0.07492067978804913,
          0.09040894717004969,
          -0.11050134142856363,
          0.688851726129721,
          -3.198080407046479,
          1.2676330352932919,
          0.007743872630742216,
          -1.2910895322695102,
          -1.5602154675409974,
          1.4218179339697663,
          0.4183122847397243,
          -0.9329642604154853,
          0.2775100095479445,
          0.033549272190992546,
          0.2415047057353741,
          0.9133160538203141,
          0.4452762554853484,
          -1.1213396871887524,
          -0.5802689307776701,
          0.577142291912203,
          -0.6714867331416482,
          -0.5113480966342379,
          -0.19394406731004424,
          0.4723599526754415,
          -0.33739551772905935,
          -0.019749545009762132,
          1.6811825369057964,
          0.9582167988724097,
          0.21399135911465308,
          0.2142097194066079,
          0.02866790533178008,
          0.20523734472281827,
          -2.373096948655841,
          -1.2974103299991655,
          0.7243000026849691,
          -1.179732860400752,
          -0.9877065634216783,
          1.858169866287358,
          -0.13616633750761734,
          0.9561184888192411,
          0.570540974318356,
          0.1538565839250256,
          -2.069442309033039,
          0.3386990661074552,
          0.229036109270142,
          -0.5231292314138397,
          -0.6386646920120588,
          1.839979440082232,
          -1.5335772908517662,
          0.3559183575671821,
          -1.8599750710237561,
          -0.22501292767062592,
          0.15865167315484616,
          -1.098219379974984,
          -0.5615283437589845,
          -0.7288531852791184
         ],
         "xaxis": "x",
         "yaxis": "y"
        },
        {
         "line": {
          "color": "rgba(128, 128, 128, 1.0)",
          "dash": "solid",
          "shape": "linear",
          "width": 1.3
         },
         "marker": {
          "size": 2,
          "symbol": "circle"
         },
         "mode": "markers",
         "name": "A",
         "text": "",
         "type": "scatter",
         "x": [
          3.035776571079455,
          0.2569500815910443,
          -2.1685043694431307,
          0.26902794195372615,
          1.7814630439071295,
          1.5693339927007197,
          -0.06211670129077228,
          -1.3706596588394095,
          -0.37883746288534165,
          -0.6196555944091635,
          0.5419709598803021,
          -0.882948935629644,
          -0.6004863123254223,
          1.0208840340466567,
          -0.21762155615722495,
          0.44023110912919,
          -1.0336076677809352,
          1.6033795842389853,
          -2.5310768185962225,
          -0.1889972596314623,
          0.7082630262291519,
          0.6671320947598456,
          -0.7834922916165732,
          0.47257187362393505,
          0.12629260151251537,
          2.0515434422449617,
          -0.2936811721928686,
          -0.2516523184280506,
          -1.5747986439720867,
          1.5737893099513762,
          -0.48788785833745874,
          0.8666151639960874,
          0.6629479112242548,
          2.335262202035777,
          0.9301235315825008,
          0.7210757391867806,
          -0.28270307894091573,
          0.6180102172480808,
          -0.68067795910875,
          -0.6615813868992915,
          1.9007085417861616,
          -1.1132438109324958,
          -0.6349033891645982,
          0.19741141743855162,
          1.1602881974005501,
          -0.004921352813687318,
          -1.383225820147114,
          0.22683021489288765,
          -0.0012375954352731027,
          -1.2558220947801475,
          -1.5522403593076988,
          0.004089381987935106,
          1.640944226966207,
          -0.3535758434099873,
          1.024879646181359,
          -1.6239541156805803,
          0.040284041575874806,
          0.896827065486756,
          -0.46794239292736056,
          1.505428664458157,
          -1.3626473839376783,
          -1.005643110364832,
          0.3925216946506399,
          0.7738640376750079,
          1.5554473261236892,
          0.35444125136577836,
          1.6205066874880212,
          -0.5538513815676245,
          0.23831067673412812,
          -0.9010306825341439,
          1.3231420079992444,
          -0.14899579209345915,
          -0.8709694619155264,
          1.065094470898646,
          -1.348559047441447,
          0.5804185661168384,
          -0.42879331392602926,
          -0.6959637860253969,
          0.1048024218225815,
          0.13732347532346822,
          -0.2308890616949896,
          -1.2960685158220355,
          -0.3901037235712339,
          -0.155170398255274,
          -0.03287464454016071,
          -0.9472821709740642,
          -1.115841814411383,
          0.2177548674986909,
          1.0364383402990647,
          -0.17403780646611958,
          0.6083659391024403,
          0.6209585041653041,
          1.4670744821663868,
          -0.040890570234690546,
          2.040518372717835,
          -1.1876242746503243,
          -0.5022878658736447,
          -0.008530985057549921,
          0.7140012167410947,
          -0.70522201636607
         ],
         "xaxis": "x2",
         "y": [
          -1.1260490465847872,
          -0.5310285731898228,
          -0.21205040034769118,
          -0.651475455922811,
          0.267930026293517,
          0.5538298175018117,
          -1.45140732479843,
          -1.0621115937309076,
          -0.5192044609949963,
          0.0980486221556033,
          0.32453375604965784,
          -2.276442079629385,
          -0.8192861375427485,
          1.1455113120411295,
          -2.207736390860511,
          -1.3376249514712373,
          0.03209754247353182,
          0.7583928302046903,
          -1.6170134854635898,
          -2.237874750757624,
          -0.6060517589533632,
          -1.6168160408809342,
          0.5359718867610626,
          -0.19476818097990067,
          1.549886790936583,
          0.9060796159426613,
          1.5947215402086397,
          0.8167721240125655,
          0.9537814344129991,
          0.2853493711489899,
          -0.17105691657817657,
          -0.28014666021393175,
          0.2557815908844224,
          0.8528107746534993,
          0.042477092359645086,
          0.11889724485107526,
          0.5568967127519864,
          -0.18951757678675865,
          -1.692795876607851,
          0.5195944789579467,
          -0.2994710600365143,
          -0.6831317390937071,
          -0.19348745174529508,
          1.0395064395104623,
          0.07492067978804913,
          0.09040894717004969,
          -0.11050134142856363,
          0.688851726129721,
          -3.198080407046479,
          1.2676330352932919,
          0.007743872630742216,
          -1.2910895322695102,
          -1.5602154675409974,
          1.4218179339697663,
          0.4183122847397243,
          -0.9329642604154853,
          0.2775100095479445,
          0.033549272190992546,
          0.2415047057353741,
          0.9133160538203141,
          0.4452762554853484,
          -1.1213396871887524,
          -0.5802689307776701,
          0.577142291912203,
          -0.6714867331416482,
          -0.5113480966342379,
          -0.19394406731004424,
          0.4723599526754415,
          -0.33739551772905935,
          -0.019749545009762132,
          1.6811825369057964,
          0.9582167988724097,
          0.21399135911465308,
          0.2142097194066079,
          0.02866790533178008,
          0.20523734472281827,
          -2.373096948655841,
          -1.2974103299991655,
          0.7243000026849691,
          -1.179732860400752,
          -0.9877065634216783,
          1.858169866287358,
          -0.13616633750761734,
          0.9561184888192411,
          0.570540974318356,
          0.1538565839250256,
          -2.069442309033039,
          0.3386990661074552,
          0.229036109270142,
          -0.5231292314138397,
          -0.6386646920120588,
          1.839979440082232,
          -1.5335772908517662,
          0.3559183575671821,
          -1.8599750710237561,
          -0.22501292767062592,
          0.15865167315484616,
          -1.098219379974984,
          -0.5615283437589845,
          -0.7288531852791184
         ],
         "yaxis": "y2"
        },
        {
         "line": {
          "color": "rgba(128, 128, 128, 1.0)",
          "dash": "solid",
          "shape": "linear",
          "width": 1.3
         },
         "marker": {
          "size": 2,
          "symbol": "circle"
         },
         "mode": "markers",
         "name": "A",
         "text": "",
         "type": "scatter",
         "x": [
          -0.1253860104527143,
          -0.6118562373674805,
          -1.4365315057799206,
          -1.5296847535644056,
          1.0256906308377485,
          0.6546118917023933,
          -0.13694753909926177,
          0.47598961164871434,
          -0.4576220230309786,
          0.06914633479973034,
          0.44810566916611655,
          -1.3837828401399817,
          0.010352973018966774,
          -0.8250952709145534,
          0.6296963916173615,
          -0.42542127945858016,
          -0.6109410917348862,
          1.5743997390762634,
          2.1650619536662425,
          0.4578481973510953,
          -1.3046859016496504,
          -0.6474192597958527,
          -0.5887792125587482,
          1.2372553132863295,
          0.5215256206424765,
          1.0778733033674006,
          0.24441796546793787,
          1.2187759041274653,
          -0.10520699565739441,
          -0.5411436570341177,
          1.807026322054968,
          0.7633433586197469,
          -2.399295918529262,
          -0.8834595773636499,
          -0.09472904104629841,
          0.665830292505531,
          -0.4784453927653169,
          0.5237315067583971,
          -0.8595351827346634,
          -0.5816333784342125,
          -0.005520267424294571,
          0.11968685309862401,
          1.547464924503836,
          0.931097017745766,
          0.04277673076958829,
          -0.8557337425644944,
          1.20390644380971,
          0.7393970602974663,
          -0.8155267288182692,
          -0.5727302642500403,
          -1.337531243150721,
          2.0062513237723847,
          0.40708921825969296,
          -0.2747449233413563,
          0.9248315885501568,
          -0.9582143496024274,
          -0.18835470298830612,
          1.8762131296481197,
          0.9788465194340025,
          -1.8904347019408239,
          -1.3154244098738923,
          1.1151539606281062,
          1.2145867414674558,
          -0.9895251424101672,
          -1.4976405461611064,
          1.8697319089492304,
          -0.11126928460453392,
          0.04418157193162171,
          0.08657501142700152,
          0.8192162901194413,
          0.6656855083085276,
          0.9425918701231876,
          -0.09226599907035703,
          -0.05171132501362498,
          0.07703892071541746,
          -1.5981000809629637,
          -1.3857194699267534,
          0.9044067708222258,
          0.9791847366337971,
          -2.387899775066808,
          -0.6985268151798351,
          -1.1646385215988269,
          -1.6920017739766893,
          1.1195560740729007,
          0.5819483889701914,
          -0.7875296317312973,
          -1.4536399667173046,
          0.3625389981145367,
          0.8192462223621986,
          0.3480980253165979,
          0.9573026292675428,
          0.6589609329947365,
          1.0417462537251394,
          0.5485073630677745,
          -0.46564000009788026,
          -0.20587088166368586,
          -0.22333531043306484,
          -2.1629899084497257,
          0.6114614149705555,
          -1.0393745543201531
         ],
         "xaxis": "x3",
         "y": [
          -1.1260490465847872,
          -0.5310285731898228,
          -0.21205040034769118,
          -0.651475455922811,
          0.267930026293517,
          0.5538298175018117,
          -1.45140732479843,
          -1.0621115937309076,
          -0.5192044609949963,
          0.0980486221556033,
          0.32453375604965784,
          -2.276442079629385,
          -0.8192861375427485,
          1.1455113120411295,
          -2.207736390860511,
          -1.3376249514712373,
          0.03209754247353182,
          0.7583928302046903,
          -1.6170134854635898,
          -2.237874750757624,
          -0.6060517589533632,
          -1.6168160408809342,
          0.5359718867610626,
          -0.19476818097990067,
          1.549886790936583,
          0.9060796159426613,
          1.5947215402086397,
          0.8167721240125655,
          0.9537814344129991,
          0.2853493711489899,
          -0.17105691657817657,
          -0.28014666021393175,
          0.2557815908844224,
          0.8528107746534993,
          0.042477092359645086,
          0.11889724485107526,
          0.5568967127519864,
          -0.18951757678675865,
          -1.692795876607851,
          0.5195944789579467,
          -0.2994710600365143,
          -0.6831317390937071,
          -0.19348745174529508,
          1.0395064395104623,
          0.07492067978804913,
          0.09040894717004969,
          -0.11050134142856363,
          0.688851726129721,
          -3.198080407046479,
          1.2676330352932919,
          0.007743872630742216,
          -1.2910895322695102,
          -1.5602154675409974,
          1.4218179339697663,
          0.4183122847397243,
          -0.9329642604154853,
          0.2775100095479445,
          0.033549272190992546,
          0.2415047057353741,
          0.9133160538203141,
          0.4452762554853484,
          -1.1213396871887524,
          -0.5802689307776701,
          0.577142291912203,
          -0.6714867331416482,
          -0.5113480966342379,
          -0.19394406731004424,
          0.4723599526754415,
          -0.33739551772905935,
          -0.019749545009762132,
          1.6811825369057964,
          0.9582167988724097,
          0.21399135911465308,
          0.2142097194066079,
          0.02866790533178008,
          0.20523734472281827,
          -2.373096948655841,
          -1.2974103299991655,
          0.7243000026849691,
          -1.179732860400752,
          -0.9877065634216783,
          1.858169866287358,
          -0.13616633750761734,
          0.9561184888192411,
          0.570540974318356,
          0.1538565839250256,
          -2.069442309033039,
          0.3386990661074552,
          0.229036109270142,
          -0.5231292314138397,
          -0.6386646920120588,
          1.839979440082232,
          -1.5335772908517662,
          0.3559183575671821,
          -1.8599750710237561,
          -0.22501292767062592,
          0.15865167315484616,
          -1.098219379974984,
          -0.5615283437589845,
          -0.7288531852791184
         ],
         "yaxis": "y3"
        },
        {
         "line": {
          "color": "rgba(128, 128, 128, 1.0)",
          "dash": "solid",
          "shape": "linear",
          "width": 1.3
         },
         "marker": {
          "size": 2,
          "symbol": "circle"
         },
         "mode": "markers",
         "name": "A",
         "text": "",
         "type": "scatter",
         "x": [
          -1.1318386857975136,
          -1.2336796535709564,
          0.03525125361427638,
          -0.17770978246418753,
          -0.13488631706988827,
          -0.9778506486785518,
          1.5488213103401454,
          -0.6513314112858827,
          0.7202141004894045,
          -0.49712149348633683,
          0.4187535481175902,
          1.5129740289160858,
          -0.9850844584084912,
          0.8346724779775067,
          0.9876152447810874,
          -0.7151566318079478,
          0.19715294423131863,
          -1.149711899654387,
          -1.8260228094658186,
          0.31511270433990085,
          0.3715193146340235,
          0.07617063659659407,
          -0.2857157746538433,
          -0.36019971221710395,
          1.2740565963984742,
          -0.5622184325773008,
          -0.8715327911194508,
          -0.0013278566908858926,
          0.08756355160027998,
          -0.4429992867734947,
          0.6332286046266608,
          -0.8848906377039588,
          -1.5417546450605601,
          -0.4991571158198983,
          0.5194854386692203,
          0.585023679381177,
          0.5793902440399953,
          0.8817410777836935,
          -0.15130419443026008,
          0.1714981792074862,
          1.0882341054612685,
          1.5264974595646432,
          0.5546523395577394,
          2.7236664503447705,
          1.0853701280807013,
          1.8158268809106832,
          1.9818387333418774,
          0.8771701572239711,
          0.7474329431281092,
          -0.7057099607094113,
          -0.06443465215486661,
          -0.6421970535449397,
          -0.6655056506583449,
          -2.0771711232517855,
          -0.8942085983852258,
          -1.0148838383628476,
          -0.43401721818703565,
          1.077602048535558,
          -1.509050258358291,
          0.5223739304869889,
          1.0399037991911402,
          0.120711507570677,
          -0.6027650191281058,
          -0.28535763125655894,
          -1.0681903010591363,
          -0.8627775615683652,
          0.25962821336567943,
          0.49340480098917194,
          -2.0105567188069466,
          -0.2226101526969597,
          1.0841281092321648,
          1.2861857800069918,
          -0.5468267000958672,
          0.1338879341515546,
          0.7432234934055685,
          -0.4708247040572283,
          0.8719487241758966,
          -0.28332359088435044,
          -0.13043541948700305,
          0.2328774571300257,
          0.7441801456643091,
          -1.3763123123518655,
          0.025195310462888896,
          -0.2932721585007492,
          0.07572285083924206,
          -1.459169663391599,
          1.0825742789864674,
          1.0815668594450643,
          -0.5258413358823715,
          -0.6630802819740259,
          -0.45578448200036625,
          1.0586789016948135,
          1.5509926448719724,
          -0.9234441436255499,
          -0.7013652558369653,
          -0.021886674090904473,
          0.8315375065555948,
          0.6408169232431311,
          1.3184798336770307,
          0.5962717155220236
         ],
         "xaxis": "x4",
         "y": [
          -1.1260490465847872,
          -0.5310285731898228,
          -0.21205040034769118,
          -0.651475455922811,
          0.267930026293517,
          0.5538298175018117,
          -1.45140732479843,
          -1.0621115937309076,
          -0.5192044609949963,
          0.0980486221556033,
          0.32453375604965784,
          -2.276442079629385,
          -0.8192861375427485,
          1.1455113120411295,
          -2.207736390860511,
          -1.3376249514712373,
          0.03209754247353182,
          0.7583928302046903,
          -1.6170134854635898,
          -2.237874750757624,
          -0.6060517589533632,
          -1.6168160408809342,
          0.5359718867610626,
          -0.19476818097990067,
          1.549886790936583,
          0.9060796159426613,
          1.5947215402086397,
          0.8167721240125655,
          0.9537814344129991,
          0.2853493711489899,
          -0.17105691657817657,
          -0.28014666021393175,
          0.2557815908844224,
          0.8528107746534993,
          0.042477092359645086,
          0.11889724485107526,
          0.5568967127519864,
          -0.18951757678675865,
          -1.692795876607851,
          0.5195944789579467,
          -0.2994710600365143,
          -0.6831317390937071,
          -0.19348745174529508,
          1.0395064395104623,
          0.07492067978804913,
          0.09040894717004969,
          -0.11050134142856363,
          0.688851726129721,
          -3.198080407046479,
          1.2676330352932919,
          0.007743872630742216,
          -1.2910895322695102,
          -1.5602154675409974,
          1.4218179339697663,
          0.4183122847397243,
          -0.9329642604154853,
          0.2775100095479445,
          0.033549272190992546,
          0.2415047057353741,
          0.9133160538203141,
          0.4452762554853484,
          -1.1213396871887524,
          -0.5802689307776701,
          0.577142291912203,
          -0.6714867331416482,
          -0.5113480966342379,
          -0.19394406731004424,
          0.4723599526754415,
          -0.33739551772905935,
          -0.019749545009762132,
          1.6811825369057964,
          0.9582167988724097,
          0.21399135911465308,
          0.2142097194066079,
          0.02866790533178008,
          0.20523734472281827,
          -2.373096948655841,
          -1.2974103299991655,
          0.7243000026849691,
          -1.179732860400752,
          -0.9877065634216783,
          1.858169866287358,
          -0.13616633750761734,
          0.9561184888192411,
          0.570540974318356,
          0.1538565839250256,
          -2.069442309033039,
          0.3386990661074552,
          0.229036109270142,
          -0.5231292314138397,
          -0.6386646920120588,
          1.839979440082232,
          -1.5335772908517662,
          0.3559183575671821,
          -1.8599750710237561,
          -0.22501292767062592,
          0.15865167315484616,
          -1.098219379974984,
          -0.5615283437589845,
          -0.7288531852791184
         ],
         "yaxis": "y4"
        },
        {
         "line": {
          "color": "rgba(128, 128, 128, 1.0)",
          "dash": "solid",
          "shape": "linear",
          "width": 1.3
         },
         "marker": {
          "size": 2,
          "symbol": "circle"
         },
         "mode": "markers",
         "name": "B",
         "text": "",
         "type": "scatter",
         "x": [
          -1.1260490465847872,
          -0.5310285731898228,
          -0.21205040034769118,
          -0.651475455922811,
          0.267930026293517,
          0.5538298175018117,
          -1.45140732479843,
          -1.0621115937309076,
          -0.5192044609949963,
          0.0980486221556033,
          0.32453375604965784,
          -2.276442079629385,
          -0.8192861375427485,
          1.1455113120411295,
          -2.207736390860511,
          -1.3376249514712373,
          0.03209754247353182,
          0.7583928302046903,
          -1.6170134854635898,
          -2.237874750757624,
          -0.6060517589533632,
          -1.6168160408809342,
          0.5359718867610626,
          -0.19476818097990067,
          1.549886790936583,
          0.9060796159426613,
          1.5947215402086397,
          0.8167721240125655,
          0.9537814344129991,
          0.2853493711489899,
          -0.17105691657817657,
          -0.28014666021393175,
          0.2557815908844224,
          0.8528107746534993,
          0.042477092359645086,
          0.11889724485107526,
          0.5568967127519864,
          -0.18951757678675865,
          -1.692795876607851,
          0.5195944789579467,
          -0.2994710600365143,
          -0.6831317390937071,
          -0.19348745174529508,
          1.0395064395104623,
          0.07492067978804913,
          0.09040894717004969,
          -0.11050134142856363,
          0.688851726129721,
          -3.198080407046479,
          1.2676330352932919,
          0.007743872630742216,
          -1.2910895322695102,
          -1.5602154675409974,
          1.4218179339697663,
          0.4183122847397243,
          -0.9329642604154853,
          0.2775100095479445,
          0.033549272190992546,
          0.2415047057353741,
          0.9133160538203141,
          0.4452762554853484,
          -1.1213396871887524,
          -0.5802689307776701,
          0.577142291912203,
          -0.6714867331416482,
          -0.5113480966342379,
          -0.19394406731004424,
          0.4723599526754415,
          -0.33739551772905935,
          -0.019749545009762132,
          1.6811825369057964,
          0.9582167988724097,
          0.21399135911465308,
          0.2142097194066079,
          0.02866790533178008,
          0.20523734472281827,
          -2.373096948655841,
          -1.2974103299991655,
          0.7243000026849691,
          -1.179732860400752,
          -0.9877065634216783,
          1.858169866287358,
          -0.13616633750761734,
          0.9561184888192411,
          0.570540974318356,
          0.1538565839250256,
          -2.069442309033039,
          0.3386990661074552,
          0.229036109270142,
          -0.5231292314138397,
          -0.6386646920120588,
          1.839979440082232,
          -1.5335772908517662,
          0.3559183575671821,
          -1.8599750710237561,
          -0.22501292767062592,
          0.15865167315484616,
          -1.098219379974984,
          -0.5615283437589845,
          -0.7288531852791184
         ],
         "xaxis": "x5",
         "y": [
          3.035776571079455,
          0.2569500815910443,
          -2.1685043694431307,
          0.26902794195372615,
          1.7814630439071295,
          1.5693339927007197,
          -0.06211670129077228,
          -1.3706596588394095,
          -0.37883746288534165,
          -0.6196555944091635,
          0.5419709598803021,
          -0.882948935629644,
          -0.6004863123254223,
          1.0208840340466567,
          -0.21762155615722495,
          0.44023110912919,
          -1.0336076677809352,
          1.6033795842389853,
          -2.5310768185962225,
          -0.1889972596314623,
          0.7082630262291519,
          0.6671320947598456,
          -0.7834922916165732,
          0.47257187362393505,
          0.12629260151251537,
          2.0515434422449617,
          -0.2936811721928686,
          -0.2516523184280506,
          -1.5747986439720867,
          1.5737893099513762,
          -0.48788785833745874,
          0.8666151639960874,
          0.6629479112242548,
          2.335262202035777,
          0.9301235315825008,
          0.7210757391867806,
          -0.28270307894091573,
          0.6180102172480808,
          -0.68067795910875,
          -0.6615813868992915,
          1.9007085417861616,
          -1.1132438109324958,
          -0.6349033891645982,
          0.19741141743855162,
          1.1602881974005501,
          -0.004921352813687318,
          -1.383225820147114,
          0.22683021489288765,
          -0.0012375954352731027,
          -1.2558220947801475,
          -1.5522403593076988,
          0.004089381987935106,
          1.640944226966207,
          -0.3535758434099873,
          1.024879646181359,
          -1.6239541156805803,
          0.040284041575874806,
          0.896827065486756,
          -0.46794239292736056,
          1.505428664458157,
          -1.3626473839376783,
          -1.005643110364832,
          0.3925216946506399,
          0.7738640376750079,
          1.5554473261236892,
          0.35444125136577836,
          1.6205066874880212,
          -0.5538513815676245,
          0.23831067673412812,
          -0.9010306825341439,
          1.3231420079992444,
          -0.14899579209345915,
          -0.8709694619155264,
          1.065094470898646,
          -1.348559047441447,
          0.5804185661168384,
          -0.42879331392602926,
          -0.6959637860253969,
          0.1048024218225815,
          0.13732347532346822,
          -0.2308890616949896,
          -1.2960685158220355,
          -0.3901037235712339,
          -0.155170398255274,
          -0.03287464454016071,
          -0.9472821709740642,
          -1.115841814411383,
          0.2177548674986909,
          1.0364383402990647,
          -0.17403780646611958,
          0.6083659391024403,
          0.6209585041653041,
          1.4670744821663868,
          -0.040890570234690546,
          2.040518372717835,
          -1.1876242746503243,
          -0.5022878658736447,
          -0.008530985057549921,
          0.7140012167410947,
          -0.70522201636607
         ],
         "yaxis": "y5"
        },
        {
         "histfunc": "count",
         "histnorm": "",
         "marker": {
          "color": "rgba(55, 128, 191, 1.0)",
          "line": {
           "color": "#4D5663",
           "width": 1.3
          }
         },
         "name": "B",
         "nbinsx": 10,
         "opacity": 0.8,
         "orientation": "v",
         "type": "histogram",
         "x": [
          3.035776571079455,
          0.2569500815910443,
          -2.1685043694431307,
          0.26902794195372615,
          1.7814630439071295,
          1.5693339927007197,
          -0.06211670129077228,
          -1.3706596588394095,
          -0.37883746288534165,
          -0.6196555944091635,
          0.5419709598803021,
          -0.882948935629644,
          -0.6004863123254223,
          1.0208840340466567,
          -0.21762155615722495,
          0.44023110912919,
          -1.0336076677809352,
          1.6033795842389853,
          -2.5310768185962225,
          -0.1889972596314623,
          0.7082630262291519,
          0.6671320947598456,
          -0.7834922916165732,
          0.47257187362393505,
          0.12629260151251537,
          2.0515434422449617,
          -0.2936811721928686,
          -0.2516523184280506,
          -1.5747986439720867,
          1.5737893099513762,
          -0.48788785833745874,
          0.8666151639960874,
          0.6629479112242548,
          2.335262202035777,
          0.9301235315825008,
          0.7210757391867806,
          -0.28270307894091573,
          0.6180102172480808,
          -0.68067795910875,
          -0.6615813868992915,
          1.9007085417861616,
          -1.1132438109324958,
          -0.6349033891645982,
          0.19741141743855162,
          1.1602881974005501,
          -0.004921352813687318,
          -1.383225820147114,
          0.22683021489288765,
          -0.0012375954352731027,
          -1.2558220947801475,
          -1.5522403593076988,
          0.004089381987935106,
          1.640944226966207,
          -0.3535758434099873,
          1.024879646181359,
          -1.6239541156805803,
          0.040284041575874806,
          0.896827065486756,
          -0.46794239292736056,
          1.505428664458157,
          -1.3626473839376783,
          -1.005643110364832,
          0.3925216946506399,
          0.7738640376750079,
          1.5554473261236892,
          0.35444125136577836,
          1.6205066874880212,
          -0.5538513815676245,
          0.23831067673412812,
          -0.9010306825341439,
          1.3231420079992444,
          -0.14899579209345915,
          -0.8709694619155264,
          1.065094470898646,
          -1.348559047441447,
          0.5804185661168384,
          -0.42879331392602926,
          -0.6959637860253969,
          0.1048024218225815,
          0.13732347532346822,
          -0.2308890616949896,
          -1.2960685158220355,
          -0.3901037235712339,
          -0.155170398255274,
          -0.03287464454016071,
          -0.9472821709740642,
          -1.115841814411383,
          0.2177548674986909,
          1.0364383402990647,
          -0.17403780646611958,
          0.6083659391024403,
          0.6209585041653041,
          1.4670744821663868,
          -0.040890570234690546,
          2.040518372717835,
          -1.1876242746503243,
          -0.5022878658736447,
          -0.008530985057549921,
          0.7140012167410947,
          -0.70522201636607
         ],
         "xaxis": "x6",
         "yaxis": "y6"
        },
        {
         "line": {
          "color": "rgba(128, 128, 128, 1.0)",
          "dash": "solid",
          "shape": "linear",
          "width": 1.3
         },
         "marker": {
          "size": 2,
          "symbol": "circle"
         },
         "mode": "markers",
         "name": "B",
         "text": "",
         "type": "scatter",
         "x": [
          -0.1253860104527143,
          -0.6118562373674805,
          -1.4365315057799206,
          -1.5296847535644056,
          1.0256906308377485,
          0.6546118917023933,
          -0.13694753909926177,
          0.47598961164871434,
          -0.4576220230309786,
          0.06914633479973034,
          0.44810566916611655,
          -1.3837828401399817,
          0.010352973018966774,
          -0.8250952709145534,
          0.6296963916173615,
          -0.42542127945858016,
          -0.6109410917348862,
          1.5743997390762634,
          2.1650619536662425,
          0.4578481973510953,
          -1.3046859016496504,
          -0.6474192597958527,
          -0.5887792125587482,
          1.2372553132863295,
          0.5215256206424765,
          1.0778733033674006,
          0.24441796546793787,
          1.2187759041274653,
          -0.10520699565739441,
          -0.5411436570341177,
          1.807026322054968,
          0.7633433586197469,
          -2.399295918529262,
          -0.8834595773636499,
          -0.09472904104629841,
          0.665830292505531,
          -0.4784453927653169,
          0.5237315067583971,
          -0.8595351827346634,
          -0.5816333784342125,
          -0.005520267424294571,
          0.11968685309862401,
          1.547464924503836,
          0.931097017745766,
          0.04277673076958829,
          -0.8557337425644944,
          1.20390644380971,
          0.7393970602974663,
          -0.8155267288182692,
          -0.5727302642500403,
          -1.337531243150721,
          2.0062513237723847,
          0.40708921825969296,
          -0.2747449233413563,
          0.9248315885501568,
          -0.9582143496024274,
          -0.18835470298830612,
          1.8762131296481197,
          0.9788465194340025,
          -1.8904347019408239,
          -1.3154244098738923,
          1.1151539606281062,
          1.2145867414674558,
          -0.9895251424101672,
          -1.4976405461611064,
          1.8697319089492304,
          -0.11126928460453392,
          0.04418157193162171,
          0.08657501142700152,
          0.8192162901194413,
          0.6656855083085276,
          0.9425918701231876,
          -0.09226599907035703,
          -0.05171132501362498,
          0.07703892071541746,
          -1.5981000809629637,
          -1.3857194699267534,
          0.9044067708222258,
          0.9791847366337971,
          -2.387899775066808,
          -0.6985268151798351,
          -1.1646385215988269,
          -1.6920017739766893,
          1.1195560740729007,
          0.5819483889701914,
          -0.7875296317312973,
          -1.4536399667173046,
          0.3625389981145367,
          0.8192462223621986,
          0.3480980253165979,
          0.9573026292675428,
          0.6589609329947365,
          1.0417462537251394,
          0.5485073630677745,
          -0.46564000009788026,
          -0.20587088166368586,
          -0.22333531043306484,
          -2.1629899084497257,
          0.6114614149705555,
          -1.0393745543201531
         ],
         "xaxis": "x7",
         "y": [
          3.035776571079455,
          0.2569500815910443,
          -2.1685043694431307,
          0.26902794195372615,
          1.7814630439071295,
          1.5693339927007197,
          -0.06211670129077228,
          -1.3706596588394095,
          -0.37883746288534165,
          -0.6196555944091635,
          0.5419709598803021,
          -0.882948935629644,
          -0.6004863123254223,
          1.0208840340466567,
          -0.21762155615722495,
          0.44023110912919,
          -1.0336076677809352,
          1.6033795842389853,
          -2.5310768185962225,
          -0.1889972596314623,
          0.7082630262291519,
          0.6671320947598456,
          -0.7834922916165732,
          0.47257187362393505,
          0.12629260151251537,
          2.0515434422449617,
          -0.2936811721928686,
          -0.2516523184280506,
          -1.5747986439720867,
          1.5737893099513762,
          -0.48788785833745874,
          0.8666151639960874,
          0.6629479112242548,
          2.335262202035777,
          0.9301235315825008,
          0.7210757391867806,
          -0.28270307894091573,
          0.6180102172480808,
          -0.68067795910875,
          -0.6615813868992915,
          1.9007085417861616,
          -1.1132438109324958,
          -0.6349033891645982,
          0.19741141743855162,
          1.1602881974005501,
          -0.004921352813687318,
          -1.383225820147114,
          0.22683021489288765,
          -0.0012375954352731027,
          -1.2558220947801475,
          -1.5522403593076988,
          0.004089381987935106,
          1.640944226966207,
          -0.3535758434099873,
          1.024879646181359,
          -1.6239541156805803,
          0.040284041575874806,
          0.896827065486756,
          -0.46794239292736056,
          1.505428664458157,
          -1.3626473839376783,
          -1.005643110364832,
          0.3925216946506399,
          0.7738640376750079,
          1.5554473261236892,
          0.35444125136577836,
          1.6205066874880212,
          -0.5538513815676245,
          0.23831067673412812,
          -0.9010306825341439,
          1.3231420079992444,
          -0.14899579209345915,
          -0.8709694619155264,
          1.065094470898646,
          -1.348559047441447,
          0.5804185661168384,
          -0.42879331392602926,
          -0.6959637860253969,
          0.1048024218225815,
          0.13732347532346822,
          -0.2308890616949896,
          -1.2960685158220355,
          -0.3901037235712339,
          -0.155170398255274,
          -0.03287464454016071,
          -0.9472821709740642,
          -1.115841814411383,
          0.2177548674986909,
          1.0364383402990647,
          -0.17403780646611958,
          0.6083659391024403,
          0.6209585041653041,
          1.4670744821663868,
          -0.040890570234690546,
          2.040518372717835,
          -1.1876242746503243,
          -0.5022878658736447,
          -0.008530985057549921,
          0.7140012167410947,
          -0.70522201636607
         ],
         "yaxis": "y7"
        },
        {
         "line": {
          "color": "rgba(128, 128, 128, 1.0)",
          "dash": "solid",
          "shape": "linear",
          "width": 1.3
         },
         "marker": {
          "size": 2,
          "symbol": "circle"
         },
         "mode": "markers",
         "name": "B",
         "text": "",
         "type": "scatter",
         "x": [
          -1.1318386857975136,
          -1.2336796535709564,
          0.03525125361427638,
          -0.17770978246418753,
          -0.13488631706988827,
          -0.9778506486785518,
          1.5488213103401454,
          -0.6513314112858827,
          0.7202141004894045,
          -0.49712149348633683,
          0.4187535481175902,
          1.5129740289160858,
          -0.9850844584084912,
          0.8346724779775067,
          0.9876152447810874,
          -0.7151566318079478,
          0.19715294423131863,
          -1.149711899654387,
          -1.8260228094658186,
          0.31511270433990085,
          0.3715193146340235,
          0.07617063659659407,
          -0.2857157746538433,
          -0.36019971221710395,
          1.2740565963984742,
          -0.5622184325773008,
          -0.8715327911194508,
          -0.0013278566908858926,
          0.08756355160027998,
          -0.4429992867734947,
          0.6332286046266608,
          -0.8848906377039588,
          -1.5417546450605601,
          -0.4991571158198983,
          0.5194854386692203,
          0.585023679381177,
          0.5793902440399953,
          0.8817410777836935,
          -0.15130419443026008,
          0.1714981792074862,
          1.0882341054612685,
          1.5264974595646432,
          0.5546523395577394,
          2.7236664503447705,
          1.0853701280807013,
          1.8158268809106832,
          1.9818387333418774,
          0.8771701572239711,
          0.7474329431281092,
          -0.7057099607094113,
          -0.06443465215486661,
          -0.6421970535449397,
          -0.6655056506583449,
          -2.0771711232517855,
          -0.8942085983852258,
          -1.0148838383628476,
          -0.43401721818703565,
          1.077602048535558,
          -1.509050258358291,
          0.5223739304869889,
          1.0399037991911402,
          0.120711507570677,
          -0.6027650191281058,
          -0.28535763125655894,
          -1.0681903010591363,
          -0.8627775615683652,
          0.25962821336567943,
          0.49340480098917194,
          -2.0105567188069466,
          -0.2226101526969597,
          1.0841281092321648,
          1.2861857800069918,
          -0.5468267000958672,
          0.1338879341515546,
          0.7432234934055685,
          -0.4708247040572283,
          0.8719487241758966,
          -0.28332359088435044,
          -0.13043541948700305,
          0.2328774571300257,
          0.7441801456643091,
          -1.3763123123518655,
          0.025195310462888896,
          -0.2932721585007492,
          0.07572285083924206,
          -1.459169663391599,
          1.0825742789864674,
          1.0815668594450643,
          -0.5258413358823715,
          -0.6630802819740259,
          -0.45578448200036625,
          1.0586789016948135,
          1.5509926448719724,
          -0.9234441436255499,
          -0.7013652558369653,
          -0.021886674090904473,
          0.8315375065555948,
          0.6408169232431311,
          1.3184798336770307,
          0.5962717155220236
         ],
         "xaxis": "x8",
         "y": [
          3.035776571079455,
          0.2569500815910443,
          -2.1685043694431307,
          0.26902794195372615,
          1.7814630439071295,
          1.5693339927007197,
          -0.06211670129077228,
          -1.3706596588394095,
          -0.37883746288534165,
          -0.6196555944091635,
          0.5419709598803021,
          -0.882948935629644,
          -0.6004863123254223,
          1.0208840340466567,
          -0.21762155615722495,
          0.44023110912919,
          -1.0336076677809352,
          1.6033795842389853,
          -2.5310768185962225,
          -0.1889972596314623,
          0.7082630262291519,
          0.6671320947598456,
          -0.7834922916165732,
          0.47257187362393505,
          0.12629260151251537,
          2.0515434422449617,
          -0.2936811721928686,
          -0.2516523184280506,
          -1.5747986439720867,
          1.5737893099513762,
          -0.48788785833745874,
          0.8666151639960874,
          0.6629479112242548,
          2.335262202035777,
          0.9301235315825008,
          0.7210757391867806,
          -0.28270307894091573,
          0.6180102172480808,
          -0.68067795910875,
          -0.6615813868992915,
          1.9007085417861616,
          -1.1132438109324958,
          -0.6349033891645982,
          0.19741141743855162,
          1.1602881974005501,
          -0.004921352813687318,
          -1.383225820147114,
          0.22683021489288765,
          -0.0012375954352731027,
          -1.2558220947801475,
          -1.5522403593076988,
          0.004089381987935106,
          1.640944226966207,
          -0.3535758434099873,
          1.024879646181359,
          -1.6239541156805803,
          0.040284041575874806,
          0.896827065486756,
          -0.46794239292736056,
          1.505428664458157,
          -1.3626473839376783,
          -1.005643110364832,
          0.3925216946506399,
          0.7738640376750079,
          1.5554473261236892,
          0.35444125136577836,
          1.6205066874880212,
          -0.5538513815676245,
          0.23831067673412812,
          -0.9010306825341439,
          1.3231420079992444,
          -0.14899579209345915,
          -0.8709694619155264,
          1.065094470898646,
          -1.348559047441447,
          0.5804185661168384,
          -0.42879331392602926,
          -0.6959637860253969,
          0.1048024218225815,
          0.13732347532346822,
          -0.2308890616949896,
          -1.2960685158220355,
          -0.3901037235712339,
          -0.155170398255274,
          -0.03287464454016071,
          -0.9472821709740642,
          -1.115841814411383,
          0.2177548674986909,
          1.0364383402990647,
          -0.17403780646611958,
          0.6083659391024403,
          0.6209585041653041,
          1.4670744821663868,
          -0.040890570234690546,
          2.040518372717835,
          -1.1876242746503243,
          -0.5022878658736447,
          -0.008530985057549921,
          0.7140012167410947,
          -0.70522201636607
         ],
         "yaxis": "y8"
        },
        {
         "line": {
          "color": "rgba(128, 128, 128, 1.0)",
          "dash": "solid",
          "shape": "linear",
          "width": 1.3
         },
         "marker": {
          "size": 2,
          "symbol": "circle"
         },
         "mode": "markers",
         "name": "C",
         "text": "",
         "type": "scatter",
         "x": [
          -1.1260490465847872,
          -0.5310285731898228,
          -0.21205040034769118,
          -0.651475455922811,
          0.267930026293517,
          0.5538298175018117,
          -1.45140732479843,
          -1.0621115937309076,
          -0.5192044609949963,
          0.0980486221556033,
          0.32453375604965784,
          -2.276442079629385,
          -0.8192861375427485,
          1.1455113120411295,
          -2.207736390860511,
          -1.3376249514712373,
          0.03209754247353182,
          0.7583928302046903,
          -1.6170134854635898,
          -2.237874750757624,
          -0.6060517589533632,
          -1.6168160408809342,
          0.5359718867610626,
          -0.19476818097990067,
          1.549886790936583,
          0.9060796159426613,
          1.5947215402086397,
          0.8167721240125655,
          0.9537814344129991,
          0.2853493711489899,
          -0.17105691657817657,
          -0.28014666021393175,
          0.2557815908844224,
          0.8528107746534993,
          0.042477092359645086,
          0.11889724485107526,
          0.5568967127519864,
          -0.18951757678675865,
          -1.692795876607851,
          0.5195944789579467,
          -0.2994710600365143,
          -0.6831317390937071,
          -0.19348745174529508,
          1.0395064395104623,
          0.07492067978804913,
          0.09040894717004969,
          -0.11050134142856363,
          0.688851726129721,
          -3.198080407046479,
          1.2676330352932919,
          0.007743872630742216,
          -1.2910895322695102,
          -1.5602154675409974,
          1.4218179339697663,
          0.4183122847397243,
          -0.9329642604154853,
          0.2775100095479445,
          0.033549272190992546,
          0.2415047057353741,
          0.9133160538203141,
          0.4452762554853484,
          -1.1213396871887524,
          -0.5802689307776701,
          0.577142291912203,
          -0.6714867331416482,
          -0.5113480966342379,
          -0.19394406731004424,
          0.4723599526754415,
          -0.33739551772905935,
          -0.019749545009762132,
          1.6811825369057964,
          0.9582167988724097,
          0.21399135911465308,
          0.2142097194066079,
          0.02866790533178008,
          0.20523734472281827,
          -2.373096948655841,
          -1.2974103299991655,
          0.7243000026849691,
          -1.179732860400752,
          -0.9877065634216783,
          1.858169866287358,
          -0.13616633750761734,
          0.9561184888192411,
          0.570540974318356,
          0.1538565839250256,
          -2.069442309033039,
          0.3386990661074552,
          0.229036109270142,
          -0.5231292314138397,
          -0.6386646920120588,
          1.839979440082232,
          -1.5335772908517662,
          0.3559183575671821,
          -1.8599750710237561,
          -0.22501292767062592,
          0.15865167315484616,
          -1.098219379974984,
          -0.5615283437589845,
          -0.7288531852791184
         ],
         "xaxis": "x9",
         "y": [
          -0.1253860104527143,
          -0.6118562373674805,
          -1.4365315057799206,
          -1.5296847535644056,
          1.0256906308377485,
          0.6546118917023933,
          -0.13694753909926177,
          0.47598961164871434,
          -0.4576220230309786,
          0.06914633479973034,
          0.44810566916611655,
          -1.3837828401399817,
          0.010352973018966774,
          -0.8250952709145534,
          0.6296963916173615,
          -0.42542127945858016,
          -0.6109410917348862,
          1.5743997390762634,
          2.1650619536662425,
          0.4578481973510953,
          -1.3046859016496504,
          -0.6474192597958527,
          -0.5887792125587482,
          1.2372553132863295,
          0.5215256206424765,
          1.0778733033674006,
          0.24441796546793787,
          1.2187759041274653,
          -0.10520699565739441,
          -0.5411436570341177,
          1.807026322054968,
          0.7633433586197469,
          -2.399295918529262,
          -0.8834595773636499,
          -0.09472904104629841,
          0.665830292505531,
          -0.4784453927653169,
          0.5237315067583971,
          -0.8595351827346634,
          -0.5816333784342125,
          -0.005520267424294571,
          0.11968685309862401,
          1.547464924503836,
          0.931097017745766,
          0.04277673076958829,
          -0.8557337425644944,
          1.20390644380971,
          0.7393970602974663,
          -0.8155267288182692,
          -0.5727302642500403,
          -1.337531243150721,
          2.0062513237723847,
          0.40708921825969296,
          -0.2747449233413563,
          0.9248315885501568,
          -0.9582143496024274,
          -0.18835470298830612,
          1.8762131296481197,
          0.9788465194340025,
          -1.8904347019408239,
          -1.3154244098738923,
          1.1151539606281062,
          1.2145867414674558,
          -0.9895251424101672,
          -1.4976405461611064,
          1.8697319089492304,
          -0.11126928460453392,
          0.04418157193162171,
          0.08657501142700152,
          0.8192162901194413,
          0.6656855083085276,
          0.9425918701231876,
          -0.09226599907035703,
          -0.05171132501362498,
          0.07703892071541746,
          -1.5981000809629637,
          -1.3857194699267534,
          0.9044067708222258,
          0.9791847366337971,
          -2.387899775066808,
          -0.6985268151798351,
          -1.1646385215988269,
          -1.6920017739766893,
          1.1195560740729007,
          0.5819483889701914,
          -0.7875296317312973,
          -1.4536399667173046,
          0.3625389981145367,
          0.8192462223621986,
          0.3480980253165979,
          0.9573026292675428,
          0.6589609329947365,
          1.0417462537251394,
          0.5485073630677745,
          -0.46564000009788026,
          -0.20587088166368586,
          -0.22333531043306484,
          -2.1629899084497257,
          0.6114614149705555,
          -1.0393745543201531
         ],
         "yaxis": "y9"
        },
        {
         "line": {
          "color": "rgba(128, 128, 128, 1.0)",
          "dash": "solid",
          "shape": "linear",
          "width": 1.3
         },
         "marker": {
          "size": 2,
          "symbol": "circle"
         },
         "mode": "markers",
         "name": "C",
         "text": "",
         "type": "scatter",
         "x": [
          3.035776571079455,
          0.2569500815910443,
          -2.1685043694431307,
          0.26902794195372615,
          1.7814630439071295,
          1.5693339927007197,
          -0.06211670129077228,
          -1.3706596588394095,
          -0.37883746288534165,
          -0.6196555944091635,
          0.5419709598803021,
          -0.882948935629644,
          -0.6004863123254223,
          1.0208840340466567,
          -0.21762155615722495,
          0.44023110912919,
          -1.0336076677809352,
          1.6033795842389853,
          -2.5310768185962225,
          -0.1889972596314623,
          0.7082630262291519,
          0.6671320947598456,
          -0.7834922916165732,
          0.47257187362393505,
          0.12629260151251537,
          2.0515434422449617,
          -0.2936811721928686,
          -0.2516523184280506,
          -1.5747986439720867,
          1.5737893099513762,
          -0.48788785833745874,
          0.8666151639960874,
          0.6629479112242548,
          2.335262202035777,
          0.9301235315825008,
          0.7210757391867806,
          -0.28270307894091573,
          0.6180102172480808,
          -0.68067795910875,
          -0.6615813868992915,
          1.9007085417861616,
          -1.1132438109324958,
          -0.6349033891645982,
          0.19741141743855162,
          1.1602881974005501,
          -0.004921352813687318,
          -1.383225820147114,
          0.22683021489288765,
          -0.0012375954352731027,
          -1.2558220947801475,
          -1.5522403593076988,
          0.004089381987935106,
          1.640944226966207,
          -0.3535758434099873,
          1.024879646181359,
          -1.6239541156805803,
          0.040284041575874806,
          0.896827065486756,
          -0.46794239292736056,
          1.505428664458157,
          -1.3626473839376783,
          -1.005643110364832,
          0.3925216946506399,
          0.7738640376750079,
          1.5554473261236892,
          0.35444125136577836,
          1.6205066874880212,
          -0.5538513815676245,
          0.23831067673412812,
          -0.9010306825341439,
          1.3231420079992444,
          -0.14899579209345915,
          -0.8709694619155264,
          1.065094470898646,
          -1.348559047441447,
          0.5804185661168384,
          -0.42879331392602926,
          -0.6959637860253969,
          0.1048024218225815,
          0.13732347532346822,
          -0.2308890616949896,
          -1.2960685158220355,
          -0.3901037235712339,
          -0.155170398255274,
          -0.03287464454016071,
          -0.9472821709740642,
          -1.115841814411383,
          0.2177548674986909,
          1.0364383402990647,
          -0.17403780646611958,
          0.6083659391024403,
          0.6209585041653041,
          1.4670744821663868,
          -0.040890570234690546,
          2.040518372717835,
          -1.1876242746503243,
          -0.5022878658736447,
          -0.008530985057549921,
          0.7140012167410947,
          -0.70522201636607
         ],
         "xaxis": "x10",
         "y": [
          -0.1253860104527143,
          -0.6118562373674805,
          -1.4365315057799206,
          -1.5296847535644056,
          1.0256906308377485,
          0.6546118917023933,
          -0.13694753909926177,
          0.47598961164871434,
          -0.4576220230309786,
          0.06914633479973034,
          0.44810566916611655,
          -1.3837828401399817,
          0.010352973018966774,
          -0.8250952709145534,
          0.6296963916173615,
          -0.42542127945858016,
          -0.6109410917348862,
          1.5743997390762634,
          2.1650619536662425,
          0.4578481973510953,
          -1.3046859016496504,
          -0.6474192597958527,
          -0.5887792125587482,
          1.2372553132863295,
          0.5215256206424765,
          1.0778733033674006,
          0.24441796546793787,
          1.2187759041274653,
          -0.10520699565739441,
          -0.5411436570341177,
          1.807026322054968,
          0.7633433586197469,
          -2.399295918529262,
          -0.8834595773636499,
          -0.09472904104629841,
          0.665830292505531,
          -0.4784453927653169,
          0.5237315067583971,
          -0.8595351827346634,
          -0.5816333784342125,
          -0.005520267424294571,
          0.11968685309862401,
          1.547464924503836,
          0.931097017745766,
          0.04277673076958829,
          -0.8557337425644944,
          1.20390644380971,
          0.7393970602974663,
          -0.8155267288182692,
          -0.5727302642500403,
          -1.337531243150721,
          2.0062513237723847,
          0.40708921825969296,
          -0.2747449233413563,
          0.9248315885501568,
          -0.9582143496024274,
          -0.18835470298830612,
          1.8762131296481197,
          0.9788465194340025,
          -1.8904347019408239,
          -1.3154244098738923,
          1.1151539606281062,
          1.2145867414674558,
          -0.9895251424101672,
          -1.4976405461611064,
          1.8697319089492304,
          -0.11126928460453392,
          0.04418157193162171,
          0.08657501142700152,
          0.8192162901194413,
          0.6656855083085276,
          0.9425918701231876,
          -0.09226599907035703,
          -0.05171132501362498,
          0.07703892071541746,
          -1.5981000809629637,
          -1.3857194699267534,
          0.9044067708222258,
          0.9791847366337971,
          -2.387899775066808,
          -0.6985268151798351,
          -1.1646385215988269,
          -1.6920017739766893,
          1.1195560740729007,
          0.5819483889701914,
          -0.7875296317312973,
          -1.4536399667173046,
          0.3625389981145367,
          0.8192462223621986,
          0.3480980253165979,
          0.9573026292675428,
          0.6589609329947365,
          1.0417462537251394,
          0.5485073630677745,
          -0.46564000009788026,
          -0.20587088166368586,
          -0.22333531043306484,
          -2.1629899084497257,
          0.6114614149705555,
          -1.0393745543201531
         ],
         "yaxis": "y10"
        },
        {
         "histfunc": "count",
         "histnorm": "",
         "marker": {
          "color": "rgba(50, 171, 96, 1.0)",
          "line": {
           "color": "#4D5663",
           "width": 1.3
          }
         },
         "name": "C",
         "nbinsx": 10,
         "opacity": 0.8,
         "orientation": "v",
         "type": "histogram",
         "x": [
          -0.1253860104527143,
          -0.6118562373674805,
          -1.4365315057799206,
          -1.5296847535644056,
          1.0256906308377485,
          0.6546118917023933,
          -0.13694753909926177,
          0.47598961164871434,
          -0.4576220230309786,
          0.06914633479973034,
          0.44810566916611655,
          -1.3837828401399817,
          0.010352973018966774,
          -0.8250952709145534,
          0.6296963916173615,
          -0.42542127945858016,
          -0.6109410917348862,
          1.5743997390762634,
          2.1650619536662425,
          0.4578481973510953,
          -1.3046859016496504,
          -0.6474192597958527,
          -0.5887792125587482,
          1.2372553132863295,
          0.5215256206424765,
          1.0778733033674006,
          0.24441796546793787,
          1.2187759041274653,
          -0.10520699565739441,
          -0.5411436570341177,
          1.807026322054968,
          0.7633433586197469,
          -2.399295918529262,
          -0.8834595773636499,
          -0.09472904104629841,
          0.665830292505531,
          -0.4784453927653169,
          0.5237315067583971,
          -0.8595351827346634,
          -0.5816333784342125,
          -0.005520267424294571,
          0.11968685309862401,
          1.547464924503836,
          0.931097017745766,
          0.04277673076958829,
          -0.8557337425644944,
          1.20390644380971,
          0.7393970602974663,
          -0.8155267288182692,
          -0.5727302642500403,
          -1.337531243150721,
          2.0062513237723847,
          0.40708921825969296,
          -0.2747449233413563,
          0.9248315885501568,
          -0.9582143496024274,
          -0.18835470298830612,
          1.8762131296481197,
          0.9788465194340025,
          -1.8904347019408239,
          -1.3154244098738923,
          1.1151539606281062,
          1.2145867414674558,
          -0.9895251424101672,
          -1.4976405461611064,
          1.8697319089492304,
          -0.11126928460453392,
          0.04418157193162171,
          0.08657501142700152,
          0.8192162901194413,
          0.6656855083085276,
          0.9425918701231876,
          -0.09226599907035703,
          -0.05171132501362498,
          0.07703892071541746,
          -1.5981000809629637,
          -1.3857194699267534,
          0.9044067708222258,
          0.9791847366337971,
          -2.387899775066808,
          -0.6985268151798351,
          -1.1646385215988269,
          -1.6920017739766893,
          1.1195560740729007,
          0.5819483889701914,
          -0.7875296317312973,
          -1.4536399667173046,
          0.3625389981145367,
          0.8192462223621986,
          0.3480980253165979,
          0.9573026292675428,
          0.6589609329947365,
          1.0417462537251394,
          0.5485073630677745,
          -0.46564000009788026,
          -0.20587088166368586,
          -0.22333531043306484,
          -2.1629899084497257,
          0.6114614149705555,
          -1.0393745543201531
         ],
         "xaxis": "x11",
         "yaxis": "y11"
        },
        {
         "line": {
          "color": "rgba(128, 128, 128, 1.0)",
          "dash": "solid",
          "shape": "linear",
          "width": 1.3
         },
         "marker": {
          "size": 2,
          "symbol": "circle"
         },
         "mode": "markers",
         "name": "C",
         "text": "",
         "type": "scatter",
         "x": [
          -1.1318386857975136,
          -1.2336796535709564,
          0.03525125361427638,
          -0.17770978246418753,
          -0.13488631706988827,
          -0.9778506486785518,
          1.5488213103401454,
          -0.6513314112858827,
          0.7202141004894045,
          -0.49712149348633683,
          0.4187535481175902,
          1.5129740289160858,
          -0.9850844584084912,
          0.8346724779775067,
          0.9876152447810874,
          -0.7151566318079478,
          0.19715294423131863,
          -1.149711899654387,
          -1.8260228094658186,
          0.31511270433990085,
          0.3715193146340235,
          0.07617063659659407,
          -0.2857157746538433,
          -0.36019971221710395,
          1.2740565963984742,
          -0.5622184325773008,
          -0.8715327911194508,
          -0.0013278566908858926,
          0.08756355160027998,
          -0.4429992867734947,
          0.6332286046266608,
          -0.8848906377039588,
          -1.5417546450605601,
          -0.4991571158198983,
          0.5194854386692203,
          0.585023679381177,
          0.5793902440399953,
          0.8817410777836935,
          -0.15130419443026008,
          0.1714981792074862,
          1.0882341054612685,
          1.5264974595646432,
          0.5546523395577394,
          2.7236664503447705,
          1.0853701280807013,
          1.8158268809106832,
          1.9818387333418774,
          0.8771701572239711,
          0.7474329431281092,
          -0.7057099607094113,
          -0.06443465215486661,
          -0.6421970535449397,
          -0.6655056506583449,
          -2.0771711232517855,
          -0.8942085983852258,
          -1.0148838383628476,
          -0.43401721818703565,
          1.077602048535558,
          -1.509050258358291,
          0.5223739304869889,
          1.0399037991911402,
          0.120711507570677,
          -0.6027650191281058,
          -0.28535763125655894,
          -1.0681903010591363,
          -0.8627775615683652,
          0.25962821336567943,
          0.49340480098917194,
          -2.0105567188069466,
          -0.2226101526969597,
          1.0841281092321648,
          1.2861857800069918,
          -0.5468267000958672,
          0.1338879341515546,
          0.7432234934055685,
          -0.4708247040572283,
          0.8719487241758966,
          -0.28332359088435044,
          -0.13043541948700305,
          0.2328774571300257,
          0.7441801456643091,
          -1.3763123123518655,
          0.025195310462888896,
          -0.2932721585007492,
          0.07572285083924206,
          -1.459169663391599,
          1.0825742789864674,
          1.0815668594450643,
          -0.5258413358823715,
          -0.6630802819740259,
          -0.45578448200036625,
          1.0586789016948135,
          1.5509926448719724,
          -0.9234441436255499,
          -0.7013652558369653,
          -0.021886674090904473,
          0.8315375065555948,
          0.6408169232431311,
          1.3184798336770307,
          0.5962717155220236
         ],
         "xaxis": "x12",
         "y": [
          -0.1253860104527143,
          -0.6118562373674805,
          -1.4365315057799206,
          -1.5296847535644056,
          1.0256906308377485,
          0.6546118917023933,
          -0.13694753909926177,
          0.47598961164871434,
          -0.4576220230309786,
          0.06914633479973034,
          0.44810566916611655,
          -1.3837828401399817,
          0.010352973018966774,
          -0.8250952709145534,
          0.6296963916173615,
          -0.42542127945858016,
          -0.6109410917348862,
          1.5743997390762634,
          2.1650619536662425,
          0.4578481973510953,
          -1.3046859016496504,
          -0.6474192597958527,
          -0.5887792125587482,
          1.2372553132863295,
          0.5215256206424765,
          1.0778733033674006,
          0.24441796546793787,
          1.2187759041274653,
          -0.10520699565739441,
          -0.5411436570341177,
          1.807026322054968,
          0.7633433586197469,
          -2.399295918529262,
          -0.8834595773636499,
          -0.09472904104629841,
          0.665830292505531,
          -0.4784453927653169,
          0.5237315067583971,
          -0.8595351827346634,
          -0.5816333784342125,
          -0.005520267424294571,
          0.11968685309862401,
          1.547464924503836,
          0.931097017745766,
          0.04277673076958829,
          -0.8557337425644944,
          1.20390644380971,
          0.7393970602974663,
          -0.8155267288182692,
          -0.5727302642500403,
          -1.337531243150721,
          2.0062513237723847,
          0.40708921825969296,
          -0.2747449233413563,
          0.9248315885501568,
          -0.9582143496024274,
          -0.18835470298830612,
          1.8762131296481197,
          0.9788465194340025,
          -1.8904347019408239,
          -1.3154244098738923,
          1.1151539606281062,
          1.2145867414674558,
          -0.9895251424101672,
          -1.4976405461611064,
          1.8697319089492304,
          -0.11126928460453392,
          0.04418157193162171,
          0.08657501142700152,
          0.8192162901194413,
          0.6656855083085276,
          0.9425918701231876,
          -0.09226599907035703,
          -0.05171132501362498,
          0.07703892071541746,
          -1.5981000809629637,
          -1.3857194699267534,
          0.9044067708222258,
          0.9791847366337971,
          -2.387899775066808,
          -0.6985268151798351,
          -1.1646385215988269,
          -1.6920017739766893,
          1.1195560740729007,
          0.5819483889701914,
          -0.7875296317312973,
          -1.4536399667173046,
          0.3625389981145367,
          0.8192462223621986,
          0.3480980253165979,
          0.9573026292675428,
          0.6589609329947365,
          1.0417462537251394,
          0.5485073630677745,
          -0.46564000009788026,
          -0.20587088166368586,
          -0.22333531043306484,
          -2.1629899084497257,
          0.6114614149705555,
          -1.0393745543201531
         ],
         "yaxis": "y12"
        },
        {
         "line": {
          "color": "rgba(128, 128, 128, 1.0)",
          "dash": "solid",
          "shape": "linear",
          "width": 1.3
         },
         "marker": {
          "size": 2,
          "symbol": "circle"
         },
         "mode": "markers",
         "name": "D",
         "text": "",
         "type": "scatter",
         "x": [
          -1.1260490465847872,
          -0.5310285731898228,
          -0.21205040034769118,
          -0.651475455922811,
          0.267930026293517,
          0.5538298175018117,
          -1.45140732479843,
          -1.0621115937309076,
          -0.5192044609949963,
          0.0980486221556033,
          0.32453375604965784,
          -2.276442079629385,
          -0.8192861375427485,
          1.1455113120411295,
          -2.207736390860511,
          -1.3376249514712373,
          0.03209754247353182,
          0.7583928302046903,
          -1.6170134854635898,
          -2.237874750757624,
          -0.6060517589533632,
          -1.6168160408809342,
          0.5359718867610626,
          -0.19476818097990067,
          1.549886790936583,
          0.9060796159426613,
          1.5947215402086397,
          0.8167721240125655,
          0.9537814344129991,
          0.2853493711489899,
          -0.17105691657817657,
          -0.28014666021393175,
          0.2557815908844224,
          0.8528107746534993,
          0.042477092359645086,
          0.11889724485107526,
          0.5568967127519864,
          -0.18951757678675865,
          -1.692795876607851,
          0.5195944789579467,
          -0.2994710600365143,
          -0.6831317390937071,
          -0.19348745174529508,
          1.0395064395104623,
          0.07492067978804913,
          0.09040894717004969,
          -0.11050134142856363,
          0.688851726129721,
          -3.198080407046479,
          1.2676330352932919,
          0.007743872630742216,
          -1.2910895322695102,
          -1.5602154675409974,
          1.4218179339697663,
          0.4183122847397243,
          -0.9329642604154853,
          0.2775100095479445,
          0.033549272190992546,
          0.2415047057353741,
          0.9133160538203141,
          0.4452762554853484,
          -1.1213396871887524,
          -0.5802689307776701,
          0.577142291912203,
          -0.6714867331416482,
          -0.5113480966342379,
          -0.19394406731004424,
          0.4723599526754415,
          -0.33739551772905935,
          -0.019749545009762132,
          1.6811825369057964,
          0.9582167988724097,
          0.21399135911465308,
          0.2142097194066079,
          0.02866790533178008,
          0.20523734472281827,
          -2.373096948655841,
          -1.2974103299991655,
          0.7243000026849691,
          -1.179732860400752,
          -0.9877065634216783,
          1.858169866287358,
          -0.13616633750761734,
          0.9561184888192411,
          0.570540974318356,
          0.1538565839250256,
          -2.069442309033039,
          0.3386990661074552,
          0.229036109270142,
          -0.5231292314138397,
          -0.6386646920120588,
          1.839979440082232,
          -1.5335772908517662,
          0.3559183575671821,
          -1.8599750710237561,
          -0.22501292767062592,
          0.15865167315484616,
          -1.098219379974984,
          -0.5615283437589845,
          -0.7288531852791184
         ],
         "xaxis": "x13",
         "y": [
          -1.1318386857975136,
          -1.2336796535709564,
          0.03525125361427638,
          -0.17770978246418753,
          -0.13488631706988827,
          -0.9778506486785518,
          1.5488213103401454,
          -0.6513314112858827,
          0.7202141004894045,
          -0.49712149348633683,
          0.4187535481175902,
          1.5129740289160858,
          -0.9850844584084912,
          0.8346724779775067,
          0.9876152447810874,
          -0.7151566318079478,
          0.19715294423131863,
          -1.149711899654387,
          -1.8260228094658186,
          0.31511270433990085,
          0.3715193146340235,
          0.07617063659659407,
          -0.2857157746538433,
          -0.36019971221710395,
          1.2740565963984742,
          -0.5622184325773008,
          -0.8715327911194508,
          -0.0013278566908858926,
          0.08756355160027998,
          -0.4429992867734947,
          0.6332286046266608,
          -0.8848906377039588,
          -1.5417546450605601,
          -0.4991571158198983,
          0.5194854386692203,
          0.585023679381177,
          0.5793902440399953,
          0.8817410777836935,
          -0.15130419443026008,
          0.1714981792074862,
          1.0882341054612685,
          1.5264974595646432,
          0.5546523395577394,
          2.7236664503447705,
          1.0853701280807013,
          1.8158268809106832,
          1.9818387333418774,
          0.8771701572239711,
          0.7474329431281092,
          -0.7057099607094113,
          -0.06443465215486661,
          -0.6421970535449397,
          -0.6655056506583449,
          -2.0771711232517855,
          -0.8942085983852258,
          -1.0148838383628476,
          -0.43401721818703565,
          1.077602048535558,
          -1.509050258358291,
          0.5223739304869889,
          1.0399037991911402,
          0.120711507570677,
          -0.6027650191281058,
          -0.28535763125655894,
          -1.0681903010591363,
          -0.8627775615683652,
          0.25962821336567943,
          0.49340480098917194,
          -2.0105567188069466,
          -0.2226101526969597,
          1.0841281092321648,
          1.2861857800069918,
          -0.5468267000958672,
          0.1338879341515546,
          0.7432234934055685,
          -0.4708247040572283,
          0.8719487241758966,
          -0.28332359088435044,
          -0.13043541948700305,
          0.2328774571300257,
          0.7441801456643091,
          -1.3763123123518655,
          0.025195310462888896,
          -0.2932721585007492,
          0.07572285083924206,
          -1.459169663391599,
          1.0825742789864674,
          1.0815668594450643,
          -0.5258413358823715,
          -0.6630802819740259,
          -0.45578448200036625,
          1.0586789016948135,
          1.5509926448719724,
          -0.9234441436255499,
          -0.7013652558369653,
          -0.021886674090904473,
          0.8315375065555948,
          0.6408169232431311,
          1.3184798336770307,
          0.5962717155220236
         ],
         "yaxis": "y13"
        },
        {
         "line": {
          "color": "rgba(128, 128, 128, 1.0)",
          "dash": "solid",
          "shape": "linear",
          "width": 1.3
         },
         "marker": {
          "size": 2,
          "symbol": "circle"
         },
         "mode": "markers",
         "name": "D",
         "text": "",
         "type": "scatter",
         "x": [
          3.035776571079455,
          0.2569500815910443,
          -2.1685043694431307,
          0.26902794195372615,
          1.7814630439071295,
          1.5693339927007197,
          -0.06211670129077228,
          -1.3706596588394095,
          -0.37883746288534165,
          -0.6196555944091635,
          0.5419709598803021,
          -0.882948935629644,
          -0.6004863123254223,
          1.0208840340466567,
          -0.21762155615722495,
          0.44023110912919,
          -1.0336076677809352,
          1.6033795842389853,
          -2.5310768185962225,
          -0.1889972596314623,
          0.7082630262291519,
          0.6671320947598456,
          -0.7834922916165732,
          0.47257187362393505,
          0.12629260151251537,
          2.0515434422449617,
          -0.2936811721928686,
          -0.2516523184280506,
          -1.5747986439720867,
          1.5737893099513762,
          -0.48788785833745874,
          0.8666151639960874,
          0.6629479112242548,
          2.335262202035777,
          0.9301235315825008,
          0.7210757391867806,
          -0.28270307894091573,
          0.6180102172480808,
          -0.68067795910875,
          -0.6615813868992915,
          1.9007085417861616,
          -1.1132438109324958,
          -0.6349033891645982,
          0.19741141743855162,
          1.1602881974005501,
          -0.004921352813687318,
          -1.383225820147114,
          0.22683021489288765,
          -0.0012375954352731027,
          -1.2558220947801475,
          -1.5522403593076988,
          0.004089381987935106,
          1.640944226966207,
          -0.3535758434099873,
          1.024879646181359,
          -1.6239541156805803,
          0.040284041575874806,
          0.896827065486756,
          -0.46794239292736056,
          1.505428664458157,
          -1.3626473839376783,
          -1.005643110364832,
          0.3925216946506399,
          0.7738640376750079,
          1.5554473261236892,
          0.35444125136577836,
          1.6205066874880212,
          -0.5538513815676245,
          0.23831067673412812,
          -0.9010306825341439,
          1.3231420079992444,
          -0.14899579209345915,
          -0.8709694619155264,
          1.065094470898646,
          -1.348559047441447,
          0.5804185661168384,
          -0.42879331392602926,
          -0.6959637860253969,
          0.1048024218225815,
          0.13732347532346822,
          -0.2308890616949896,
          -1.2960685158220355,
          -0.3901037235712339,
          -0.155170398255274,
          -0.03287464454016071,
          -0.9472821709740642,
          -1.115841814411383,
          0.2177548674986909,
          1.0364383402990647,
          -0.17403780646611958,
          0.6083659391024403,
          0.6209585041653041,
          1.4670744821663868,
          -0.040890570234690546,
          2.040518372717835,
          -1.1876242746503243,
          -0.5022878658736447,
          -0.008530985057549921,
          0.7140012167410947,
          -0.70522201636607
         ],
         "xaxis": "x14",
         "y": [
          -1.1318386857975136,
          -1.2336796535709564,
          0.03525125361427638,
          -0.17770978246418753,
          -0.13488631706988827,
          -0.9778506486785518,
          1.5488213103401454,
          -0.6513314112858827,
          0.7202141004894045,
          -0.49712149348633683,
          0.4187535481175902,
          1.5129740289160858,
          -0.9850844584084912,
          0.8346724779775067,
          0.9876152447810874,
          -0.7151566318079478,
          0.19715294423131863,
          -1.149711899654387,
          -1.8260228094658186,
          0.31511270433990085,
          0.3715193146340235,
          0.07617063659659407,
          -0.2857157746538433,
          -0.36019971221710395,
          1.2740565963984742,
          -0.5622184325773008,
          -0.8715327911194508,
          -0.0013278566908858926,
          0.08756355160027998,
          -0.4429992867734947,
          0.6332286046266608,
          -0.8848906377039588,
          -1.5417546450605601,
          -0.4991571158198983,
          0.5194854386692203,
          0.585023679381177,
          0.5793902440399953,
          0.8817410777836935,
          -0.15130419443026008,
          0.1714981792074862,
          1.0882341054612685,
          1.5264974595646432,
          0.5546523395577394,
          2.7236664503447705,
          1.0853701280807013,
          1.8158268809106832,
          1.9818387333418774,
          0.8771701572239711,
          0.7474329431281092,
          -0.7057099607094113,
          -0.06443465215486661,
          -0.6421970535449397,
          -0.6655056506583449,
          -2.0771711232517855,
          -0.8942085983852258,
          -1.0148838383628476,
          -0.43401721818703565,
          1.077602048535558,
          -1.509050258358291,
          0.5223739304869889,
          1.0399037991911402,
          0.120711507570677,
          -0.6027650191281058,
          -0.28535763125655894,
          -1.0681903010591363,
          -0.8627775615683652,
          0.25962821336567943,
          0.49340480098917194,
          -2.0105567188069466,
          -0.2226101526969597,
          1.0841281092321648,
          1.2861857800069918,
          -0.5468267000958672,
          0.1338879341515546,
          0.7432234934055685,
          -0.4708247040572283,
          0.8719487241758966,
          -0.28332359088435044,
          -0.13043541948700305,
          0.2328774571300257,
          0.7441801456643091,
          -1.3763123123518655,
          0.025195310462888896,
          -0.2932721585007492,
          0.07572285083924206,
          -1.459169663391599,
          1.0825742789864674,
          1.0815668594450643,
          -0.5258413358823715,
          -0.6630802819740259,
          -0.45578448200036625,
          1.0586789016948135,
          1.5509926448719724,
          -0.9234441436255499,
          -0.7013652558369653,
          -0.021886674090904473,
          0.8315375065555948,
          0.6408169232431311,
          1.3184798336770307,
          0.5962717155220236
         ],
         "yaxis": "y14"
        },
        {
         "line": {
          "color": "rgba(128, 128, 128, 1.0)",
          "dash": "solid",
          "shape": "linear",
          "width": 1.3
         },
         "marker": {
          "size": 2,
          "symbol": "circle"
         },
         "mode": "markers",
         "name": "D",
         "text": "",
         "type": "scatter",
         "x": [
          -0.1253860104527143,
          -0.6118562373674805,
          -1.4365315057799206,
          -1.5296847535644056,
          1.0256906308377485,
          0.6546118917023933,
          -0.13694753909926177,
          0.47598961164871434,
          -0.4576220230309786,
          0.06914633479973034,
          0.44810566916611655,
          -1.3837828401399817,
          0.010352973018966774,
          -0.8250952709145534,
          0.6296963916173615,
          -0.42542127945858016,
          -0.6109410917348862,
          1.5743997390762634,
          2.1650619536662425,
          0.4578481973510953,
          -1.3046859016496504,
          -0.6474192597958527,
          -0.5887792125587482,
          1.2372553132863295,
          0.5215256206424765,
          1.0778733033674006,
          0.24441796546793787,
          1.2187759041274653,
          -0.10520699565739441,
          -0.5411436570341177,
          1.807026322054968,
          0.7633433586197469,
          -2.399295918529262,
          -0.8834595773636499,
          -0.09472904104629841,
          0.665830292505531,
          -0.4784453927653169,
          0.5237315067583971,
          -0.8595351827346634,
          -0.5816333784342125,
          -0.005520267424294571,
          0.11968685309862401,
          1.547464924503836,
          0.931097017745766,
          0.04277673076958829,
          -0.8557337425644944,
          1.20390644380971,
          0.7393970602974663,
          -0.8155267288182692,
          -0.5727302642500403,
          -1.337531243150721,
          2.0062513237723847,
          0.40708921825969296,
          -0.2747449233413563,
          0.9248315885501568,
          -0.9582143496024274,
          -0.18835470298830612,
          1.8762131296481197,
          0.9788465194340025,
          -1.8904347019408239,
          -1.3154244098738923,
          1.1151539606281062,
          1.2145867414674558,
          -0.9895251424101672,
          -1.4976405461611064,
          1.8697319089492304,
          -0.11126928460453392,
          0.04418157193162171,
          0.08657501142700152,
          0.8192162901194413,
          0.6656855083085276,
          0.9425918701231876,
          -0.09226599907035703,
          -0.05171132501362498,
          0.07703892071541746,
          -1.5981000809629637,
          -1.3857194699267534,
          0.9044067708222258,
          0.9791847366337971,
          -2.387899775066808,
          -0.6985268151798351,
          -1.1646385215988269,
          -1.6920017739766893,
          1.1195560740729007,
          0.5819483889701914,
          -0.7875296317312973,
          -1.4536399667173046,
          0.3625389981145367,
          0.8192462223621986,
          0.3480980253165979,
          0.9573026292675428,
          0.6589609329947365,
          1.0417462537251394,
          0.5485073630677745,
          -0.46564000009788026,
          -0.20587088166368586,
          -0.22333531043306484,
          -2.1629899084497257,
          0.6114614149705555,
          -1.0393745543201531
         ],
         "xaxis": "x15",
         "y": [
          -1.1318386857975136,
          -1.2336796535709564,
          0.03525125361427638,
          -0.17770978246418753,
          -0.13488631706988827,
          -0.9778506486785518,
          1.5488213103401454,
          -0.6513314112858827,
          0.7202141004894045,
          -0.49712149348633683,
          0.4187535481175902,
          1.5129740289160858,
          -0.9850844584084912,
          0.8346724779775067,
          0.9876152447810874,
          -0.7151566318079478,
          0.19715294423131863,
          -1.149711899654387,
          -1.8260228094658186,
          0.31511270433990085,
          0.3715193146340235,
          0.07617063659659407,
          -0.2857157746538433,
          -0.36019971221710395,
          1.2740565963984742,
          -0.5622184325773008,
          -0.8715327911194508,
          -0.0013278566908858926,
          0.08756355160027998,
          -0.4429992867734947,
          0.6332286046266608,
          -0.8848906377039588,
          -1.5417546450605601,
          -0.4991571158198983,
          0.5194854386692203,
          0.585023679381177,
          0.5793902440399953,
          0.8817410777836935,
          -0.15130419443026008,
          0.1714981792074862,
          1.0882341054612685,
          1.5264974595646432,
          0.5546523395577394,
          2.7236664503447705,
          1.0853701280807013,
          1.8158268809106832,
          1.9818387333418774,
          0.8771701572239711,
          0.7474329431281092,
          -0.7057099607094113,
          -0.06443465215486661,
          -0.6421970535449397,
          -0.6655056506583449,
          -2.0771711232517855,
          -0.8942085983852258,
          -1.0148838383628476,
          -0.43401721818703565,
          1.077602048535558,
          -1.509050258358291,
          0.5223739304869889,
          1.0399037991911402,
          0.120711507570677,
          -0.6027650191281058,
          -0.28535763125655894,
          -1.0681903010591363,
          -0.8627775615683652,
          0.25962821336567943,
          0.49340480098917194,
          -2.0105567188069466,
          -0.2226101526969597,
          1.0841281092321648,
          1.2861857800069918,
          -0.5468267000958672,
          0.1338879341515546,
          0.7432234934055685,
          -0.4708247040572283,
          0.8719487241758966,
          -0.28332359088435044,
          -0.13043541948700305,
          0.2328774571300257,
          0.7441801456643091,
          -1.3763123123518655,
          0.025195310462888896,
          -0.2932721585007492,
          0.07572285083924206,
          -1.459169663391599,
          1.0825742789864674,
          1.0815668594450643,
          -0.5258413358823715,
          -0.6630802819740259,
          -0.45578448200036625,
          1.0586789016948135,
          1.5509926448719724,
          -0.9234441436255499,
          -0.7013652558369653,
          -0.021886674090904473,
          0.8315375065555948,
          0.6408169232431311,
          1.3184798336770307,
          0.5962717155220236
         ],
         "yaxis": "y15"
        },
        {
         "histfunc": "count",
         "histnorm": "",
         "marker": {
          "color": "rgba(128, 0, 128, 1.0)",
          "line": {
           "color": "#4D5663",
           "width": 1.3
          }
         },
         "name": "D",
         "nbinsx": 10,
         "opacity": 0.8,
         "orientation": "v",
         "type": "histogram",
         "x": [
          -1.1318386857975136,
          -1.2336796535709564,
          0.03525125361427638,
          -0.17770978246418753,
          -0.13488631706988827,
          -0.9778506486785518,
          1.5488213103401454,
          -0.6513314112858827,
          0.7202141004894045,
          -0.49712149348633683,
          0.4187535481175902,
          1.5129740289160858,
          -0.9850844584084912,
          0.8346724779775067,
          0.9876152447810874,
          -0.7151566318079478,
          0.19715294423131863,
          -1.149711899654387,
          -1.8260228094658186,
          0.31511270433990085,
          0.3715193146340235,
          0.07617063659659407,
          -0.2857157746538433,
          -0.36019971221710395,
          1.2740565963984742,
          -0.5622184325773008,
          -0.8715327911194508,
          -0.0013278566908858926,
          0.08756355160027998,
          -0.4429992867734947,
          0.6332286046266608,
          -0.8848906377039588,
          -1.5417546450605601,
          -0.4991571158198983,
          0.5194854386692203,
          0.585023679381177,
          0.5793902440399953,
          0.8817410777836935,
          -0.15130419443026008,
          0.1714981792074862,
          1.0882341054612685,
          1.5264974595646432,
          0.5546523395577394,
          2.7236664503447705,
          1.0853701280807013,
          1.8158268809106832,
          1.9818387333418774,
          0.8771701572239711,
          0.7474329431281092,
          -0.7057099607094113,
          -0.06443465215486661,
          -0.6421970535449397,
          -0.6655056506583449,
          -2.0771711232517855,
          -0.8942085983852258,
          -1.0148838383628476,
          -0.43401721818703565,
          1.077602048535558,
          -1.509050258358291,
          0.5223739304869889,
          1.0399037991911402,
          0.120711507570677,
          -0.6027650191281058,
          -0.28535763125655894,
          -1.0681903010591363,
          -0.8627775615683652,
          0.25962821336567943,
          0.49340480098917194,
          -2.0105567188069466,
          -0.2226101526969597,
          1.0841281092321648,
          1.2861857800069918,
          -0.5468267000958672,
          0.1338879341515546,
          0.7432234934055685,
          -0.4708247040572283,
          0.8719487241758966,
          -0.28332359088435044,
          -0.13043541948700305,
          0.2328774571300257,
          0.7441801456643091,
          -1.3763123123518655,
          0.025195310462888896,
          -0.2932721585007492,
          0.07572285083924206,
          -1.459169663391599,
          1.0825742789864674,
          1.0815668594450643,
          -0.5258413358823715,
          -0.6630802819740259,
          -0.45578448200036625,
          1.0586789016948135,
          1.5509926448719724,
          -0.9234441436255499,
          -0.7013652558369653,
          -0.021886674090904473,
          0.8315375065555948,
          0.6408169232431311,
          1.3184798336770307,
          0.5962717155220236
         ],
         "xaxis": "x16",
         "yaxis": "y16"
        }
       ],
       "layout": {
        "bargap": 0.02,
        "legend": {
         "bgcolor": "#F5F6F9",
         "font": {
          "color": "#4D5663"
         }
        },
        "paper_bgcolor": "#F5F6F9",
        "plot_bgcolor": "#F5F6F9",
        "showlegend": false,
        "template": {
         "data": {
          "bar": [
           {
            "error_x": {
             "color": "#2a3f5f"
            },
            "error_y": {
             "color": "#2a3f5f"
            },
            "marker": {
             "line": {
              "color": "#E5ECF6",
              "width": 0.5
             },
             "pattern": {
              "fillmode": "overlay",
              "size": 10,
              "solidity": 0.2
             }
            },
            "type": "bar"
           }
          ],
          "barpolar": [
           {
            "marker": {
             "line": {
              "color": "#E5ECF6",
              "width": 0.5
             },
             "pattern": {
              "fillmode": "overlay",
              "size": 10,
              "solidity": 0.2
             }
            },
            "type": "barpolar"
           }
          ],
          "carpet": [
           {
            "aaxis": {
             "endlinecolor": "#2a3f5f",
             "gridcolor": "white",
             "linecolor": "white",
             "minorgridcolor": "white",
             "startlinecolor": "#2a3f5f"
            },
            "baxis": {
             "endlinecolor": "#2a3f5f",
             "gridcolor": "white",
             "linecolor": "white",
             "minorgridcolor": "white",
             "startlinecolor": "#2a3f5f"
            },
            "type": "carpet"
           }
          ],
          "choropleth": [
           {
            "colorbar": {
             "outlinewidth": 0,
             "ticks": ""
            },
            "type": "choropleth"
           }
          ],
          "contour": [
           {
            "colorbar": {
             "outlinewidth": 0,
             "ticks": ""
            },
            "colorscale": [
             [
              0,
              "#0d0887"
             ],
             [
              0.1111111111111111,
              "#46039f"
             ],
             [
              0.2222222222222222,
              "#7201a8"
             ],
             [
              0.3333333333333333,
              "#9c179e"
             ],
             [
              0.4444444444444444,
              "#bd3786"
             ],
             [
              0.5555555555555556,
              "#d8576b"
             ],
             [
              0.6666666666666666,
              "#ed7953"
             ],
             [
              0.7777777777777778,
              "#fb9f3a"
             ],
             [
              0.8888888888888888,
              "#fdca26"
             ],
             [
              1,
              "#f0f921"
             ]
            ],
            "type": "contour"
           }
          ],
          "contourcarpet": [
           {
            "colorbar": {
             "outlinewidth": 0,
             "ticks": ""
            },
            "type": "contourcarpet"
           }
          ],
          "heatmap": [
           {
            "colorbar": {
             "outlinewidth": 0,
             "ticks": ""
            },
            "colorscale": [
             [
              0,
              "#0d0887"
             ],
             [
              0.1111111111111111,
              "#46039f"
             ],
             [
              0.2222222222222222,
              "#7201a8"
             ],
             [
              0.3333333333333333,
              "#9c179e"
             ],
             [
              0.4444444444444444,
              "#bd3786"
             ],
             [
              0.5555555555555556,
              "#d8576b"
             ],
             [
              0.6666666666666666,
              "#ed7953"
             ],
             [
              0.7777777777777778,
              "#fb9f3a"
             ],
             [
              0.8888888888888888,
              "#fdca26"
             ],
             [
              1,
              "#f0f921"
             ]
            ],
            "type": "heatmap"
           }
          ],
          "heatmapgl": [
           {
            "colorbar": {
             "outlinewidth": 0,
             "ticks": ""
            },
            "colorscale": [
             [
              0,
              "#0d0887"
             ],
             [
              0.1111111111111111,
              "#46039f"
             ],
             [
              0.2222222222222222,
              "#7201a8"
             ],
             [
              0.3333333333333333,
              "#9c179e"
             ],
             [
              0.4444444444444444,
              "#bd3786"
             ],
             [
              0.5555555555555556,
              "#d8576b"
             ],
             [
              0.6666666666666666,
              "#ed7953"
             ],
             [
              0.7777777777777778,
              "#fb9f3a"
             ],
             [
              0.8888888888888888,
              "#fdca26"
             ],
             [
              1,
              "#f0f921"
             ]
            ],
            "type": "heatmapgl"
           }
          ],
          "histogram": [
           {
            "marker": {
             "pattern": {
              "fillmode": "overlay",
              "size": 10,
              "solidity": 0.2
             }
            },
            "type": "histogram"
           }
          ],
          "histogram2d": [
           {
            "colorbar": {
             "outlinewidth": 0,
             "ticks": ""
            },
            "colorscale": [
             [
              0,
              "#0d0887"
             ],
             [
              0.1111111111111111,
              "#46039f"
             ],
             [
              0.2222222222222222,
              "#7201a8"
             ],
             [
              0.3333333333333333,
              "#9c179e"
             ],
             [
              0.4444444444444444,
              "#bd3786"
             ],
             [
              0.5555555555555556,
              "#d8576b"
             ],
             [
              0.6666666666666666,
              "#ed7953"
             ],
             [
              0.7777777777777778,
              "#fb9f3a"
             ],
             [
              0.8888888888888888,
              "#fdca26"
             ],
             [
              1,
              "#f0f921"
             ]
            ],
            "type": "histogram2d"
           }
          ],
          "histogram2dcontour": [
           {
            "colorbar": {
             "outlinewidth": 0,
             "ticks": ""
            },
            "colorscale": [
             [
              0,
              "#0d0887"
             ],
             [
              0.1111111111111111,
              "#46039f"
             ],
             [
              0.2222222222222222,
              "#7201a8"
             ],
             [
              0.3333333333333333,
              "#9c179e"
             ],
             [
              0.4444444444444444,
              "#bd3786"
             ],
             [
              0.5555555555555556,
              "#d8576b"
             ],
             [
              0.6666666666666666,
              "#ed7953"
             ],
             [
              0.7777777777777778,
              "#fb9f3a"
             ],
             [
              0.8888888888888888,
              "#fdca26"
             ],
             [
              1,
              "#f0f921"
             ]
            ],
            "type": "histogram2dcontour"
           }
          ],
          "mesh3d": [
           {
            "colorbar": {
             "outlinewidth": 0,
             "ticks": ""
            },
            "type": "mesh3d"
           }
          ],
          "parcoords": [
           {
            "line": {
             "colorbar": {
              "outlinewidth": 0,
              "ticks": ""
             }
            },
            "type": "parcoords"
           }
          ],
          "pie": [
           {
            "automargin": true,
            "type": "pie"
           }
          ],
          "scatter": [
           {
            "marker": {
             "colorbar": {
              "outlinewidth": 0,
              "ticks": ""
             }
            },
            "type": "scatter"
           }
          ],
          "scatter3d": [
           {
            "line": {
             "colorbar": {
              "outlinewidth": 0,
              "ticks": ""
             }
            },
            "marker": {
             "colorbar": {
              "outlinewidth": 0,
              "ticks": ""
             }
            },
            "type": "scatter3d"
           }
          ],
          "scattercarpet": [
           {
            "marker": {
             "colorbar": {
              "outlinewidth": 0,
              "ticks": ""
             }
            },
            "type": "scattercarpet"
           }
          ],
          "scattergeo": [
           {
            "marker": {
             "colorbar": {
              "outlinewidth": 0,
              "ticks": ""
             }
            },
            "type": "scattergeo"
           }
          ],
          "scattergl": [
           {
            "marker": {
             "colorbar": {
              "outlinewidth": 0,
              "ticks": ""
             }
            },
            "type": "scattergl"
           }
          ],
          "scattermapbox": [
           {
            "marker": {
             "colorbar": {
              "outlinewidth": 0,
              "ticks": ""
             }
            },
            "type": "scattermapbox"
           }
          ],
          "scatterpolar": [
           {
            "marker": {
             "colorbar": {
              "outlinewidth": 0,
              "ticks": ""
             }
            },
            "type": "scatterpolar"
           }
          ],
          "scatterpolargl": [
           {
            "marker": {
             "colorbar": {
              "outlinewidth": 0,
              "ticks": ""
             }
            },
            "type": "scatterpolargl"
           }
          ],
          "scatterternary": [
           {
            "marker": {
             "colorbar": {
              "outlinewidth": 0,
              "ticks": ""
             }
            },
            "type": "scatterternary"
           }
          ],
          "surface": [
           {
            "colorbar": {
             "outlinewidth": 0,
             "ticks": ""
            },
            "colorscale": [
             [
              0,
              "#0d0887"
             ],
             [
              0.1111111111111111,
              "#46039f"
             ],
             [
              0.2222222222222222,
              "#7201a8"
             ],
             [
              0.3333333333333333,
              "#9c179e"
             ],
             [
              0.4444444444444444,
              "#bd3786"
             ],
             [
              0.5555555555555556,
              "#d8576b"
             ],
             [
              0.6666666666666666,
              "#ed7953"
             ],
             [
              0.7777777777777778,
              "#fb9f3a"
             ],
             [
              0.8888888888888888,
              "#fdca26"
             ],
             [
              1,
              "#f0f921"
             ]
            ],
            "type": "surface"
           }
          ],
          "table": [
           {
            "cells": {
             "fill": {
              "color": "#EBF0F8"
             },
             "line": {
              "color": "white"
             }
            },
            "header": {
             "fill": {
              "color": "#C8D4E3"
             },
             "line": {
              "color": "white"
             }
            },
            "type": "table"
           }
          ]
         },
         "layout": {
          "annotationdefaults": {
           "arrowcolor": "#2a3f5f",
           "arrowhead": 0,
           "arrowwidth": 1
          },
          "autotypenumbers": "strict",
          "coloraxis": {
           "colorbar": {
            "outlinewidth": 0,
            "ticks": ""
           }
          },
          "colorscale": {
           "diverging": [
            [
             0,
             "#8e0152"
            ],
            [
             0.1,
             "#c51b7d"
            ],
            [
             0.2,
             "#de77ae"
            ],
            [
             0.3,
             "#f1b6da"
            ],
            [
             0.4,
             "#fde0ef"
            ],
            [
             0.5,
             "#f7f7f7"
            ],
            [
             0.6,
             "#e6f5d0"
            ],
            [
             0.7,
             "#b8e186"
            ],
            [
             0.8,
             "#7fbc41"
            ],
            [
             0.9,
             "#4d9221"
            ],
            [
             1,
             "#276419"
            ]
           ],
           "sequential": [
            [
             0,
             "#0d0887"
            ],
            [
             0.1111111111111111,
             "#46039f"
            ],
            [
             0.2222222222222222,
             "#7201a8"
            ],
            [
             0.3333333333333333,
             "#9c179e"
            ],
            [
             0.4444444444444444,
             "#bd3786"
            ],
            [
             0.5555555555555556,
             "#d8576b"
            ],
            [
             0.6666666666666666,
             "#ed7953"
            ],
            [
             0.7777777777777778,
             "#fb9f3a"
            ],
            [
             0.8888888888888888,
             "#fdca26"
            ],
            [
             1,
             "#f0f921"
            ]
           ],
           "sequentialminus": [
            [
             0,
             "#0d0887"
            ],
            [
             0.1111111111111111,
             "#46039f"
            ],
            [
             0.2222222222222222,
             "#7201a8"
            ],
            [
             0.3333333333333333,
             "#9c179e"
            ],
            [
             0.4444444444444444,
             "#bd3786"
            ],
            [
             0.5555555555555556,
             "#d8576b"
            ],
            [
             0.6666666666666666,
             "#ed7953"
            ],
            [
             0.7777777777777778,
             "#fb9f3a"
            ],
            [
             0.8888888888888888,
             "#fdca26"
            ],
            [
             1,
             "#f0f921"
            ]
           ]
          },
          "colorway": [
           "#636efa",
           "#EF553B",
           "#00cc96",
           "#ab63fa",
           "#FFA15A",
           "#19d3f3",
           "#FF6692",
           "#B6E880",
           "#FF97FF",
           "#FECB52"
          ],
          "font": {
           "color": "#2a3f5f"
          },
          "geo": {
           "bgcolor": "white",
           "lakecolor": "white",
           "landcolor": "#E5ECF6",
           "showlakes": true,
           "showland": true,
           "subunitcolor": "white"
          },
          "hoverlabel": {
           "align": "left"
          },
          "hovermode": "closest",
          "mapbox": {
           "style": "light"
          },
          "paper_bgcolor": "white",
          "plot_bgcolor": "#E5ECF6",
          "polar": {
           "angularaxis": {
            "gridcolor": "white",
            "linecolor": "white",
            "ticks": ""
           },
           "bgcolor": "#E5ECF6",
           "radialaxis": {
            "gridcolor": "white",
            "linecolor": "white",
            "ticks": ""
           }
          },
          "scene": {
           "xaxis": {
            "backgroundcolor": "#E5ECF6",
            "gridcolor": "white",
            "gridwidth": 2,
            "linecolor": "white",
            "showbackground": true,
            "ticks": "",
            "zerolinecolor": "white"
           },
           "yaxis": {
            "backgroundcolor": "#E5ECF6",
            "gridcolor": "white",
            "gridwidth": 2,
            "linecolor": "white",
            "showbackground": true,
            "ticks": "",
            "zerolinecolor": "white"
           },
           "zaxis": {
            "backgroundcolor": "#E5ECF6",
            "gridcolor": "white",
            "gridwidth": 2,
            "linecolor": "white",
            "showbackground": true,
            "ticks": "",
            "zerolinecolor": "white"
           }
          },
          "shapedefaults": {
           "line": {
            "color": "#2a3f5f"
           }
          },
          "ternary": {
           "aaxis": {
            "gridcolor": "white",
            "linecolor": "white",
            "ticks": ""
           },
           "baxis": {
            "gridcolor": "white",
            "linecolor": "white",
            "ticks": ""
           },
           "bgcolor": "#E5ECF6",
           "caxis": {
            "gridcolor": "white",
            "linecolor": "white",
            "ticks": ""
           }
          },
          "title": {
           "x": 0.05
          },
          "xaxis": {
           "automargin": true,
           "gridcolor": "white",
           "linecolor": "white",
           "ticks": "",
           "title": {
            "standoff": 15
           },
           "zerolinecolor": "white",
           "zerolinewidth": 2
          },
          "yaxis": {
           "automargin": true,
           "gridcolor": "white",
           "linecolor": "white",
           "ticks": "",
           "title": {
            "standoff": 15
           },
           "zerolinecolor": "white",
           "zerolinewidth": 2
          }
         }
        },
        "title": {
         "font": {
          "color": "#4D5663"
         }
        },
        "xaxis": {
         "anchor": "y",
         "domain": [
          0,
          0.2125
         ],
         "gridcolor": "#E1E5ED",
         "showgrid": false,
         "tickfont": {
          "color": "#4D5663"
         },
         "title": {
          "font": {
           "color": "#4D5663"
          },
          "text": ""
         },
         "zerolinecolor": "#E1E5ED"
        },
        "xaxis10": {
         "anchor": "y10",
         "domain": [
          0.2625,
          0.475
         ],
         "gridcolor": "#E1E5ED",
         "showgrid": false,
         "tickfont": {
          "color": "#4D5663"
         },
         "title": {
          "font": {
           "color": "#4D5663"
          },
          "text": ""
         },
         "zerolinecolor": "#E1E5ED"
        },
        "xaxis11": {
         "anchor": "y11",
         "domain": [
          0.525,
          0.7375
         ],
         "gridcolor": "#E1E5ED",
         "showgrid": false,
         "tickfont": {
          "color": "#4D5663"
         },
         "title": {
          "font": {
           "color": "#4D5663"
          },
          "text": ""
         },
         "zerolinecolor": "#E1E5ED"
        },
        "xaxis12": {
         "anchor": "y12",
         "domain": [
          0.7875,
          1
         ],
         "gridcolor": "#E1E5ED",
         "showgrid": false,
         "tickfont": {
          "color": "#4D5663"
         },
         "title": {
          "font": {
           "color": "#4D5663"
          },
          "text": ""
         },
         "zerolinecolor": "#E1E5ED"
        },
        "xaxis13": {
         "anchor": "y13",
         "domain": [
          0,
          0.2125
         ],
         "gridcolor": "#E1E5ED",
         "showgrid": false,
         "tickfont": {
          "color": "#4D5663"
         },
         "title": {
          "font": {
           "color": "#4D5663"
          },
          "text": ""
         },
         "zerolinecolor": "#E1E5ED"
        },
        "xaxis14": {
         "anchor": "y14",
         "domain": [
          0.2625,
          0.475
         ],
         "gridcolor": "#E1E5ED",
         "showgrid": false,
         "tickfont": {
          "color": "#4D5663"
         },
         "title": {
          "font": {
           "color": "#4D5663"
          },
          "text": ""
         },
         "zerolinecolor": "#E1E5ED"
        },
        "xaxis15": {
         "anchor": "y15",
         "domain": [
          0.525,
          0.7375
         ],
         "gridcolor": "#E1E5ED",
         "showgrid": false,
         "tickfont": {
          "color": "#4D5663"
         },
         "title": {
          "font": {
           "color": "#4D5663"
          },
          "text": ""
         },
         "zerolinecolor": "#E1E5ED"
        },
        "xaxis16": {
         "anchor": "y16",
         "domain": [
          0.7875,
          1
         ],
         "gridcolor": "#E1E5ED",
         "showgrid": false,
         "tickfont": {
          "color": "#4D5663"
         },
         "title": {
          "font": {
           "color": "#4D5663"
          },
          "text": ""
         },
         "zerolinecolor": "#E1E5ED"
        },
        "xaxis2": {
         "anchor": "y2",
         "domain": [
          0.2625,
          0.475
         ],
         "gridcolor": "#E1E5ED",
         "showgrid": false,
         "tickfont": {
          "color": "#4D5663"
         },
         "title": {
          "font": {
           "color": "#4D5663"
          },
          "text": ""
         },
         "zerolinecolor": "#E1E5ED"
        },
        "xaxis3": {
         "anchor": "y3",
         "domain": [
          0.525,
          0.7375
         ],
         "gridcolor": "#E1E5ED",
         "showgrid": false,
         "tickfont": {
          "color": "#4D5663"
         },
         "title": {
          "font": {
           "color": "#4D5663"
          },
          "text": ""
         },
         "zerolinecolor": "#E1E5ED"
        },
        "xaxis4": {
         "anchor": "y4",
         "domain": [
          0.7875,
          1
         ],
         "gridcolor": "#E1E5ED",
         "showgrid": false,
         "tickfont": {
          "color": "#4D5663"
         },
         "title": {
          "font": {
           "color": "#4D5663"
          },
          "text": ""
         },
         "zerolinecolor": "#E1E5ED"
        },
        "xaxis5": {
         "anchor": "y5",
         "domain": [
          0,
          0.2125
         ],
         "gridcolor": "#E1E5ED",
         "showgrid": false,
         "tickfont": {
          "color": "#4D5663"
         },
         "title": {
          "font": {
           "color": "#4D5663"
          },
          "text": ""
         },
         "zerolinecolor": "#E1E5ED"
        },
        "xaxis6": {
         "anchor": "y6",
         "domain": [
          0.2625,
          0.475
         ],
         "gridcolor": "#E1E5ED",
         "showgrid": false,
         "tickfont": {
          "color": "#4D5663"
         },
         "title": {
          "font": {
           "color": "#4D5663"
          },
          "text": ""
         },
         "zerolinecolor": "#E1E5ED"
        },
        "xaxis7": {
         "anchor": "y7",
         "domain": [
          0.525,
          0.7375
         ],
         "gridcolor": "#E1E5ED",
         "showgrid": false,
         "tickfont": {
          "color": "#4D5663"
         },
         "title": {
          "font": {
           "color": "#4D5663"
          },
          "text": ""
         },
         "zerolinecolor": "#E1E5ED"
        },
        "xaxis8": {
         "anchor": "y8",
         "domain": [
          0.7875,
          1
         ],
         "gridcolor": "#E1E5ED",
         "showgrid": false,
         "tickfont": {
          "color": "#4D5663"
         },
         "title": {
          "font": {
           "color": "#4D5663"
          },
          "text": ""
         },
         "zerolinecolor": "#E1E5ED"
        },
        "xaxis9": {
         "anchor": "y9",
         "domain": [
          0,
          0.2125
         ],
         "gridcolor": "#E1E5ED",
         "showgrid": false,
         "tickfont": {
          "color": "#4D5663"
         },
         "title": {
          "font": {
           "color": "#4D5663"
          },
          "text": ""
         },
         "zerolinecolor": "#E1E5ED"
        },
        "yaxis": {
         "anchor": "x",
         "domain": [
          0.8025,
          1
         ],
         "gridcolor": "#E1E5ED",
         "showgrid": false,
         "tickfont": {
          "color": "#4D5663"
         },
         "title": {
          "font": {
           "color": "#4D5663"
          },
          "text": ""
         },
         "zerolinecolor": "#E1E5ED"
        },
        "yaxis10": {
         "anchor": "x10",
         "domain": [
          0.2675,
          0.465
         ],
         "gridcolor": "#E1E5ED",
         "showgrid": false,
         "tickfont": {
          "color": "#4D5663"
         },
         "title": {
          "font": {
           "color": "#4D5663"
          },
          "text": ""
         },
         "zerolinecolor": "#E1E5ED"
        },
        "yaxis11": {
         "anchor": "x11",
         "domain": [
          0.2675,
          0.465
         ],
         "gridcolor": "#E1E5ED",
         "showgrid": false,
         "tickfont": {
          "color": "#4D5663"
         },
         "title": {
          "font": {
           "color": "#4D5663"
          },
          "text": ""
         },
         "zerolinecolor": "#E1E5ED"
        },
        "yaxis12": {
         "anchor": "x12",
         "domain": [
          0.2675,
          0.465
         ],
         "gridcolor": "#E1E5ED",
         "showgrid": false,
         "tickfont": {
          "color": "#4D5663"
         },
         "title": {
          "font": {
           "color": "#4D5663"
          },
          "text": ""
         },
         "zerolinecolor": "#E1E5ED"
        },
        "yaxis13": {
         "anchor": "x13",
         "domain": [
          0,
          0.1975
         ],
         "gridcolor": "#E1E5ED",
         "showgrid": false,
         "tickfont": {
          "color": "#4D5663"
         },
         "title": {
          "font": {
           "color": "#4D5663"
          },
          "text": ""
         },
         "zerolinecolor": "#E1E5ED"
        },
        "yaxis14": {
         "anchor": "x14",
         "domain": [
          0,
          0.1975
         ],
         "gridcolor": "#E1E5ED",
         "showgrid": false,
         "tickfont": {
          "color": "#4D5663"
         },
         "title": {
          "font": {
           "color": "#4D5663"
          },
          "text": ""
         },
         "zerolinecolor": "#E1E5ED"
        },
        "yaxis15": {
         "anchor": "x15",
         "domain": [
          0,
          0.1975
         ],
         "gridcolor": "#E1E5ED",
         "showgrid": false,
         "tickfont": {
          "color": "#4D5663"
         },
         "title": {
          "font": {
           "color": "#4D5663"
          },
          "text": ""
         },
         "zerolinecolor": "#E1E5ED"
        },
        "yaxis16": {
         "anchor": "x16",
         "domain": [
          0,
          0.1975
         ],
         "gridcolor": "#E1E5ED",
         "showgrid": false,
         "tickfont": {
          "color": "#4D5663"
         },
         "title": {
          "font": {
           "color": "#4D5663"
          },
          "text": ""
         },
         "zerolinecolor": "#E1E5ED"
        },
        "yaxis2": {
         "anchor": "x2",
         "domain": [
          0.8025,
          1
         ],
         "gridcolor": "#E1E5ED",
         "showgrid": false,
         "tickfont": {
          "color": "#4D5663"
         },
         "title": {
          "font": {
           "color": "#4D5663"
          },
          "text": ""
         },
         "zerolinecolor": "#E1E5ED"
        },
        "yaxis3": {
         "anchor": "x3",
         "domain": [
          0.8025,
          1
         ],
         "gridcolor": "#E1E5ED",
         "showgrid": false,
         "tickfont": {
          "color": "#4D5663"
         },
         "title": {
          "font": {
           "color": "#4D5663"
          },
          "text": ""
         },
         "zerolinecolor": "#E1E5ED"
        },
        "yaxis4": {
         "anchor": "x4",
         "domain": [
          0.8025,
          1
         ],
         "gridcolor": "#E1E5ED",
         "showgrid": false,
         "tickfont": {
          "color": "#4D5663"
         },
         "title": {
          "font": {
           "color": "#4D5663"
          },
          "text": ""
         },
         "zerolinecolor": "#E1E5ED"
        },
        "yaxis5": {
         "anchor": "x5",
         "domain": [
          0.535,
          0.7325
         ],
         "gridcolor": "#E1E5ED",
         "showgrid": false,
         "tickfont": {
          "color": "#4D5663"
         },
         "title": {
          "font": {
           "color": "#4D5663"
          },
          "text": ""
         },
         "zerolinecolor": "#E1E5ED"
        },
        "yaxis6": {
         "anchor": "x6",
         "domain": [
          0.535,
          0.7325
         ],
         "gridcolor": "#E1E5ED",
         "showgrid": false,
         "tickfont": {
          "color": "#4D5663"
         },
         "title": {
          "font": {
           "color": "#4D5663"
          },
          "text": ""
         },
         "zerolinecolor": "#E1E5ED"
        },
        "yaxis7": {
         "anchor": "x7",
         "domain": [
          0.535,
          0.7325
         ],
         "gridcolor": "#E1E5ED",
         "showgrid": false,
         "tickfont": {
          "color": "#4D5663"
         },
         "title": {
          "font": {
           "color": "#4D5663"
          },
          "text": ""
         },
         "zerolinecolor": "#E1E5ED"
        },
        "yaxis8": {
         "anchor": "x8",
         "domain": [
          0.535,
          0.7325
         ],
         "gridcolor": "#E1E5ED",
         "showgrid": false,
         "tickfont": {
          "color": "#4D5663"
         },
         "title": {
          "font": {
           "color": "#4D5663"
          },
          "text": ""
         },
         "zerolinecolor": "#E1E5ED"
        },
        "yaxis9": {
         "anchor": "x9",
         "domain": [
          0.2675,
          0.465
         ],
         "gridcolor": "#E1E5ED",
         "showgrid": false,
         "tickfont": {
          "color": "#4D5663"
         },
         "title": {
          "font": {
           "color": "#4D5663"
          },
          "text": ""
         },
         "zerolinecolor": "#E1E5ED"
        }
       }
      },
      "text/html": [
       "<div>                            <div id=\"5f41fcb1-3917-4485-98e7-ab0685f39c69\" class=\"plotly-graph-div\" style=\"height:525px; width:100%;\"></div>            <script type=\"text/javascript\">                require([\"plotly\"], function(Plotly) {                    window.PLOTLYENV=window.PLOTLYENV || {};\n",
       "                    window.PLOTLYENV.BASE_URL='https://plot.ly';                                    if (document.getElementById(\"5f41fcb1-3917-4485-98e7-ab0685f39c69\")) {                    Plotly.newPlot(                        \"5f41fcb1-3917-4485-98e7-ab0685f39c69\",                        [{\"histfunc\":\"count\",\"histnorm\":\"\",\"marker\":{\"color\":\"rgba(255, 153, 51, 1.0)\",\"line\":{\"color\":\"#4D5663\",\"width\":1.3}},\"name\":\"A\",\"nbinsx\":10,\"opacity\":0.8,\"orientation\":\"v\",\"type\":\"histogram\",\"x\":[-1.1260490465847872,-0.5310285731898228,-0.21205040034769118,-0.651475455922811,0.267930026293517,0.5538298175018117,-1.45140732479843,-1.0621115937309076,-0.5192044609949963,0.0980486221556033,0.32453375604965784,-2.276442079629385,-0.8192861375427485,1.1455113120411295,-2.207736390860511,-1.3376249514712373,0.03209754247353182,0.7583928302046903,-1.6170134854635898,-2.237874750757624,-0.6060517589533632,-1.6168160408809342,0.5359718867610626,-0.19476818097990067,1.549886790936583,0.9060796159426613,1.5947215402086397,0.8167721240125655,0.9537814344129991,0.2853493711489899,-0.17105691657817657,-0.28014666021393175,0.2557815908844224,0.8528107746534993,0.042477092359645086,0.11889724485107526,0.5568967127519864,-0.18951757678675865,-1.692795876607851,0.5195944789579467,-0.2994710600365143,-0.6831317390937071,-0.19348745174529508,1.0395064395104623,0.07492067978804913,0.09040894717004969,-0.11050134142856363,0.688851726129721,-3.198080407046479,1.2676330352932919,0.007743872630742216,-1.2910895322695102,-1.5602154675409974,1.4218179339697663,0.4183122847397243,-0.9329642604154853,0.2775100095479445,0.033549272190992546,0.2415047057353741,0.9133160538203141,0.4452762554853484,-1.1213396871887524,-0.5802689307776701,0.577142291912203,-0.6714867331416482,-0.5113480966342379,-0.19394406731004424,0.4723599526754415,-0.33739551772905935,-0.019749545009762132,1.6811825369057964,0.9582167988724097,0.21399135911465308,0.2142097194066079,0.02866790533178008,0.20523734472281827,-2.373096948655841,-1.2974103299991655,0.7243000026849691,-1.179732860400752,-0.9877065634216783,1.858169866287358,-0.13616633750761734,0.9561184888192411,0.570540974318356,0.1538565839250256,-2.069442309033039,0.3386990661074552,0.229036109270142,-0.5231292314138397,-0.6386646920120588,1.839979440082232,-1.5335772908517662,0.3559183575671821,-1.8599750710237561,-0.22501292767062592,0.15865167315484616,-1.098219379974984,-0.5615283437589845,-0.7288531852791184],\"xaxis\":\"x\",\"yaxis\":\"y\"},{\"line\":{\"color\":\"rgba(128, 128, 128, 1.0)\",\"dash\":\"solid\",\"shape\":\"linear\",\"width\":1.3},\"marker\":{\"size\":2,\"symbol\":\"circle\"},\"mode\":\"markers\",\"name\":\"A\",\"text\":\"\",\"type\":\"scatter\",\"x\":[3.035776571079455,0.2569500815910443,-2.1685043694431307,0.26902794195372615,1.7814630439071295,1.5693339927007197,-0.06211670129077228,-1.3706596588394095,-0.37883746288534165,-0.6196555944091635,0.5419709598803021,-0.882948935629644,-0.6004863123254223,1.0208840340466567,-0.21762155615722495,0.44023110912919,-1.0336076677809352,1.6033795842389853,-2.5310768185962225,-0.1889972596314623,0.7082630262291519,0.6671320947598456,-0.7834922916165732,0.47257187362393505,0.12629260151251537,2.0515434422449617,-0.2936811721928686,-0.2516523184280506,-1.5747986439720867,1.5737893099513762,-0.48788785833745874,0.8666151639960874,0.6629479112242548,2.335262202035777,0.9301235315825008,0.7210757391867806,-0.28270307894091573,0.6180102172480808,-0.68067795910875,-0.6615813868992915,1.9007085417861616,-1.1132438109324958,-0.6349033891645982,0.19741141743855162,1.1602881974005501,-0.004921352813687318,-1.383225820147114,0.22683021489288765,-0.0012375954352731027,-1.2558220947801475,-1.5522403593076988,0.004089381987935106,1.640944226966207,-0.3535758434099873,1.024879646181359,-1.6239541156805803,0.040284041575874806,0.896827065486756,-0.46794239292736056,1.505428664458157,-1.3626473839376783,-1.005643110364832,0.3925216946506399,0.7738640376750079,1.5554473261236892,0.35444125136577836,1.6205066874880212,-0.5538513815676245,0.23831067673412812,-0.9010306825341439,1.3231420079992444,-0.14899579209345915,-0.8709694619155264,1.065094470898646,-1.348559047441447,0.5804185661168384,-0.42879331392602926,-0.6959637860253969,0.1048024218225815,0.13732347532346822,-0.2308890616949896,-1.2960685158220355,-0.3901037235712339,-0.155170398255274,-0.03287464454016071,-0.9472821709740642,-1.115841814411383,0.2177548674986909,1.0364383402990647,-0.17403780646611958,0.6083659391024403,0.6209585041653041,1.4670744821663868,-0.040890570234690546,2.040518372717835,-1.1876242746503243,-0.5022878658736447,-0.008530985057549921,0.7140012167410947,-0.70522201636607],\"xaxis\":\"x2\",\"y\":[-1.1260490465847872,-0.5310285731898228,-0.21205040034769118,-0.651475455922811,0.267930026293517,0.5538298175018117,-1.45140732479843,-1.0621115937309076,-0.5192044609949963,0.0980486221556033,0.32453375604965784,-2.276442079629385,-0.8192861375427485,1.1455113120411295,-2.207736390860511,-1.3376249514712373,0.03209754247353182,0.7583928302046903,-1.6170134854635898,-2.237874750757624,-0.6060517589533632,-1.6168160408809342,0.5359718867610626,-0.19476818097990067,1.549886790936583,0.9060796159426613,1.5947215402086397,0.8167721240125655,0.9537814344129991,0.2853493711489899,-0.17105691657817657,-0.28014666021393175,0.2557815908844224,0.8528107746534993,0.042477092359645086,0.11889724485107526,0.5568967127519864,-0.18951757678675865,-1.692795876607851,0.5195944789579467,-0.2994710600365143,-0.6831317390937071,-0.19348745174529508,1.0395064395104623,0.07492067978804913,0.09040894717004969,-0.11050134142856363,0.688851726129721,-3.198080407046479,1.2676330352932919,0.007743872630742216,-1.2910895322695102,-1.5602154675409974,1.4218179339697663,0.4183122847397243,-0.9329642604154853,0.2775100095479445,0.033549272190992546,0.2415047057353741,0.9133160538203141,0.4452762554853484,-1.1213396871887524,-0.5802689307776701,0.577142291912203,-0.6714867331416482,-0.5113480966342379,-0.19394406731004424,0.4723599526754415,-0.33739551772905935,-0.019749545009762132,1.6811825369057964,0.9582167988724097,0.21399135911465308,0.2142097194066079,0.02866790533178008,0.20523734472281827,-2.373096948655841,-1.2974103299991655,0.7243000026849691,-1.179732860400752,-0.9877065634216783,1.858169866287358,-0.13616633750761734,0.9561184888192411,0.570540974318356,0.1538565839250256,-2.069442309033039,0.3386990661074552,0.229036109270142,-0.5231292314138397,-0.6386646920120588,1.839979440082232,-1.5335772908517662,0.3559183575671821,-1.8599750710237561,-0.22501292767062592,0.15865167315484616,-1.098219379974984,-0.5615283437589845,-0.7288531852791184],\"yaxis\":\"y2\"},{\"line\":{\"color\":\"rgba(128, 128, 128, 1.0)\",\"dash\":\"solid\",\"shape\":\"linear\",\"width\":1.3},\"marker\":{\"size\":2,\"symbol\":\"circle\"},\"mode\":\"markers\",\"name\":\"A\",\"text\":\"\",\"type\":\"scatter\",\"x\":[-0.1253860104527143,-0.6118562373674805,-1.4365315057799206,-1.5296847535644056,1.0256906308377485,0.6546118917023933,-0.13694753909926177,0.47598961164871434,-0.4576220230309786,0.06914633479973034,0.44810566916611655,-1.3837828401399817,0.010352973018966774,-0.8250952709145534,0.6296963916173615,-0.42542127945858016,-0.6109410917348862,1.5743997390762634,2.1650619536662425,0.4578481973510953,-1.3046859016496504,-0.6474192597958527,-0.5887792125587482,1.2372553132863295,0.5215256206424765,1.0778733033674006,0.24441796546793787,1.2187759041274653,-0.10520699565739441,-0.5411436570341177,1.807026322054968,0.7633433586197469,-2.399295918529262,-0.8834595773636499,-0.09472904104629841,0.665830292505531,-0.4784453927653169,0.5237315067583971,-0.8595351827346634,-0.5816333784342125,-0.005520267424294571,0.11968685309862401,1.547464924503836,0.931097017745766,0.04277673076958829,-0.8557337425644944,1.20390644380971,0.7393970602974663,-0.8155267288182692,-0.5727302642500403,-1.337531243150721,2.0062513237723847,0.40708921825969296,-0.2747449233413563,0.9248315885501568,-0.9582143496024274,-0.18835470298830612,1.8762131296481197,0.9788465194340025,-1.8904347019408239,-1.3154244098738923,1.1151539606281062,1.2145867414674558,-0.9895251424101672,-1.4976405461611064,1.8697319089492304,-0.11126928460453392,0.04418157193162171,0.08657501142700152,0.8192162901194413,0.6656855083085276,0.9425918701231876,-0.09226599907035703,-0.05171132501362498,0.07703892071541746,-1.5981000809629637,-1.3857194699267534,0.9044067708222258,0.9791847366337971,-2.387899775066808,-0.6985268151798351,-1.1646385215988269,-1.6920017739766893,1.1195560740729007,0.5819483889701914,-0.7875296317312973,-1.4536399667173046,0.3625389981145367,0.8192462223621986,0.3480980253165979,0.9573026292675428,0.6589609329947365,1.0417462537251394,0.5485073630677745,-0.46564000009788026,-0.20587088166368586,-0.22333531043306484,-2.1629899084497257,0.6114614149705555,-1.0393745543201531],\"xaxis\":\"x3\",\"y\":[-1.1260490465847872,-0.5310285731898228,-0.21205040034769118,-0.651475455922811,0.267930026293517,0.5538298175018117,-1.45140732479843,-1.0621115937309076,-0.5192044609949963,0.0980486221556033,0.32453375604965784,-2.276442079629385,-0.8192861375427485,1.1455113120411295,-2.207736390860511,-1.3376249514712373,0.03209754247353182,0.7583928302046903,-1.6170134854635898,-2.237874750757624,-0.6060517589533632,-1.6168160408809342,0.5359718867610626,-0.19476818097990067,1.549886790936583,0.9060796159426613,1.5947215402086397,0.8167721240125655,0.9537814344129991,0.2853493711489899,-0.17105691657817657,-0.28014666021393175,0.2557815908844224,0.8528107746534993,0.042477092359645086,0.11889724485107526,0.5568967127519864,-0.18951757678675865,-1.692795876607851,0.5195944789579467,-0.2994710600365143,-0.6831317390937071,-0.19348745174529508,1.0395064395104623,0.07492067978804913,0.09040894717004969,-0.11050134142856363,0.688851726129721,-3.198080407046479,1.2676330352932919,0.007743872630742216,-1.2910895322695102,-1.5602154675409974,1.4218179339697663,0.4183122847397243,-0.9329642604154853,0.2775100095479445,0.033549272190992546,0.2415047057353741,0.9133160538203141,0.4452762554853484,-1.1213396871887524,-0.5802689307776701,0.577142291912203,-0.6714867331416482,-0.5113480966342379,-0.19394406731004424,0.4723599526754415,-0.33739551772905935,-0.019749545009762132,1.6811825369057964,0.9582167988724097,0.21399135911465308,0.2142097194066079,0.02866790533178008,0.20523734472281827,-2.373096948655841,-1.2974103299991655,0.7243000026849691,-1.179732860400752,-0.9877065634216783,1.858169866287358,-0.13616633750761734,0.9561184888192411,0.570540974318356,0.1538565839250256,-2.069442309033039,0.3386990661074552,0.229036109270142,-0.5231292314138397,-0.6386646920120588,1.839979440082232,-1.5335772908517662,0.3559183575671821,-1.8599750710237561,-0.22501292767062592,0.15865167315484616,-1.098219379974984,-0.5615283437589845,-0.7288531852791184],\"yaxis\":\"y3\"},{\"line\":{\"color\":\"rgba(128, 128, 128, 1.0)\",\"dash\":\"solid\",\"shape\":\"linear\",\"width\":1.3},\"marker\":{\"size\":2,\"symbol\":\"circle\"},\"mode\":\"markers\",\"name\":\"A\",\"text\":\"\",\"type\":\"scatter\",\"x\":[-1.1318386857975136,-1.2336796535709564,0.03525125361427638,-0.17770978246418753,-0.13488631706988827,-0.9778506486785518,1.5488213103401454,-0.6513314112858827,0.7202141004894045,-0.49712149348633683,0.4187535481175902,1.5129740289160858,-0.9850844584084912,0.8346724779775067,0.9876152447810874,-0.7151566318079478,0.19715294423131863,-1.149711899654387,-1.8260228094658186,0.31511270433990085,0.3715193146340235,0.07617063659659407,-0.2857157746538433,-0.36019971221710395,1.2740565963984742,-0.5622184325773008,-0.8715327911194508,-0.0013278566908858926,0.08756355160027998,-0.4429992867734947,0.6332286046266608,-0.8848906377039588,-1.5417546450605601,-0.4991571158198983,0.5194854386692203,0.585023679381177,0.5793902440399953,0.8817410777836935,-0.15130419443026008,0.1714981792074862,1.0882341054612685,1.5264974595646432,0.5546523395577394,2.7236664503447705,1.0853701280807013,1.8158268809106832,1.9818387333418774,0.8771701572239711,0.7474329431281092,-0.7057099607094113,-0.06443465215486661,-0.6421970535449397,-0.6655056506583449,-2.0771711232517855,-0.8942085983852258,-1.0148838383628476,-0.43401721818703565,1.077602048535558,-1.509050258358291,0.5223739304869889,1.0399037991911402,0.120711507570677,-0.6027650191281058,-0.28535763125655894,-1.0681903010591363,-0.8627775615683652,0.25962821336567943,0.49340480098917194,-2.0105567188069466,-0.2226101526969597,1.0841281092321648,1.2861857800069918,-0.5468267000958672,0.1338879341515546,0.7432234934055685,-0.4708247040572283,0.8719487241758966,-0.28332359088435044,-0.13043541948700305,0.2328774571300257,0.7441801456643091,-1.3763123123518655,0.025195310462888896,-0.2932721585007492,0.07572285083924206,-1.459169663391599,1.0825742789864674,1.0815668594450643,-0.5258413358823715,-0.6630802819740259,-0.45578448200036625,1.0586789016948135,1.5509926448719724,-0.9234441436255499,-0.7013652558369653,-0.021886674090904473,0.8315375065555948,0.6408169232431311,1.3184798336770307,0.5962717155220236],\"xaxis\":\"x4\",\"y\":[-1.1260490465847872,-0.5310285731898228,-0.21205040034769118,-0.651475455922811,0.267930026293517,0.5538298175018117,-1.45140732479843,-1.0621115937309076,-0.5192044609949963,0.0980486221556033,0.32453375604965784,-2.276442079629385,-0.8192861375427485,1.1455113120411295,-2.207736390860511,-1.3376249514712373,0.03209754247353182,0.7583928302046903,-1.6170134854635898,-2.237874750757624,-0.6060517589533632,-1.6168160408809342,0.5359718867610626,-0.19476818097990067,1.549886790936583,0.9060796159426613,1.5947215402086397,0.8167721240125655,0.9537814344129991,0.2853493711489899,-0.17105691657817657,-0.28014666021393175,0.2557815908844224,0.8528107746534993,0.042477092359645086,0.11889724485107526,0.5568967127519864,-0.18951757678675865,-1.692795876607851,0.5195944789579467,-0.2994710600365143,-0.6831317390937071,-0.19348745174529508,1.0395064395104623,0.07492067978804913,0.09040894717004969,-0.11050134142856363,0.688851726129721,-3.198080407046479,1.2676330352932919,0.007743872630742216,-1.2910895322695102,-1.5602154675409974,1.4218179339697663,0.4183122847397243,-0.9329642604154853,0.2775100095479445,0.033549272190992546,0.2415047057353741,0.9133160538203141,0.4452762554853484,-1.1213396871887524,-0.5802689307776701,0.577142291912203,-0.6714867331416482,-0.5113480966342379,-0.19394406731004424,0.4723599526754415,-0.33739551772905935,-0.019749545009762132,1.6811825369057964,0.9582167988724097,0.21399135911465308,0.2142097194066079,0.02866790533178008,0.20523734472281827,-2.373096948655841,-1.2974103299991655,0.7243000026849691,-1.179732860400752,-0.9877065634216783,1.858169866287358,-0.13616633750761734,0.9561184888192411,0.570540974318356,0.1538565839250256,-2.069442309033039,0.3386990661074552,0.229036109270142,-0.5231292314138397,-0.6386646920120588,1.839979440082232,-1.5335772908517662,0.3559183575671821,-1.8599750710237561,-0.22501292767062592,0.15865167315484616,-1.098219379974984,-0.5615283437589845,-0.7288531852791184],\"yaxis\":\"y4\"},{\"line\":{\"color\":\"rgba(128, 128, 128, 1.0)\",\"dash\":\"solid\",\"shape\":\"linear\",\"width\":1.3},\"marker\":{\"size\":2,\"symbol\":\"circle\"},\"mode\":\"markers\",\"name\":\"B\",\"text\":\"\",\"type\":\"scatter\",\"x\":[-1.1260490465847872,-0.5310285731898228,-0.21205040034769118,-0.651475455922811,0.267930026293517,0.5538298175018117,-1.45140732479843,-1.0621115937309076,-0.5192044609949963,0.0980486221556033,0.32453375604965784,-2.276442079629385,-0.8192861375427485,1.1455113120411295,-2.207736390860511,-1.3376249514712373,0.03209754247353182,0.7583928302046903,-1.6170134854635898,-2.237874750757624,-0.6060517589533632,-1.6168160408809342,0.5359718867610626,-0.19476818097990067,1.549886790936583,0.9060796159426613,1.5947215402086397,0.8167721240125655,0.9537814344129991,0.2853493711489899,-0.17105691657817657,-0.28014666021393175,0.2557815908844224,0.8528107746534993,0.042477092359645086,0.11889724485107526,0.5568967127519864,-0.18951757678675865,-1.692795876607851,0.5195944789579467,-0.2994710600365143,-0.6831317390937071,-0.19348745174529508,1.0395064395104623,0.07492067978804913,0.09040894717004969,-0.11050134142856363,0.688851726129721,-3.198080407046479,1.2676330352932919,0.007743872630742216,-1.2910895322695102,-1.5602154675409974,1.4218179339697663,0.4183122847397243,-0.9329642604154853,0.2775100095479445,0.033549272190992546,0.2415047057353741,0.9133160538203141,0.4452762554853484,-1.1213396871887524,-0.5802689307776701,0.577142291912203,-0.6714867331416482,-0.5113480966342379,-0.19394406731004424,0.4723599526754415,-0.33739551772905935,-0.019749545009762132,1.6811825369057964,0.9582167988724097,0.21399135911465308,0.2142097194066079,0.02866790533178008,0.20523734472281827,-2.373096948655841,-1.2974103299991655,0.7243000026849691,-1.179732860400752,-0.9877065634216783,1.858169866287358,-0.13616633750761734,0.9561184888192411,0.570540974318356,0.1538565839250256,-2.069442309033039,0.3386990661074552,0.229036109270142,-0.5231292314138397,-0.6386646920120588,1.839979440082232,-1.5335772908517662,0.3559183575671821,-1.8599750710237561,-0.22501292767062592,0.15865167315484616,-1.098219379974984,-0.5615283437589845,-0.7288531852791184],\"xaxis\":\"x5\",\"y\":[3.035776571079455,0.2569500815910443,-2.1685043694431307,0.26902794195372615,1.7814630439071295,1.5693339927007197,-0.06211670129077228,-1.3706596588394095,-0.37883746288534165,-0.6196555944091635,0.5419709598803021,-0.882948935629644,-0.6004863123254223,1.0208840340466567,-0.21762155615722495,0.44023110912919,-1.0336076677809352,1.6033795842389853,-2.5310768185962225,-0.1889972596314623,0.7082630262291519,0.6671320947598456,-0.7834922916165732,0.47257187362393505,0.12629260151251537,2.0515434422449617,-0.2936811721928686,-0.2516523184280506,-1.5747986439720867,1.5737893099513762,-0.48788785833745874,0.8666151639960874,0.6629479112242548,2.335262202035777,0.9301235315825008,0.7210757391867806,-0.28270307894091573,0.6180102172480808,-0.68067795910875,-0.6615813868992915,1.9007085417861616,-1.1132438109324958,-0.6349033891645982,0.19741141743855162,1.1602881974005501,-0.004921352813687318,-1.383225820147114,0.22683021489288765,-0.0012375954352731027,-1.2558220947801475,-1.5522403593076988,0.004089381987935106,1.640944226966207,-0.3535758434099873,1.024879646181359,-1.6239541156805803,0.040284041575874806,0.896827065486756,-0.46794239292736056,1.505428664458157,-1.3626473839376783,-1.005643110364832,0.3925216946506399,0.7738640376750079,1.5554473261236892,0.35444125136577836,1.6205066874880212,-0.5538513815676245,0.23831067673412812,-0.9010306825341439,1.3231420079992444,-0.14899579209345915,-0.8709694619155264,1.065094470898646,-1.348559047441447,0.5804185661168384,-0.42879331392602926,-0.6959637860253969,0.1048024218225815,0.13732347532346822,-0.2308890616949896,-1.2960685158220355,-0.3901037235712339,-0.155170398255274,-0.03287464454016071,-0.9472821709740642,-1.115841814411383,0.2177548674986909,1.0364383402990647,-0.17403780646611958,0.6083659391024403,0.6209585041653041,1.4670744821663868,-0.040890570234690546,2.040518372717835,-1.1876242746503243,-0.5022878658736447,-0.008530985057549921,0.7140012167410947,-0.70522201636607],\"yaxis\":\"y5\"},{\"histfunc\":\"count\",\"histnorm\":\"\",\"marker\":{\"color\":\"rgba(55, 128, 191, 1.0)\",\"line\":{\"color\":\"#4D5663\",\"width\":1.3}},\"name\":\"B\",\"nbinsx\":10,\"opacity\":0.8,\"orientation\":\"v\",\"type\":\"histogram\",\"x\":[3.035776571079455,0.2569500815910443,-2.1685043694431307,0.26902794195372615,1.7814630439071295,1.5693339927007197,-0.06211670129077228,-1.3706596588394095,-0.37883746288534165,-0.6196555944091635,0.5419709598803021,-0.882948935629644,-0.6004863123254223,1.0208840340466567,-0.21762155615722495,0.44023110912919,-1.0336076677809352,1.6033795842389853,-2.5310768185962225,-0.1889972596314623,0.7082630262291519,0.6671320947598456,-0.7834922916165732,0.47257187362393505,0.12629260151251537,2.0515434422449617,-0.2936811721928686,-0.2516523184280506,-1.5747986439720867,1.5737893099513762,-0.48788785833745874,0.8666151639960874,0.6629479112242548,2.335262202035777,0.9301235315825008,0.7210757391867806,-0.28270307894091573,0.6180102172480808,-0.68067795910875,-0.6615813868992915,1.9007085417861616,-1.1132438109324958,-0.6349033891645982,0.19741141743855162,1.1602881974005501,-0.004921352813687318,-1.383225820147114,0.22683021489288765,-0.0012375954352731027,-1.2558220947801475,-1.5522403593076988,0.004089381987935106,1.640944226966207,-0.3535758434099873,1.024879646181359,-1.6239541156805803,0.040284041575874806,0.896827065486756,-0.46794239292736056,1.505428664458157,-1.3626473839376783,-1.005643110364832,0.3925216946506399,0.7738640376750079,1.5554473261236892,0.35444125136577836,1.6205066874880212,-0.5538513815676245,0.23831067673412812,-0.9010306825341439,1.3231420079992444,-0.14899579209345915,-0.8709694619155264,1.065094470898646,-1.348559047441447,0.5804185661168384,-0.42879331392602926,-0.6959637860253969,0.1048024218225815,0.13732347532346822,-0.2308890616949896,-1.2960685158220355,-0.3901037235712339,-0.155170398255274,-0.03287464454016071,-0.9472821709740642,-1.115841814411383,0.2177548674986909,1.0364383402990647,-0.17403780646611958,0.6083659391024403,0.6209585041653041,1.4670744821663868,-0.040890570234690546,2.040518372717835,-1.1876242746503243,-0.5022878658736447,-0.008530985057549921,0.7140012167410947,-0.70522201636607],\"xaxis\":\"x6\",\"yaxis\":\"y6\"},{\"line\":{\"color\":\"rgba(128, 128, 128, 1.0)\",\"dash\":\"solid\",\"shape\":\"linear\",\"width\":1.3},\"marker\":{\"size\":2,\"symbol\":\"circle\"},\"mode\":\"markers\",\"name\":\"B\",\"text\":\"\",\"type\":\"scatter\",\"x\":[-0.1253860104527143,-0.6118562373674805,-1.4365315057799206,-1.5296847535644056,1.0256906308377485,0.6546118917023933,-0.13694753909926177,0.47598961164871434,-0.4576220230309786,0.06914633479973034,0.44810566916611655,-1.3837828401399817,0.010352973018966774,-0.8250952709145534,0.6296963916173615,-0.42542127945858016,-0.6109410917348862,1.5743997390762634,2.1650619536662425,0.4578481973510953,-1.3046859016496504,-0.6474192597958527,-0.5887792125587482,1.2372553132863295,0.5215256206424765,1.0778733033674006,0.24441796546793787,1.2187759041274653,-0.10520699565739441,-0.5411436570341177,1.807026322054968,0.7633433586197469,-2.399295918529262,-0.8834595773636499,-0.09472904104629841,0.665830292505531,-0.4784453927653169,0.5237315067583971,-0.8595351827346634,-0.5816333784342125,-0.005520267424294571,0.11968685309862401,1.547464924503836,0.931097017745766,0.04277673076958829,-0.8557337425644944,1.20390644380971,0.7393970602974663,-0.8155267288182692,-0.5727302642500403,-1.337531243150721,2.0062513237723847,0.40708921825969296,-0.2747449233413563,0.9248315885501568,-0.9582143496024274,-0.18835470298830612,1.8762131296481197,0.9788465194340025,-1.8904347019408239,-1.3154244098738923,1.1151539606281062,1.2145867414674558,-0.9895251424101672,-1.4976405461611064,1.8697319089492304,-0.11126928460453392,0.04418157193162171,0.08657501142700152,0.8192162901194413,0.6656855083085276,0.9425918701231876,-0.09226599907035703,-0.05171132501362498,0.07703892071541746,-1.5981000809629637,-1.3857194699267534,0.9044067708222258,0.9791847366337971,-2.387899775066808,-0.6985268151798351,-1.1646385215988269,-1.6920017739766893,1.1195560740729007,0.5819483889701914,-0.7875296317312973,-1.4536399667173046,0.3625389981145367,0.8192462223621986,0.3480980253165979,0.9573026292675428,0.6589609329947365,1.0417462537251394,0.5485073630677745,-0.46564000009788026,-0.20587088166368586,-0.22333531043306484,-2.1629899084497257,0.6114614149705555,-1.0393745543201531],\"xaxis\":\"x7\",\"y\":[3.035776571079455,0.2569500815910443,-2.1685043694431307,0.26902794195372615,1.7814630439071295,1.5693339927007197,-0.06211670129077228,-1.3706596588394095,-0.37883746288534165,-0.6196555944091635,0.5419709598803021,-0.882948935629644,-0.6004863123254223,1.0208840340466567,-0.21762155615722495,0.44023110912919,-1.0336076677809352,1.6033795842389853,-2.5310768185962225,-0.1889972596314623,0.7082630262291519,0.6671320947598456,-0.7834922916165732,0.47257187362393505,0.12629260151251537,2.0515434422449617,-0.2936811721928686,-0.2516523184280506,-1.5747986439720867,1.5737893099513762,-0.48788785833745874,0.8666151639960874,0.6629479112242548,2.335262202035777,0.9301235315825008,0.7210757391867806,-0.28270307894091573,0.6180102172480808,-0.68067795910875,-0.6615813868992915,1.9007085417861616,-1.1132438109324958,-0.6349033891645982,0.19741141743855162,1.1602881974005501,-0.004921352813687318,-1.383225820147114,0.22683021489288765,-0.0012375954352731027,-1.2558220947801475,-1.5522403593076988,0.004089381987935106,1.640944226966207,-0.3535758434099873,1.024879646181359,-1.6239541156805803,0.040284041575874806,0.896827065486756,-0.46794239292736056,1.505428664458157,-1.3626473839376783,-1.005643110364832,0.3925216946506399,0.7738640376750079,1.5554473261236892,0.35444125136577836,1.6205066874880212,-0.5538513815676245,0.23831067673412812,-0.9010306825341439,1.3231420079992444,-0.14899579209345915,-0.8709694619155264,1.065094470898646,-1.348559047441447,0.5804185661168384,-0.42879331392602926,-0.6959637860253969,0.1048024218225815,0.13732347532346822,-0.2308890616949896,-1.2960685158220355,-0.3901037235712339,-0.155170398255274,-0.03287464454016071,-0.9472821709740642,-1.115841814411383,0.2177548674986909,1.0364383402990647,-0.17403780646611958,0.6083659391024403,0.6209585041653041,1.4670744821663868,-0.040890570234690546,2.040518372717835,-1.1876242746503243,-0.5022878658736447,-0.008530985057549921,0.7140012167410947,-0.70522201636607],\"yaxis\":\"y7\"},{\"line\":{\"color\":\"rgba(128, 128, 128, 1.0)\",\"dash\":\"solid\",\"shape\":\"linear\",\"width\":1.3},\"marker\":{\"size\":2,\"symbol\":\"circle\"},\"mode\":\"markers\",\"name\":\"B\",\"text\":\"\",\"type\":\"scatter\",\"x\":[-1.1318386857975136,-1.2336796535709564,0.03525125361427638,-0.17770978246418753,-0.13488631706988827,-0.9778506486785518,1.5488213103401454,-0.6513314112858827,0.7202141004894045,-0.49712149348633683,0.4187535481175902,1.5129740289160858,-0.9850844584084912,0.8346724779775067,0.9876152447810874,-0.7151566318079478,0.19715294423131863,-1.149711899654387,-1.8260228094658186,0.31511270433990085,0.3715193146340235,0.07617063659659407,-0.2857157746538433,-0.36019971221710395,1.2740565963984742,-0.5622184325773008,-0.8715327911194508,-0.0013278566908858926,0.08756355160027998,-0.4429992867734947,0.6332286046266608,-0.8848906377039588,-1.5417546450605601,-0.4991571158198983,0.5194854386692203,0.585023679381177,0.5793902440399953,0.8817410777836935,-0.15130419443026008,0.1714981792074862,1.0882341054612685,1.5264974595646432,0.5546523395577394,2.7236664503447705,1.0853701280807013,1.8158268809106832,1.9818387333418774,0.8771701572239711,0.7474329431281092,-0.7057099607094113,-0.06443465215486661,-0.6421970535449397,-0.6655056506583449,-2.0771711232517855,-0.8942085983852258,-1.0148838383628476,-0.43401721818703565,1.077602048535558,-1.509050258358291,0.5223739304869889,1.0399037991911402,0.120711507570677,-0.6027650191281058,-0.28535763125655894,-1.0681903010591363,-0.8627775615683652,0.25962821336567943,0.49340480098917194,-2.0105567188069466,-0.2226101526969597,1.0841281092321648,1.2861857800069918,-0.5468267000958672,0.1338879341515546,0.7432234934055685,-0.4708247040572283,0.8719487241758966,-0.28332359088435044,-0.13043541948700305,0.2328774571300257,0.7441801456643091,-1.3763123123518655,0.025195310462888896,-0.2932721585007492,0.07572285083924206,-1.459169663391599,1.0825742789864674,1.0815668594450643,-0.5258413358823715,-0.6630802819740259,-0.45578448200036625,1.0586789016948135,1.5509926448719724,-0.9234441436255499,-0.7013652558369653,-0.021886674090904473,0.8315375065555948,0.6408169232431311,1.3184798336770307,0.5962717155220236],\"xaxis\":\"x8\",\"y\":[3.035776571079455,0.2569500815910443,-2.1685043694431307,0.26902794195372615,1.7814630439071295,1.5693339927007197,-0.06211670129077228,-1.3706596588394095,-0.37883746288534165,-0.6196555944091635,0.5419709598803021,-0.882948935629644,-0.6004863123254223,1.0208840340466567,-0.21762155615722495,0.44023110912919,-1.0336076677809352,1.6033795842389853,-2.5310768185962225,-0.1889972596314623,0.7082630262291519,0.6671320947598456,-0.7834922916165732,0.47257187362393505,0.12629260151251537,2.0515434422449617,-0.2936811721928686,-0.2516523184280506,-1.5747986439720867,1.5737893099513762,-0.48788785833745874,0.8666151639960874,0.6629479112242548,2.335262202035777,0.9301235315825008,0.7210757391867806,-0.28270307894091573,0.6180102172480808,-0.68067795910875,-0.6615813868992915,1.9007085417861616,-1.1132438109324958,-0.6349033891645982,0.19741141743855162,1.1602881974005501,-0.004921352813687318,-1.383225820147114,0.22683021489288765,-0.0012375954352731027,-1.2558220947801475,-1.5522403593076988,0.004089381987935106,1.640944226966207,-0.3535758434099873,1.024879646181359,-1.6239541156805803,0.040284041575874806,0.896827065486756,-0.46794239292736056,1.505428664458157,-1.3626473839376783,-1.005643110364832,0.3925216946506399,0.7738640376750079,1.5554473261236892,0.35444125136577836,1.6205066874880212,-0.5538513815676245,0.23831067673412812,-0.9010306825341439,1.3231420079992444,-0.14899579209345915,-0.8709694619155264,1.065094470898646,-1.348559047441447,0.5804185661168384,-0.42879331392602926,-0.6959637860253969,0.1048024218225815,0.13732347532346822,-0.2308890616949896,-1.2960685158220355,-0.3901037235712339,-0.155170398255274,-0.03287464454016071,-0.9472821709740642,-1.115841814411383,0.2177548674986909,1.0364383402990647,-0.17403780646611958,0.6083659391024403,0.6209585041653041,1.4670744821663868,-0.040890570234690546,2.040518372717835,-1.1876242746503243,-0.5022878658736447,-0.008530985057549921,0.7140012167410947,-0.70522201636607],\"yaxis\":\"y8\"},{\"line\":{\"color\":\"rgba(128, 128, 128, 1.0)\",\"dash\":\"solid\",\"shape\":\"linear\",\"width\":1.3},\"marker\":{\"size\":2,\"symbol\":\"circle\"},\"mode\":\"markers\",\"name\":\"C\",\"text\":\"\",\"type\":\"scatter\",\"x\":[-1.1260490465847872,-0.5310285731898228,-0.21205040034769118,-0.651475455922811,0.267930026293517,0.5538298175018117,-1.45140732479843,-1.0621115937309076,-0.5192044609949963,0.0980486221556033,0.32453375604965784,-2.276442079629385,-0.8192861375427485,1.1455113120411295,-2.207736390860511,-1.3376249514712373,0.03209754247353182,0.7583928302046903,-1.6170134854635898,-2.237874750757624,-0.6060517589533632,-1.6168160408809342,0.5359718867610626,-0.19476818097990067,1.549886790936583,0.9060796159426613,1.5947215402086397,0.8167721240125655,0.9537814344129991,0.2853493711489899,-0.17105691657817657,-0.28014666021393175,0.2557815908844224,0.8528107746534993,0.042477092359645086,0.11889724485107526,0.5568967127519864,-0.18951757678675865,-1.692795876607851,0.5195944789579467,-0.2994710600365143,-0.6831317390937071,-0.19348745174529508,1.0395064395104623,0.07492067978804913,0.09040894717004969,-0.11050134142856363,0.688851726129721,-3.198080407046479,1.2676330352932919,0.007743872630742216,-1.2910895322695102,-1.5602154675409974,1.4218179339697663,0.4183122847397243,-0.9329642604154853,0.2775100095479445,0.033549272190992546,0.2415047057353741,0.9133160538203141,0.4452762554853484,-1.1213396871887524,-0.5802689307776701,0.577142291912203,-0.6714867331416482,-0.5113480966342379,-0.19394406731004424,0.4723599526754415,-0.33739551772905935,-0.019749545009762132,1.6811825369057964,0.9582167988724097,0.21399135911465308,0.2142097194066079,0.02866790533178008,0.20523734472281827,-2.373096948655841,-1.2974103299991655,0.7243000026849691,-1.179732860400752,-0.9877065634216783,1.858169866287358,-0.13616633750761734,0.9561184888192411,0.570540974318356,0.1538565839250256,-2.069442309033039,0.3386990661074552,0.229036109270142,-0.5231292314138397,-0.6386646920120588,1.839979440082232,-1.5335772908517662,0.3559183575671821,-1.8599750710237561,-0.22501292767062592,0.15865167315484616,-1.098219379974984,-0.5615283437589845,-0.7288531852791184],\"xaxis\":\"x9\",\"y\":[-0.1253860104527143,-0.6118562373674805,-1.4365315057799206,-1.5296847535644056,1.0256906308377485,0.6546118917023933,-0.13694753909926177,0.47598961164871434,-0.4576220230309786,0.06914633479973034,0.44810566916611655,-1.3837828401399817,0.010352973018966774,-0.8250952709145534,0.6296963916173615,-0.42542127945858016,-0.6109410917348862,1.5743997390762634,2.1650619536662425,0.4578481973510953,-1.3046859016496504,-0.6474192597958527,-0.5887792125587482,1.2372553132863295,0.5215256206424765,1.0778733033674006,0.24441796546793787,1.2187759041274653,-0.10520699565739441,-0.5411436570341177,1.807026322054968,0.7633433586197469,-2.399295918529262,-0.8834595773636499,-0.09472904104629841,0.665830292505531,-0.4784453927653169,0.5237315067583971,-0.8595351827346634,-0.5816333784342125,-0.005520267424294571,0.11968685309862401,1.547464924503836,0.931097017745766,0.04277673076958829,-0.8557337425644944,1.20390644380971,0.7393970602974663,-0.8155267288182692,-0.5727302642500403,-1.337531243150721,2.0062513237723847,0.40708921825969296,-0.2747449233413563,0.9248315885501568,-0.9582143496024274,-0.18835470298830612,1.8762131296481197,0.9788465194340025,-1.8904347019408239,-1.3154244098738923,1.1151539606281062,1.2145867414674558,-0.9895251424101672,-1.4976405461611064,1.8697319089492304,-0.11126928460453392,0.04418157193162171,0.08657501142700152,0.8192162901194413,0.6656855083085276,0.9425918701231876,-0.09226599907035703,-0.05171132501362498,0.07703892071541746,-1.5981000809629637,-1.3857194699267534,0.9044067708222258,0.9791847366337971,-2.387899775066808,-0.6985268151798351,-1.1646385215988269,-1.6920017739766893,1.1195560740729007,0.5819483889701914,-0.7875296317312973,-1.4536399667173046,0.3625389981145367,0.8192462223621986,0.3480980253165979,0.9573026292675428,0.6589609329947365,1.0417462537251394,0.5485073630677745,-0.46564000009788026,-0.20587088166368586,-0.22333531043306484,-2.1629899084497257,0.6114614149705555,-1.0393745543201531],\"yaxis\":\"y9\"},{\"line\":{\"color\":\"rgba(128, 128, 128, 1.0)\",\"dash\":\"solid\",\"shape\":\"linear\",\"width\":1.3},\"marker\":{\"size\":2,\"symbol\":\"circle\"},\"mode\":\"markers\",\"name\":\"C\",\"text\":\"\",\"type\":\"scatter\",\"x\":[3.035776571079455,0.2569500815910443,-2.1685043694431307,0.26902794195372615,1.7814630439071295,1.5693339927007197,-0.06211670129077228,-1.3706596588394095,-0.37883746288534165,-0.6196555944091635,0.5419709598803021,-0.882948935629644,-0.6004863123254223,1.0208840340466567,-0.21762155615722495,0.44023110912919,-1.0336076677809352,1.6033795842389853,-2.5310768185962225,-0.1889972596314623,0.7082630262291519,0.6671320947598456,-0.7834922916165732,0.47257187362393505,0.12629260151251537,2.0515434422449617,-0.2936811721928686,-0.2516523184280506,-1.5747986439720867,1.5737893099513762,-0.48788785833745874,0.8666151639960874,0.6629479112242548,2.335262202035777,0.9301235315825008,0.7210757391867806,-0.28270307894091573,0.6180102172480808,-0.68067795910875,-0.6615813868992915,1.9007085417861616,-1.1132438109324958,-0.6349033891645982,0.19741141743855162,1.1602881974005501,-0.004921352813687318,-1.383225820147114,0.22683021489288765,-0.0012375954352731027,-1.2558220947801475,-1.5522403593076988,0.004089381987935106,1.640944226966207,-0.3535758434099873,1.024879646181359,-1.6239541156805803,0.040284041575874806,0.896827065486756,-0.46794239292736056,1.505428664458157,-1.3626473839376783,-1.005643110364832,0.3925216946506399,0.7738640376750079,1.5554473261236892,0.35444125136577836,1.6205066874880212,-0.5538513815676245,0.23831067673412812,-0.9010306825341439,1.3231420079992444,-0.14899579209345915,-0.8709694619155264,1.065094470898646,-1.348559047441447,0.5804185661168384,-0.42879331392602926,-0.6959637860253969,0.1048024218225815,0.13732347532346822,-0.2308890616949896,-1.2960685158220355,-0.3901037235712339,-0.155170398255274,-0.03287464454016071,-0.9472821709740642,-1.115841814411383,0.2177548674986909,1.0364383402990647,-0.17403780646611958,0.6083659391024403,0.6209585041653041,1.4670744821663868,-0.040890570234690546,2.040518372717835,-1.1876242746503243,-0.5022878658736447,-0.008530985057549921,0.7140012167410947,-0.70522201636607],\"xaxis\":\"x10\",\"y\":[-0.1253860104527143,-0.6118562373674805,-1.4365315057799206,-1.5296847535644056,1.0256906308377485,0.6546118917023933,-0.13694753909926177,0.47598961164871434,-0.4576220230309786,0.06914633479973034,0.44810566916611655,-1.3837828401399817,0.010352973018966774,-0.8250952709145534,0.6296963916173615,-0.42542127945858016,-0.6109410917348862,1.5743997390762634,2.1650619536662425,0.4578481973510953,-1.3046859016496504,-0.6474192597958527,-0.5887792125587482,1.2372553132863295,0.5215256206424765,1.0778733033674006,0.24441796546793787,1.2187759041274653,-0.10520699565739441,-0.5411436570341177,1.807026322054968,0.7633433586197469,-2.399295918529262,-0.8834595773636499,-0.09472904104629841,0.665830292505531,-0.4784453927653169,0.5237315067583971,-0.8595351827346634,-0.5816333784342125,-0.005520267424294571,0.11968685309862401,1.547464924503836,0.931097017745766,0.04277673076958829,-0.8557337425644944,1.20390644380971,0.7393970602974663,-0.8155267288182692,-0.5727302642500403,-1.337531243150721,2.0062513237723847,0.40708921825969296,-0.2747449233413563,0.9248315885501568,-0.9582143496024274,-0.18835470298830612,1.8762131296481197,0.9788465194340025,-1.8904347019408239,-1.3154244098738923,1.1151539606281062,1.2145867414674558,-0.9895251424101672,-1.4976405461611064,1.8697319089492304,-0.11126928460453392,0.04418157193162171,0.08657501142700152,0.8192162901194413,0.6656855083085276,0.9425918701231876,-0.09226599907035703,-0.05171132501362498,0.07703892071541746,-1.5981000809629637,-1.3857194699267534,0.9044067708222258,0.9791847366337971,-2.387899775066808,-0.6985268151798351,-1.1646385215988269,-1.6920017739766893,1.1195560740729007,0.5819483889701914,-0.7875296317312973,-1.4536399667173046,0.3625389981145367,0.8192462223621986,0.3480980253165979,0.9573026292675428,0.6589609329947365,1.0417462537251394,0.5485073630677745,-0.46564000009788026,-0.20587088166368586,-0.22333531043306484,-2.1629899084497257,0.6114614149705555,-1.0393745543201531],\"yaxis\":\"y10\"},{\"histfunc\":\"count\",\"histnorm\":\"\",\"marker\":{\"color\":\"rgba(50, 171, 96, 1.0)\",\"line\":{\"color\":\"#4D5663\",\"width\":1.3}},\"name\":\"C\",\"nbinsx\":10,\"opacity\":0.8,\"orientation\":\"v\",\"type\":\"histogram\",\"x\":[-0.1253860104527143,-0.6118562373674805,-1.4365315057799206,-1.5296847535644056,1.0256906308377485,0.6546118917023933,-0.13694753909926177,0.47598961164871434,-0.4576220230309786,0.06914633479973034,0.44810566916611655,-1.3837828401399817,0.010352973018966774,-0.8250952709145534,0.6296963916173615,-0.42542127945858016,-0.6109410917348862,1.5743997390762634,2.1650619536662425,0.4578481973510953,-1.3046859016496504,-0.6474192597958527,-0.5887792125587482,1.2372553132863295,0.5215256206424765,1.0778733033674006,0.24441796546793787,1.2187759041274653,-0.10520699565739441,-0.5411436570341177,1.807026322054968,0.7633433586197469,-2.399295918529262,-0.8834595773636499,-0.09472904104629841,0.665830292505531,-0.4784453927653169,0.5237315067583971,-0.8595351827346634,-0.5816333784342125,-0.005520267424294571,0.11968685309862401,1.547464924503836,0.931097017745766,0.04277673076958829,-0.8557337425644944,1.20390644380971,0.7393970602974663,-0.8155267288182692,-0.5727302642500403,-1.337531243150721,2.0062513237723847,0.40708921825969296,-0.2747449233413563,0.9248315885501568,-0.9582143496024274,-0.18835470298830612,1.8762131296481197,0.9788465194340025,-1.8904347019408239,-1.3154244098738923,1.1151539606281062,1.2145867414674558,-0.9895251424101672,-1.4976405461611064,1.8697319089492304,-0.11126928460453392,0.04418157193162171,0.08657501142700152,0.8192162901194413,0.6656855083085276,0.9425918701231876,-0.09226599907035703,-0.05171132501362498,0.07703892071541746,-1.5981000809629637,-1.3857194699267534,0.9044067708222258,0.9791847366337971,-2.387899775066808,-0.6985268151798351,-1.1646385215988269,-1.6920017739766893,1.1195560740729007,0.5819483889701914,-0.7875296317312973,-1.4536399667173046,0.3625389981145367,0.8192462223621986,0.3480980253165979,0.9573026292675428,0.6589609329947365,1.0417462537251394,0.5485073630677745,-0.46564000009788026,-0.20587088166368586,-0.22333531043306484,-2.1629899084497257,0.6114614149705555,-1.0393745543201531],\"xaxis\":\"x11\",\"yaxis\":\"y11\"},{\"line\":{\"color\":\"rgba(128, 128, 128, 1.0)\",\"dash\":\"solid\",\"shape\":\"linear\",\"width\":1.3},\"marker\":{\"size\":2,\"symbol\":\"circle\"},\"mode\":\"markers\",\"name\":\"C\",\"text\":\"\",\"type\":\"scatter\",\"x\":[-1.1318386857975136,-1.2336796535709564,0.03525125361427638,-0.17770978246418753,-0.13488631706988827,-0.9778506486785518,1.5488213103401454,-0.6513314112858827,0.7202141004894045,-0.49712149348633683,0.4187535481175902,1.5129740289160858,-0.9850844584084912,0.8346724779775067,0.9876152447810874,-0.7151566318079478,0.19715294423131863,-1.149711899654387,-1.8260228094658186,0.31511270433990085,0.3715193146340235,0.07617063659659407,-0.2857157746538433,-0.36019971221710395,1.2740565963984742,-0.5622184325773008,-0.8715327911194508,-0.0013278566908858926,0.08756355160027998,-0.4429992867734947,0.6332286046266608,-0.8848906377039588,-1.5417546450605601,-0.4991571158198983,0.5194854386692203,0.585023679381177,0.5793902440399953,0.8817410777836935,-0.15130419443026008,0.1714981792074862,1.0882341054612685,1.5264974595646432,0.5546523395577394,2.7236664503447705,1.0853701280807013,1.8158268809106832,1.9818387333418774,0.8771701572239711,0.7474329431281092,-0.7057099607094113,-0.06443465215486661,-0.6421970535449397,-0.6655056506583449,-2.0771711232517855,-0.8942085983852258,-1.0148838383628476,-0.43401721818703565,1.077602048535558,-1.509050258358291,0.5223739304869889,1.0399037991911402,0.120711507570677,-0.6027650191281058,-0.28535763125655894,-1.0681903010591363,-0.8627775615683652,0.25962821336567943,0.49340480098917194,-2.0105567188069466,-0.2226101526969597,1.0841281092321648,1.2861857800069918,-0.5468267000958672,0.1338879341515546,0.7432234934055685,-0.4708247040572283,0.8719487241758966,-0.28332359088435044,-0.13043541948700305,0.2328774571300257,0.7441801456643091,-1.3763123123518655,0.025195310462888896,-0.2932721585007492,0.07572285083924206,-1.459169663391599,1.0825742789864674,1.0815668594450643,-0.5258413358823715,-0.6630802819740259,-0.45578448200036625,1.0586789016948135,1.5509926448719724,-0.9234441436255499,-0.7013652558369653,-0.021886674090904473,0.8315375065555948,0.6408169232431311,1.3184798336770307,0.5962717155220236],\"xaxis\":\"x12\",\"y\":[-0.1253860104527143,-0.6118562373674805,-1.4365315057799206,-1.5296847535644056,1.0256906308377485,0.6546118917023933,-0.13694753909926177,0.47598961164871434,-0.4576220230309786,0.06914633479973034,0.44810566916611655,-1.3837828401399817,0.010352973018966774,-0.8250952709145534,0.6296963916173615,-0.42542127945858016,-0.6109410917348862,1.5743997390762634,2.1650619536662425,0.4578481973510953,-1.3046859016496504,-0.6474192597958527,-0.5887792125587482,1.2372553132863295,0.5215256206424765,1.0778733033674006,0.24441796546793787,1.2187759041274653,-0.10520699565739441,-0.5411436570341177,1.807026322054968,0.7633433586197469,-2.399295918529262,-0.8834595773636499,-0.09472904104629841,0.665830292505531,-0.4784453927653169,0.5237315067583971,-0.8595351827346634,-0.5816333784342125,-0.005520267424294571,0.11968685309862401,1.547464924503836,0.931097017745766,0.04277673076958829,-0.8557337425644944,1.20390644380971,0.7393970602974663,-0.8155267288182692,-0.5727302642500403,-1.337531243150721,2.0062513237723847,0.40708921825969296,-0.2747449233413563,0.9248315885501568,-0.9582143496024274,-0.18835470298830612,1.8762131296481197,0.9788465194340025,-1.8904347019408239,-1.3154244098738923,1.1151539606281062,1.2145867414674558,-0.9895251424101672,-1.4976405461611064,1.8697319089492304,-0.11126928460453392,0.04418157193162171,0.08657501142700152,0.8192162901194413,0.6656855083085276,0.9425918701231876,-0.09226599907035703,-0.05171132501362498,0.07703892071541746,-1.5981000809629637,-1.3857194699267534,0.9044067708222258,0.9791847366337971,-2.387899775066808,-0.6985268151798351,-1.1646385215988269,-1.6920017739766893,1.1195560740729007,0.5819483889701914,-0.7875296317312973,-1.4536399667173046,0.3625389981145367,0.8192462223621986,0.3480980253165979,0.9573026292675428,0.6589609329947365,1.0417462537251394,0.5485073630677745,-0.46564000009788026,-0.20587088166368586,-0.22333531043306484,-2.1629899084497257,0.6114614149705555,-1.0393745543201531],\"yaxis\":\"y12\"},{\"line\":{\"color\":\"rgba(128, 128, 128, 1.0)\",\"dash\":\"solid\",\"shape\":\"linear\",\"width\":1.3},\"marker\":{\"size\":2,\"symbol\":\"circle\"},\"mode\":\"markers\",\"name\":\"D\",\"text\":\"\",\"type\":\"scatter\",\"x\":[-1.1260490465847872,-0.5310285731898228,-0.21205040034769118,-0.651475455922811,0.267930026293517,0.5538298175018117,-1.45140732479843,-1.0621115937309076,-0.5192044609949963,0.0980486221556033,0.32453375604965784,-2.276442079629385,-0.8192861375427485,1.1455113120411295,-2.207736390860511,-1.3376249514712373,0.03209754247353182,0.7583928302046903,-1.6170134854635898,-2.237874750757624,-0.6060517589533632,-1.6168160408809342,0.5359718867610626,-0.19476818097990067,1.549886790936583,0.9060796159426613,1.5947215402086397,0.8167721240125655,0.9537814344129991,0.2853493711489899,-0.17105691657817657,-0.28014666021393175,0.2557815908844224,0.8528107746534993,0.042477092359645086,0.11889724485107526,0.5568967127519864,-0.18951757678675865,-1.692795876607851,0.5195944789579467,-0.2994710600365143,-0.6831317390937071,-0.19348745174529508,1.0395064395104623,0.07492067978804913,0.09040894717004969,-0.11050134142856363,0.688851726129721,-3.198080407046479,1.2676330352932919,0.007743872630742216,-1.2910895322695102,-1.5602154675409974,1.4218179339697663,0.4183122847397243,-0.9329642604154853,0.2775100095479445,0.033549272190992546,0.2415047057353741,0.9133160538203141,0.4452762554853484,-1.1213396871887524,-0.5802689307776701,0.577142291912203,-0.6714867331416482,-0.5113480966342379,-0.19394406731004424,0.4723599526754415,-0.33739551772905935,-0.019749545009762132,1.6811825369057964,0.9582167988724097,0.21399135911465308,0.2142097194066079,0.02866790533178008,0.20523734472281827,-2.373096948655841,-1.2974103299991655,0.7243000026849691,-1.179732860400752,-0.9877065634216783,1.858169866287358,-0.13616633750761734,0.9561184888192411,0.570540974318356,0.1538565839250256,-2.069442309033039,0.3386990661074552,0.229036109270142,-0.5231292314138397,-0.6386646920120588,1.839979440082232,-1.5335772908517662,0.3559183575671821,-1.8599750710237561,-0.22501292767062592,0.15865167315484616,-1.098219379974984,-0.5615283437589845,-0.7288531852791184],\"xaxis\":\"x13\",\"y\":[-1.1318386857975136,-1.2336796535709564,0.03525125361427638,-0.17770978246418753,-0.13488631706988827,-0.9778506486785518,1.5488213103401454,-0.6513314112858827,0.7202141004894045,-0.49712149348633683,0.4187535481175902,1.5129740289160858,-0.9850844584084912,0.8346724779775067,0.9876152447810874,-0.7151566318079478,0.19715294423131863,-1.149711899654387,-1.8260228094658186,0.31511270433990085,0.3715193146340235,0.07617063659659407,-0.2857157746538433,-0.36019971221710395,1.2740565963984742,-0.5622184325773008,-0.8715327911194508,-0.0013278566908858926,0.08756355160027998,-0.4429992867734947,0.6332286046266608,-0.8848906377039588,-1.5417546450605601,-0.4991571158198983,0.5194854386692203,0.585023679381177,0.5793902440399953,0.8817410777836935,-0.15130419443026008,0.1714981792074862,1.0882341054612685,1.5264974595646432,0.5546523395577394,2.7236664503447705,1.0853701280807013,1.8158268809106832,1.9818387333418774,0.8771701572239711,0.7474329431281092,-0.7057099607094113,-0.06443465215486661,-0.6421970535449397,-0.6655056506583449,-2.0771711232517855,-0.8942085983852258,-1.0148838383628476,-0.43401721818703565,1.077602048535558,-1.509050258358291,0.5223739304869889,1.0399037991911402,0.120711507570677,-0.6027650191281058,-0.28535763125655894,-1.0681903010591363,-0.8627775615683652,0.25962821336567943,0.49340480098917194,-2.0105567188069466,-0.2226101526969597,1.0841281092321648,1.2861857800069918,-0.5468267000958672,0.1338879341515546,0.7432234934055685,-0.4708247040572283,0.8719487241758966,-0.28332359088435044,-0.13043541948700305,0.2328774571300257,0.7441801456643091,-1.3763123123518655,0.025195310462888896,-0.2932721585007492,0.07572285083924206,-1.459169663391599,1.0825742789864674,1.0815668594450643,-0.5258413358823715,-0.6630802819740259,-0.45578448200036625,1.0586789016948135,1.5509926448719724,-0.9234441436255499,-0.7013652558369653,-0.021886674090904473,0.8315375065555948,0.6408169232431311,1.3184798336770307,0.5962717155220236],\"yaxis\":\"y13\"},{\"line\":{\"color\":\"rgba(128, 128, 128, 1.0)\",\"dash\":\"solid\",\"shape\":\"linear\",\"width\":1.3},\"marker\":{\"size\":2,\"symbol\":\"circle\"},\"mode\":\"markers\",\"name\":\"D\",\"text\":\"\",\"type\":\"scatter\",\"x\":[3.035776571079455,0.2569500815910443,-2.1685043694431307,0.26902794195372615,1.7814630439071295,1.5693339927007197,-0.06211670129077228,-1.3706596588394095,-0.37883746288534165,-0.6196555944091635,0.5419709598803021,-0.882948935629644,-0.6004863123254223,1.0208840340466567,-0.21762155615722495,0.44023110912919,-1.0336076677809352,1.6033795842389853,-2.5310768185962225,-0.1889972596314623,0.7082630262291519,0.6671320947598456,-0.7834922916165732,0.47257187362393505,0.12629260151251537,2.0515434422449617,-0.2936811721928686,-0.2516523184280506,-1.5747986439720867,1.5737893099513762,-0.48788785833745874,0.8666151639960874,0.6629479112242548,2.335262202035777,0.9301235315825008,0.7210757391867806,-0.28270307894091573,0.6180102172480808,-0.68067795910875,-0.6615813868992915,1.9007085417861616,-1.1132438109324958,-0.6349033891645982,0.19741141743855162,1.1602881974005501,-0.004921352813687318,-1.383225820147114,0.22683021489288765,-0.0012375954352731027,-1.2558220947801475,-1.5522403593076988,0.004089381987935106,1.640944226966207,-0.3535758434099873,1.024879646181359,-1.6239541156805803,0.040284041575874806,0.896827065486756,-0.46794239292736056,1.505428664458157,-1.3626473839376783,-1.005643110364832,0.3925216946506399,0.7738640376750079,1.5554473261236892,0.35444125136577836,1.6205066874880212,-0.5538513815676245,0.23831067673412812,-0.9010306825341439,1.3231420079992444,-0.14899579209345915,-0.8709694619155264,1.065094470898646,-1.348559047441447,0.5804185661168384,-0.42879331392602926,-0.6959637860253969,0.1048024218225815,0.13732347532346822,-0.2308890616949896,-1.2960685158220355,-0.3901037235712339,-0.155170398255274,-0.03287464454016071,-0.9472821709740642,-1.115841814411383,0.2177548674986909,1.0364383402990647,-0.17403780646611958,0.6083659391024403,0.6209585041653041,1.4670744821663868,-0.040890570234690546,2.040518372717835,-1.1876242746503243,-0.5022878658736447,-0.008530985057549921,0.7140012167410947,-0.70522201636607],\"xaxis\":\"x14\",\"y\":[-1.1318386857975136,-1.2336796535709564,0.03525125361427638,-0.17770978246418753,-0.13488631706988827,-0.9778506486785518,1.5488213103401454,-0.6513314112858827,0.7202141004894045,-0.49712149348633683,0.4187535481175902,1.5129740289160858,-0.9850844584084912,0.8346724779775067,0.9876152447810874,-0.7151566318079478,0.19715294423131863,-1.149711899654387,-1.8260228094658186,0.31511270433990085,0.3715193146340235,0.07617063659659407,-0.2857157746538433,-0.36019971221710395,1.2740565963984742,-0.5622184325773008,-0.8715327911194508,-0.0013278566908858926,0.08756355160027998,-0.4429992867734947,0.6332286046266608,-0.8848906377039588,-1.5417546450605601,-0.4991571158198983,0.5194854386692203,0.585023679381177,0.5793902440399953,0.8817410777836935,-0.15130419443026008,0.1714981792074862,1.0882341054612685,1.5264974595646432,0.5546523395577394,2.7236664503447705,1.0853701280807013,1.8158268809106832,1.9818387333418774,0.8771701572239711,0.7474329431281092,-0.7057099607094113,-0.06443465215486661,-0.6421970535449397,-0.6655056506583449,-2.0771711232517855,-0.8942085983852258,-1.0148838383628476,-0.43401721818703565,1.077602048535558,-1.509050258358291,0.5223739304869889,1.0399037991911402,0.120711507570677,-0.6027650191281058,-0.28535763125655894,-1.0681903010591363,-0.8627775615683652,0.25962821336567943,0.49340480098917194,-2.0105567188069466,-0.2226101526969597,1.0841281092321648,1.2861857800069918,-0.5468267000958672,0.1338879341515546,0.7432234934055685,-0.4708247040572283,0.8719487241758966,-0.28332359088435044,-0.13043541948700305,0.2328774571300257,0.7441801456643091,-1.3763123123518655,0.025195310462888896,-0.2932721585007492,0.07572285083924206,-1.459169663391599,1.0825742789864674,1.0815668594450643,-0.5258413358823715,-0.6630802819740259,-0.45578448200036625,1.0586789016948135,1.5509926448719724,-0.9234441436255499,-0.7013652558369653,-0.021886674090904473,0.8315375065555948,0.6408169232431311,1.3184798336770307,0.5962717155220236],\"yaxis\":\"y14\"},{\"line\":{\"color\":\"rgba(128, 128, 128, 1.0)\",\"dash\":\"solid\",\"shape\":\"linear\",\"width\":1.3},\"marker\":{\"size\":2,\"symbol\":\"circle\"},\"mode\":\"markers\",\"name\":\"D\",\"text\":\"\",\"type\":\"scatter\",\"x\":[-0.1253860104527143,-0.6118562373674805,-1.4365315057799206,-1.5296847535644056,1.0256906308377485,0.6546118917023933,-0.13694753909926177,0.47598961164871434,-0.4576220230309786,0.06914633479973034,0.44810566916611655,-1.3837828401399817,0.010352973018966774,-0.8250952709145534,0.6296963916173615,-0.42542127945858016,-0.6109410917348862,1.5743997390762634,2.1650619536662425,0.4578481973510953,-1.3046859016496504,-0.6474192597958527,-0.5887792125587482,1.2372553132863295,0.5215256206424765,1.0778733033674006,0.24441796546793787,1.2187759041274653,-0.10520699565739441,-0.5411436570341177,1.807026322054968,0.7633433586197469,-2.399295918529262,-0.8834595773636499,-0.09472904104629841,0.665830292505531,-0.4784453927653169,0.5237315067583971,-0.8595351827346634,-0.5816333784342125,-0.005520267424294571,0.11968685309862401,1.547464924503836,0.931097017745766,0.04277673076958829,-0.8557337425644944,1.20390644380971,0.7393970602974663,-0.8155267288182692,-0.5727302642500403,-1.337531243150721,2.0062513237723847,0.40708921825969296,-0.2747449233413563,0.9248315885501568,-0.9582143496024274,-0.18835470298830612,1.8762131296481197,0.9788465194340025,-1.8904347019408239,-1.3154244098738923,1.1151539606281062,1.2145867414674558,-0.9895251424101672,-1.4976405461611064,1.8697319089492304,-0.11126928460453392,0.04418157193162171,0.08657501142700152,0.8192162901194413,0.6656855083085276,0.9425918701231876,-0.09226599907035703,-0.05171132501362498,0.07703892071541746,-1.5981000809629637,-1.3857194699267534,0.9044067708222258,0.9791847366337971,-2.387899775066808,-0.6985268151798351,-1.1646385215988269,-1.6920017739766893,1.1195560740729007,0.5819483889701914,-0.7875296317312973,-1.4536399667173046,0.3625389981145367,0.8192462223621986,0.3480980253165979,0.9573026292675428,0.6589609329947365,1.0417462537251394,0.5485073630677745,-0.46564000009788026,-0.20587088166368586,-0.22333531043306484,-2.1629899084497257,0.6114614149705555,-1.0393745543201531],\"xaxis\":\"x15\",\"y\":[-1.1318386857975136,-1.2336796535709564,0.03525125361427638,-0.17770978246418753,-0.13488631706988827,-0.9778506486785518,1.5488213103401454,-0.6513314112858827,0.7202141004894045,-0.49712149348633683,0.4187535481175902,1.5129740289160858,-0.9850844584084912,0.8346724779775067,0.9876152447810874,-0.7151566318079478,0.19715294423131863,-1.149711899654387,-1.8260228094658186,0.31511270433990085,0.3715193146340235,0.07617063659659407,-0.2857157746538433,-0.36019971221710395,1.2740565963984742,-0.5622184325773008,-0.8715327911194508,-0.0013278566908858926,0.08756355160027998,-0.4429992867734947,0.6332286046266608,-0.8848906377039588,-1.5417546450605601,-0.4991571158198983,0.5194854386692203,0.585023679381177,0.5793902440399953,0.8817410777836935,-0.15130419443026008,0.1714981792074862,1.0882341054612685,1.5264974595646432,0.5546523395577394,2.7236664503447705,1.0853701280807013,1.8158268809106832,1.9818387333418774,0.8771701572239711,0.7474329431281092,-0.7057099607094113,-0.06443465215486661,-0.6421970535449397,-0.6655056506583449,-2.0771711232517855,-0.8942085983852258,-1.0148838383628476,-0.43401721818703565,1.077602048535558,-1.509050258358291,0.5223739304869889,1.0399037991911402,0.120711507570677,-0.6027650191281058,-0.28535763125655894,-1.0681903010591363,-0.8627775615683652,0.25962821336567943,0.49340480098917194,-2.0105567188069466,-0.2226101526969597,1.0841281092321648,1.2861857800069918,-0.5468267000958672,0.1338879341515546,0.7432234934055685,-0.4708247040572283,0.8719487241758966,-0.28332359088435044,-0.13043541948700305,0.2328774571300257,0.7441801456643091,-1.3763123123518655,0.025195310462888896,-0.2932721585007492,0.07572285083924206,-1.459169663391599,1.0825742789864674,1.0815668594450643,-0.5258413358823715,-0.6630802819740259,-0.45578448200036625,1.0586789016948135,1.5509926448719724,-0.9234441436255499,-0.7013652558369653,-0.021886674090904473,0.8315375065555948,0.6408169232431311,1.3184798336770307,0.5962717155220236],\"yaxis\":\"y15\"},{\"histfunc\":\"count\",\"histnorm\":\"\",\"marker\":{\"color\":\"rgba(128, 0, 128, 1.0)\",\"line\":{\"color\":\"#4D5663\",\"width\":1.3}},\"name\":\"D\",\"nbinsx\":10,\"opacity\":0.8,\"orientation\":\"v\",\"type\":\"histogram\",\"x\":[-1.1318386857975136,-1.2336796535709564,0.03525125361427638,-0.17770978246418753,-0.13488631706988827,-0.9778506486785518,1.5488213103401454,-0.6513314112858827,0.7202141004894045,-0.49712149348633683,0.4187535481175902,1.5129740289160858,-0.9850844584084912,0.8346724779775067,0.9876152447810874,-0.7151566318079478,0.19715294423131863,-1.149711899654387,-1.8260228094658186,0.31511270433990085,0.3715193146340235,0.07617063659659407,-0.2857157746538433,-0.36019971221710395,1.2740565963984742,-0.5622184325773008,-0.8715327911194508,-0.0013278566908858926,0.08756355160027998,-0.4429992867734947,0.6332286046266608,-0.8848906377039588,-1.5417546450605601,-0.4991571158198983,0.5194854386692203,0.585023679381177,0.5793902440399953,0.8817410777836935,-0.15130419443026008,0.1714981792074862,1.0882341054612685,1.5264974595646432,0.5546523395577394,2.7236664503447705,1.0853701280807013,1.8158268809106832,1.9818387333418774,0.8771701572239711,0.7474329431281092,-0.7057099607094113,-0.06443465215486661,-0.6421970535449397,-0.6655056506583449,-2.0771711232517855,-0.8942085983852258,-1.0148838383628476,-0.43401721818703565,1.077602048535558,-1.509050258358291,0.5223739304869889,1.0399037991911402,0.120711507570677,-0.6027650191281058,-0.28535763125655894,-1.0681903010591363,-0.8627775615683652,0.25962821336567943,0.49340480098917194,-2.0105567188069466,-0.2226101526969597,1.0841281092321648,1.2861857800069918,-0.5468267000958672,0.1338879341515546,0.7432234934055685,-0.4708247040572283,0.8719487241758966,-0.28332359088435044,-0.13043541948700305,0.2328774571300257,0.7441801456643091,-1.3763123123518655,0.025195310462888896,-0.2932721585007492,0.07572285083924206,-1.459169663391599,1.0825742789864674,1.0815668594450643,-0.5258413358823715,-0.6630802819740259,-0.45578448200036625,1.0586789016948135,1.5509926448719724,-0.9234441436255499,-0.7013652558369653,-0.021886674090904473,0.8315375065555948,0.6408169232431311,1.3184798336770307,0.5962717155220236],\"xaxis\":\"x16\",\"yaxis\":\"y16\"}],                        {\"bargap\":0.02,\"legend\":{\"bgcolor\":\"#F5F6F9\",\"font\":{\"color\":\"#4D5663\"}},\"paper_bgcolor\":\"#F5F6F9\",\"plot_bgcolor\":\"#F5F6F9\",\"showlegend\":false,\"template\":{\"data\":{\"bar\":[{\"error_x\":{\"color\":\"#2a3f5f\"},\"error_y\":{\"color\":\"#2a3f5f\"},\"marker\":{\"line\":{\"color\":\"#E5ECF6\",\"width\":0.5},\"pattern\":{\"fillmode\":\"overlay\",\"size\":10,\"solidity\":0.2}},\"type\":\"bar\"}],\"barpolar\":[{\"marker\":{\"line\":{\"color\":\"#E5ECF6\",\"width\":0.5},\"pattern\":{\"fillmode\":\"overlay\",\"size\":10,\"solidity\":0.2}},\"type\":\"barpolar\"}],\"carpet\":[{\"aaxis\":{\"endlinecolor\":\"#2a3f5f\",\"gridcolor\":\"white\",\"linecolor\":\"white\",\"minorgridcolor\":\"white\",\"startlinecolor\":\"#2a3f5f\"},\"baxis\":{\"endlinecolor\":\"#2a3f5f\",\"gridcolor\":\"white\",\"linecolor\":\"white\",\"minorgridcolor\":\"white\",\"startlinecolor\":\"#2a3f5f\"},\"type\":\"carpet\"}],\"choropleth\":[{\"colorbar\":{\"outlinewidth\":0,\"ticks\":\"\"},\"type\":\"choropleth\"}],\"contour\":[{\"colorbar\":{\"outlinewidth\":0,\"ticks\":\"\"},\"colorscale\":[[0.0,\"#0d0887\"],[0.1111111111111111,\"#46039f\"],[0.2222222222222222,\"#7201a8\"],[0.3333333333333333,\"#9c179e\"],[0.4444444444444444,\"#bd3786\"],[0.5555555555555556,\"#d8576b\"],[0.6666666666666666,\"#ed7953\"],[0.7777777777777778,\"#fb9f3a\"],[0.8888888888888888,\"#fdca26\"],[1.0,\"#f0f921\"]],\"type\":\"contour\"}],\"contourcarpet\":[{\"colorbar\":{\"outlinewidth\":0,\"ticks\":\"\"},\"type\":\"contourcarpet\"}],\"heatmap\":[{\"colorbar\":{\"outlinewidth\":0,\"ticks\":\"\"},\"colorscale\":[[0.0,\"#0d0887\"],[0.1111111111111111,\"#46039f\"],[0.2222222222222222,\"#7201a8\"],[0.3333333333333333,\"#9c179e\"],[0.4444444444444444,\"#bd3786\"],[0.5555555555555556,\"#d8576b\"],[0.6666666666666666,\"#ed7953\"],[0.7777777777777778,\"#fb9f3a\"],[0.8888888888888888,\"#fdca26\"],[1.0,\"#f0f921\"]],\"type\":\"heatmap\"}],\"heatmapgl\":[{\"colorbar\":{\"outlinewidth\":0,\"ticks\":\"\"},\"colorscale\":[[0.0,\"#0d0887\"],[0.1111111111111111,\"#46039f\"],[0.2222222222222222,\"#7201a8\"],[0.3333333333333333,\"#9c179e\"],[0.4444444444444444,\"#bd3786\"],[0.5555555555555556,\"#d8576b\"],[0.6666666666666666,\"#ed7953\"],[0.7777777777777778,\"#fb9f3a\"],[0.8888888888888888,\"#fdca26\"],[1.0,\"#f0f921\"]],\"type\":\"heatmapgl\"}],\"histogram\":[{\"marker\":{\"pattern\":{\"fillmode\":\"overlay\",\"size\":10,\"solidity\":0.2}},\"type\":\"histogram\"}],\"histogram2d\":[{\"colorbar\":{\"outlinewidth\":0,\"ticks\":\"\"},\"colorscale\":[[0.0,\"#0d0887\"],[0.1111111111111111,\"#46039f\"],[0.2222222222222222,\"#7201a8\"],[0.3333333333333333,\"#9c179e\"],[0.4444444444444444,\"#bd3786\"],[0.5555555555555556,\"#d8576b\"],[0.6666666666666666,\"#ed7953\"],[0.7777777777777778,\"#fb9f3a\"],[0.8888888888888888,\"#fdca26\"],[1.0,\"#f0f921\"]],\"type\":\"histogram2d\"}],\"histogram2dcontour\":[{\"colorbar\":{\"outlinewidth\":0,\"ticks\":\"\"},\"colorscale\":[[0.0,\"#0d0887\"],[0.1111111111111111,\"#46039f\"],[0.2222222222222222,\"#7201a8\"],[0.3333333333333333,\"#9c179e\"],[0.4444444444444444,\"#bd3786\"],[0.5555555555555556,\"#d8576b\"],[0.6666666666666666,\"#ed7953\"],[0.7777777777777778,\"#fb9f3a\"],[0.8888888888888888,\"#fdca26\"],[1.0,\"#f0f921\"]],\"type\":\"histogram2dcontour\"}],\"mesh3d\":[{\"colorbar\":{\"outlinewidth\":0,\"ticks\":\"\"},\"type\":\"mesh3d\"}],\"parcoords\":[{\"line\":{\"colorbar\":{\"outlinewidth\":0,\"ticks\":\"\"}},\"type\":\"parcoords\"}],\"pie\":[{\"automargin\":true,\"type\":\"pie\"}],\"scatter\":[{\"marker\":{\"colorbar\":{\"outlinewidth\":0,\"ticks\":\"\"}},\"type\":\"scatter\"}],\"scatter3d\":[{\"line\":{\"colorbar\":{\"outlinewidth\":0,\"ticks\":\"\"}},\"marker\":{\"colorbar\":{\"outlinewidth\":0,\"ticks\":\"\"}},\"type\":\"scatter3d\"}],\"scattercarpet\":[{\"marker\":{\"colorbar\":{\"outlinewidth\":0,\"ticks\":\"\"}},\"type\":\"scattercarpet\"}],\"scattergeo\":[{\"marker\":{\"colorbar\":{\"outlinewidth\":0,\"ticks\":\"\"}},\"type\":\"scattergeo\"}],\"scattergl\":[{\"marker\":{\"colorbar\":{\"outlinewidth\":0,\"ticks\":\"\"}},\"type\":\"scattergl\"}],\"scattermapbox\":[{\"marker\":{\"colorbar\":{\"outlinewidth\":0,\"ticks\":\"\"}},\"type\":\"scattermapbox\"}],\"scatterpolar\":[{\"marker\":{\"colorbar\":{\"outlinewidth\":0,\"ticks\":\"\"}},\"type\":\"scatterpolar\"}],\"scatterpolargl\":[{\"marker\":{\"colorbar\":{\"outlinewidth\":0,\"ticks\":\"\"}},\"type\":\"scatterpolargl\"}],\"scatterternary\":[{\"marker\":{\"colorbar\":{\"outlinewidth\":0,\"ticks\":\"\"}},\"type\":\"scatterternary\"}],\"surface\":[{\"colorbar\":{\"outlinewidth\":0,\"ticks\":\"\"},\"colorscale\":[[0.0,\"#0d0887\"],[0.1111111111111111,\"#46039f\"],[0.2222222222222222,\"#7201a8\"],[0.3333333333333333,\"#9c179e\"],[0.4444444444444444,\"#bd3786\"],[0.5555555555555556,\"#d8576b\"],[0.6666666666666666,\"#ed7953\"],[0.7777777777777778,\"#fb9f3a\"],[0.8888888888888888,\"#fdca26\"],[1.0,\"#f0f921\"]],\"type\":\"surface\"}],\"table\":[{\"cells\":{\"fill\":{\"color\":\"#EBF0F8\"},\"line\":{\"color\":\"white\"}},\"header\":{\"fill\":{\"color\":\"#C8D4E3\"},\"line\":{\"color\":\"white\"}},\"type\":\"table\"}]},\"layout\":{\"annotationdefaults\":{\"arrowcolor\":\"#2a3f5f\",\"arrowhead\":0,\"arrowwidth\":1},\"autotypenumbers\":\"strict\",\"coloraxis\":{\"colorbar\":{\"outlinewidth\":0,\"ticks\":\"\"}},\"colorscale\":{\"diverging\":[[0,\"#8e0152\"],[0.1,\"#c51b7d\"],[0.2,\"#de77ae\"],[0.3,\"#f1b6da\"],[0.4,\"#fde0ef\"],[0.5,\"#f7f7f7\"],[0.6,\"#e6f5d0\"],[0.7,\"#b8e186\"],[0.8,\"#7fbc41\"],[0.9,\"#4d9221\"],[1,\"#276419\"]],\"sequential\":[[0.0,\"#0d0887\"],[0.1111111111111111,\"#46039f\"],[0.2222222222222222,\"#7201a8\"],[0.3333333333333333,\"#9c179e\"],[0.4444444444444444,\"#bd3786\"],[0.5555555555555556,\"#d8576b\"],[0.6666666666666666,\"#ed7953\"],[0.7777777777777778,\"#fb9f3a\"],[0.8888888888888888,\"#fdca26\"],[1.0,\"#f0f921\"]],\"sequentialminus\":[[0.0,\"#0d0887\"],[0.1111111111111111,\"#46039f\"],[0.2222222222222222,\"#7201a8\"],[0.3333333333333333,\"#9c179e\"],[0.4444444444444444,\"#bd3786\"],[0.5555555555555556,\"#d8576b\"],[0.6666666666666666,\"#ed7953\"],[0.7777777777777778,\"#fb9f3a\"],[0.8888888888888888,\"#fdca26\"],[1.0,\"#f0f921\"]]},\"colorway\":[\"#636efa\",\"#EF553B\",\"#00cc96\",\"#ab63fa\",\"#FFA15A\",\"#19d3f3\",\"#FF6692\",\"#B6E880\",\"#FF97FF\",\"#FECB52\"],\"font\":{\"color\":\"#2a3f5f\"},\"geo\":{\"bgcolor\":\"white\",\"lakecolor\":\"white\",\"landcolor\":\"#E5ECF6\",\"showlakes\":true,\"showland\":true,\"subunitcolor\":\"white\"},\"hoverlabel\":{\"align\":\"left\"},\"hovermode\":\"closest\",\"mapbox\":{\"style\":\"light\"},\"paper_bgcolor\":\"white\",\"plot_bgcolor\":\"#E5ECF6\",\"polar\":{\"angularaxis\":{\"gridcolor\":\"white\",\"linecolor\":\"white\",\"ticks\":\"\"},\"bgcolor\":\"#E5ECF6\",\"radialaxis\":{\"gridcolor\":\"white\",\"linecolor\":\"white\",\"ticks\":\"\"}},\"scene\":{\"xaxis\":{\"backgroundcolor\":\"#E5ECF6\",\"gridcolor\":\"white\",\"gridwidth\":2,\"linecolor\":\"white\",\"showbackground\":true,\"ticks\":\"\",\"zerolinecolor\":\"white\"},\"yaxis\":{\"backgroundcolor\":\"#E5ECF6\",\"gridcolor\":\"white\",\"gridwidth\":2,\"linecolor\":\"white\",\"showbackground\":true,\"ticks\":\"\",\"zerolinecolor\":\"white\"},\"zaxis\":{\"backgroundcolor\":\"#E5ECF6\",\"gridcolor\":\"white\",\"gridwidth\":2,\"linecolor\":\"white\",\"showbackground\":true,\"ticks\":\"\",\"zerolinecolor\":\"white\"}},\"shapedefaults\":{\"line\":{\"color\":\"#2a3f5f\"}},\"ternary\":{\"aaxis\":{\"gridcolor\":\"white\",\"linecolor\":\"white\",\"ticks\":\"\"},\"baxis\":{\"gridcolor\":\"white\",\"linecolor\":\"white\",\"ticks\":\"\"},\"bgcolor\":\"#E5ECF6\",\"caxis\":{\"gridcolor\":\"white\",\"linecolor\":\"white\",\"ticks\":\"\"}},\"title\":{\"x\":0.05},\"xaxis\":{\"automargin\":true,\"gridcolor\":\"white\",\"linecolor\":\"white\",\"ticks\":\"\",\"title\":{\"standoff\":15},\"zerolinecolor\":\"white\",\"zerolinewidth\":2},\"yaxis\":{\"automargin\":true,\"gridcolor\":\"white\",\"linecolor\":\"white\",\"ticks\":\"\",\"title\":{\"standoff\":15},\"zerolinecolor\":\"white\",\"zerolinewidth\":2}}},\"title\":{\"font\":{\"color\":\"#4D5663\"}},\"xaxis\":{\"anchor\":\"y\",\"domain\":[0.0,0.2125],\"gridcolor\":\"#E1E5ED\",\"showgrid\":false,\"tickfont\":{\"color\":\"#4D5663\"},\"title\":{\"font\":{\"color\":\"#4D5663\"},\"text\":\"\"},\"zerolinecolor\":\"#E1E5ED\"},\"xaxis10\":{\"anchor\":\"y10\",\"domain\":[0.2625,0.475],\"gridcolor\":\"#E1E5ED\",\"showgrid\":false,\"tickfont\":{\"color\":\"#4D5663\"},\"title\":{\"font\":{\"color\":\"#4D5663\"},\"text\":\"\"},\"zerolinecolor\":\"#E1E5ED\"},\"xaxis11\":{\"anchor\":\"y11\",\"domain\":[0.525,0.7375],\"gridcolor\":\"#E1E5ED\",\"showgrid\":false,\"tickfont\":{\"color\":\"#4D5663\"},\"title\":{\"font\":{\"color\":\"#4D5663\"},\"text\":\"\"},\"zerolinecolor\":\"#E1E5ED\"},\"xaxis12\":{\"anchor\":\"y12\",\"domain\":[0.7875,1.0],\"gridcolor\":\"#E1E5ED\",\"showgrid\":false,\"tickfont\":{\"color\":\"#4D5663\"},\"title\":{\"font\":{\"color\":\"#4D5663\"},\"text\":\"\"},\"zerolinecolor\":\"#E1E5ED\"},\"xaxis13\":{\"anchor\":\"y13\",\"domain\":[0.0,0.2125],\"gridcolor\":\"#E1E5ED\",\"showgrid\":false,\"tickfont\":{\"color\":\"#4D5663\"},\"title\":{\"font\":{\"color\":\"#4D5663\"},\"text\":\"\"},\"zerolinecolor\":\"#E1E5ED\"},\"xaxis14\":{\"anchor\":\"y14\",\"domain\":[0.2625,0.475],\"gridcolor\":\"#E1E5ED\",\"showgrid\":false,\"tickfont\":{\"color\":\"#4D5663\"},\"title\":{\"font\":{\"color\":\"#4D5663\"},\"text\":\"\"},\"zerolinecolor\":\"#E1E5ED\"},\"xaxis15\":{\"anchor\":\"y15\",\"domain\":[0.525,0.7375],\"gridcolor\":\"#E1E5ED\",\"showgrid\":false,\"tickfont\":{\"color\":\"#4D5663\"},\"title\":{\"font\":{\"color\":\"#4D5663\"},\"text\":\"\"},\"zerolinecolor\":\"#E1E5ED\"},\"xaxis16\":{\"anchor\":\"y16\",\"domain\":[0.7875,1.0],\"gridcolor\":\"#E1E5ED\",\"showgrid\":false,\"tickfont\":{\"color\":\"#4D5663\"},\"title\":{\"font\":{\"color\":\"#4D5663\"},\"text\":\"\"},\"zerolinecolor\":\"#E1E5ED\"},\"xaxis2\":{\"anchor\":\"y2\",\"domain\":[0.2625,0.475],\"gridcolor\":\"#E1E5ED\",\"showgrid\":false,\"tickfont\":{\"color\":\"#4D5663\"},\"title\":{\"font\":{\"color\":\"#4D5663\"},\"text\":\"\"},\"zerolinecolor\":\"#E1E5ED\"},\"xaxis3\":{\"anchor\":\"y3\",\"domain\":[0.525,0.7375],\"gridcolor\":\"#E1E5ED\",\"showgrid\":false,\"tickfont\":{\"color\":\"#4D5663\"},\"title\":{\"font\":{\"color\":\"#4D5663\"},\"text\":\"\"},\"zerolinecolor\":\"#E1E5ED\"},\"xaxis4\":{\"anchor\":\"y4\",\"domain\":[0.7875,1.0],\"gridcolor\":\"#E1E5ED\",\"showgrid\":false,\"tickfont\":{\"color\":\"#4D5663\"},\"title\":{\"font\":{\"color\":\"#4D5663\"},\"text\":\"\"},\"zerolinecolor\":\"#E1E5ED\"},\"xaxis5\":{\"anchor\":\"y5\",\"domain\":[0.0,0.2125],\"gridcolor\":\"#E1E5ED\",\"showgrid\":false,\"tickfont\":{\"color\":\"#4D5663\"},\"title\":{\"font\":{\"color\":\"#4D5663\"},\"text\":\"\"},\"zerolinecolor\":\"#E1E5ED\"},\"xaxis6\":{\"anchor\":\"y6\",\"domain\":[0.2625,0.475],\"gridcolor\":\"#E1E5ED\",\"showgrid\":false,\"tickfont\":{\"color\":\"#4D5663\"},\"title\":{\"font\":{\"color\":\"#4D5663\"},\"text\":\"\"},\"zerolinecolor\":\"#E1E5ED\"},\"xaxis7\":{\"anchor\":\"y7\",\"domain\":[0.525,0.7375],\"gridcolor\":\"#E1E5ED\",\"showgrid\":false,\"tickfont\":{\"color\":\"#4D5663\"},\"title\":{\"font\":{\"color\":\"#4D5663\"},\"text\":\"\"},\"zerolinecolor\":\"#E1E5ED\"},\"xaxis8\":{\"anchor\":\"y8\",\"domain\":[0.7875,1.0],\"gridcolor\":\"#E1E5ED\",\"showgrid\":false,\"tickfont\":{\"color\":\"#4D5663\"},\"title\":{\"font\":{\"color\":\"#4D5663\"},\"text\":\"\"},\"zerolinecolor\":\"#E1E5ED\"},\"xaxis9\":{\"anchor\":\"y9\",\"domain\":[0.0,0.2125],\"gridcolor\":\"#E1E5ED\",\"showgrid\":false,\"tickfont\":{\"color\":\"#4D5663\"},\"title\":{\"font\":{\"color\":\"#4D5663\"},\"text\":\"\"},\"zerolinecolor\":\"#E1E5ED\"},\"yaxis\":{\"anchor\":\"x\",\"domain\":[0.8025,1.0],\"gridcolor\":\"#E1E5ED\",\"showgrid\":false,\"tickfont\":{\"color\":\"#4D5663\"},\"title\":{\"font\":{\"color\":\"#4D5663\"},\"text\":\"\"},\"zerolinecolor\":\"#E1E5ED\"},\"yaxis10\":{\"anchor\":\"x10\",\"domain\":[0.2675,0.465],\"gridcolor\":\"#E1E5ED\",\"showgrid\":false,\"tickfont\":{\"color\":\"#4D5663\"},\"title\":{\"font\":{\"color\":\"#4D5663\"},\"text\":\"\"},\"zerolinecolor\":\"#E1E5ED\"},\"yaxis11\":{\"anchor\":\"x11\",\"domain\":[0.2675,0.465],\"gridcolor\":\"#E1E5ED\",\"showgrid\":false,\"tickfont\":{\"color\":\"#4D5663\"},\"title\":{\"font\":{\"color\":\"#4D5663\"},\"text\":\"\"},\"zerolinecolor\":\"#E1E5ED\"},\"yaxis12\":{\"anchor\":\"x12\",\"domain\":[0.2675,0.465],\"gridcolor\":\"#E1E5ED\",\"showgrid\":false,\"tickfont\":{\"color\":\"#4D5663\"},\"title\":{\"font\":{\"color\":\"#4D5663\"},\"text\":\"\"},\"zerolinecolor\":\"#E1E5ED\"},\"yaxis13\":{\"anchor\":\"x13\",\"domain\":[0.0,0.1975],\"gridcolor\":\"#E1E5ED\",\"showgrid\":false,\"tickfont\":{\"color\":\"#4D5663\"},\"title\":{\"font\":{\"color\":\"#4D5663\"},\"text\":\"\"},\"zerolinecolor\":\"#E1E5ED\"},\"yaxis14\":{\"anchor\":\"x14\",\"domain\":[0.0,0.1975],\"gridcolor\":\"#E1E5ED\",\"showgrid\":false,\"tickfont\":{\"color\":\"#4D5663\"},\"title\":{\"font\":{\"color\":\"#4D5663\"},\"text\":\"\"},\"zerolinecolor\":\"#E1E5ED\"},\"yaxis15\":{\"anchor\":\"x15\",\"domain\":[0.0,0.1975],\"gridcolor\":\"#E1E5ED\",\"showgrid\":false,\"tickfont\":{\"color\":\"#4D5663\"},\"title\":{\"font\":{\"color\":\"#4D5663\"},\"text\":\"\"},\"zerolinecolor\":\"#E1E5ED\"},\"yaxis16\":{\"anchor\":\"x16\",\"domain\":[0.0,0.1975],\"gridcolor\":\"#E1E5ED\",\"showgrid\":false,\"tickfont\":{\"color\":\"#4D5663\"},\"title\":{\"font\":{\"color\":\"#4D5663\"},\"text\":\"\"},\"zerolinecolor\":\"#E1E5ED\"},\"yaxis2\":{\"anchor\":\"x2\",\"domain\":[0.8025,1.0],\"gridcolor\":\"#E1E5ED\",\"showgrid\":false,\"tickfont\":{\"color\":\"#4D5663\"},\"title\":{\"font\":{\"color\":\"#4D5663\"},\"text\":\"\"},\"zerolinecolor\":\"#E1E5ED\"},\"yaxis3\":{\"anchor\":\"x3\",\"domain\":[0.8025,1.0],\"gridcolor\":\"#E1E5ED\",\"showgrid\":false,\"tickfont\":{\"color\":\"#4D5663\"},\"title\":{\"font\":{\"color\":\"#4D5663\"},\"text\":\"\"},\"zerolinecolor\":\"#E1E5ED\"},\"yaxis4\":{\"anchor\":\"x4\",\"domain\":[0.8025,1.0],\"gridcolor\":\"#E1E5ED\",\"showgrid\":false,\"tickfont\":{\"color\":\"#4D5663\"},\"title\":{\"font\":{\"color\":\"#4D5663\"},\"text\":\"\"},\"zerolinecolor\":\"#E1E5ED\"},\"yaxis5\":{\"anchor\":\"x5\",\"domain\":[0.535,0.7325],\"gridcolor\":\"#E1E5ED\",\"showgrid\":false,\"tickfont\":{\"color\":\"#4D5663\"},\"title\":{\"font\":{\"color\":\"#4D5663\"},\"text\":\"\"},\"zerolinecolor\":\"#E1E5ED\"},\"yaxis6\":{\"anchor\":\"x6\",\"domain\":[0.535,0.7325],\"gridcolor\":\"#E1E5ED\",\"showgrid\":false,\"tickfont\":{\"color\":\"#4D5663\"},\"title\":{\"font\":{\"color\":\"#4D5663\"},\"text\":\"\"},\"zerolinecolor\":\"#E1E5ED\"},\"yaxis7\":{\"anchor\":\"x7\",\"domain\":[0.535,0.7325],\"gridcolor\":\"#E1E5ED\",\"showgrid\":false,\"tickfont\":{\"color\":\"#4D5663\"},\"title\":{\"font\":{\"color\":\"#4D5663\"},\"text\":\"\"},\"zerolinecolor\":\"#E1E5ED\"},\"yaxis8\":{\"anchor\":\"x8\",\"domain\":[0.535,0.7325],\"gridcolor\":\"#E1E5ED\",\"showgrid\":false,\"tickfont\":{\"color\":\"#4D5663\"},\"title\":{\"font\":{\"color\":\"#4D5663\"},\"text\":\"\"},\"zerolinecolor\":\"#E1E5ED\"},\"yaxis9\":{\"anchor\":\"x9\",\"domain\":[0.2675,0.465],\"gridcolor\":\"#E1E5ED\",\"showgrid\":false,\"tickfont\":{\"color\":\"#4D5663\"},\"title\":{\"font\":{\"color\":\"#4D5663\"},\"text\":\"\"},\"zerolinecolor\":\"#E1E5ED\"}},                        {\"showLink\": true, \"linkText\": \"Export to plot.ly\", \"plotlyServerURL\": \"https://plot.ly\", \"responsive\": true}                    ).then(function(){\n",
       "                            \n",
       "var gd = document.getElementById('5f41fcb1-3917-4485-98e7-ab0685f39c69');\n",
       "var x = new MutationObserver(function (mutations, observer) {{\n",
       "        var display = window.getComputedStyle(gd).display;\n",
       "        if (!display || display === 'none') {{\n",
       "            console.log([gd, 'removed!']);\n",
       "            Plotly.purge(gd);\n",
       "            observer.disconnect();\n",
       "        }}\n",
       "}});\n",
       "\n",
       "// Listen for the removal of the full notebook cells\n",
       "var notebookContainer = gd.closest('#notebook-container');\n",
       "if (notebookContainer) {{\n",
       "    x.observe(notebookContainer, {childList: true});\n",
       "}}\n",
       "\n",
       "// Listen for the clearing of the current output cell\n",
       "var outputEl = gd.closest('.output');\n",
       "if (outputEl) {{\n",
       "    x.observe(outputEl, {childList: true});\n",
       "}}\n",
       "\n",
       "                        })                };                });            </script>        </div>"
      ]
     },
     "metadata": {},
     "output_type": "display_data"
    }
   ],
   "source": [
    "df.scatter_matrix()"
   ]
  },
  {
   "cell_type": "markdown",
   "metadata": {
    "collapsed": true
   },
   "source": [
    "# Great Job!"
   ]
  }
 ],
 "metadata": {
  "kernelspec": {
   "display_name": "Python 3",
   "language": "python",
   "name": "python3"
  },
  "language_info": {
   "codemirror_mode": {
    "name": "ipython",
    "version": 3
   },
   "file_extension": ".py",
   "mimetype": "text/x-python",
   "name": "python",
   "nbconvert_exporter": "python",
   "pygments_lexer": "ipython3",
   "version": "3.8.8"
  }
 },
 "nbformat": 4,
 "nbformat_minor": 1
}
